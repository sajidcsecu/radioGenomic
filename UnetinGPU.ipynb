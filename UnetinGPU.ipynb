{
  "nbformat": 4,
  "nbformat_minor": 0,
  "metadata": {
    "colab": {
      "provenance": [],
      "authorship_tag": "ABX9TyNRmAzlZmEjWn0vEBe8zkN2",
      "include_colab_link": true
    },
    "kernelspec": {
      "name": "python3",
      "display_name": "Python 3"
    },
    "language_info": {
      "name": "python"
    }
  },
  "cells": [
    {
      "cell_type": "markdown",
      "metadata": {
        "id": "view-in-github",
        "colab_type": "text"
      },
      "source": [
        "<a href=\"https://colab.research.google.com/github/sajidcsecu/radioGenomic/blob/main/UnetinGPU.ipynb\" target=\"_parent\"><img src=\"https://colab.research.google.com/assets/colab-badge.svg\" alt=\"Open In Colab\"/></a>"
      ]
    },
    {
      "cell_type": "code",
      "source": [
        "!pip uninstall pydicom"
      ],
      "metadata": {
        "colab": {
          "base_uri": "https://localhost:8080/"
        },
        "id": "AAXtZJ-E916J",
        "outputId": "c07ffea5-b699-4c7f-b141-529983562910"
      },
      "execution_count": 1,
      "outputs": [
        {
          "output_type": "stream",
          "name": "stdout",
          "text": [
            "Found existing installation: pydicom 3.0.1\n",
            "Uninstalling pydicom-3.0.1:\n",
            "  Would remove:\n",
            "    /usr/local/bin/pydicom\n",
            "    /usr/local/lib/python3.11/dist-packages/pydicom-3.0.1.dist-info/*\n",
            "    /usr/local/lib/python3.11/dist-packages/pydicom/*\n",
            "Proceed (Y/n)? y\n",
            "  Successfully uninstalled pydicom-3.0.1\n"
          ]
        }
      ]
    },
    {
      "cell_type": "code",
      "source": [
        "!pip install pydicom==2.4.3"
      ],
      "metadata": {
        "colab": {
          "base_uri": "https://localhost:8080/"
        },
        "id": "urVBbW2Q-uNC",
        "outputId": "f005a872-ee8c-42f0-dbfe-2e493623df15"
      },
      "execution_count": 4,
      "outputs": [
        {
          "output_type": "stream",
          "name": "stdout",
          "text": [
            "Collecting pydicom==2.4.3\n",
            "  Downloading pydicom-2.4.3-py3-none-any.whl.metadata (7.8 kB)\n",
            "Downloading pydicom-2.4.3-py3-none-any.whl (1.8 MB)\n",
            "\u001b[2K   \u001b[90m━━━━━━━━━━━━━━━━━━━━━━━━━━━━━━━━━━━━━━━━\u001b[0m \u001b[32m1.8/1.8 MB\u001b[0m \u001b[31m15.3 MB/s\u001b[0m eta \u001b[36m0:00:00\u001b[0m\n",
            "\u001b[?25hInstalling collected packages: pydicom\n",
            "Successfully installed pydicom-2.4.3\n"
          ]
        }
      ]
    },
    {
      "cell_type": "code",
      "source": [
        "import pydicom\n",
        "print(pydicom.__version__)"
      ],
      "metadata": {
        "colab": {
          "base_uri": "https://localhost:8080/"
        },
        "id": "rimm6N8H0p0o",
        "outputId": "78f91392-16f4-40c7-8f5d-eb46a6685ec9"
      },
      "execution_count": 5,
      "outputs": [
        {
          "output_type": "stream",
          "name": "stdout",
          "text": [
            "2.4.2\n"
          ]
        }
      ]
    },
    {
      "cell_type": "code",
      "source": [
        "!pip install --upgrade pydicom-seg"
      ],
      "metadata": {
        "colab": {
          "base_uri": "https://localhost:8080/"
        },
        "id": "KQR4tegU9gkA",
        "outputId": "baa30550-7f85-4ff5-e61c-046547a13755"
      },
      "execution_count": 6,
      "outputs": [
        {
          "output_type": "stream",
          "name": "stdout",
          "text": [
            "Requirement already satisfied: pydicom-seg in /usr/local/lib/python3.11/dist-packages (0.4.1)\n",
            "Requirement already satisfied: SimpleITK>1.2.4 in /usr/local/lib/python3.11/dist-packages (from pydicom-seg) (2.4.1)\n",
            "Requirement already satisfied: jsonschema<4.0.0,>=3.2.0 in /usr/local/lib/python3.11/dist-packages (from pydicom-seg) (3.2.0)\n",
            "Requirement already satisfied: numpy<2.0.0,>=1.18.0 in /usr/local/lib/python3.11/dist-packages (from pydicom-seg) (1.26.4)\n",
            "Requirement already satisfied: pydicom>=1.4.2 in /usr/local/lib/python3.11/dist-packages (from pydicom-seg) (2.4.3)\n",
            "Requirement already satisfied: attrs>=17.4.0 in /usr/local/lib/python3.11/dist-packages (from jsonschema<4.0.0,>=3.2.0->pydicom-seg) (25.3.0)\n",
            "Requirement already satisfied: pyrsistent>=0.14.0 in /usr/local/lib/python3.11/dist-packages (from jsonschema<4.0.0,>=3.2.0->pydicom-seg) (0.20.0)\n",
            "Requirement already satisfied: setuptools in /usr/local/lib/python3.11/dist-packages (from jsonschema<4.0.0,>=3.2.0->pydicom-seg) (78.1.0)\n",
            "Requirement already satisfied: six>=1.11.0 in /usr/local/lib/python3.11/dist-packages (from jsonschema<4.0.0,>=3.2.0->pydicom-seg) (1.17.0)\n"
          ]
        }
      ]
    },
    {
      "cell_type": "code",
      "source": [
        "import pydicom\n",
        "import pydicom._storage_sopclass_uids\n",
        "print(\"Fixed!\")"
      ],
      "metadata": {
        "colab": {
          "base_uri": "https://localhost:8080/"
        },
        "id": "ro2xNTcSADPY",
        "outputId": "12c8722b-738d-462f-9b9d-0fde46ba54ef"
      },
      "execution_count": 1,
      "outputs": [
        {
          "output_type": "stream",
          "name": "stdout",
          "text": [
            "Fixed!\n"
          ]
        }
      ]
    },
    {
      "cell_type": "code",
      "source": [
        "!pip install torchinfo"
      ],
      "metadata": {
        "colab": {
          "base_uri": "https://localhost:8080/"
        },
        "id": "6Ykv1EPEAitU",
        "outputId": "d4f90fc0-5dcf-4476-c6ac-987a32917e9b"
      },
      "execution_count": 3,
      "outputs": [
        {
          "output_type": "stream",
          "name": "stdout",
          "text": [
            "Collecting torchinfo\n",
            "  Downloading torchinfo-1.8.0-py3-none-any.whl.metadata (21 kB)\n",
            "Downloading torchinfo-1.8.0-py3-none-any.whl (23 kB)\n",
            "Installing collected packages: torchinfo\n",
            "Successfully installed torchinfo-1.8.0\n"
          ]
        }
      ]
    },
    {
      "cell_type": "code",
      "source": [
        "import pandas as pd\n",
        "import numpy as np\n",
        "import torch\n",
        "import torch.nn as nn\n",
        "import pydicom\n",
        "import pydicom_seg\n",
        "import pydicom._storage_sopclass_uids\n",
        "from torch.utils.data import Dataset,DataLoader\n",
        "import os\n",
        "from sklearn.model_selection import train_test_split\n",
        "import torchvision.transforms as transforms\n",
        "import SimpleITK as sitk\n",
        "from torchinfo import summary\n",
        "import torch.optim.lr_scheduler as lr_scheduler\n",
        "from torch.cuda.amp import autocast, GradScaler\n",
        "import csv\n",
        "import time\n",
        "import random\n",
        "from tqdm import tqdm\n",
        "from operator import add\n",
        "from sklearn.metrics import accuracy_score, f1_score, jaccard_score, precision_score, recall_score\n",
        "import cv2\n",
        "sitk.ProcessObject_SetGlobalWarningDisplay(False)"
      ],
      "metadata": {
        "id": "3Nnk_My828HP"
      },
      "execution_count": 4,
      "outputs": []
    },
    {
      "cell_type": "markdown",
      "source": [
        "# 1. Data Preperation"
      ],
      "metadata": {
        "id": "p4PdRsL8DChf"
      }
    },
    {
      "cell_type": "code",
      "source": [
        "\n",
        "class PatientDataset2DUNet(Dataset):\n",
        "    def __init__(self, patients, metadata, transform = None, train=True):\n",
        "        \"\"\"\n",
        "        Args:\n",
        "            patients (list): List of patient IDs.\n",
        "            metadata (DataFrame): Metadata containing patient information.\n",
        "            train (bool): If True, filters out empty slices.\n",
        "        \"\"\"\n",
        "        self.patients = patients\n",
        "        self.metadata = metadata\n",
        "        self.transform = transform\n",
        "        self.train = train\n",
        "        self.slices = self._extract_slices()  # Store (img_path, mask_path, slice_idx) tuples\n",
        "\n",
        "    def get_path(self, subject, modality):\n",
        "        subject_filtered = subject[subject['Modality'] == modality]\n",
        "        return subject_filtered['File Location'].iloc[0] if not subject_filtered.empty else None\n",
        "\n",
        "    def _extract_slices(self):\n",
        "        slices = []\n",
        "        for patient in self.patients:\n",
        "            print(f\"Processing Patient: {patient}\")\n",
        "            subject = self.metadata[self.metadata['Subject ID'] == patient]\n",
        "\n",
        "            img_path = self.get_path(subject, \"CT\")\n",
        "            msk_path = self.get_path(subject, \"SEG\")\n",
        "\n",
        "            if img_path and msk_path:\n",
        "                img = self.read_ct_array(img_path)\n",
        "                msk = self.read_seg_array(msk_path, \"GTV-1\")\n",
        "\n",
        "                if img is not None and msk is not None:\n",
        "                    image = sitk.GetArrayFromImage(img).astype(np.float32)\n",
        "                    mask = sitk.GetArrayFromImage(msk).astype(np.float32)\n",
        "\n",
        "                    min_slices = min(image.shape[0], mask.shape[0])\n",
        "                    image, mask = image[:min_slices], mask[:min_slices]\n",
        "\n",
        "                    # Vectorized filtering of empty slices\n",
        "                    slice_indices = np.arange(min_slices) if not self.train else np.where(np.any(mask, axis=(1, 2)))[0]\n",
        "\n",
        "                    # Store (image_path, mask_path, slice_index)\n",
        "                    slices.extend(zip([img_path] * len(slice_indices), [msk_path] * len(slice_indices), slice_indices))\n",
        "\n",
        "        return slices\n",
        "\n",
        "    def __len__(self):\n",
        "        return len(self.slices)\n",
        "\n",
        "    def read_ct_array(self, path):\n",
        "        reader = sitk.ImageSeriesReader()\n",
        "        reader.SetImageIO(\"GDCMImageIO\")\n",
        "        reader.SetFileNames(reader.GetGDCMSeriesFileNames(path))\n",
        "        return reader.Execute()\n",
        "\n",
        "    def read_seg_array(self, path, seg_type=\"GTV-1\"):\n",
        "        try:\n",
        "            segmentation = pydicom.dcmread(os.path.join(path, '1-1.dcm'))\n",
        "            seg_df = pd.DataFrame({f: [s[f].value for s in segmentation.SegmentSequence] for f in ['SegmentNumber', 'SegmentDescription']})\n",
        "            seg_number = seg_df.loc[seg_df['SegmentDescription'] == seg_type, 'SegmentNumber'].iloc[0]\n",
        "            return pydicom_seg.SegmentReader().read(segmentation).segment_image(seg_number)\n",
        "        except Exception as e:\n",
        "            print(f\"Error reading segmentation from {path}: {e}\")\n",
        "            return None\n",
        "\n",
        "    def __getitem__(self, idx):\n",
        "        img_path, mask_path, slice_idx = self.slices[idx]\n",
        "\n",
        "        # Load the full volume but extract only one slice\n",
        "        img = self.read_ct_array(img_path)\n",
        "        msk = self.read_seg_array(mask_path, \"GTV-1\")\n",
        "\n",
        "        if img is None or msk is None:\n",
        "            print(f\"Skipping invalid file: {img_path}, {mask_path}\")\n",
        "            return torch.zeros(1, 512, 512), torch.zeros(1, 512, 512)  # Return empty tensor\n",
        "\n",
        "        image = sitk.GetArrayFromImage(img).astype(np.float32)\n",
        "        mask = sitk.GetArrayFromImage(msk).astype(np.float32)\n",
        "\n",
        "        # Extract relevant slice vectorized\n",
        "        image, mask = image[slice_idx], mask[slice_idx]  # Shape: (H, W)\n",
        "\n",
        "        # Vectorized normalization\n",
        "        image = (image - image.min()) / max(image.max(), 1e-6)  # Avoid divide-by-zero\n",
        "\n",
        "        # Convert to PyTorch tensor and add channel dimension (C=1)\n",
        "        image, mask = map(lambda x: torch.from_numpy(x).unsqueeze(0), (image, mask))  # Shape: [1, H, W]\n",
        "        if self.transform:\n",
        "            image = self.transform(image)\n",
        "            mask = self.transform(mask)\n",
        "\n",
        "        return image, mask\n",
        "\n",
        "\n",
        "if __name__ == \"__main__\":\n",
        "    batch_size = 8\n",
        "    \"\"\" Define Paths (OS-Independent) \"\"\"\n",
        "    output_dir = os.path.join(\".\", \"Segmentation\", \"files\")\n",
        "    os.makedirs(output_dir, exist_ok=True)\n",
        "    loss_result_file = os.path.join(output_dir, \"results.csv\")\n",
        "    model_file = os.path.join(output_dir, \"checkpoint.pth\")\n",
        "    test_result_path = os.path.join(output_dir, \"results\")\n",
        "\n",
        "    \"\"\" Load Metadata \"\"\"\n",
        "    try:\n",
        "        metadata_lung1 = pd.read_csv(os.path.join(\".\", \"metadata\", \"metadata_lung1.csv\"), sep=',', index_col=False)\n",
        "    except FileNotFoundError:\n",
        "        print(\"❌ ERROR: metadata_lung1.csv not found. Please check the file path.\")\n",
        "        exit(1)\n",
        "\n",
        "    \"\"\" Load Patient List \"\"\"\n",
        "    patient_list_lung1 = metadata_lung1[\"Subject ID\"].unique().tolist()\n",
        "\n",
        "    \"\"\" Remove Error Patients Safely \"\"\"\n",
        "    error_patients = ['LUNG1-128']\n",
        "    patient_list_lung1 = [p for p in patient_list_lung1 if p not in error_patients]\n",
        "\n",
        "    \"\"\" Split Data into Train, Validation, and Test \"\"\"\n",
        "    train_patient, valid_patient = train_test_split(patient_list_lung1, test_size=0.1, random_state=42)\n",
        "    train_patient, test_patient = train_test_split(train_patient, test_size=0.1, random_state=42)\n",
        "\n",
        "    print(f\"Patients: Train={len(train_patient)}, Valid={len(valid_patient)}, Test={len(test_patient)}\")\n",
        "\n",
        "    \"\"\" Load Dataset \"\"\"\n",
        "    device = \"cuda\" if torch.cuda.is_available() else \"cpu\"\n",
        "    print(\"Loading Training Data...\")\n",
        "    train_dataset = PatientDataset2DUNet(train_patient, metadata_lung1, train=True)\n",
        "    print(\"Loading Validation Data...\")\n",
        "    valid_dataset = PatientDataset2DUNet(valid_patient, metadata_lung1, train=False)\n",
        "    print(\"Loading Test Data...\")\n",
        "    test_dataset = PatientDataset2DUNet(test_patient, metadata_lung1, train=False)\n",
        "\n",
        "    \"\"\" Initialize Data Loaders \"\"\"\n",
        "    num_workers = min(4, os.cpu_count() // 2)  # Safe multiprocessing\n",
        "    train_loader = DataLoader(train_dataset, batch_size=batch_size, shuffle=True, num_workers=num_workers, pin_memory=True)\n",
        "    valid_loader = DataLoader(valid_dataset, batch_size=batch_size, shuffle=False, num_workers=num_workers,pin_memory=True)\n",
        "    test_loader = DataLoader(test_dataset, batch_size=batch_size, shuffle=False, num_workers=num_workers,pin_memory=True)\n",
        "\n",
        "    \"\"\" Print Dataset Sizes \"\"\"\n",
        "    print(f\"Train: {len(train_dataset)}, Valid: {len(valid_dataset)}, Test: {len(test_dataset)}\")"
      ],
      "metadata": {
        "colab": {
          "base_uri": "https://localhost:8080/"
        },
        "id": "ZoGkyWq93X-H",
        "outputId": "ced92723-6b7b-4eb7-f9bf-9dac1126f664"
      },
      "execution_count": null,
      "outputs": [
        {
          "output_type": "execute_result",
          "data": {
            "text/plain": [
              "tensor([0.8994, 0.1209, 0.7563, 0.2896, 0.0101], dtype=torch.float64)"
            ]
          },
          "metadata": {},
          "execution_count": 2
        }
      ]
    },
    {
      "cell_type": "markdown",
      "source": [
        "# 2. Unet"
      ],
      "metadata": {
        "id": "h2iHKHfcF3yP"
      }
    },
    {
      "cell_type": "code",
      "source": [
        "class conv_block(nn.Module):\n",
        "    def __init__(self, in_c, out_c):\n",
        "        super().__init__()\n",
        "\n",
        "        self.conv1 = nn.Conv2d(in_c, out_c, kernel_size=3, padding=1)\n",
        "        self.bn1 = nn.BatchNorm2d(out_c)\n",
        "\n",
        "        self.conv2 = nn.Conv2d(out_c, out_c, kernel_size=3, padding=1)\n",
        "        self.bn2 = nn.BatchNorm2d(out_c)\n",
        "\n",
        "        self.relu = nn.ReLU()\n",
        "\n",
        "    def forward(self, inputs):\n",
        "        x = self.conv1(inputs)\n",
        "        x = self.bn1(x)\n",
        "        x = self.relu(x)\n",
        "\n",
        "        x = self.conv2(x)\n",
        "        x = self.bn2(x)\n",
        "        x = self.relu(x)\n",
        "\n",
        "        return x\n",
        "\n",
        "\n",
        "class encoder_block(nn.Module):\n",
        "    def __init__(self, in_c, out_c):\n",
        "        super().__init__()\n",
        "\n",
        "        self.conv = conv_block(in_c, out_c)\n",
        "        self.pool = nn.MaxPool2d((2, 2))\n",
        "\n",
        "    def forward(self, inputs):\n",
        "        x = self.conv(inputs)\n",
        "        p = self.pool(x)\n",
        "\n",
        "        return x, p\n",
        "\n",
        "\n",
        "class decoder_block(nn.Module):\n",
        "    def __init__(self, in_c, out_c):\n",
        "        super().__init__()\n",
        "\n",
        "        self.up = nn.ConvTranspose2d(in_c, out_c, kernel_size=2, stride=2, padding=0)\n",
        "        self.conv = conv_block(out_c + out_c, out_c)\n",
        "\n",
        "    def forward(self, inputs, skip):\n",
        "        x = self.up(inputs)\n",
        "        x = torch.cat([x, skip], axis=1)\n",
        "        x = self.conv(x)\n",
        "        return x\n",
        "\n",
        "\n",
        "class UNet(nn.Module):\n",
        "    def __init__(self, input_channel, output_channel, dropout=0.0):  # Added dropout parameter\n",
        "        super().__init__()\n",
        "\n",
        "        \"\"\" Encoder \"\"\"\n",
        "        self.e1 = encoder_block(input_channel, 64)\n",
        "        self.e2 = encoder_block(64, 128)\n",
        "        self.e3 = encoder_block(128, 256)\n",
        "        self.e4 = encoder_block(256, 512)\n",
        "\n",
        "        \"\"\" Bottleneck \"\"\"\n",
        "        self.b = conv_block(512, 1024)\n",
        "\n",
        "        \"\"\" Decoder \"\"\"\n",
        "        self.d1 = decoder_block(1024, 512)\n",
        "        self.d2 = decoder_block(512, 256)\n",
        "        self.d3 = decoder_block(256, 128)\n",
        "        self.d4 = decoder_block(128, 64)\n",
        "\n",
        "        \"\"\" Classifier \"\"\"\n",
        "        self.outputs = nn.Conv2d(64, output_channel, kernel_size=1, padding=0)\n",
        "\n",
        "        # Applying Dropout (if dropout > 0)\n",
        "        self.dropout = nn.Dropout(p=dropout) if dropout > 0 else None\n",
        "\n",
        "    def forward(self, inputs):\n",
        "        \"\"\" Encoder \"\"\"\n",
        "        s1, p1 = self.e1(inputs)\n",
        "        s2, p2 = self.e2(p1)\n",
        "        s3, p3 = self.e3(p2)\n",
        "        s4, p4 = self.e4(p3)\n",
        "\n",
        "        \"\"\" Bottleneck \"\"\"\n",
        "        b = self.b(p4)\n",
        "\n",
        "        # Applying Dropout (if dropout > 0) after the Bottleneck\n",
        "        if self.dropout:\n",
        "            b = self.dropout(b)\n",
        "        \"\"\" Decoder \"\"\"\n",
        "        d1 = self.d1(b, s4)\n",
        "        d2 = self.d2(d1, s3)\n",
        "        d3 = self.d3(d2, s2)\n",
        "        d4 = self.d4(d3, s1)\n",
        "\n",
        "        outputs = self.outputs(d4)\n",
        "\n",
        "        return outputs\n",
        "\n",
        "\n",
        "if __name__ == \"__main__\":\n",
        "    # double_conv = DoubleConv(256, 256)\n",
        "    # print(double_conv)\n",
        "    device = \"cuda\" if torch.cuda.is_available() else \"cpu\"\n",
        "    input_image = torch.randn((1, 1, 512, 512), dtype=torch.float32)\n",
        "    model = UNet(1, 1).to(device)\n",
        "    input_image = input_image.to(device)\n",
        "    out = model(input_image)\n",
        "    print(out.shape)"
      ],
      "metadata": {
        "id": "PamAo5NoFsRv"
      },
      "execution_count": null,
      "outputs": []
    },
    {
      "cell_type": "markdown",
      "source": [
        "## 2. Loss Function"
      ],
      "metadata": {
        "id": "IFrRJqgG7wxo"
      }
    },
    {
      "cell_type": "code",
      "execution_count": null,
      "metadata": {
        "id": "944_4uJbmPPx",
        "colab": {
          "base_uri": "https://localhost:8080/"
        },
        "outputId": "f80bb81f-94d7-4cef-e256-bf3428315144"
      },
      "outputs": [
        {
          "output_type": "stream",
          "name": "stdout",
          "text": [
            "torch.Size([1, 1, 512, 512])\n"
          ]
        }
      ],
      "source": [
        "class DiceLoss(nn.Module):\n",
        "    def __init__(self, smooth=1e-6):\n",
        "        super(DiceLoss, self).__init__()\n",
        "        self.smooth = smooth\n",
        "\n",
        "    def forward(self, preds, targets):\n",
        "        \"\"\"\n",
        "        preds: predicted values (output of the model, probabilities)\n",
        "        targets: ground truth values (binary masks)\n",
        "        \"\"\"\n",
        "        # comment out if your model contains a sigmoid or equivalent activation layer\n",
        "        preds = torch.sigmoid(preds)\n",
        "\n",
        "        preds = preds.view(-1)  # Flatten\n",
        "        targets = targets.view(-1)  # Flatten\n",
        "\n",
        "        intersection = (preds * targets).sum()\n",
        "        dice_score = (2. * intersection + self.smooth) / (preds.sum() + targets.sum() + self.smooth)\n",
        "\n",
        "        return 1 - dice_score  # Dice Loss\n",
        "\n",
        "\n",
        "class DiceBCELoss(nn.Module):\n",
        "    def __init__(self, smooth=1e-6):\n",
        "        super(DiceBCELoss, self).__init__()\n",
        "        self.smooth = smooth\n",
        "        self.bce = nn.BCEWithLogitsLoss()  # ✅ FIXED: Use BCEWithLogitsLoss\n",
        "\n",
        "    def forward(self, preds, targets):\n",
        "        # ❌ DO NOT apply sigmoid here if using BCEWithLogitsLoss\n",
        "        preds = preds.view(-1)  # Flatten\n",
        "        targets = targets.view(-1)  # Flatten\n",
        "\n",
        "        # Dice Loss Calculation\n",
        "        intersection = (torch.sigmoid(preds) * targets).sum()\n",
        "        dice_loss = 1 - (2. * intersection + self.smooth) / (torch.sigmoid(preds).sum() + targets.sum() + self.smooth)\n",
        "\n",
        "        # BCE Loss Calculation (Now numerically stable)\n",
        "        bce_loss = self.bce(preds, targets)\n",
        "\n",
        "        return bce_loss + dice_loss  # Combined Loss\n",
        "        bce_loss = self.bce(preds, targets)\n",
        "\n",
        "        return bce_loss + dice_loss  # Combined Loss\n"
      ]
    },
    {
      "cell_type": "markdown",
      "source": [
        "# 3. Test"
      ],
      "metadata": {
        "id": "CZZ3Gu-DD88X"
      }
    },
    {
      "cell_type": "code",
      "source": [
        "class UnetTest:\n",
        "\n",
        "    def calculate_metrics(self, y_true, y_pred):\n",
        "        \"\"\" Convert tensors to NumPy and reshape \"\"\"\n",
        "        y_true = y_true.detach().cpu().numpy().astype(np.uint8)\n",
        "        y_pred = y_pred.detach().cpu().numpy().astype(np.uint8)\n",
        "\n",
        "        y_true = y_true > 0.5\n",
        "        y_pred = y_pred > 0.5\n",
        "\n",
        "        y_true = y_true.reshape(-1)\n",
        "        y_pred = y_pred.reshape(-1)\n",
        "\n",
        "        \"\"\" Compute Metrics (Handling Class Imbalance) \"\"\"\n",
        "        score_jaccard = jaccard_score(y_true, y_pred, zero_division=1)\n",
        "        score_f1 = f1_score(y_true, y_pred, zero_division=1)\n",
        "        score_recall = recall_score(y_true, y_pred, zero_division=1)\n",
        "        score_precision = precision_score(y_true, y_pred, zero_division=1)\n",
        "        score_acc = accuracy_score(y_true, y_pred)\n",
        "\n",
        "        return [score_jaccard, score_f1, score_recall, score_precision, score_acc]\n",
        "\n",
        "    def save_result(self, test_result_path, image, org_mask, predicted_mask, sample_id):\n",
        "        \"\"\" Ensure directory exists \"\"\"\n",
        "        if not os.path.exists(test_result_path):\n",
        "            os.makedirs(test_result_path, exist_ok=True)\n",
        "\n",
        "        \"\"\" Convert tensors to NumPy & normalize \"\"\"\n",
        "        predicted_mask = predicted_mask.cpu().numpy().squeeze()\n",
        "        org_mask = org_mask.cpu().numpy().squeeze()\n",
        "        image = image.cpu().numpy().squeeze()\n",
        "\n",
        "        \"\"\" Ensure correct format for OpenCV \"\"\"\n",
        "        predicted_mask = (predicted_mask > 0.5).astype(np.uint8) * 255\n",
        "        org_mask = (org_mask > 0.5).astype(np.uint8) * 255\n",
        "        image = (image * 255).astype(np.uint8)\n",
        "\n",
        "        \"\"\" Dynamically get height & width \"\"\"\n",
        "        h, w = image.shape\n",
        "        line = np.ones((h, 10), dtype=np.uint8) * 128\n",
        "\n",
        "        \"\"\" Concatenate Image, Ground Truth & Prediction \"\"\"\n",
        "        cat_images = np.concatenate([image, line, org_mask, line, predicted_mask], axis=1)\n",
        "\n",
        "        \"\"\" Save Image \"\"\"\n",
        "        file_name = os.path.join(test_result_path, f\"sample_{sample_id}.png\")\n",
        "        success = cv2.imwrite(file_name, cat_images)\n",
        "\n",
        "        \"\"\" Debugging Output \"\"\"\n",
        "        if success:\n",
        "            print(f\"✅ Saved: {file_name}\")\n",
        "        else:\n",
        "            print(f\"❌ Failed to save image: {file_name}\")\n",
        "\n",
        "    def test(self, model, test_loader, test_result_path, device):\n",
        "        \"\"\" Initialize Metrics & Time Tracking \"\"\"\n",
        "        metrics_score = np.zeros(5)  # [Jaccard, F1, Recall, Precision, Accuracy]\n",
        "        time_taken = []\n",
        "        model.eval()\n",
        "\n",
        "        with torch.no_grad():\n",
        "            for pid, (x, y) in enumerate(test_loader):\n",
        "                x = x.to(device, dtype=torch.float32)\n",
        "                y = y.to(device, dtype=torch.float32)\n",
        "\n",
        "                \"\"\" Measure Inference Time \"\"\"\n",
        "                start_time = time.time()\n",
        "                y_pred = torch.sigmoid(model(x))  # Apply sigmoid for binary segmentation\n",
        "                total_time = time.time() - start_time\n",
        "                time_taken.append(total_time)\n",
        "\n",
        "                \"\"\" Compute Metrics \"\"\"\n",
        "                score = self.calculate_metrics(y, y_pred)\n",
        "                metrics_score = list(map(add, metrics_score, score))\n",
        "\n",
        "                \"\"\" Save Results for Each Sample \"\"\"\n",
        "                for idx in range(x.size(0)):\n",
        "                    sample_id = pid * x.size(0) + idx\n",
        "                    self.save_result(test_result_path, x[idx, :, :, :], y[idx, :, :, :], y_pred[idx, :, :, :], sample_id)\n",
        "\n",
        "        \"\"\" Compute Average Scores \"\"\"\n",
        "        num_samples = len(test_loader)\n",
        "        avg_metrics = np.array(metrics_score) / num_samples\n",
        "        print(f\"Total Images in Test Set: {num_samples}\")\n",
        "        print(f\"Jaccard: {avg_metrics[0]:.4f} - F1: {avg_metrics[1]:.4f} - Recall: {avg_metrics[2]:.4f} - Precision: {avg_metrics[3]:.4f} - Acc: {avg_metrics[4]:.4f}\")\n",
        "\n",
        "        \"\"\" Compute FPS \"\"\"\n",
        "        fps = 1 / np.mean(time_taken)\n",
        "        print(\"FPS:\", fps)\n"
      ],
      "metadata": {
        "id": "T4VsKIzmFGLP"
      },
      "execution_count": null,
      "outputs": []
    },
    {
      "cell_type": "markdown",
      "source": [
        "# 4. Training"
      ],
      "metadata": {
        "id": "Fa8L5nD2EVP_"
      }
    },
    {
      "cell_type": "code",
      "source": [
        "class EarlyStopping:\n",
        "    def __init__(self, patience=10, min_delta=0.001):\n",
        "        self.patience = patience\n",
        "        self.min_delta = min_delta\n",
        "        self.best_loss = float('inf')\n",
        "        self.counter = 0\n",
        "\n",
        "    def __call__(self, val_loss):\n",
        "        if val_loss < self.best_loss - self.min_delta:\n",
        "            self.best_loss = val_loss\n",
        "            self.counter = 0\n",
        "        else:\n",
        "            self.counter += 1\n",
        "\n",
        "        if self.counter >= self.patience:\n",
        "            print(f\"⛔ Early stopping triggered after {self.patience} epochs without improvement!\")\n",
        "            return True\n",
        "        return False\n",
        "\n",
        "class UnetTrain:\n",
        "    def seeding(self, seed):\n",
        "        random.seed(seed)\n",
        "        np.random.seed(seed)\n",
        "        torch.manual_seed(seed)\n",
        "        torch.cuda.manual_seed(seed)\n",
        "        torch.backends.cudnn.deterministic = True\n",
        "\n",
        "    def epoch_time(self, start_time, end_time):\n",
        "        elapsed_time = end_time - start_time\n",
        "        elapsed_mins = int(elapsed_time / 60)\n",
        "        elapsed_secs = int(elapsed_time - (elapsed_mins * 60))\n",
        "        return elapsed_mins, elapsed_secs\n",
        "\n",
        "    \"\"\" Training \"\"\"\n",
        "\n",
        "    def train(self, model, loader, optimizer, loss_fn, device):\n",
        "        epoch_loss = 0.0\n",
        "        model.train()\n",
        "        for x, y in loader:\n",
        "            x = x.to(device, dtype=torch.float32)\n",
        "            y = y.to(device, dtype=torch.float32)\n",
        "\n",
        "            optimizer.zero_grad()\n",
        "            y_pred = model(x)\n",
        "            loss = loss_fn(y_pred, y)\n",
        "            loss.backward()\n",
        "            optimizer.step()\n",
        "            epoch_loss += loss.item()\n",
        "\n",
        "        epoch_loss = epoch_loss / len(loader)\n",
        "        return epoch_loss\n",
        "\n",
        "    \"\"\"Validation \"\"\"\n",
        "    def evaluate(self, model, loader, loss_fn, device):\n",
        "        epoch_loss = 0.0\n",
        "        model.eval()\n",
        "        with torch.no_grad():\n",
        "            for x, y in loader:\n",
        "                x = x.to(device, dtype=torch.float32)\n",
        "                y = y.to(device, dtype=torch.float32)\n",
        "                y_pred = model(x)\n",
        "                loss = loss_fn(y_pred, y)\n",
        "                epoch_loss += loss.item()\n",
        "\n",
        "        return epoch_loss / len(loader)\n",
        "\n",
        "    def execute(self, num_epochs, lr, train_loader, valid_loader, model_file, loss_result_path, device):\n",
        "        model = UNet(input_channel=1, output_channel=1, dropout=0.3).to(device)\n",
        "        optimizer = torch.optim.AdamW(model.parameters(), lr, weight_decay=1e-5)\n",
        "        scheduler = lr_scheduler.CosineAnnealingWarmRestarts(optimizer, T_0=10, T_mult=2)\n",
        "        loss_fn = DiceBCELoss()\n",
        "\n",
        "        early_stopping = EarlyStopping(patience=10, min_delta=0.001)\n",
        "        best_valid_loss = float(\"inf\")\n",
        "        results = {\"train_loss\": [], \"valid_loss\": []}\n",
        "\n",
        "        for epoch in tqdm(range(num_epochs)):\n",
        "            start_time = time.time()\n",
        "\n",
        "            train_loss = self.train(model, train_loader, optimizer, loss_fn, device)\n",
        "            valid_loss = self.evaluate(model, valid_loader, loss_fn, device)\n",
        "\n",
        "            if valid_loss < best_valid_loss:\n",
        "                print(f\"✅ Valid loss improved from {best_valid_loss:.4f} to {valid_loss:.4f}. Saving checkpoint.\")\n",
        "                best_valid_loss = valid_loss\n",
        "                torch.save({\n",
        "                    'epoch': epoch,\n",
        "                    'model_state_dict': model.state_dict(),\n",
        "                    'optimizer_state_dict': optimizer.state_dict(),\n",
        "                    'loss': best_valid_loss,\n",
        "                }, model_file)\n",
        "\n",
        "            end_time = time.time()\n",
        "            epoch_mins, epoch_secs = self.epoch_time(start_time, end_time)\n",
        "\n",
        "            results[\"train_loss\"].append(train_loss)\n",
        "            results[\"valid_loss\"].append(valid_loss)\n",
        "            print(f\"Epoch {epoch+1}: Time: {epoch_mins}m {epoch_secs}s, Train Loss: {train_loss:.3f}, Val Loss: {valid_loss:.3f}\")\n",
        "\n",
        "            if early_stopping(valid_loss):\n",
        "                print(\"🛑 Stopping training early due to no improvement.\")\n",
        "                break\n",
        "\n",
        "        with open(loss_result_path, \"w\", newline=\"\") as file:\n",
        "            writer = csv.writer(file)\n",
        "            for key, value in results.items():\n",
        "                writer.writerow([key, value])\n",
        "\n",
        "if __name__ == \"__main__\":\n",
        "    ut = UnetTrain()\n",
        "\n",
        "    \"\"\" Seeding for Reproducibility \"\"\"\n",
        "    ut.seeding(42)\n",
        "\n",
        "    \"\"\" Hyperparameters \"\"\"\n",
        "    batch_size = 8\n",
        "    num_epochs = 1\n",
        "    lr = 1e-4\n",
        "\n",
        "    \"\"\" Define Paths (OS-Independent) \"\"\"\n",
        "    output_dir = os.path.join(\".\", \"Segmentation\", \"files\")\n",
        "    os.makedirs(output_dir, exist_ok=True)\n",
        "    loss_result_file = os.path.join(output_dir, \"results.csv\")\n",
        "    model_file = os.path.join(output_dir, \"checkpoint.pth\")\n",
        "    test_result_path = os.path.join(output_dir, \"results\")\n",
        "\n",
        "    \"\"\" Load Metadata \"\"\"\n",
        "    try:\n",
        "        metadata_lung1 = pd.read_csv(os.path.join(\".\", \"metadata\", \"metadata_lung1.csv\"), sep=',', index_col=False)\n",
        "    except FileNotFoundError:\n",
        "        print(\"❌ ERROR: metadata_lung1.csv not found. Please check the file path.\")\n",
        "        exit(1)\n",
        "\n",
        "    \"\"\" Load Patient List \"\"\"\n",
        "    patient_list_lung1 = metadata_lung1[\"Subject ID\"].unique().tolist()[:10]\n",
        "\n",
        "    \"\"\" Remove Error Patients Safely \"\"\"\n",
        "    error_patients = ['LUNG1-128']\n",
        "    patient_list_lung1 = [p for p in patient_list_lung1 if p not in error_patients]\n",
        "\n",
        "    \"\"\" Split Data into Train, Validation, and Test \"\"\"\n",
        "    train_patient, valid_patient = train_test_split(patient_list_lung1, test_size=0.1, random_state=42)\n",
        "    train_patient, test_patient = train_test_split(train_patient, test_size=0.1, random_state=42)\n",
        "\n",
        "    print(f\"Patients: Train={len(train_patient)}, Valid={len(valid_patient)}, Test={len(test_patient)}\")\n",
        "\n",
        "    \"\"\" Load Dataset \"\"\"\n",
        "    device = \"cuda\" if torch.cuda.is_available() else \"cpu\"\n",
        "    print(\"Loading Training Data...\")\n",
        "    train_dataset = PatientDataset2DUNet(train_patient, metadata_lung1, train=True)\n",
        "    print(\"Loading Validation Data...\")\n",
        "    valid_dataset = PatientDataset2DUNet(valid_patient, metadata_lung1, train=False)\n",
        "    print(\"Loading Test Data...\")\n",
        "    test_dataset = PatientDataset2DUNet(test_patient, metadata_lung1, train=False)\n",
        "\n",
        "    \"\"\" Initialize Data Loaders \"\"\"\n",
        "    num_workers = min(4, os.cpu_count() // 2)  # Safe multiprocessing\n",
        "    train_loader = DataLoader(train_dataset, batch_size=batch_size, shuffle=True, num_workers=num_workers, pin_memory=True)\n",
        "    valid_loader = DataLoader(valid_dataset, batch_size=batch_size, shuffle=False, num_workers=num_workers,pin_memory=True)\n",
        "    test_loader = DataLoader(test_dataset, batch_size=batch_size, shuffle=False, num_workers=num_workers,pin_memory=True)\n",
        "\n",
        "    \"\"\" Print Dataset Sizes \"\"\"\n",
        "    print(f\"Train: {len(train_dataset)}, Valid: {len(valid_dataset)}, Test: {len(test_dataset)}\")\n",
        "\n",
        "    \"\"\" Train Model \"\"\"\n",
        "    ut.execute(num_epochs, lr, train_loader, valid_loader, model_file, loss_result_file, device)\n",
        "\n",
        "    \"\"\" Load Best Model for Testing \"\"\"\n",
        "    model = UNet(1, 1).to(device)\n",
        "    checkpoint = torch.load(model_file, map_location=device)\n",
        "    model.load_state_dict(checkpoint['model_state_dict'])\n",
        "\n",
        "    \"\"\" Model Summary \"\"\"\n",
        "    print(summary(model, input_size=(1, 1, 512, 512)))\n",
        "\n",
        "    \"\"\" Test Model \"\"\"\n",
        "    utest = UnetTest()\n",
        "    utest.test(model, test_loader, test_result_path, device)\n"
      ],
      "metadata": {
        "id": "281KQS_iEIDX"
      },
      "execution_count": null,
      "outputs": []
    },
    {
      "cell_type": "code",
      "source": [],
      "metadata": {
        "id": "B0oiEAbmE8QX"
      },
      "execution_count": null,
      "outputs": []
    },
    {
      "cell_type": "markdown",
      "source": [
        "## Data Preperation (for simulated data)"
      ],
      "metadata": {
        "id": "ttkV-CqE73Kf"
      }
    },
    {
      "cell_type": "code",
      "source": [
        "import pandas as pd\n",
        "import numpy as np\n",
        "from torch.utils.data import Dataset,DataLoader\n",
        "import torch\n",
        "import os\n",
        "from sklearn.model_selection import train_test_split\n",
        "import torchvision.transforms as transforms\n",
        "\n",
        "class PatientDataset2DUNet(Dataset):\n",
        "    def __init__(self, image, mask, transform = None, train=True):\n",
        "        self.image = image\n",
        "        self.mask = mask\n",
        "        self.transform = transform\n",
        "        self.train = train\n",
        "        self.n_samples = len(self.image)\n",
        "\n",
        "    def __getitem__(self, index):\n",
        "        # img = torch.unsqueeze(self.image[index,:,:], 0)\n",
        "        # msk = torch.unsqueeze(self.mask[index,:,:], 0)\n",
        "      # Convert to PyTorch tensor and add channel dimension (C=1)\n",
        "        img, msk = map(lambda x: torch.from_numpy(x).unsqueeze(0), (self.image[index,:,:], self.mask[index,:,:]))  # Shape: [1, H, W]\n",
        "        if self.transform:\n",
        "            img = self.transform(img)\n",
        "            msk = self.transform(msk)\n",
        "\n",
        "        return img,msk\n",
        "\n",
        "    def __len__(self):\n",
        "        return self.n_samples\n",
        "\n",
        "\n",
        "\n",
        "if __name__ == \"__main__\":\n",
        "\n",
        "\n",
        "    batch_size = 4\n",
        "\n",
        "    # transform = transforms.Compose([\n",
        "    #     transforms.RandomRotation(15),\n",
        "    #     transforms.RandomHorizontalFlip(),\n",
        "    #     transforms.RandomVerticalFlip(),\n",
        "    #     transforms.RandomAffine(degrees=0, translate=(0.1, 0.1)),\n",
        "    #     transforms.ColorJitter(brightness=0.2, contrast=0.2),  # Useful for MRI/CT images\n",
        "    # ])\n",
        "    train_image = np.random.rand(8,512,512)\n",
        "    # print(train_image)\n",
        "    train_mask = np.random.randint(2, size=(8,512,512))\n",
        "    # print(train_mask)\n",
        "    valid_image = np.random.rand(1,512,512)\n",
        "    valid_mask = np.random.randint(2, size=(1,512,512))\n",
        "    test_image = np.random.rand(1,512,512)\n",
        "    test_mask = np.random.randint(2, size=(1,512,512))\n",
        "\n",
        "\n",
        "    print(\"Training Loading...\")\n",
        "    train_dataset = PatientDataset2DUNet(train_image, train_mask, train=True)\n",
        "    print(\"Valid Loading...\")\n",
        "    valid_dataset = PatientDataset2DUNet(valid_image, valid_mask, train=False)\n",
        "    print(\"Testing Loading...\")\n",
        "    test_dataset = PatientDataset2DUNet(test_image, test_mask, train=False)\n",
        "    # #\n",
        "    # # # train_dataset, valid_dataset = torch.utils.data.random_split(patient_dataset, [0.8, 0.2])\n",
        "    # # #\n",
        "    # # #\n",
        "    train_loader = DataLoader(\n",
        "        dataset=train_dataset,\n",
        "        batch_size=batch_size,\n",
        "        shuffle=True,\n",
        "        num_workers=0\n",
        "    )\n",
        "    #\n",
        "    valid_loader = DataLoader(\n",
        "        dataset=valid_dataset,\n",
        "        batch_size=batch_size,\n",
        "        shuffle=False,\n",
        "        num_workers=0\n",
        "    )\n",
        "\n",
        "    #\n",
        "    test_loader = DataLoader(\n",
        "        dataset=test_dataset,\n",
        "        batch_size=batch_size,\n",
        "        shuffle=False,\n",
        "        num_workers=0\n",
        "    )\n",
        "    # Fetch one batch\n",
        "    for images, masks in train_loader:\n",
        "        print(f\"Batch Image Shape: {images.shape}\")  # Expected: [8, 1, H, W]\n",
        "        print(f\"Batch Mask Shape: {masks.shape}\")  # Expected: [8, 1, H, W]\n",
        "        break\n",
        "    for image ,mask in test_loader:\n",
        "        print(\"Shape of image : \", image.shape)\n",
        "        print(\"Shape of mask : \", mask.shape)\n",
        "\n",
        "    for image ,mask in valid_loader:\n",
        "        print(\"Shape of image : \", image.shape)\n",
        "        print(\"Shape of mask : \", mask.shape)\n",
        "    print(f\"Total images in Training Dataset: {len(train_dataset)}\")\n",
        "    print(f\"Total images in Valid Dataset: {len(valid_dataset)}\")\n",
        "    print(f\"Total images in Testing Dataset: {len(test_dataset)}\")\n",
        "\n"
      ],
      "metadata": {
        "id": "ZlZeEer5mn3B",
        "colab": {
          "base_uri": "https://localhost:8080/"
        },
        "outputId": "b68874c1-4049-4f80-bf66-4b02e985a5da"
      },
      "execution_count": null,
      "outputs": [
        {
          "output_type": "stream",
          "name": "stdout",
          "text": [
            "Training Loading...\n",
            "Valid Loading...\n",
            "Testing Loading...\n",
            "Batch Image Shape: torch.Size([4, 1, 512, 512])\n",
            "Batch Mask Shape: torch.Size([4, 1, 512, 512])\n",
            "Shape of image :  torch.Size([1, 1, 512, 512])\n",
            "Shape of mask :  torch.Size([1, 1, 512, 512])\n",
            "Shape of image :  torch.Size([1, 1, 512, 512])\n",
            "Shape of mask :  torch.Size([1, 1, 512, 512])\n",
            "Total images in Training Dataset: 8\n",
            "Total images in Valid Dataset: 1\n",
            "Total images in Testing Dataset: 1\n"
          ]
        }
      ]
    },
    {
      "cell_type": "code",
      "source": [],
      "metadata": {
        "id": "zm4DTSQuiYg-"
      },
      "execution_count": null,
      "outputs": []
    },
    {
      "cell_type": "code",
      "source": [
        "!pip install torchinfo"
      ],
      "metadata": {
        "colab": {
          "base_uri": "https://localhost:8080/"
        },
        "id": "K9DvaahAifyi",
        "outputId": "ba44663a-3316-49d0-cd7d-1e44a404deff"
      },
      "execution_count": null,
      "outputs": [
        {
          "output_type": "stream",
          "name": "stdout",
          "text": [
            "Requirement already satisfied: torchinfo in /usr/local/lib/python3.11/dist-packages (1.8.0)\n"
          ]
        }
      ]
    },
    {
      "cell_type": "code",
      "source": [],
      "metadata": {
        "id": "ku2wOTAPGRtU"
      },
      "execution_count": null,
      "outputs": []
    },
    {
      "cell_type": "code",
      "source": [],
      "metadata": {
        "id": "odtjE7xpiupx"
      },
      "execution_count": null,
      "outputs": []
    },
    {
      "cell_type": "code",
      "source": [
        "if __name__ == \"__main__\":\n",
        "    ut = UnetTrain()\n",
        "\n",
        "    \"\"\" Seeding for Reproducibility \"\"\"\n",
        "    ut.seeding(42)\n",
        "\n",
        "    \"\"\" Hyperparameters \"\"\"\n",
        "    batch_size = 2\n",
        "    num_epochs = 1\n",
        "    lr = 1e-4\n",
        "\n",
        "    # \"\"\" Define Paths (OS-Independent) \"\"\"\n",
        "    output_dir = os.path.join(\".\", \"Segmentation\", \"files\")\n",
        "    os.makedirs(output_dir, exist_ok=True)\n",
        "    loss_result_file = os.path.join(output_dir, \"results.csv\")\n",
        "    model_file = os.path.join(output_dir, \"checkpoint.pth\")\n",
        "    test_result_path = os.path.join(output_dir, \"results\")\n",
        "\n",
        "    # \"\"\" Load Metadata \"\"\"\n",
        "    # try:\n",
        "    #     metadata_lung1 = pd.read_csv(os.path.join(\".\", \"metadata\", \"metadata_lung1.csv\"), sep=',', index_col=False)\n",
        "    # except FileNotFoundError:\n",
        "    #     print(\"❌ ERROR: metadata_lung1.csv not found. Please check the file path.\")\n",
        "    #     exit(1)\n",
        "\n",
        "    # \"\"\" Load Patient List \"\"\"\n",
        "    # patient_list_lung1 = metadata_lung1[\"Subject ID\"].unique().tolist()[:10]\n",
        "\n",
        "    # \"\"\" Remove Error Patients Safely \"\"\"\n",
        "    # error_patients = ['LUNG1-128']\n",
        "    # patient_list_lung1 = [p for p in patient_list_lung1 if p not in error_patients]\n",
        "\n",
        "    # \"\"\" Split Data into Train, Validation, and Test \"\"\"\n",
        "    # train_patient, valid_patient = train_test_split(patient_list_lung1, test_size=0.1, random_state=42)\n",
        "    # train_patient, test_patient = train_test_split(train_patient, test_size=0.1, random_state=42)\n",
        "\n",
        "    # print(f\"Patients: Train={len(train_patient)}, Valid={len(valid_patient)}, Test={len(test_patient)}\")\n",
        "\n",
        "    # \"\"\" Load Dataset \"\"\"\n",
        "    device = \"cuda\" if torch.cuda.is_available() else \"cpu\"\n",
        "    train_image = np.random.rand(8,512,512)\n",
        "    # print(train_image)\n",
        "    train_mask = np.random.randint(2, size=(8,512,512))\n",
        "    # print(train_mask)\n",
        "    valid_image = np.random.rand(1,512,512)\n",
        "    valid_mask = np.random.randint(2, size=(1,512,512))\n",
        "    test_image = np.random.rand(1,512,512)\n",
        "    test_mask = np.random.randint(2, size=(1,512,512))\n",
        "\n",
        "\n",
        "    print(\"Training Loading...\")\n",
        "    train_dataset = PatientDataset2DUNet(train_image, train_mask, train=True)\n",
        "    print(\"Valid Loading...\")\n",
        "    valid_dataset = PatientDataset2DUNet(valid_image, valid_mask, train=False)\n",
        "    print(\"Testing Loading...\")\n",
        "    test_dataset = PatientDataset2DUNet(test_image, test_mask, train=False)\n",
        "\n",
        "    # print(\"Loading Training Data...\")\n",
        "    # train_dataset = PatientDataset2DUNet(train_patient, metadata_lung1, train=True)\n",
        "    # print(\"Loading Validation Data...\")\n",
        "    # valid_dataset = PatientDataset2DUNet(valid_patient, metadata_lung1, train=False)\n",
        "    # print(\"Loading Test Data...\")\n",
        "    # test_dataset = PatientDataset2DUNet(test_patient, metadata_lung1, train=False)\n",
        "\n",
        "    \"\"\" Initialize Data Loaders \"\"\"\n",
        "    num_workers = min(4, os.cpu_count()//2)  # Safe multiprocessing\n",
        "    train_loader = DataLoader(train_dataset, batch_size=batch_size, shuffle=True, num_workers=num_workers)\n",
        "    valid_loader = DataLoader(valid_dataset, batch_size=batch_size, shuffle=False, num_workers=num_workers)\n",
        "    test_loader = DataLoader(test_dataset, batch_size=batch_size, shuffle=False, num_workers=num_workers)\n",
        "\n",
        "    \"\"\" Print Dataset Sizes \"\"\"\n",
        "    print(f\"Train: {len(train_dataset)}, Valid: {len(valid_dataset)}, Test: {len(test_dataset)}\")\n",
        "\n",
        "    \"\"\" Train Model \"\"\"\n",
        "    ut.execute(num_epochs, lr, train_loader, valid_loader, model_file, loss_result_file, device)\n",
        "\n",
        "    \"\"\" Load Best Model for Testing \"\"\"\n",
        "    model = UNet(1, 1).to(device)\n",
        "    checkpoint = torch.load(model_file, map_location=device)\n",
        "    model.load_state_dict(checkpoint['model_state_dict'])\n",
        "\n",
        "    \"\"\" Model Summary \"\"\"\n",
        "    print(summary(model, input_size=(1, 1, 512, 512)))\n",
        "\n",
        "    \"\"\" Test Model \"\"\"\n",
        "    utest = UnetTest()\n",
        "    utest.test(model, test_loader, test_result_path, device)"
      ],
      "metadata": {
        "id": "RCoo5__jjHjk",
        "colab": {
          "base_uri": "https://localhost:8080/"
        },
        "outputId": "3350d6b2-86b7-4e51-fc4e-fb88749c9b4d"
      },
      "execution_count": null,
      "outputs": [
        {
          "output_type": "stream",
          "name": "stdout",
          "text": [
            "Training Loading...\n",
            "Valid Loading...\n",
            "Testing Loading...\n",
            "Train: 8, Valid: 1, Test: 1\n"
          ]
        },
        {
          "output_type": "stream",
          "name": "stderr",
          "text": [
            "\r  0%|          | 0/1 [00:00<?, ?it/s]"
          ]
        },
        {
          "output_type": "stream",
          "name": "stdout",
          "text": [
            "✅ Valid loss improved from inf to 1.1794. Saving checkpoint.\n"
          ]
        },
        {
          "output_type": "stream",
          "name": "stderr",
          "text": [
            "100%|██████████| 1/1 [00:07<00:00,  7.23s/it]"
          ]
        },
        {
          "output_type": "stream",
          "name": "stdout",
          "text": [
            "Epoch 1: Time: 0m 7s, Train Loss: 1.184, Val Loss: 1.179\n"
          ]
        },
        {
          "output_type": "stream",
          "name": "stderr",
          "text": [
            "\n"
          ]
        },
        {
          "output_type": "stream",
          "name": "stdout",
          "text": [
            "==========================================================================================\n",
            "Layer (type:depth-idx)                   Output Shape              Param #\n",
            "==========================================================================================\n",
            "UNet                                     [1, 1, 512, 512]          --\n",
            "├─encoder_block: 1-1                     [1, 64, 512, 512]         --\n",
            "│    └─conv_block: 2-1                   [1, 64, 512, 512]         --\n",
            "│    │    └─Conv2d: 3-1                  [1, 64, 512, 512]         640\n",
            "│    │    └─BatchNorm2d: 3-2             [1, 64, 512, 512]         128\n",
            "│    │    └─ReLU: 3-3                    [1, 64, 512, 512]         --\n",
            "│    │    └─Conv2d: 3-4                  [1, 64, 512, 512]         36,928\n",
            "│    │    └─BatchNorm2d: 3-5             [1, 64, 512, 512]         128\n",
            "│    │    └─ReLU: 3-6                    [1, 64, 512, 512]         --\n",
            "│    └─MaxPool2d: 2-2                    [1, 64, 256, 256]         --\n",
            "├─encoder_block: 1-2                     [1, 128, 256, 256]        --\n",
            "│    └─conv_block: 2-3                   [1, 128, 256, 256]        --\n",
            "│    │    └─Conv2d: 3-7                  [1, 128, 256, 256]        73,856\n",
            "│    │    └─BatchNorm2d: 3-8             [1, 128, 256, 256]        256\n",
            "│    │    └─ReLU: 3-9                    [1, 128, 256, 256]        --\n",
            "│    │    └─Conv2d: 3-10                 [1, 128, 256, 256]        147,584\n",
            "│    │    └─BatchNorm2d: 3-11            [1, 128, 256, 256]        256\n",
            "│    │    └─ReLU: 3-12                   [1, 128, 256, 256]        --\n",
            "│    └─MaxPool2d: 2-4                    [1, 128, 128, 128]        --\n",
            "├─encoder_block: 1-3                     [1, 256, 128, 128]        --\n",
            "│    └─conv_block: 2-5                   [1, 256, 128, 128]        --\n",
            "│    │    └─Conv2d: 3-13                 [1, 256, 128, 128]        295,168\n",
            "│    │    └─BatchNorm2d: 3-14            [1, 256, 128, 128]        512\n",
            "│    │    └─ReLU: 3-15                   [1, 256, 128, 128]        --\n",
            "│    │    └─Conv2d: 3-16                 [1, 256, 128, 128]        590,080\n",
            "│    │    └─BatchNorm2d: 3-17            [1, 256, 128, 128]        512\n",
            "│    │    └─ReLU: 3-18                   [1, 256, 128, 128]        --\n",
            "│    └─MaxPool2d: 2-6                    [1, 256, 64, 64]          --\n",
            "├─encoder_block: 1-4                     [1, 512, 64, 64]          --\n",
            "│    └─conv_block: 2-7                   [1, 512, 64, 64]          --\n",
            "│    │    └─Conv2d: 3-19                 [1, 512, 64, 64]          1,180,160\n",
            "│    │    └─BatchNorm2d: 3-20            [1, 512, 64, 64]          1,024\n",
            "│    │    └─ReLU: 3-21                   [1, 512, 64, 64]          --\n",
            "│    │    └─Conv2d: 3-22                 [1, 512, 64, 64]          2,359,808\n",
            "│    │    └─BatchNorm2d: 3-23            [1, 512, 64, 64]          1,024\n",
            "│    │    └─ReLU: 3-24                   [1, 512, 64, 64]          --\n",
            "│    └─MaxPool2d: 2-8                    [1, 512, 32, 32]          --\n",
            "├─conv_block: 1-5                        [1, 1024, 32, 32]         --\n",
            "│    └─Conv2d: 2-9                       [1, 1024, 32, 32]         4,719,616\n",
            "│    └─BatchNorm2d: 2-10                 [1, 1024, 32, 32]         2,048\n",
            "│    └─ReLU: 2-11                        [1, 1024, 32, 32]         --\n",
            "│    └─Conv2d: 2-12                      [1, 1024, 32, 32]         9,438,208\n",
            "│    └─BatchNorm2d: 2-13                 [1, 1024, 32, 32]         2,048\n",
            "│    └─ReLU: 2-14                        [1, 1024, 32, 32]         --\n",
            "├─decoder_block: 1-6                     [1, 512, 64, 64]          --\n",
            "│    └─ConvTranspose2d: 2-15             [1, 512, 64, 64]          2,097,664\n",
            "│    └─conv_block: 2-16                  [1, 512, 64, 64]          --\n",
            "│    │    └─Conv2d: 3-25                 [1, 512, 64, 64]          4,719,104\n",
            "│    │    └─BatchNorm2d: 3-26            [1, 512, 64, 64]          1,024\n",
            "│    │    └─ReLU: 3-27                   [1, 512, 64, 64]          --\n",
            "│    │    └─Conv2d: 3-28                 [1, 512, 64, 64]          2,359,808\n",
            "│    │    └─BatchNorm2d: 3-29            [1, 512, 64, 64]          1,024\n",
            "│    │    └─ReLU: 3-30                   [1, 512, 64, 64]          --\n",
            "├─decoder_block: 1-7                     [1, 256, 128, 128]        --\n",
            "│    └─ConvTranspose2d: 2-17             [1, 256, 128, 128]        524,544\n",
            "│    └─conv_block: 2-18                  [1, 256, 128, 128]        --\n",
            "│    │    └─Conv2d: 3-31                 [1, 256, 128, 128]        1,179,904\n",
            "│    │    └─BatchNorm2d: 3-32            [1, 256, 128, 128]        512\n",
            "│    │    └─ReLU: 3-33                   [1, 256, 128, 128]        --\n",
            "│    │    └─Conv2d: 3-34                 [1, 256, 128, 128]        590,080\n",
            "│    │    └─BatchNorm2d: 3-35            [1, 256, 128, 128]        512\n",
            "│    │    └─ReLU: 3-36                   [1, 256, 128, 128]        --\n",
            "├─decoder_block: 1-8                     [1, 128, 256, 256]        --\n",
            "│    └─ConvTranspose2d: 2-19             [1, 128, 256, 256]        131,200\n",
            "│    └─conv_block: 2-20                  [1, 128, 256, 256]        --\n",
            "│    │    └─Conv2d: 3-37                 [1, 128, 256, 256]        295,040\n",
            "│    │    └─BatchNorm2d: 3-38            [1, 128, 256, 256]        256\n",
            "│    │    └─ReLU: 3-39                   [1, 128, 256, 256]        --\n",
            "│    │    └─Conv2d: 3-40                 [1, 128, 256, 256]        147,584\n",
            "│    │    └─BatchNorm2d: 3-41            [1, 128, 256, 256]        256\n",
            "│    │    └─ReLU: 3-42                   [1, 128, 256, 256]        --\n",
            "├─decoder_block: 1-9                     [1, 64, 512, 512]         --\n",
            "│    └─ConvTranspose2d: 2-21             [1, 64, 512, 512]         32,832\n",
            "│    └─conv_block: 2-22                  [1, 64, 512, 512]         --\n",
            "│    │    └─Conv2d: 3-43                 [1, 64, 512, 512]         73,792\n",
            "│    │    └─BatchNorm2d: 3-44            [1, 64, 512, 512]         128\n",
            "│    │    └─ReLU: 3-45                   [1, 64, 512, 512]         --\n",
            "│    │    └─Conv2d: 3-46                 [1, 64, 512, 512]         36,928\n",
            "│    │    └─BatchNorm2d: 3-47            [1, 64, 512, 512]         128\n",
            "│    │    └─ReLU: 3-48                   [1, 64, 512, 512]         --\n",
            "├─Conv2d: 1-10                           [1, 1, 512, 512]          65\n",
            "==========================================================================================\n",
            "Total params: 31,042,369\n",
            "Trainable params: 31,042,369\n",
            "Non-trainable params: 0\n",
            "Total mult-adds (Units.GIGABYTES): 218.30\n",
            "==========================================================================================\n",
            "Input size (MB): 1.05\n",
            "Forward/backward pass size (MB): 2300.58\n",
            "Params size (MB): 124.17\n",
            "Estimated Total Size (MB): 2425.79\n",
            "==========================================================================================\n",
            "✅ Saved: ./Segmentation/files/results/sample_0.png\n",
            "Total Images in Test Set: 1\n",
            "Jaccard: 0.0000 - F1: 0.0000 - Recall: 0.0000 - Precision: 1.0000 - Acc: 0.4994\n",
            "FPS: 80.26607980097599\n"
          ]
        }
      ]
    },
    {
      "cell_type": "code",
      "source": [],
      "metadata": {
        "id": "4zZMcY6_I2re"
      },
      "execution_count": null,
      "outputs": []
    }
  ]
}