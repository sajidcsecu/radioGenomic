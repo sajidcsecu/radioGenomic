{
  "nbformat": 4,
  "nbformat_minor": 0,
  "metadata": {
    "colab": {
      "provenance": [],
      "gpuType": "T4",
      "authorship_tag": "ABX9TyN63ziu6EMmIJhqlBoQp1yi",
      "include_colab_link": true
    },
    "kernelspec": {
      "name": "python3",
      "display_name": "Python 3"
    },
    "language_info": {
      "name": "python"
    },
    "accelerator": "GPU"
  },
  "cells": [
    {
      "cell_type": "markdown",
      "metadata": {
        "id": "view-in-github",
        "colab_type": "text"
      },
      "source": [
        "<a href=\"https://colab.research.google.com/github/sajidcsecu/radioGenomic/blob/main/UnetinGPU.ipynb\" target=\"_parent\"><img src=\"https://colab.research.google.com/assets/colab-badge.svg\" alt=\"Open In Colab\"/></a>"
      ]
    },
    {
      "cell_type": "markdown",
      "source": [
        "# (1) Import Required Libraries"
      ],
      "metadata": {
        "id": "C9Zo7tkcI1CX"
      }
    },
    {
      "cell_type": "code",
      "source": [
        "!pip install SimpleITK\n",
        "!pip install pydicom===2.4.3\n",
        "!pip install pydicom-seg\n",
        "!pip install numpy==1.23.5"
      ],
      "metadata": {
        "id": "d9OVdEeKXpMe",
        "outputId": "35b9473a-659a-4171-b07c-ab0259521dae",
        "colab": {
          "base_uri": "https://localhost:8080/",
          "height": 1000
        }
      },
      "execution_count": 1,
      "outputs": [
        {
          "output_type": "stream",
          "name": "stdout",
          "text": [
            "Collecting SimpleITK\n",
            "  Downloading SimpleITK-2.4.1-cp311-abi3-manylinux_2_17_x86_64.manylinux2014_x86_64.whl.metadata (7.9 kB)\n",
            "Downloading SimpleITK-2.4.1-cp311-abi3-manylinux_2_17_x86_64.manylinux2014_x86_64.whl (52.3 MB)\n",
            "\u001b[2K   \u001b[90m━━━━━━━━━━━━━━━━━━━━━━━━━━━━━━━━━━━━━━━━\u001b[0m \u001b[32m52.3/52.3 MB\u001b[0m \u001b[31m10.9 MB/s\u001b[0m eta \u001b[36m0:00:00\u001b[0m\n",
            "\u001b[?25hInstalling collected packages: SimpleITK\n",
            "Successfully installed SimpleITK-2.4.1\n",
            "Collecting pydicom===2.4.3\n",
            "  Downloading pydicom-2.4.3-py3-none-any.whl.metadata (7.8 kB)\n",
            "Downloading pydicom-2.4.3-py3-none-any.whl (1.8 MB)\n",
            "\u001b[2K   \u001b[90m━━━━━━━━━━━━━━━━━━━━━━━━━━━━━━━━━━━━━━━━\u001b[0m \u001b[32m1.8/1.8 MB\u001b[0m \u001b[31m25.4 MB/s\u001b[0m eta \u001b[36m0:00:00\u001b[0m\n",
            "\u001b[?25hInstalling collected packages: pydicom\n",
            "Successfully installed pydicom-2.4.3\n",
            "Collecting pydicom-seg\n",
            "  Downloading pydicom_seg-0.4.1-py3-none-any.whl.metadata (5.2 kB)\n",
            "Requirement already satisfied: SimpleITK>1.2.4 in /usr/local/lib/python3.11/dist-packages (from pydicom-seg) (2.4.1)\n",
            "Collecting jsonschema<4.0.0,>=3.2.0 (from pydicom-seg)\n",
            "  Downloading jsonschema-3.2.0-py2.py3-none-any.whl.metadata (7.8 kB)\n",
            "Collecting numpy<2.0.0,>=1.18.0 (from pydicom-seg)\n",
            "  Downloading numpy-1.26.4-cp311-cp311-manylinux_2_17_x86_64.manylinux2014_x86_64.whl.metadata (61 kB)\n",
            "\u001b[2K     \u001b[90m━━━━━━━━━━━━━━━━━━━━━━━━━━━━━━━━━━━━━━━━\u001b[0m \u001b[32m61.0/61.0 kB\u001b[0m \u001b[31m1.8 MB/s\u001b[0m eta \u001b[36m0:00:00\u001b[0m\n",
            "\u001b[?25hRequirement already satisfied: pydicom>=1.4.2 in /usr/local/lib/python3.11/dist-packages (from pydicom-seg) (2.4.3)\n",
            "Requirement already satisfied: attrs>=17.4.0 in /usr/local/lib/python3.11/dist-packages (from jsonschema<4.0.0,>=3.2.0->pydicom-seg) (25.3.0)\n",
            "Collecting pyrsistent>=0.14.0 (from jsonschema<4.0.0,>=3.2.0->pydicom-seg)\n",
            "  Downloading pyrsistent-0.20.0-cp311-cp311-manylinux_2_17_x86_64.manylinux2014_x86_64.whl.metadata (27 kB)\n",
            "Requirement already satisfied: setuptools in /usr/local/lib/python3.11/dist-packages (from jsonschema<4.0.0,>=3.2.0->pydicom-seg) (75.1.0)\n",
            "Requirement already satisfied: six>=1.11.0 in /usr/local/lib/python3.11/dist-packages (from jsonschema<4.0.0,>=3.2.0->pydicom-seg) (1.17.0)\n",
            "Downloading pydicom_seg-0.4.1-py3-none-any.whl (27 kB)\n",
            "Downloading jsonschema-3.2.0-py2.py3-none-any.whl (56 kB)\n",
            "\u001b[2K   \u001b[90m━━━━━━━━━━━━━━━━━━━━━━━━━━━━━━━━━━━━━━━━\u001b[0m \u001b[32m56.3/56.3 kB\u001b[0m \u001b[31m6.0 MB/s\u001b[0m eta \u001b[36m0:00:00\u001b[0m\n",
            "\u001b[?25hDownloading numpy-1.26.4-cp311-cp311-manylinux_2_17_x86_64.manylinux2014_x86_64.whl (18.3 MB)\n",
            "\u001b[2K   \u001b[90m━━━━━━━━━━━━━━━━━━━━━━━━━━━━━━━━━━━━━━━━\u001b[0m \u001b[32m18.3/18.3 MB\u001b[0m \u001b[31m111.0 MB/s\u001b[0m eta \u001b[36m0:00:00\u001b[0m\n",
            "\u001b[?25hDownloading pyrsistent-0.20.0-cp311-cp311-manylinux_2_17_x86_64.manylinux2014_x86_64.whl (120 kB)\n",
            "\u001b[2K   \u001b[90m━━━━━━━━━━━━━━━━━━━━━━━━━━━━━━━━━━━━━━━━\u001b[0m \u001b[32m120.0/120.0 kB\u001b[0m \u001b[31m12.3 MB/s\u001b[0m eta \u001b[36m0:00:00\u001b[0m\n",
            "\u001b[?25hInstalling collected packages: pyrsistent, numpy, jsonschema, pydicom-seg\n",
            "  Attempting uninstall: numpy\n",
            "    Found existing installation: numpy 2.0.2\n",
            "    Uninstalling numpy-2.0.2:\n",
            "      Successfully uninstalled numpy-2.0.2\n",
            "  Attempting uninstall: jsonschema\n",
            "    Found existing installation: jsonschema 4.23.0\n",
            "    Uninstalling jsonschema-4.23.0:\n",
            "      Successfully uninstalled jsonschema-4.23.0\n",
            "Successfully installed jsonschema-3.2.0 numpy-1.26.4 pydicom-seg-0.4.1 pyrsistent-0.20.0\n",
            "Collecting numpy==1.23.5\n",
            "  Downloading numpy-1.23.5-cp311-cp311-manylinux_2_17_x86_64.manylinux2014_x86_64.whl.metadata (2.3 kB)\n",
            "Downloading numpy-1.23.5-cp311-cp311-manylinux_2_17_x86_64.manylinux2014_x86_64.whl (17.1 MB)\n",
            "\u001b[2K   \u001b[90m━━━━━━━━━━━━━━━━━━━━━━━━━━━━━━━━━━━━━━━━\u001b[0m \u001b[32m17.1/17.1 MB\u001b[0m \u001b[31m50.2 MB/s\u001b[0m eta \u001b[36m0:00:00\u001b[0m\n",
            "\u001b[?25hInstalling collected packages: numpy\n",
            "  Attempting uninstall: numpy\n",
            "    Found existing installation: numpy 1.26.4\n",
            "    Uninstalling numpy-1.26.4:\n",
            "      Successfully uninstalled numpy-1.26.4\n",
            "\u001b[31mERROR: pip's dependency resolver does not currently take into account all the packages that are installed. This behaviour is the source of the following dependency conflicts.\n",
            "chex 0.1.89 requires numpy>=1.24.1, but you have numpy 1.23.5 which is incompatible.\n",
            "pymc 5.21.1 requires numpy>=1.25.0, but you have numpy 1.23.5 which is incompatible.\n",
            "tensorflow 2.18.0 requires numpy<2.1.0,>=1.26.0, but you have numpy 1.23.5 which is incompatible.\n",
            "xarray 2025.1.2 requires numpy>=1.24, but you have numpy 1.23.5 which is incompatible.\n",
            "blosc2 3.2.0 requires numpy>=1.26, but you have numpy 1.23.5 which is incompatible.\n",
            "albucore 0.0.23 requires numpy>=1.24.4, but you have numpy 1.23.5 which is incompatible.\n",
            "jax 0.5.2 requires numpy>=1.25, but you have numpy 1.23.5 which is incompatible.\n",
            "treescope 0.1.9 requires numpy>=1.25.2, but you have numpy 1.23.5 which is incompatible.\n",
            "jaxlib 0.5.1 requires numpy>=1.25, but you have numpy 1.23.5 which is incompatible.\n",
            "imbalanced-learn 0.13.0 requires numpy<3,>=1.24.3, but you have numpy 1.23.5 which is incompatible.\n",
            "scikit-image 0.25.2 requires numpy>=1.24, but you have numpy 1.23.5 which is incompatible.\n",
            "bigframes 1.41.0 requires numpy>=1.24.0, but you have numpy 1.23.5 which is incompatible.\n",
            "albumentations 2.0.5 requires numpy>=1.24.4, but you have numpy 1.23.5 which is incompatible.\u001b[0m\u001b[31m\n",
            "\u001b[0mSuccessfully installed numpy-1.23.5\n"
          ]
        },
        {
          "output_type": "display_data",
          "data": {
            "application/vnd.colab-display-data+json": {
              "pip_warning": {
                "packages": [
                  "numpy"
                ]
              },
              "id": "bb6f1623abf44a5aa2600c21cc40871b"
            }
          },
          "metadata": {}
        }
      ]
    },
    {
      "cell_type": "markdown",
      "source": [
        "# (2) Import required Libraries"
      ],
      "metadata": {
        "id": "JadHvjQcJ-qU"
      }
    },
    {
      "cell_type": "code",
      "source": [
        "import os\n",
        "import random\n",
        "import time\n",
        "import csv\n",
        "import numpy as np\n",
        "import torch\n",
        "import torch.nn as nn\n",
        "import torch.optim.lr_scheduler as lr_scheduler\n",
        "from torch.cuda.amp import GradScaler, autocast\n",
        "from torch.utils.data import Dataset, DataLoader\n",
        "from sklearn.metrics import (\n",
        "    jaccard_score,\n",
        "    f1_score,\n",
        "    recall_score,\n",
        "    precision_score,\n",
        "    accuracy_score,\n",
        ")\n",
        "from tqdm import tqdm\n",
        "\n",
        "import cv2\n",
        "from typing import List\n",
        "import torch.multiprocessing as mp\n",
        "import h5py\n",
        "from google.colab import drive"
      ],
      "metadata": {
        "id": "pmtDNjxMbfB4"
      },
      "execution_count": 1,
      "outputs": []
    },
    {
      "cell_type": "markdown",
      "source": [
        "# (3) Mount Google Drive"
      ],
      "metadata": {
        "id": "uyzguRDWI9bM"
      }
    },
    {
      "cell_type": "code",
      "source": [
        "drive.mount('/content/drive')\n",
        "\n",
        "# Define dataset directory\n",
        "DATASET_DIR = \"/content/drive/MyDrive/PhDwork/datasets\"\n",
        "os.makedirs(DATASET_DIR, exist_ok=True)\n",
        "print(f\" Dataset Directory: {DATASET_DIR}\")"
      ],
      "metadata": {
        "id": "lq6jVaaMXZz5",
        "outputId": "f57dc802-bfd6-4f65-b9b1-0bfd5817f23d",
        "colab": {
          "base_uri": "https://localhost:8080/"
        }
      },
      "execution_count": 2,
      "outputs": [
        {
          "output_type": "stream",
          "name": "stdout",
          "text": [
            "Mounted at /content/drive\n",
            " Dataset Directory: /content/drive/MyDrive/PhDwork/datasets\n"
          ]
        }
      ]
    },
    {
      "cell_type": "markdown",
      "source": [
        "# (4) Data Preperation"
      ],
      "metadata": {
        "id": "p4PdRsL8DChf"
      }
    },
    {
      "cell_type": "code",
      "source": [
        "class HDF5Dataset(Dataset):\n",
        "    def __init__(self, hdf5_path, transform=None):\n",
        "        self.hdf5_path = hdf5_path\n",
        "        self.transform = transform\n",
        "\n",
        "        with h5py.File(self.hdf5_path, \"r\") as f:\n",
        "            self.num_samples = f[\"images\"].shape[0]\n",
        "\n",
        "    def __len__(self):\n",
        "        return self.num_samples\n",
        "\n",
        "    def __getitem__(self, idx):\n",
        "        with h5py.File(self.hdf5_path, \"r\") as f:\n",
        "            img = f[\"images\"][idx]\n",
        "            mask = f[\"masks\"][idx]\n",
        "\n",
        "        img = torch.tensor(img, dtype=torch.float32).unsqueeze(0) #remove device from here.\n",
        "        mask = torch.tensor(mask, dtype=torch.uint8).unsqueeze(0) #remove device from here.\n",
        "\n",
        "        if self.transform:\n",
        "            img, mask = self.transform(img, mask)\n",
        "\n",
        "        return img, mask\n",
        "\n",
        "\n",
        "if __name__ == \"__main__\":\n",
        "    # Define the target directory\n",
        "    target_dir = \"/content/drive/MyDrive/PhDwork\"\n",
        "    # Change to the target directory\n",
        "    os.chdir(target_dir)\n",
        "    # Verify the change\n",
        "    print(\"Current Directory:\", os.getcwd())\n",
        "\n",
        "    # Define device\n",
        "    device = \"cuda\" if torch.cuda.is_available() else \"cpu\"\n",
        "    print(f\"Using device: {device}\")\n",
        "\n",
        "    # Define DATASET_DIR\n",
        "    DATASET_DIR = \"/content/drive/MyDrive/PhDwork/datasets\"\n",
        "    os.makedirs(DATASET_DIR, exist_ok=True) #make the directory if it does not exist.\n",
        "\n",
        "    # Dataset paths\n",
        "    train_hdf5_path = os.path.join(DATASET_DIR, \"train_dataset.hdf5\")\n",
        "    valid_hdf5_path = os.path.join(DATASET_DIR, \"valid_dataset.hdf5\")\n",
        "    test_hdf5_path = os.path.join(DATASET_DIR, \"test_dataset.hdf5\")\n",
        "\n",
        "    # Create datasets\n",
        "    train_dataset = HDF5Dataset(train_hdf5_path)\n",
        "    valid_dataset = HDF5Dataset(valid_hdf5_path)\n",
        "    test_dataset = HDF5Dataset(test_hdf5_path)\n",
        "\n",
        "    # Get a single image-mask pair from each dataset\n",
        "    train_img, train_mask = train_dataset[0]  # Get the first item (index 0)\n",
        "    valid_img, valid_mask = valid_dataset[0]\n",
        "    test_img, test_mask = test_dataset[0]\n",
        "\n",
        "    # Print shapes and devices to verify\n",
        "    print(\"Train Image:\", train_img.shape, \"Train Mask:\", train_mask.shape, \"Device:\", train_img.device)\n",
        "    print(\"Valid Image:\", valid_img.shape, \"Valid Mask:\", valid_mask.shape, \"Device:\", valid_img.device)\n",
        "    print(\"Test Image:\", test_img.shape, \"Test Mask:\", test_mask.shape, \"Device:\", test_img.device)\n",
        "\n",
        "    print(\"Single image/mask retrieval successful!\")\n",
        "\n",
        "    # Create dataloaders\n",
        "    train_dataloader = DataLoader(train_dataset, batch_size=8, shuffle=True)\n",
        "    valid_dataloader = DataLoader(valid_dataset, batch_size=8, shuffle=False)\n",
        "    test_dataloader = DataLoader(test_dataset, batch_size=8, shuffle=False)\n",
        "\n",
        "    # Load a Batch from train\n",
        "    for batch in train_dataloader:\n",
        "        imgs, masks = batch  # imgs.shape: [8, 1, 512, 512], masks.shape: [8, 1, 512, 512]\n",
        "        print(\"✅ Train Batch Loaded:\", imgs.shape, masks.shape)\n",
        "        print(f\"Image device: {imgs.device}, Mask device: {masks.device}\")\n",
        "        break\n",
        "\n",
        "    #load a batch from valid.\n",
        "    for batch in valid_dataloader:\n",
        "        imgs, masks = batch\n",
        "        print(\"✅ Validation Batch Loaded:\", imgs.shape, masks.shape)\n",
        "        print(f\"Image device: {imgs.device}, Mask device: {masks.device}\")\n",
        "        break\n",
        "\n",
        "    #load a batch from test.\n",
        "    for batch in test_dataloader:\n",
        "        imgs, masks = batch\n",
        "        print(\"✅ Test Batch Loaded:\", imgs.shape, masks.shape)\n",
        "        print(f\"Image device: {imgs.device}, Mask device: {masks.device}\")\n",
        "        break\n",
        "\n",
        "    print(\"Data loading successful!\")"
      ],
      "metadata": {
        "colab": {
          "base_uri": "https://localhost:8080/"
        },
        "id": "ZoGkyWq93X-H",
        "outputId": "59d82465-756b-4ccc-a7fb-541904426a61"
      },
      "execution_count": 3,
      "outputs": [
        {
          "output_type": "stream",
          "name": "stdout",
          "text": [
            "Current Directory: /content/drive/MyDrive/PhDwork\n",
            "Using device: cuda\n",
            "Train Image: torch.Size([1, 512, 512]) Train Mask: torch.Size([1, 512, 512]) Device: cpu\n",
            "Valid Image: torch.Size([1, 512, 512]) Valid Mask: torch.Size([1, 512, 512]) Device: cpu\n",
            "Test Image: torch.Size([1, 512, 512]) Test Mask: torch.Size([1, 512, 512]) Device: cpu\n",
            "Single image/mask retrieval successful!\n",
            "✅ Train Batch Loaded: torch.Size([8, 1, 512, 512]) torch.Size([8, 1, 512, 512])\n",
            "Image device: cpu, Mask device: cpu\n",
            "✅ Validation Batch Loaded: torch.Size([8, 1, 512, 512]) torch.Size([8, 1, 512, 512])\n",
            "Image device: cpu, Mask device: cpu\n",
            "✅ Test Batch Loaded: torch.Size([8, 1, 512, 512]) torch.Size([8, 1, 512, 512])\n",
            "Image device: cpu, Mask device: cpu\n",
            "Data loading successful!\n"
          ]
        }
      ]
    },
    {
      "cell_type": "markdown",
      "source": [
        "# 2. Unet"
      ],
      "metadata": {
        "id": "h2iHKHfcF3yP"
      }
    },
    {
      "cell_type": "code",
      "source": [
        "class DoubleConv(nn.Module):\n",
        "    def __init__(self, in_channels, out_channels):\n",
        "        super().__init__()\n",
        "        self.conv = nn.Sequential(\n",
        "            nn.Conv2d(in_channels, out_channels, kernel_size=3, padding=1),\n",
        "            nn.BatchNorm2d(out_channels),\n",
        "            nn.LeakyReLU(inplace=True),\n",
        "            nn.Conv2d(out_channels, out_channels, kernel_size=3, padding=1),\n",
        "            nn.BatchNorm2d(out_channels),\n",
        "            nn.LeakyReLU(inplace=True)\n",
        "        )\n",
        "\n",
        "    def forward(self, x):\n",
        "        return self.conv(x)\n",
        "\n",
        "class UpSample(nn.Module):\n",
        "    def __init__(self, in_channels, out_channels):\n",
        "        super().__init__()\n",
        "        self.up = nn.ConvTranspose2d(in_channels, out_channels, kernel_size=2, stride=2)\n",
        "\n",
        "    def forward(self, x):\n",
        "        return self.up(x)\n",
        "\n",
        "class EncoderBlock(nn.Module):\n",
        "    def __init__(self, in_channels, out_channels, dropout=0.1):\n",
        "        super().__init__()\n",
        "        self.conv = DoubleConv(in_channels, out_channels)\n",
        "        self.pool = nn.MaxPool2d(2)\n",
        "        self.dropout = nn.Dropout(p=dropout)\n",
        "\n",
        "    def forward(self, x):\n",
        "        x = self.conv(x)\n",
        "        p = self.pool(x)\n",
        "        return x, self.dropout(p)\n",
        "\n",
        "class DecoderBlock(nn.Module):\n",
        "    def __init__(self, in_channels, out_channels, dropout=0.1):\n",
        "        super().__init__()\n",
        "        self.up = UpSample(in_channels, out_channels)\n",
        "        self.conv = DoubleConv(out_channels * 2, out_channels)\n",
        "        self.dropout = nn.Dropout(p=dropout)\n",
        "\n",
        "    def forward(self, x, skip):\n",
        "        x = self.up(x)\n",
        "        x = torch.cat([x, skip], dim=1)\n",
        "        x = self.conv(x)\n",
        "        return self.dropout(x)\n",
        "\n",
        "class UNet(nn.Module):\n",
        "    def __init__(self, in_channels, out_channels, dropout=0.5):\n",
        "        super().__init__()\n",
        "        self.e1 = EncoderBlock(in_channels, 64, dropout=dropout)\n",
        "        self.e2 = EncoderBlock(64, 128, dropout=dropout)\n",
        "        self.e3 = EncoderBlock(128, 256, dropout=dropout)\n",
        "        self.e4 = EncoderBlock(256, 512, dropout=dropout)\n",
        "\n",
        "        self.b = DoubleConv(512, 1024)\n",
        "        self.dropout_bottleneck = nn.Dropout(p=dropout)\n",
        "\n",
        "        self.d1 = DecoderBlock(1024, 512, dropout=dropout)\n",
        "        self.d2 = DecoderBlock(512, 256, dropout=dropout)\n",
        "        self.d3 = DecoderBlock(256, 128, dropout=dropout)\n",
        "        self.d4 = DecoderBlock(128, 64, dropout=dropout)\n",
        "\n",
        "        self.outputs = nn.Conv2d(64, out_channels, kernel_size=1)\n",
        "\n",
        "    def forward(self, x):\n",
        "        s1, p1 = self.e1(x)\n",
        "        s2, p2 = self.e2(p1)\n",
        "        s3, p3 = self.e3(p2)\n",
        "        s4, p4 = self.e4(p3)\n",
        "\n",
        "        b = self.b(p4)\n",
        "        b = self.dropout_bottleneck(b)\n",
        "\n",
        "        d1 = self.d1(b, s4)\n",
        "        d2 = self.d2(d1, s3)\n",
        "        d3 = self.d3(d2, s2)\n",
        "        d4 = self.d4(d3, s1)\n",
        "\n",
        "        return self.outputs(d4)\n",
        "\n",
        "if __name__ == \"__main__\":\n",
        "    # double_conv = DoubleConv(256, 256)\n",
        "    # print(double_conv)\n",
        "    device = \"cuda\" if torch.cuda.is_available() else \"cpu\"\n",
        "    input_image = torch.randn((1, 1, 512, 512), dtype=torch.float32)\n",
        "    model = UNet(1, 1).to(device)\n",
        "    input_image = input_image.to(device)\n",
        "    out = model(input_image)\n",
        "    print(out.shape)\n",
        "    print(device)\n",
        "    print(torch.cuda.is_available())"
      ],
      "metadata": {
        "id": "PamAo5NoFsRv",
        "colab": {
          "base_uri": "https://localhost:8080/"
        },
        "outputId": "d1aeb783-36d5-4288-980e-c96a877ee1e9"
      },
      "execution_count": 4,
      "outputs": [
        {
          "output_type": "stream",
          "name": "stdout",
          "text": [
            "torch.Size([1, 1, 512, 512])\n",
            "cuda\n",
            "True\n"
          ]
        }
      ]
    },
    {
      "cell_type": "markdown",
      "source": [
        "## 2. Loss Function"
      ],
      "metadata": {
        "id": "IFrRJqgG7wxo"
      }
    },
    {
      "cell_type": "code",
      "execution_count": 5,
      "metadata": {
        "id": "944_4uJbmPPx"
      },
      "outputs": [],
      "source": [
        "class DiceLoss(nn.Module):\n",
        "    def __init__(self, smooth=1e-6, epsilon=1e-8):\n",
        "        super(DiceLoss, self).__init__()\n",
        "        self.smooth = smooth\n",
        "        self.epsilon = epsilon\n",
        "\n",
        "    def forward(self, preds, targets):\n",
        "        preds = torch.sigmoid(preds)\n",
        "        preds = preds.view(-1)\n",
        "        targets = targets.view(-1)\n",
        "        intersection = (preds * targets).sum()\n",
        "        dice_score = (2. * intersection + self.smooth) / (preds.sum() + targets.sum() + self.smooth + self.epsilon)\n",
        "        return 1 - dice_score\n",
        "\n",
        "class DiceBCELoss(nn.Module):\n",
        "    def __init__(self, smooth=1e-6, epsilon=1e-8):\n",
        "        super(DiceBCELoss, self).__init__()\n",
        "        self.smooth = smooth\n",
        "        self.epsilon = epsilon\n",
        "        self.bce = nn.BCEWithLogitsLoss()\n",
        "\n",
        "    def forward(self, preds, targets):\n",
        "        preds = preds.view(-1)\n",
        "        targets = targets.view(-1)\n",
        "        intersection = (torch.sigmoid(preds) * targets).sum()\n",
        "        dice_loss = 1 - (2. * intersection + self.smooth) / (torch.sigmoid(preds).sum() + targets.sum() + self.smooth + self.epsilon)\n",
        "        bce_loss = self.bce(preds, targets)\n",
        "        return bce_loss + dice_loss"
      ]
    },
    {
      "cell_type": "markdown",
      "source": [
        "# 3. Test"
      ],
      "metadata": {
        "id": "CZZ3Gu-DD88X"
      }
    },
    {
      "cell_type": "code",
      "source": [
        "class UnetTest:\n",
        "    def calculate_metrics(self, y_true: torch.Tensor, y_pred: torch.Tensor) -> List[float]:\n",
        "        y_true = y_true.detach().cpu().numpy().astype(bool).reshape(-1)\n",
        "        y_pred = y_pred.detach().cpu().numpy().astype(bool).reshape(-1)\n",
        "\n",
        "        score_jaccard = jaccard_score(y_true, y_pred, zero_division=1)\n",
        "        score_f1 = f1_score(y_true, y_pred, zero_division=1)\n",
        "        score_recall = recall_score(y_true, y_pred, zero_division=1)\n",
        "        score_precision = precision_score(y_true, y_pred, zero_division=1)\n",
        "        score_acc = accuracy_score(y_true, y_pred)\n",
        "\n",
        "        return [score_jaccard, score_f1, score_recall, score_precision, score_acc]\n",
        "\n",
        "    def save_result(self, test_result_path: str, image: torch.Tensor, org_mask: torch.Tensor, predicted_mask: torch.Tensor, sample_id: int) -> None:\n",
        "        if not os.path.exists(test_result_path):\n",
        "            os.makedirs(test_result_path, exist_ok=True)\n",
        "\n",
        "        predicted_mask = (predicted_mask.detach().cpu().numpy().squeeze() > 0.5).astype(np.uint8) * 255\n",
        "        org_mask = (org_mask.detach().cpu().numpy().squeeze() > 0.5).astype(np.uint8) * 255\n",
        "        image = (image.detach().cpu().numpy().squeeze() * 255).astype(np.uint8)\n",
        "\n",
        "        h, w = image.shape\n",
        "        line = np.ones((h, 10), dtype=np.uint8) * 128\n",
        "        cat_images = np.concatenate([image, line, org_mask, line, predicted_mask], axis=1)\n",
        "\n",
        "        file_name = os.path.join(test_result_path, f\"sample_{sample_id}.png\")\n",
        "        success = cv2.imwrite(file_name, cat_images)\n",
        "\n",
        "        if success:\n",
        "            print(f\"✅ Saved: {file_name}\")\n",
        "        else:\n",
        "            print(f\"❌ Failed to save image: {file_name}\")\n",
        "\n",
        "    def test(self, model: torch.nn.Module, test_loader: torch.utils.data.DataLoader, test_result_path: str, device: torch.device) -> None:\n",
        "        print(torch.cuda.is_available())\n",
        "        print(device)\n",
        "        metrics_score = np.zeros(5)\n",
        "        time_taken = []\n",
        "        model.eval()\n",
        "\n",
        "        with torch.no_grad():\n",
        "            for pid, (x, y) in enumerate(test_loader):\n",
        "                x = x.to(device, dtype=torch.float32)\n",
        "                y = y.to(device, dtype=torch.float32)\n",
        "\n",
        "                start_time = time.time()\n",
        "                y_pred = torch.sigmoid(model(x))\n",
        "                total_time = time.time() - start_time\n",
        "                time_taken.append(total_time)\n",
        "\n",
        "                score = self.calculate_metrics(y, y_pred)\n",
        "                metrics_score += np.array(score)\n",
        "\n",
        "                for idx in range(x.size(0)):\n",
        "                    sample_id = pid * x.size(0) + idx\n",
        "                    self.save_result(test_result_path, x[idx], y[idx], y_pred[idx], sample_id)\n",
        "\n",
        "        num_samples = len(test_loader)\n",
        "        avg_metrics = metrics_score / num_samples\n",
        "        print(f\"Total Images in Test Set: {num_samples}\")\n",
        "        print(f\"Jaccard: {avg_metrics[0]:.4f} - F1: {avg_metrics[1]:.4f} - Recall: {avg_metrics[2]:.4f} - Precision: {avg_metrics[3]:.4f} - Acc: {avg_metrics[4]:.4f}\")\n",
        "\n",
        "        fps = 1 / np.mean(time_taken)\n",
        "        print(\"FPS:\", fps)"
      ],
      "metadata": {
        "id": "T4VsKIzmFGLP"
      },
      "execution_count": 6,
      "outputs": []
    },
    {
      "cell_type": "markdown",
      "source": [
        "# 4. Training"
      ],
      "metadata": {
        "id": "Fa8L5nD2EVP_"
      }
    },
    {
      "cell_type": "code",
      "source": [
        "class EarlyStopping:\n",
        "    def __init__(self, patience=10, min_delta=0.001):\n",
        "        self.patience = patience\n",
        "        self.min_delta = min_delta\n",
        "        self.best_loss = float('inf')\n",
        "        self.counter = 0\n",
        "\n",
        "    def __call__(self, val_loss):\n",
        "        if val_loss < self.best_loss - self.min_delta:\n",
        "            self.best_loss = val_loss\n",
        "            self.counter = 0\n",
        "        else:\n",
        "            self.counter += 1\n",
        "\n",
        "        if self.counter >= self.patience:\n",
        "            print(f\"⛔ Early stopping triggered after {self.patience} epochs without improvement!\")\n",
        "            return True\n",
        "        return False\n",
        "\n",
        "class UnetTrain:\n",
        "    def seeding(self, seed):\n",
        "        random.seed(seed)\n",
        "        np.random.seed(seed)\n",
        "        torch.manual_seed(seed)\n",
        "        torch.cuda.manual_seed(seed)\n",
        "        torch.backends.cudnn.deterministic = True\n",
        "\n",
        "    def epoch_time(self, start_time, end_time):\n",
        "        elapsed_time = end_time - start_time\n",
        "        elapsed_mins = int(elapsed_time / 60)\n",
        "        elapsed_secs = int(elapsed_time - (elapsed_mins * 60))\n",
        "        return elapsed_mins, elapsed_secs\n",
        "\n",
        "    def train(self, model, loader, optimizer, loss_fn, device):\n",
        "        print(torch.cuda.is_available())\n",
        "        print(device)\n",
        "        scaler = GradScaler()\n",
        "        epoch_loss = 0.0\n",
        "        model.train()\n",
        "        for x, y in loader:\n",
        "            x = x.to(device, dtype=torch.float32)\n",
        "            y = y.to(device, dtype=torch.float32)\n",
        "            optimizer.zero_grad()\n",
        "            with autocast():\n",
        "                y_pred = model(x)\n",
        "                loss = loss_fn(y_pred, y)\n",
        "\n",
        "            scaler.scale(loss).backward()\n",
        "            scaler.step(optimizer)\n",
        "            scaler.update()\n",
        "            epoch_loss += loss.item()\n",
        "\n",
        "        epoch_loss = epoch_loss / len(loader)\n",
        "        return epoch_loss\n",
        "\n",
        "    def evaluate(self, model, loader, loss_fn, device):\n",
        "        print(torch.cuda.is_available())\n",
        "        print(device)\n",
        "        epoch_loss = 0.0\n",
        "        model.eval()\n",
        "        with torch.no_grad():\n",
        "            for x, y in loader:\n",
        "                x = x.to(device, dtype=torch.float32)\n",
        "                y = y.to(device, dtype=torch.float32)\n",
        "                y_pred = model(x)\n",
        "                loss = loss_fn(y_pred, y)\n",
        "                epoch_loss += loss.item()\n",
        "\n",
        "        return epoch_loss / len(loader)\n",
        "\n",
        "    def execute(self, num_epochs, lr, train_loader, valid_loader, model_file, loss_result_path, device):\n",
        "        model = UNet(in_channels=1, out_channels=1, dropout=0.3).to(device)\n",
        "        optimizer = torch.optim.AdamW(model.parameters(), lr, weight_decay=1e-5)\n",
        "        scheduler = lr_scheduler.CosineAnnealingWarmRestarts(optimizer, T_0=10, T_mult=2)\n",
        "        loss_fn = DiceBCELoss()\n",
        "\n",
        "        early_stopping = EarlyStopping(patience=10, min_delta=0.001)\n",
        "        best_valid_loss = float(\"inf\")\n",
        "        results = {\"train_loss\": [], \"valid_loss\": []}\n",
        "\n",
        "        for epoch in tqdm(range(num_epochs)):\n",
        "            start_time = time.time()\n",
        "\n",
        "            train_loss = self.train(model, train_loader, optimizer, loss_fn, device)\n",
        "            valid_loss = self.evaluate(model, valid_loader, loss_fn, device)\n",
        "\n",
        "            if valid_loss < best_valid_loss:\n",
        "                print(f\"✅ Valid loss improved from {best_valid_loss:.4f} to {valid_loss:.4f}. Saving checkpoint.\")\n",
        "                best_valid_loss = valid_loss\n",
        "                torch.save({\n",
        "                    'epoch': epoch,\n",
        "                    'model_state_dict': model.state_dict(),\n",
        "                    'optimizer_state_dict': optimizer.state_dict(),\n",
        "                    'loss': best_valid_loss,\n",
        "                }, model_file)\n",
        "\n",
        "            end_time = time.time()\n",
        "            epoch_mins, epoch_secs = self.epoch_time(start_time, end_time)\n",
        "\n",
        "            results[\"train_loss\"].append(train_loss)\n",
        "            results[\"valid_loss\"].append(valid_loss)\n",
        "            print(f\"Epoch {epoch+1}: Time: {epoch_mins}m {epoch_secs}s, Train Loss: {train_loss:.3f}, Val Loss: {valid_loss:.3f}\")\n",
        "\n",
        "            if early_stopping(valid_loss):\n",
        "                print(\"🛑 Stopping training early due to no improvement.\")\n",
        "                break\n",
        "\n",
        "        with open(loss_result_path, \"w\", newline=\"\") as file:\n",
        "            writer = csv.writer(file)\n",
        "            for key, value in results.items():\n",
        "                writer.writerow([key, value])\n"
      ],
      "metadata": {
        "id": "281KQS_iEIDX"
      },
      "execution_count": 7,
      "outputs": []
    },
    {
      "cell_type": "code",
      "source": [
        "def main(): #put main part of code in a function.\n",
        "    target_dir = \"/content/drive/MyDrive/PhDwork\"\n",
        "    os.chdir(target_dir)\n",
        "    print(\"Current Directory:\", os.getcwd())\n",
        "\n",
        "    ut = UnetTrain()\n",
        "    ut.seeding(42)\n",
        "\n",
        "    batch_size = 8\n",
        "    num_epochs = 1\n",
        "    lr = 1e-4\n",
        "\n",
        "    output_dir = os.path.join(\".\", \"Segmentation\", \"files\")\n",
        "    os.makedirs(output_dir, exist_ok=True)\n",
        "    loss_result_file = os.path.join(output_dir, \"results.csv\")\n",
        "    model_file = os.path.join(output_dir, \"checkpoint.pth\")\n",
        "    test_result_path = os.path.join(output_dir, \"results\")\n",
        "\n",
        "    device = \"cuda\" if torch.cuda.is_available() else \"cpu\"\n",
        "    print(torch.cuda.is_available())\n",
        "\n",
        "    DATASET_DIR = \"/content/drive/MyDrive/PhDwork/datasets\"\n",
        "    os.makedirs(DATASET_DIR, exist_ok=True)\n",
        "    train_hdf5_path = os.path.join(DATASET_DIR, \"train_dataset.hdf5\")\n",
        "    valid_hdf5_path = os.path.join(DATASET_DIR, \"valid_dataset.hdf5\")\n",
        "    test_hdf5_path = os.path.join(DATASET_DIR, \"test_dataset.hdf5\")\n",
        "\n",
        "    print(\"Loading Training Data...\")\n",
        "    train_dataset = HDF5Dataset(train_hdf5_path)\n",
        "    print(\"Loading Validation Data...\")\n",
        "    valid_dataset = HDF5Dataset(valid_hdf5_path)\n",
        "    print(\"Loading Test Data...\")\n",
        "    test_dataset = HDF5Dataset(test_hdf5_path)\n",
        "\n",
        "    num_workers = 0\n",
        "    train_loader = DataLoader(train_dataset, batch_size=batch_size, shuffle=True, num_workers=num_workers, pin_memory=True)\n",
        "    valid_loader = DataLoader(valid_dataset, batch_size=batch_size, shuffle=False, num_workers=num_workers, pin_memory=True)\n",
        "    test_loader = DataLoader(test_dataset, batch_size=batch_size, shuffle=False, num_workers=num_workers, pin_memory=True)\n",
        "\n",
        "    print(f\"Train: {len(train_dataset)}, Valid: {len(valid_dataset)}, Test: {len(test_dataset)}\")\n",
        "\n",
        "    ut.execute(num_epochs, lr, train_loader, valid_loader, model_file, loss_result_file, device)\n",
        "\n",
        "    model = UNet(1, 1).to(device)\n",
        "    checkpoint = torch.load(model_file, map_location=device)\n",
        "    model.load_state_dict(checkpoint['model_state_dict'])\n",
        "\n",
        "    utest = UnetTest()\n",
        "    utest.test(model, test_loader, test_result_path, device)\n",
        "\n",
        "if __name__ == \"__main__\":\n",
        "    mp.set_start_method('spawn') #only called once, at the very beginning of main.\n",
        "    main()"
      ],
      "metadata": {
        "colab": {
          "base_uri": "https://localhost:8080/"
        },
        "id": "CwcTHPshqu0O",
        "outputId": "e22cec85-13b6-4da9-beb1-353b7fd0faae"
      },
      "execution_count": 8,
      "outputs": [
        {
          "output_type": "stream",
          "name": "stdout",
          "text": [
            "Current Directory: /content/drive/MyDrive/PhDwork\n",
            "True\n",
            "Loading Training Data...\n",
            "Loading Validation Data...\n",
            "Loading Test Data...\n",
            "Train: 100, Valid: 134, Test: 107\n"
          ]
        },
        {
          "output_type": "stream",
          "name": "stderr",
          "text": [
            "\r  0%|          | 0/1 [00:00<?, ?it/s]<ipython-input-7-140bb90e309d>:37: FutureWarning: `torch.cuda.amp.GradScaler(args...)` is deprecated. Please use `torch.amp.GradScaler('cuda', args...)` instead.\n",
            "  scaler = GradScaler()\n"
          ]
        },
        {
          "output_type": "stream",
          "name": "stdout",
          "text": [
            "True\n",
            "cuda\n"
          ]
        },
        {
          "output_type": "stream",
          "name": "stderr",
          "text": [
            "<ipython-input-7-140bb90e309d>:44: FutureWarning: `torch.cuda.amp.autocast(args...)` is deprecated. Please use `torch.amp.autocast('cuda', args...)` instead.\n",
            "  with autocast():\n"
          ]
        },
        {
          "output_type": "stream",
          "name": "stdout",
          "text": [
            "True\n",
            "cuda\n",
            "✅ Valid loss improved from inf to 1.7299. Saving checkpoint.\n"
          ]
        },
        {
          "output_type": "stream",
          "name": "stderr",
          "text": [
            "100%|██████████| 1/1 [00:46<00:00, 46.03s/it]"
          ]
        },
        {
          "output_type": "stream",
          "name": "stdout",
          "text": [
            "Epoch 1: Time: 0m 46s, Train Loss: 1.672, Val Loss: 1.730\n"
          ]
        },
        {
          "output_type": "stream",
          "name": "stderr",
          "text": [
            "\n"
          ]
        },
        {
          "output_type": "stream",
          "name": "stdout",
          "text": [
            "True\n",
            "cuda\n",
            "✅ Saved: ./Segmentation/files/results/sample_0.png\n",
            "✅ Saved: ./Segmentation/files/results/sample_1.png\n",
            "✅ Saved: ./Segmentation/files/results/sample_2.png\n",
            "✅ Saved: ./Segmentation/files/results/sample_3.png\n",
            "✅ Saved: ./Segmentation/files/results/sample_4.png\n",
            "✅ Saved: ./Segmentation/files/results/sample_5.png\n",
            "✅ Saved: ./Segmentation/files/results/sample_6.png\n",
            "✅ Saved: ./Segmentation/files/results/sample_7.png\n",
            "✅ Saved: ./Segmentation/files/results/sample_8.png\n",
            "✅ Saved: ./Segmentation/files/results/sample_9.png\n",
            "✅ Saved: ./Segmentation/files/results/sample_10.png\n",
            "✅ Saved: ./Segmentation/files/results/sample_11.png\n",
            "✅ Saved: ./Segmentation/files/results/sample_12.png\n",
            "✅ Saved: ./Segmentation/files/results/sample_13.png\n",
            "✅ Saved: ./Segmentation/files/results/sample_14.png\n",
            "✅ Saved: ./Segmentation/files/results/sample_15.png\n",
            "✅ Saved: ./Segmentation/files/results/sample_16.png\n",
            "✅ Saved: ./Segmentation/files/results/sample_17.png\n",
            "✅ Saved: ./Segmentation/files/results/sample_18.png\n",
            "✅ Saved: ./Segmentation/files/results/sample_19.png\n",
            "✅ Saved: ./Segmentation/files/results/sample_20.png\n",
            "✅ Saved: ./Segmentation/files/results/sample_21.png\n",
            "✅ Saved: ./Segmentation/files/results/sample_22.png\n",
            "✅ Saved: ./Segmentation/files/results/sample_23.png\n",
            "✅ Saved: ./Segmentation/files/results/sample_24.png\n",
            "✅ Saved: ./Segmentation/files/results/sample_25.png\n",
            "✅ Saved: ./Segmentation/files/results/sample_26.png\n",
            "✅ Saved: ./Segmentation/files/results/sample_27.png\n",
            "✅ Saved: ./Segmentation/files/results/sample_28.png\n",
            "✅ Saved: ./Segmentation/files/results/sample_29.png\n",
            "✅ Saved: ./Segmentation/files/results/sample_30.png\n",
            "✅ Saved: ./Segmentation/files/results/sample_31.png\n",
            "✅ Saved: ./Segmentation/files/results/sample_32.png\n",
            "✅ Saved: ./Segmentation/files/results/sample_33.png\n",
            "✅ Saved: ./Segmentation/files/results/sample_34.png\n",
            "✅ Saved: ./Segmentation/files/results/sample_35.png\n",
            "✅ Saved: ./Segmentation/files/results/sample_36.png\n",
            "✅ Saved: ./Segmentation/files/results/sample_37.png\n",
            "✅ Saved: ./Segmentation/files/results/sample_38.png\n",
            "✅ Saved: ./Segmentation/files/results/sample_39.png\n",
            "✅ Saved: ./Segmentation/files/results/sample_40.png\n",
            "✅ Saved: ./Segmentation/files/results/sample_41.png\n",
            "✅ Saved: ./Segmentation/files/results/sample_42.png\n",
            "✅ Saved: ./Segmentation/files/results/sample_43.png\n",
            "✅ Saved: ./Segmentation/files/results/sample_44.png\n",
            "✅ Saved: ./Segmentation/files/results/sample_45.png\n",
            "✅ Saved: ./Segmentation/files/results/sample_46.png\n",
            "✅ Saved: ./Segmentation/files/results/sample_47.png\n",
            "✅ Saved: ./Segmentation/files/results/sample_48.png\n",
            "✅ Saved: ./Segmentation/files/results/sample_49.png\n",
            "✅ Saved: ./Segmentation/files/results/sample_50.png\n",
            "✅ Saved: ./Segmentation/files/results/sample_51.png\n",
            "✅ Saved: ./Segmentation/files/results/sample_52.png\n",
            "✅ Saved: ./Segmentation/files/results/sample_53.png\n",
            "✅ Saved: ./Segmentation/files/results/sample_54.png\n",
            "✅ Saved: ./Segmentation/files/results/sample_55.png\n",
            "✅ Saved: ./Segmentation/files/results/sample_56.png\n",
            "✅ Saved: ./Segmentation/files/results/sample_57.png\n",
            "✅ Saved: ./Segmentation/files/results/sample_58.png\n",
            "✅ Saved: ./Segmentation/files/results/sample_59.png\n",
            "✅ Saved: ./Segmentation/files/results/sample_60.png\n",
            "✅ Saved: ./Segmentation/files/results/sample_61.png\n",
            "✅ Saved: ./Segmentation/files/results/sample_62.png\n",
            "✅ Saved: ./Segmentation/files/results/sample_63.png\n",
            "✅ Saved: ./Segmentation/files/results/sample_64.png\n",
            "✅ Saved: ./Segmentation/files/results/sample_65.png\n",
            "✅ Saved: ./Segmentation/files/results/sample_66.png\n",
            "✅ Saved: ./Segmentation/files/results/sample_67.png\n",
            "✅ Saved: ./Segmentation/files/results/sample_68.png\n",
            "✅ Saved: ./Segmentation/files/results/sample_69.png\n",
            "✅ Saved: ./Segmentation/files/results/sample_70.png\n",
            "✅ Saved: ./Segmentation/files/results/sample_71.png\n",
            "✅ Saved: ./Segmentation/files/results/sample_72.png\n",
            "✅ Saved: ./Segmentation/files/results/sample_73.png\n",
            "✅ Saved: ./Segmentation/files/results/sample_74.png\n",
            "✅ Saved: ./Segmentation/files/results/sample_75.png\n",
            "✅ Saved: ./Segmentation/files/results/sample_76.png\n",
            "✅ Saved: ./Segmentation/files/results/sample_77.png\n",
            "✅ Saved: ./Segmentation/files/results/sample_78.png\n",
            "✅ Saved: ./Segmentation/files/results/sample_79.png\n",
            "✅ Saved: ./Segmentation/files/results/sample_80.png\n",
            "✅ Saved: ./Segmentation/files/results/sample_81.png\n",
            "✅ Saved: ./Segmentation/files/results/sample_82.png\n",
            "✅ Saved: ./Segmentation/files/results/sample_83.png\n",
            "✅ Saved: ./Segmentation/files/results/sample_84.png\n",
            "✅ Saved: ./Segmentation/files/results/sample_85.png\n",
            "✅ Saved: ./Segmentation/files/results/sample_86.png\n",
            "✅ Saved: ./Segmentation/files/results/sample_87.png\n",
            "✅ Saved: ./Segmentation/files/results/sample_88.png\n",
            "✅ Saved: ./Segmentation/files/results/sample_89.png\n",
            "✅ Saved: ./Segmentation/files/results/sample_90.png\n",
            "✅ Saved: ./Segmentation/files/results/sample_91.png\n",
            "✅ Saved: ./Segmentation/files/results/sample_92.png\n",
            "✅ Saved: ./Segmentation/files/results/sample_93.png\n",
            "✅ Saved: ./Segmentation/files/results/sample_94.png\n",
            "✅ Saved: ./Segmentation/files/results/sample_95.png\n",
            "✅ Saved: ./Segmentation/files/results/sample_96.png\n",
            "✅ Saved: ./Segmentation/files/results/sample_97.png\n",
            "✅ Saved: ./Segmentation/files/results/sample_98.png\n",
            "✅ Saved: ./Segmentation/files/results/sample_99.png\n",
            "✅ Saved: ./Segmentation/files/results/sample_100.png\n",
            "✅ Saved: ./Segmentation/files/results/sample_101.png\n",
            "✅ Saved: ./Segmentation/files/results/sample_102.png\n",
            "✅ Saved: ./Segmentation/files/results/sample_103.png\n",
            "✅ Saved: ./Segmentation/files/results/sample_39.png\n",
            "✅ Saved: ./Segmentation/files/results/sample_40.png\n",
            "✅ Saved: ./Segmentation/files/results/sample_41.png\n",
            "Total Images in Test Set: 14\n",
            "Jaccard: 0.0004 - F1: 0.0008 - Recall: 1.0000 - Precision: 0.0004 - Acc: 0.0004\n",
            "FPS: 89.00393331403306\n"
          ]
        }
      ]
    },
    {
      "cell_type": "code",
      "source": [],
      "metadata": {
        "id": "xKImglO4-twL"
      },
      "execution_count": null,
      "outputs": []
    }
  ]
}