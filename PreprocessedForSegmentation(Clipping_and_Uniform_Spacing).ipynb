{
  "nbformat": 4,
  "nbformat_minor": 0,
  "metadata": {
    "colab": {
      "provenance": [],
      "machine_shape": "hm",
      "authorship_tag": "ABX9TyO6scvDHF2vo91hy0CD6i+b",
      "include_colab_link": true
    },
    "kernelspec": {
      "name": "python3",
      "display_name": "Python 3"
    },
    "language_info": {
      "name": "python"
    }
  },
  "cells": [
    {
      "cell_type": "markdown",
      "metadata": {
        "id": "view-in-github",
        "colab_type": "text"
      },
      "source": [
        "<a href=\"https://colab.research.google.com/github/sajidcsecu/radioGenomic/blob/main/PreprocessedForSegmentation(Clipping_and_Uniform_Spacing).ipynb\" target=\"_parent\"><img src=\"https://colab.research.google.com/assets/colab-badge.svg\" alt=\"Open In Colab\"/></a>"
      ]
    },
    {
      "cell_type": "markdown",
      "source": [
        "Importing necessary packages"
      ],
      "metadata": {
        "id": "Cgb6jNjv9Ib5"
      }
    },
    {
      "cell_type": "code",
      "source": [
        "!pip install SimpleITK"
      ],
      "metadata": {
        "colab": {
          "base_uri": "https://localhost:8080/"
        },
        "id": "EvgzoibR9kfR",
        "outputId": "3befd4e7-aeae-4c2c-a078-4d5f3ad4b48d"
      },
      "execution_count": 4,
      "outputs": [
        {
          "output_type": "stream",
          "name": "stdout",
          "text": [
            "Requirement already satisfied: SimpleITK in /usr/local/lib/python3.11/dist-packages (2.5.0)\n"
          ]
        }
      ]
    },
    {
      "cell_type": "code",
      "source": [
        "import os\n",
        "import h5py\n",
        "import torch\n",
        "import numpy as np\n",
        "import SimpleITK as sitk\n",
        "from torch.utils.data import Dataset, DataLoader\n",
        "from tqdm import tqdm\n",
        "import multiprocessing as mp\n",
        "from google.colab import drive\n",
        "import matplotlib.pyplot as plt\n",
        "from pathlib import Path\n",
        "from skimage import measure\n",
        "from typing import Optional\n",
        "import os"
      ],
      "metadata": {
        "id": "fk4ch0jp9HBC"
      },
      "execution_count": 5,
      "outputs": []
    },
    {
      "cell_type": "code",
      "source": [
        "class HDF5Preprocessor:\n",
        "    def __init__(self, input_path, output_path, spacing=(1.0, 1.0, 1.0), clip_range=(-1350, 150), device='cuda', max_patients=None):\n",
        "        self.input_path = input_path\n",
        "        self.output_path = output_path\n",
        "        self.spacing = spacing\n",
        "        self.clip_range = clip_range\n",
        "        self.device = torch.device(device if torch.cuda.is_available() else 'cpu')\n",
        "        self.max_patients = max_patients  # for debugging or small runs\n",
        "\n",
        "    def run(self):\n",
        "        os.makedirs(os.path.dirname(self.output_path), exist_ok=True)\n",
        "\n",
        "        with h5py.File(self.input_path, 'r') as in_file, h5py.File(self.output_path, 'w') as out_file:\n",
        "            patient_ids = list(in_file.keys())\n",
        "            print(f\"🔍 Found {len(patient_ids)} patients in {os.path.basename(self.input_path)}.\")\n",
        "\n",
        "            if not patient_ids:\n",
        "                raise ValueError(\"❌ No patient groups found in input HDF5 file.\")\n",
        "\n",
        "            for i, pid in enumerate(tqdm(patient_ids, desc=f\"Processing {os.path.basename(self.input_path)}\")):\n",
        "                if self.max_patients is not None and i >= self.max_patients:\n",
        "                    break\n",
        "                try:\n",
        "                    in_group = in_file[pid]\n",
        "                    out_group = out_file.create_group(pid)\n",
        "                    self.process_patient(in_group, out_group)\n",
        "                except Exception as e:\n",
        "                    print(f\"❌ [ERROR] Failed to process {pid}: {e}\")\n",
        "\n",
        "    def process_patient(self, in_group, out_group):\n",
        "        ct_np = in_group['ct'][:]\n",
        "        mask_np = in_group['mask'][:]\n",
        "        print(f\"📄 {in_group.name} — CT shape: {ct_np.shape}, Mask shape: {mask_np.shape}\")\n",
        "\n",
        "        # Validate required metadata\n",
        "        required_attrs = [\n",
        "            'ct_origin', 'ct_spacing', 'ct_direction',\n",
        "            'mask_origin', 'mask_spacing', 'mask_direction', 'shape'\n",
        "        ]\n",
        "        for attr in required_attrs:\n",
        "            if attr not in in_group.attrs:\n",
        "                raise KeyError(f\"Missing required attribute: {attr}\")\n",
        "\n",
        "        # Convert to SimpleITK images\n",
        "        sitk_ct = sitk.GetImageFromArray(ct_np)\n",
        "        sitk_mask = sitk.GetImageFromArray(mask_np.astype(np.uint8))\n",
        "\n",
        "        sitk_ct.SetOrigin(in_group.attrs['ct_origin'])\n",
        "        sitk_ct.SetSpacing(in_group.attrs['ct_spacing'])\n",
        "        sitk_ct.SetDirection(in_group.attrs['ct_direction'])\n",
        "\n",
        "        sitk_mask.SetOrigin(in_group.attrs['mask_origin'])\n",
        "        sitk_mask.SetSpacing(in_group.attrs['mask_spacing'])\n",
        "        sitk_mask.SetDirection(in_group.attrs['mask_direction'])\n",
        "\n",
        "        # Resample\n",
        "        resampled_ct, resampled_mask = self.resample_image_and_mask(sitk_ct, sitk_mask)\n",
        "\n",
        "        # Convert back to NumPy arrays\n",
        "        res_ct_np = sitk.GetArrayFromImage(resampled_ct)\n",
        "        res_mask_np = sitk.GetArrayFromImage(resampled_mask)\n",
        "\n",
        "        # Clip CT intensities\n",
        "        res_ct_np = np.clip(res_ct_np, *self.clip_range).astype(np.float32)\n",
        "\n",
        "        # Compute and store min/max of clipped CT\n",
        "        ct_min = float(res_ct_np.min())\n",
        "        ct_max = float(res_ct_np.max())\n",
        "\n",
        "        # Save to HDF5\n",
        "        out_group.create_dataset('ct', data=res_ct_np, compression='gzip', dtype=np.float32)\n",
        "        out_group.create_dataset('mask', data=res_mask_np, compression='gzip', dtype=np.uint8)\n",
        "\n",
        "        # Metadata\n",
        "        out_group.attrs['shape'] = res_ct_np.shape\n",
        "        out_group.attrs['ct_origin'] = resampled_ct.GetOrigin()\n",
        "        out_group.attrs['ct_spacing'] = resampled_ct.GetSpacing()\n",
        "        out_group.attrs['ct_direction'] = resampled_ct.GetDirection()\n",
        "        out_group.attrs['mask_origin'] = resampled_mask.GetOrigin()\n",
        "        out_group.attrs['mask_spacing'] = resampled_mask.GetSpacing()\n",
        "        out_group.attrs['mask_direction'] = resampled_mask.GetDirection()\n",
        "        out_group.attrs['ct_min'] = ct_min\n",
        "        out_group.attrs['ct_max'] = ct_max\n",
        "\n",
        "        print(f\"✅ Saved {in_group.name} with shape {res_ct_np.shape}, min: {ct_min:.1f}, max: {ct_max:.1f}\")\n",
        "\n",
        "    def resample_image_and_mask(self, image, mask, output_size_xy=(512, 512)):\n",
        "        original_spacing = image.GetSpacing()\n",
        "        original_size = image.GetSize()\n",
        "\n",
        "        spacing_x, spacing_y, spacing_z = self.spacing\n",
        "        out_size_x, out_size_y = output_size_xy\n",
        "\n",
        "        # Compute output depth (z-dimension)\n",
        "        physical_depth = original_size[2] * original_spacing[2]\n",
        "        out_size_z = int(round(physical_depth / spacing_z))\n",
        "        new_size = [out_size_x, out_size_y, out_size_z]\n",
        "\n",
        "        # Configure resampler\n",
        "        resampler = sitk.ResampleImageFilter()\n",
        "        resampler.SetOutputSpacing(self.spacing)\n",
        "        resampler.SetSize(new_size)\n",
        "        resampler.SetOutputOrigin(image.GetOrigin())\n",
        "        resampler.SetOutputDirection(image.GetDirection())\n",
        "\n",
        "        # Interpolate CT with B-Spline, mask with NearestNeighbor\n",
        "        resampler.SetInterpolator(sitk.sitkBSpline)\n",
        "        resampled_image = resampler.Execute(image)\n",
        "\n",
        "        resampler.SetInterpolator(sitk.sitkNearestNeighbor)\n",
        "        resampled_mask = resampler.Execute(mask)\n",
        "\n",
        "        return resampled_image, resampled_mask\n"
      ],
      "metadata": {
        "id": "nixiyZGaujxT"
      },
      "execution_count": 6,
      "outputs": []
    },
    {
      "cell_type": "markdown",
      "source": [
        "2. Mount Drive"
      ],
      "metadata": {
        "id": "HkpvW618Bk7u"
      }
    },
    {
      "cell_type": "code",
      "source": [
        "drive.mount('/content/drive')"
      ],
      "metadata": {
        "colab": {
          "base_uri": "https://localhost:8080/"
        },
        "id": "R2T8TvcaBoXW",
        "outputId": "0098ded1-6157-4fbe-e4e9-df41e7048066"
      },
      "execution_count": 7,
      "outputs": [
        {
          "output_type": "stream",
          "name": "stdout",
          "text": [
            "Mounted at /content/drive\n"
          ]
        }
      ]
    },
    {
      "cell_type": "markdown",
      "source": [
        "3. Main Block"
      ],
      "metadata": {
        "id": "V3WnogQCBLLw"
      }
    },
    {
      "cell_type": "code",
      "source": [
        "if __name__ == \"__main__\":\n",
        "    base_input_dir = \"/content/drive/MyDrive/PhDwork/Segmentation/datasets/Datasets_OriginalCT_With_Empty_NonEmpty_slices_In_Train\"\n",
        "    base_output_dir = \"/content/drive/MyDrive/PhDwork/Segmentation/datasets/Datasets_PreprocessedCT_clipping_uniformSpacing_With_Empty_NonEmpty_slices_In_Train\"\n",
        "\n",
        "    splits = ['train_dataset.hdf5', 'valid_dataset.hdf5', 'test_dataset.hdf5']\n",
        "\n",
        "    for split in splits:\n",
        "        input_file = os.path.join(base_input_dir, split)\n",
        "        output_file = os.path.join(base_output_dir, split)\n",
        "\n",
        "        print(f\"\\n🚀 Starting preprocessing: {split}\")\n",
        "        preprocessor = HDF5Preprocessor(input_path=input_file, output_path=output_file)\n",
        "        preprocessor.run()\n",
        "        print(f\"📁 Finished saving preprocessed data to: {output_file}\")"
      ],
      "metadata": {
        "colab": {
          "base_uri": "https://localhost:8080/"
        },
        "id": "tUTCEpHJF3Tv",
        "outputId": "0f905b6a-c859-4f29-acd5-a5e9c08d4dcd"
      },
      "execution_count": 8,
      "outputs": [
        {
          "output_type": "stream",
          "name": "stdout",
          "text": [
            "\n",
            "🚀 Starting preprocessing: train_dataset.hdf5\n",
            "🔍 Found 340 patients in train_dataset.hdf5.\n"
          ]
        },
        {
          "output_type": "stream",
          "name": "stderr",
          "text": [
            "\rProcessing train_dataset.hdf5:   0%|          | 0/340 [00:00<?, ?it/s]"
          ]
        },
        {
          "output_type": "stream",
          "name": "stdout",
          "text": [
            "📄 /LUNG1-002 — CT shape: (111, 512, 512), Mask shape: (111, 512, 512)\n"
          ]
        },
        {
          "output_type": "stream",
          "name": "stderr",
          "text": [
            "\rProcessing train_dataset.hdf5:   0%|          | 1/340 [00:32<3:02:04, 32.23s/it]"
          ]
        },
        {
          "output_type": "stream",
          "name": "stdout",
          "text": [
            "✅ Saved /LUNG1-002 with shape (333, 512, 512), min: -1350.0, max: 150.0\n",
            "📄 /LUNG1-003 — CT shape: (107, 512, 512), Mask shape: (107, 512, 512)\n"
          ]
        },
        {
          "output_type": "stream",
          "name": "stderr",
          "text": [
            "\rProcessing train_dataset.hdf5:   1%|          | 2/340 [01:02<2:55:36, 31.17s/it]"
          ]
        },
        {
          "output_type": "stream",
          "name": "stdout",
          "text": [
            "✅ Saved /LUNG1-003 with shape (321, 512, 512), min: -1350.0, max: 150.0\n",
            "📄 /LUNG1-004 — CT shape: (114, 512, 512), Mask shape: (114, 512, 512)\n"
          ]
        },
        {
          "output_type": "stream",
          "name": "stderr",
          "text": [
            "\rProcessing train_dataset.hdf5:   1%|          | 3/340 [01:34<2:55:43, 31.29s/it]"
          ]
        },
        {
          "output_type": "stream",
          "name": "stdout",
          "text": [
            "✅ Saved /LUNG1-004 with shape (342, 512, 512), min: -1330.6, max: 150.0\n",
            "📄 /LUNG1-005 — CT shape: (91, 512, 512), Mask shape: (91, 512, 512)\n"
          ]
        },
        {
          "output_type": "stream",
          "name": "stderr",
          "text": [
            "\rProcessing train_dataset.hdf5:   1%|          | 4/340 [02:01<2:46:56, 29.81s/it]"
          ]
        },
        {
          "output_type": "stream",
          "name": "stdout",
          "text": [
            "✅ Saved /LUNG1-005 with shape (273, 512, 512), min: -1350.0, max: 150.0\n",
            "📄 /LUNG1-006 — CT shape: (114, 512, 512), Mask shape: (114, 512, 512)\n"
          ]
        },
        {
          "output_type": "stream",
          "name": "stderr",
          "text": [
            "\rProcessing train_dataset.hdf5:   1%|▏         | 5/340 [02:33<2:49:48, 30.41s/it]"
          ]
        },
        {
          "output_type": "stream",
          "name": "stdout",
          "text": [
            "✅ Saved /LUNG1-006 with shape (342, 512, 512), min: -1350.0, max: 150.0\n",
            "📄 /LUNG1-007 — CT shape: (129, 512, 512), Mask shape: (129, 512, 512)\n"
          ]
        },
        {
          "output_type": "stream",
          "name": "stderr",
          "text": [
            "\rProcessing train_dataset.hdf5:   2%|▏         | 6/340 [03:10<3:02:34, 32.80s/it]"
          ]
        },
        {
          "output_type": "stream",
          "name": "stdout",
          "text": [
            "✅ Saved /LUNG1-007 with shape (387, 512, 512), min: -1350.0, max: 150.0\n",
            "📄 /LUNG1-008 — CT shape: (114, 512, 512), Mask shape: (114, 512, 512)\n"
          ]
        },
        {
          "output_type": "stream",
          "name": "stderr",
          "text": [
            "\rProcessing train_dataset.hdf5:   2%|▏         | 7/340 [03:43<3:02:43, 32.92s/it]"
          ]
        },
        {
          "output_type": "stream",
          "name": "stdout",
          "text": [
            "✅ Saved /LUNG1-008 with shape (342, 512, 512), min: -1350.0, max: 150.0\n",
            "📄 /LUNG1-009 — CT shape: (105, 512, 512), Mask shape: (105, 512, 512)\n"
          ]
        },
        {
          "output_type": "stream",
          "name": "stderr",
          "text": [
            "\rProcessing train_dataset.hdf5:   2%|▏         | 8/340 [04:12<2:54:53, 31.61s/it]"
          ]
        },
        {
          "output_type": "stream",
          "name": "stdout",
          "text": [
            "✅ Saved /LUNG1-009 with shape (315, 512, 512), min: -1350.0, max: 150.0\n",
            "📄 /LUNG1-011 — CT shape: (88, 512, 512), Mask shape: (88, 512, 512)\n"
          ]
        },
        {
          "output_type": "stream",
          "name": "stderr",
          "text": [
            "\rProcessing train_dataset.hdf5:   3%|▎         | 9/340 [04:36<2:41:37, 29.30s/it]"
          ]
        },
        {
          "output_type": "stream",
          "name": "stdout",
          "text": [
            "✅ Saved /LUNG1-011 with shape (264, 512, 512), min: -1296.7, max: 150.0\n",
            "📄 /LUNG1-012 — CT shape: (109, 512, 512), Mask shape: (109, 512, 512)\n"
          ]
        },
        {
          "output_type": "stream",
          "name": "stderr",
          "text": [
            "\rProcessing train_dataset.hdf5:   3%|▎         | 10/340 [05:09<2:46:19, 30.24s/it]"
          ]
        },
        {
          "output_type": "stream",
          "name": "stdout",
          "text": [
            "✅ Saved /LUNG1-012 with shape (327, 512, 512), min: -1350.0, max: 150.0\n",
            "📄 /LUNG1-013 — CT shape: (134, 512, 512), Mask shape: (134, 512, 512)\n"
          ]
        },
        {
          "output_type": "stream",
          "name": "stderr",
          "text": [
            "\rProcessing train_dataset.hdf5:   3%|▎         | 11/340 [05:45<2:56:38, 32.21s/it]"
          ]
        },
        {
          "output_type": "stream",
          "name": "stdout",
          "text": [
            "✅ Saved /LUNG1-013 with shape (402, 512, 512), min: -1294.0, max: 150.0\n",
            "📄 /LUNG1-014 — CT shape: (87, 512, 512), Mask shape: (87, 512, 512)\n"
          ]
        },
        {
          "output_type": "stream",
          "name": "stderr",
          "text": [
            "\rProcessing train_dataset.hdf5:   4%|▎         | 12/340 [06:15<2:51:58, 31.46s/it]"
          ]
        },
        {
          "output_type": "stream",
          "name": "stdout",
          "text": [
            "✅ Saved /LUNG1-014 with shape (310, 512, 512), min: -1350.0, max: 150.0\n",
            "📄 /LUNG1-015 — CT shape: (117, 512, 512), Mask shape: (117, 512, 512)\n"
          ]
        },
        {
          "output_type": "stream",
          "name": "stderr",
          "text": [
            "\rProcessing train_dataset.hdf5:   4%|▍         | 13/340 [06:45<2:48:22, 30.89s/it]"
          ]
        },
        {
          "output_type": "stream",
          "name": "stdout",
          "text": [
            "✅ Saved /LUNG1-015 with shape (351, 512, 512), min: -1274.1, max: 150.0\n",
            "📄 /LUNG1-016 — CT shape: (82, 512, 512), Mask shape: (82, 512, 512)\n"
          ]
        },
        {
          "output_type": "stream",
          "name": "stderr",
          "text": [
            "\rProcessing train_dataset.hdf5:   4%|▍         | 14/340 [07:07<2:33:43, 28.29s/it]"
          ]
        },
        {
          "output_type": "stream",
          "name": "stdout",
          "text": [
            "✅ Saved /LUNG1-016 with shape (246, 512, 512), min: -1327.3, max: 150.0\n",
            "📄 /LUNG1-017 — CT shape: (123, 512, 512), Mask shape: (123, 512, 512)\n"
          ]
        },
        {
          "output_type": "stream",
          "name": "stderr",
          "text": [
            "\rProcessing train_dataset.hdf5:   4%|▍         | 15/340 [08:27<3:58:23, 44.01s/it]"
          ]
        },
        {
          "output_type": "stream",
          "name": "stdout",
          "text": [
            "✅ Saved /LUNG1-017 with shape (369, 512, 512), min: -1350.0, max: 150.0\n",
            "📄 /LUNG1-018 — CT shape: (114, 512, 512), Mask shape: (114, 512, 512)\n"
          ]
        },
        {
          "output_type": "stream",
          "name": "stderr",
          "text": [
            "\rProcessing train_dataset.hdf5:   5%|▍         | 16/340 [08:59<3:36:53, 40.17s/it]"
          ]
        },
        {
          "output_type": "stream",
          "name": "stdout",
          "text": [
            "✅ Saved /LUNG1-018 with shape (342, 512, 512), min: -1350.0, max: 150.0\n",
            "📄 /LUNG1-019 — CT shape: (101, 512, 512), Mask shape: (101, 512, 512)\n"
          ]
        },
        {
          "output_type": "stream",
          "name": "stderr",
          "text": [
            "\rProcessing train_dataset.hdf5:   5%|▌         | 17/340 [09:23<3:11:33, 35.58s/it]"
          ]
        },
        {
          "output_type": "stream",
          "name": "stdout",
          "text": [
            "✅ Saved /LUNG1-019 with shape (303, 512, 512), min: -1302.4, max: 150.0\n",
            "📄 /LUNG1-020 — CT shape: (108, 512, 512), Mask shape: (108, 512, 512)\n"
          ]
        },
        {
          "output_type": "stream",
          "name": "stderr",
          "text": [
            "\rProcessing train_dataset.hdf5:   5%|▌         | 18/340 [09:53<3:01:16, 33.78s/it]"
          ]
        },
        {
          "output_type": "stream",
          "name": "stdout",
          "text": [
            "✅ Saved /LUNG1-020 with shape (324, 512, 512), min: -1350.0, max: 150.0\n",
            "📄 /LUNG1-021 — CT shape: (197, 512, 512), Mask shape: (197, 512, 512)\n"
          ]
        },
        {
          "output_type": "stream",
          "name": "stderr",
          "text": [
            "\rProcessing train_dataset.hdf5:   6%|▌         | 19/340 [10:49<3:36:05, 40.39s/it]"
          ]
        },
        {
          "output_type": "stream",
          "name": "stdout",
          "text": [
            "✅ Saved /LUNG1-021 with shape (594, 512, 512), min: -1350.0, max: 150.0\n",
            "📄 /LUNG1-022 — CT shape: (121, 512, 512), Mask shape: (121, 512, 512)\n"
          ]
        },
        {
          "output_type": "stream",
          "name": "stderr",
          "text": [
            "\rProcessing train_dataset.hdf5:   6%|▌         | 20/340 [11:22<3:23:55, 38.24s/it]"
          ]
        },
        {
          "output_type": "stream",
          "name": "stdout",
          "text": [
            "✅ Saved /LUNG1-022 with shape (363, 512, 512), min: -1350.0, max: 150.0\n",
            "📄 /LUNG1-023 — CT shape: (126, 512, 512), Mask shape: (126, 512, 512)\n"
          ]
        },
        {
          "output_type": "stream",
          "name": "stderr",
          "text": [
            "\rProcessing train_dataset.hdf5:   6%|▌         | 21/340 [11:57<3:18:28, 37.33s/it]"
          ]
        },
        {
          "output_type": "stream",
          "name": "stdout",
          "text": [
            "✅ Saved /LUNG1-023 with shape (378, 512, 512), min: -1350.0, max: 150.0\n",
            "📄 /LUNG1-024 — CT shape: (95, 512, 512), Mask shape: (95, 512, 512)\n"
          ]
        },
        {
          "output_type": "stream",
          "name": "stderr",
          "text": [
            "\rProcessing train_dataset.hdf5:   6%|▋         | 22/340 [13:40<5:01:42, 56.93s/it]"
          ]
        },
        {
          "output_type": "stream",
          "name": "stdout",
          "text": [
            "✅ Saved /LUNG1-024 with shape (285, 512, 512), min: -1263.1, max: 150.0\n",
            "📄 /LUNG1-026 — CT shape: (110, 512, 512), Mask shape: (110, 512, 512)\n"
          ]
        },
        {
          "output_type": "stream",
          "name": "stderr",
          "text": [
            "\rProcessing train_dataset.hdf5:   7%|▋         | 23/340 [14:11<4:20:20, 49.28s/it]"
          ]
        },
        {
          "output_type": "stream",
          "name": "stdout",
          "text": [
            "✅ Saved /LUNG1-026 with shape (330, 512, 512), min: -1350.0, max: 150.0\n",
            "📄 /LUNG1-028 — CT shape: (102, 512, 512), Mask shape: (102, 512, 512)\n"
          ]
        },
        {
          "output_type": "stream",
          "name": "stderr",
          "text": [
            "\rProcessing train_dataset.hdf5:   7%|▋         | 24/340 [14:39<3:45:24, 42.80s/it]"
          ]
        },
        {
          "output_type": "stream",
          "name": "stdout",
          "text": [
            "✅ Saved /LUNG1-028 with shape (306, 512, 512), min: -1350.0, max: 150.0\n",
            "📄 /LUNG1-029 — CT shape: (131, 512, 512), Mask shape: (131, 512, 512)\n"
          ]
        },
        {
          "output_type": "stream",
          "name": "stderr",
          "text": [
            "\rProcessing train_dataset.hdf5:   7%|▋         | 25/340 [15:16<3:35:35, 41.06s/it]"
          ]
        },
        {
          "output_type": "stream",
          "name": "stdout",
          "text": [
            "✅ Saved /LUNG1-029 with shape (393, 512, 512), min: -1350.0, max: 150.0\n",
            "📄 /LUNG1-030 — CT shape: (94, 512, 512), Mask shape: (94, 512, 512)\n"
          ]
        },
        {
          "output_type": "stream",
          "name": "stderr",
          "text": [
            "\rProcessing train_dataset.hdf5:   8%|▊         | 26/340 [15:41<3:10:04, 36.32s/it]"
          ]
        },
        {
          "output_type": "stream",
          "name": "stdout",
          "text": [
            "✅ Saved /LUNG1-030 with shape (282, 512, 512), min: -1350.0, max: 150.0\n",
            "📄 /LUNG1-032 — CT shape: (117, 512, 512), Mask shape: (117, 512, 512)\n"
          ]
        },
        {
          "output_type": "stream",
          "name": "stderr",
          "text": [
            "\rProcessing train_dataset.hdf5:   8%|▊         | 27/340 [16:14<3:03:27, 35.17s/it]"
          ]
        },
        {
          "output_type": "stream",
          "name": "stdout",
          "text": [
            "✅ Saved /LUNG1-032 with shape (351, 512, 512), min: -1313.0, max: 150.0\n",
            "📄 /LUNG1-033 — CT shape: (113, 512, 512), Mask shape: (113, 512, 512)\n"
          ]
        },
        {
          "output_type": "stream",
          "name": "stderr",
          "text": [
            "\rProcessing train_dataset.hdf5:   8%|▊         | 28/340 [18:21<5:27:04, 62.90s/it]"
          ]
        },
        {
          "output_type": "stream",
          "name": "stdout",
          "text": [
            "✅ Saved /LUNG1-033 with shape (339, 512, 512), min: -1350.0, max: 150.0\n",
            "📄 /LUNG1-035 — CT shape: (94, 512, 512), Mask shape: (94, 512, 512)\n"
          ]
        },
        {
          "output_type": "stream",
          "name": "stderr",
          "text": [
            "\rProcessing train_dataset.hdf5:   9%|▊         | 29/340 [18:49<4:31:46, 52.43s/it]"
          ]
        },
        {
          "output_type": "stream",
          "name": "stdout",
          "text": [
            "✅ Saved /LUNG1-035 with shape (282, 512, 512), min: -1350.0, max: 150.0\n",
            "📄 /LUNG1-036 — CT shape: (135, 512, 512), Mask shape: (135, 512, 512)\n"
          ]
        },
        {
          "output_type": "stream",
          "name": "stderr",
          "text": [
            "\rProcessing train_dataset.hdf5:   9%|▉         | 30/340 [19:27<4:08:08, 48.03s/it]"
          ]
        },
        {
          "output_type": "stream",
          "name": "stdout",
          "text": [
            "✅ Saved /LUNG1-036 with shape (405, 512, 512), min: -1297.5, max: 150.0\n",
            "📄 /LUNG1-037 — CT shape: (109, 512, 512), Mask shape: (109, 512, 512)\n"
          ]
        },
        {
          "output_type": "stream",
          "name": "stderr",
          "text": [
            "\rProcessing train_dataset.hdf5:   9%|▉         | 31/340 [19:56<3:38:24, 42.41s/it]"
          ]
        },
        {
          "output_type": "stream",
          "name": "stdout",
          "text": [
            "✅ Saved /LUNG1-037 with shape (327, 512, 512), min: -1350.0, max: 150.0\n",
            "📄 /LUNG1-038 — CT shape: (176, 512, 512), Mask shape: (176, 512, 512)\n"
          ]
        },
        {
          "output_type": "stream",
          "name": "stderr",
          "text": [
            "\rProcessing train_dataset.hdf5:   9%|▉         | 32/340 [20:47<3:49:43, 44.75s/it]"
          ]
        },
        {
          "output_type": "stream",
          "name": "stdout",
          "text": [
            "✅ Saved /LUNG1-038 with shape (528, 512, 512), min: -1350.0, max: 150.0\n",
            "📄 /LUNG1-041 — CT shape: (104, 512, 512), Mask shape: (104, 512, 512)\n"
          ]
        },
        {
          "output_type": "stream",
          "name": "stderr",
          "text": [
            "\rProcessing train_dataset.hdf5:  10%|▉         | 33/340 [21:16<3:24:52, 40.04s/it]"
          ]
        },
        {
          "output_type": "stream",
          "name": "stdout",
          "text": [
            "✅ Saved /LUNG1-041 with shape (312, 512, 512), min: -1350.0, max: 150.0\n",
            "📄 /LUNG1-042 — CT shape: (99, 512, 512), Mask shape: (99, 512, 512)\n"
          ]
        },
        {
          "output_type": "stream",
          "name": "stderr",
          "text": [
            "\rProcessing train_dataset.hdf5:  10%|█         | 34/340 [21:43<3:04:15, 36.13s/it]"
          ]
        },
        {
          "output_type": "stream",
          "name": "stdout",
          "text": [
            "✅ Saved /LUNG1-042 with shape (297, 512, 512), min: -1350.0, max: 150.0\n",
            "📄 /LUNG1-043 — CT shape: (103, 512, 512), Mask shape: (103, 512, 512)\n"
          ]
        },
        {
          "output_type": "stream",
          "name": "stderr",
          "text": [
            "\rProcessing train_dataset.hdf5:  10%|█         | 35/340 [24:16<6:01:37, 71.14s/it]"
          ]
        },
        {
          "output_type": "stream",
          "name": "stdout",
          "text": [
            "✅ Saved /LUNG1-043 with shape (309, 512, 512), min: -1322.7, max: 150.0\n",
            "📄 /LUNG1-044 — CT shape: (99, 512, 512), Mask shape: (99, 512, 512)\n"
          ]
        },
        {
          "output_type": "stream",
          "name": "stderr",
          "text": [
            "\rProcessing train_dataset.hdf5:  11%|█         | 36/340 [24:44<4:55:40, 58.36s/it]"
          ]
        },
        {
          "output_type": "stream",
          "name": "stdout",
          "text": [
            "✅ Saved /LUNG1-044 with shape (297, 512, 512), min: -1350.0, max: 150.0\n",
            "📄 /LUNG1-045 — CT shape: (108, 512, 512), Mask shape: (108, 512, 512)\n"
          ]
        },
        {
          "output_type": "stream",
          "name": "stderr",
          "text": [
            "\rProcessing train_dataset.hdf5:  11%|█         | 37/340 [25:13<4:09:52, 49.48s/it]"
          ]
        },
        {
          "output_type": "stream",
          "name": "stdout",
          "text": [
            "✅ Saved /LUNG1-045 with shape (324, 512, 512), min: -1350.0, max: 150.0\n",
            "📄 /LUNG1-046 — CT shape: (89, 512, 512), Mask shape: (89, 512, 512)\n"
          ]
        },
        {
          "output_type": "stream",
          "name": "stderr",
          "text": [
            "\rProcessing train_dataset.hdf5:  11%|█         | 38/340 [25:39<3:34:17, 42.57s/it]"
          ]
        },
        {
          "output_type": "stream",
          "name": "stdout",
          "text": [
            "✅ Saved /LUNG1-046 with shape (267, 512, 512), min: -1350.0, max: 150.0\n",
            "📄 /LUNG1-047 — CT shape: (110, 512, 512), Mask shape: (110, 512, 512)\n"
          ]
        },
        {
          "output_type": "stream",
          "name": "stderr",
          "text": [
            "\rProcessing train_dataset.hdf5:  11%|█▏        | 39/340 [26:09<3:14:55, 38.85s/it]"
          ]
        },
        {
          "output_type": "stream",
          "name": "stdout",
          "text": [
            "✅ Saved /LUNG1-047 with shape (330, 512, 512), min: -1350.0, max: 150.0\n",
            "📄 /LUNG1-048 — CT shape: (135, 512, 512), Mask shape: (135, 512, 512)\n"
          ]
        },
        {
          "output_type": "stream",
          "name": "stderr",
          "text": [
            "\rProcessing train_dataset.hdf5:  12%|█▏        | 40/340 [26:47<3:11:52, 38.37s/it]"
          ]
        },
        {
          "output_type": "stream",
          "name": "stdout",
          "text": [
            "✅ Saved /LUNG1-048 with shape (405, 512, 512), min: -1350.0, max: 150.0\n",
            "📄 /LUNG1-049 — CT shape: (118, 512, 512), Mask shape: (118, 512, 512)\n"
          ]
        },
        {
          "output_type": "stream",
          "name": "stderr",
          "text": [
            "\rProcessing train_dataset.hdf5:  12%|█▏        | 41/340 [27:19<3:01:46, 36.48s/it]"
          ]
        },
        {
          "output_type": "stream",
          "name": "stdout",
          "text": [
            "✅ Saved /LUNG1-049 with shape (354, 512, 512), min: -1350.0, max: 150.0\n",
            "📄 /LUNG1-050 — CT shape: (104, 512, 512), Mask shape: (104, 512, 512)\n"
          ]
        },
        {
          "output_type": "stream",
          "name": "stderr",
          "text": [
            "\rProcessing train_dataset.hdf5:  12%|█▏        | 42/340 [30:14<6:27:29, 78.02s/it]"
          ]
        },
        {
          "output_type": "stream",
          "name": "stdout",
          "text": [
            "✅ Saved /LUNG1-050 with shape (312, 512, 512), min: -1350.0, max: 150.0\n",
            "📄 /LUNG1-051 — CT shape: (125, 512, 512), Mask shape: (125, 512, 512)\n"
          ]
        },
        {
          "output_type": "stream",
          "name": "stderr",
          "text": [
            "\rProcessing train_dataset.hdf5:  13%|█▎        | 43/340 [30:51<5:25:29, 65.76s/it]"
          ]
        },
        {
          "output_type": "stream",
          "name": "stdout",
          "text": [
            "✅ Saved /LUNG1-051 with shape (375, 512, 512), min: -1350.0, max: 150.0\n",
            "📄 /LUNG1-052 — CT shape: (127, 512, 512), Mask shape: (127, 512, 512)\n"
          ]
        },
        {
          "output_type": "stream",
          "name": "stderr",
          "text": [
            "\rProcessing train_dataset.hdf5:  13%|█▎        | 44/340 [31:26<4:38:49, 56.52s/it]"
          ]
        },
        {
          "output_type": "stream",
          "name": "stdout",
          "text": [
            "✅ Saved /LUNG1-052 with shape (381, 512, 512), min: -1314.0, max: 150.0\n",
            "📄 /LUNG1-053 — CT shape: (94, 512, 512), Mask shape: (94, 512, 512)\n"
          ]
        },
        {
          "output_type": "stream",
          "name": "stderr",
          "text": [
            "\rProcessing train_dataset.hdf5:  13%|█▎        | 45/340 [31:51<3:51:41, 47.12s/it]"
          ]
        },
        {
          "output_type": "stream",
          "name": "stdout",
          "text": [
            "✅ Saved /LUNG1-053 with shape (282, 512, 512), min: -1278.2, max: 150.0\n",
            "📄 /LUNG1-054 — CT shape: (117, 512, 512), Mask shape: (117, 512, 512)\n"
          ]
        },
        {
          "output_type": "stream",
          "name": "stderr",
          "text": [
            "\rProcessing train_dataset.hdf5:  14%|█▎        | 46/340 [32:23<3:28:20, 42.52s/it]"
          ]
        },
        {
          "output_type": "stream",
          "name": "stdout",
          "text": [
            "✅ Saved /LUNG1-054 with shape (351, 512, 512), min: -1237.8, max: 150.0\n",
            "📄 /LUNG1-055 — CT shape: (125, 512, 512), Mask shape: (125, 512, 512)\n"
          ]
        },
        {
          "output_type": "stream",
          "name": "stderr",
          "text": [
            "\rProcessing train_dataset.hdf5:  14%|█▍        | 47/340 [32:58<3:16:52, 40.32s/it]"
          ]
        },
        {
          "output_type": "stream",
          "name": "stdout",
          "text": [
            "✅ Saved /LUNG1-055 with shape (375, 512, 512), min: -1350.0, max: 150.0\n",
            "📄 /LUNG1-058 — CT shape: (297, 512, 512), Mask shape: (297, 512, 512)\n"
          ]
        },
        {
          "output_type": "stream",
          "name": "stderr",
          "text": [
            "\rProcessing train_dataset.hdf5:  14%|█▍        | 48/340 [37:05<8:18:04, 102.34s/it]"
          ]
        },
        {
          "output_type": "stream",
          "name": "stdout",
          "text": [
            "✅ Saved /LUNG1-058 with shape (891, 512, 512), min: -1350.0, max: 150.0\n",
            "📄 /LUNG1-059 — CT shape: (110, 512, 512), Mask shape: (110, 512, 512)\n"
          ]
        },
        {
          "output_type": "stream",
          "name": "stderr",
          "text": [
            "\rProcessing train_dataset.hdf5:  14%|█▍        | 49/340 [37:34<6:30:10, 80.45s/it] "
          ]
        },
        {
          "output_type": "stream",
          "name": "stdout",
          "text": [
            "✅ Saved /LUNG1-059 with shape (330, 512, 512), min: -1350.0, max: 150.0\n",
            "📄 /LUNG1-060 — CT shape: (134, 512, 512), Mask shape: (134, 512, 512)\n"
          ]
        },
        {
          "output_type": "stream",
          "name": "stderr",
          "text": [
            "\rProcessing train_dataset.hdf5:  15%|█▍        | 50/340 [38:11<5:25:04, 67.26s/it]"
          ]
        },
        {
          "output_type": "stream",
          "name": "stdout",
          "text": [
            "✅ Saved /LUNG1-060 with shape (402, 512, 512), min: -1283.3, max: 150.0\n",
            "📄 /LUNG1-061 — CT shape: (114, 512, 512), Mask shape: (114, 512, 512)\n"
          ]
        },
        {
          "output_type": "stream",
          "name": "stderr",
          "text": [
            "\rProcessing train_dataset.hdf5:  15%|█▌        | 51/340 [38:41<4:29:36, 55.98s/it]"
          ]
        },
        {
          "output_type": "stream",
          "name": "stdout",
          "text": [
            "✅ Saved /LUNG1-061 with shape (342, 512, 512), min: -1350.0, max: 150.0\n",
            "📄 /LUNG1-062 — CT shape: (101, 512, 512), Mask shape: (101, 512, 512)\n"
          ]
        },
        {
          "output_type": "stream",
          "name": "stderr",
          "text": [
            "\rProcessing train_dataset.hdf5:  15%|█▌        | 52/340 [39:08<3:46:58, 47.29s/it]"
          ]
        },
        {
          "output_type": "stream",
          "name": "stdout",
          "text": [
            "✅ Saved /LUNG1-062 with shape (303, 512, 512), min: -1350.0, max: 150.0\n",
            "📄 /LUNG1-063 — CT shape: (114, 512, 512), Mask shape: (114, 512, 512)\n"
          ]
        },
        {
          "output_type": "stream",
          "name": "stderr",
          "text": [
            "\rProcessing train_dataset.hdf5:  16%|█▌        | 53/340 [39:39<3:23:07, 42.47s/it]"
          ]
        },
        {
          "output_type": "stream",
          "name": "stdout",
          "text": [
            "✅ Saved /LUNG1-063 with shape (342, 512, 512), min: -1322.7, max: 150.0\n",
            "📄 /LUNG1-064 — CT shape: (104, 512, 512), Mask shape: (104, 512, 512)\n"
          ]
        },
        {
          "output_type": "stream",
          "name": "stderr",
          "text": [
            "\rProcessing train_dataset.hdf5:  16%|█▌        | 54/340 [43:24<7:44:28, 97.44s/it]"
          ]
        },
        {
          "output_type": "stream",
          "name": "stdout",
          "text": [
            "✅ Saved /LUNG1-064 with shape (312, 512, 512), min: -1350.0, max: 150.0\n",
            "📄 /LUNG1-065 — CT shape: (135, 512, 512), Mask shape: (135, 512, 512)\n"
          ]
        },
        {
          "output_type": "stream",
          "name": "stderr",
          "text": [
            "\rProcessing train_dataset.hdf5:  16%|█▌        | 55/340 [44:01<6:16:13, 79.20s/it]"
          ]
        },
        {
          "output_type": "stream",
          "name": "stdout",
          "text": [
            "✅ Saved /LUNG1-065 with shape (405, 512, 512), min: -1350.0, max: 150.0\n",
            "📄 /LUNG1-067 — CT shape: (176, 512, 512), Mask shape: (176, 512, 512)\n"
          ]
        },
        {
          "output_type": "stream",
          "name": "stderr",
          "text": [
            "\rProcessing train_dataset.hdf5:  16%|█▋        | 56/340 [44:50<5:32:27, 70.24s/it]"
          ]
        },
        {
          "output_type": "stream",
          "name": "stdout",
          "text": [
            "✅ Saved /LUNG1-067 with shape (528, 512, 512), min: -1350.0, max: 150.0\n",
            "📄 /LUNG1-068 — CT shape: (105, 512, 512), Mask shape: (105, 512, 512)\n"
          ]
        },
        {
          "output_type": "stream",
          "name": "stderr",
          "text": [
            "\rProcessing train_dataset.hdf5:  17%|█▋        | 57/340 [45:18<4:30:38, 57.38s/it]"
          ]
        },
        {
          "output_type": "stream",
          "name": "stdout",
          "text": [
            "✅ Saved /LUNG1-068 with shape (315, 512, 512), min: -1350.0, max: 150.0\n",
            "📄 /LUNG1-069 — CT shape: (153, 512, 512), Mask shape: (153, 512, 512)\n"
          ]
        },
        {
          "output_type": "stream",
          "name": "stderr",
          "text": [
            "\rProcessing train_dataset.hdf5:  17%|█▋        | 58/340 [45:59<4:07:18, 52.62s/it]"
          ]
        },
        {
          "output_type": "stream",
          "name": "stdout",
          "text": [
            "✅ Saved /LUNG1-069 with shape (459, 512, 512), min: -1350.0, max: 150.0\n",
            "📄 /LUNG1-070 — CT shape: (109, 512, 512), Mask shape: (109, 512, 512)\n"
          ]
        },
        {
          "output_type": "stream",
          "name": "stderr",
          "text": [
            "\rProcessing train_dataset.hdf5:  17%|█▋        | 59/340 [46:29<3:33:51, 45.67s/it]"
          ]
        },
        {
          "output_type": "stream",
          "name": "stdout",
          "text": [
            "✅ Saved /LUNG1-070 with shape (327, 512, 512), min: -1350.0, max: 150.0\n",
            "📄 /LUNG1-072 — CT shape: (127, 512, 512), Mask shape: (127, 512, 512)\n"
          ]
        },
        {
          "output_type": "stream",
          "name": "stderr",
          "text": [
            "\rProcessing train_dataset.hdf5:  18%|█▊        | 60/340 [47:04<3:18:34, 42.55s/it]"
          ]
        },
        {
          "output_type": "stream",
          "name": "stdout",
          "text": [
            "✅ Saved /LUNG1-072 with shape (381, 512, 512), min: -1350.0, max: 150.0\n",
            "📄 /LUNG1-075 — CT shape: (176, 512, 512), Mask shape: (176, 512, 512)\n"
          ]
        },
        {
          "output_type": "stream",
          "name": "stderr",
          "text": [
            "\rProcessing train_dataset.hdf5:  18%|█▊        | 61/340 [51:36<8:37:31, 111.30s/it]"
          ]
        },
        {
          "output_type": "stream",
          "name": "stdout",
          "text": [
            "✅ Saved /LUNG1-075 with shape (528, 512, 512), min: -1350.0, max: 150.0\n",
            "📄 /LUNG1-079 — CT shape: (135, 512, 512), Mask shape: (135, 512, 512)\n"
          ]
        },
        {
          "output_type": "stream",
          "name": "stderr",
          "text": [
            "\rProcessing train_dataset.hdf5:  18%|█▊        | 62/340 [52:12<6:51:31, 88.82s/it] "
          ]
        },
        {
          "output_type": "stream",
          "name": "stdout",
          "text": [
            "✅ Saved /LUNG1-079 with shape (405, 512, 512), min: -1350.0, max: 150.0\n",
            "📄 /LUNG1-081 — CT shape: (113, 512, 512), Mask shape: (113, 512, 512)\n"
          ]
        },
        {
          "output_type": "stream",
          "name": "stderr",
          "text": [
            "\rProcessing train_dataset.hdf5:  19%|█▊        | 63/340 [52:42<5:28:16, 71.11s/it]"
          ]
        },
        {
          "output_type": "stream",
          "name": "stdout",
          "text": [
            "✅ Saved /LUNG1-081 with shape (339, 512, 512), min: -1350.0, max: 150.0\n",
            "📄 /LUNG1-082 — CT shape: (176, 512, 512), Mask shape: (176, 512, 512)\n"
          ]
        },
        {
          "output_type": "stream",
          "name": "stderr",
          "text": [
            "\rProcessing train_dataset.hdf5:  19%|█▉        | 64/340 [53:31<4:57:01, 64.57s/it]"
          ]
        },
        {
          "output_type": "stream",
          "name": "stdout",
          "text": [
            "✅ Saved /LUNG1-082 with shape (528, 512, 512), min: -1350.0, max: 150.0\n",
            "📄 /LUNG1-083 — CT shape: (113, 512, 512), Mask shape: (113, 512, 512)\n"
          ]
        },
        {
          "output_type": "stream",
          "name": "stderr",
          "text": [
            "\rProcessing train_dataset.hdf5:  19%|█▉        | 65/340 [54:02<4:09:56, 54.53s/it]"
          ]
        },
        {
          "output_type": "stream",
          "name": "stdout",
          "text": [
            "✅ Saved /LUNG1-083 with shape (339, 512, 512), min: -1221.8, max: 150.0\n",
            "📄 /LUNG1-084 — CT shape: (135, 512, 512), Mask shape: (135, 512, 512)\n"
          ]
        },
        {
          "output_type": "stream",
          "name": "stderr",
          "text": [
            "\rProcessing train_dataset.hdf5:  19%|█▉        | 66/340 [54:41<3:47:21, 49.79s/it]"
          ]
        },
        {
          "output_type": "stream",
          "name": "stdout",
          "text": [
            "✅ Saved /LUNG1-084 with shape (405, 512, 512), min: -1350.0, max: 150.0\n",
            "📄 /LUNG1-085 — CT shape: (106, 512, 512), Mask shape: (106, 512, 512)\n"
          ]
        },
        {
          "output_type": "stream",
          "name": "stderr",
          "text": [
            "\rProcessing train_dataset.hdf5:  20%|█▉        | 67/340 [59:26<9:07:40, 120.37s/it]"
          ]
        },
        {
          "output_type": "stream",
          "name": "stdout",
          "text": [
            "✅ Saved /LUNG1-085 with shape (348, 512, 512), min: -1350.0, max: 150.0\n",
            "📄 /LUNG1-086 — CT shape: (176, 512, 512), Mask shape: (176, 512, 512)\n"
          ]
        },
        {
          "output_type": "stream",
          "name": "stderr",
          "text": [
            "\rProcessing train_dataset.hdf5:  20%|██        | 68/340 [1:00:14<7:27:27, 98.70s/it]"
          ]
        },
        {
          "output_type": "stream",
          "name": "stdout",
          "text": [
            "✅ Saved /LUNG1-086 with shape (528, 512, 512), min: -1350.0, max: 150.0\n",
            "📄 /LUNG1-087 — CT shape: (116, 512, 512), Mask shape: (116, 512, 512)\n"
          ]
        },
        {
          "output_type": "stream",
          "name": "stderr",
          "text": [
            "\rProcessing train_dataset.hdf5:  20%|██        | 69/340 [1:00:45<5:54:15, 78.43s/it]"
          ]
        },
        {
          "output_type": "stream",
          "name": "stdout",
          "text": [
            "✅ Saved /LUNG1-087 with shape (348, 512, 512), min: -1335.2, max: 150.0\n",
            "📄 /LUNG1-089 — CT shape: (94, 512, 512), Mask shape: (94, 512, 512)\n"
          ]
        },
        {
          "output_type": "stream",
          "name": "stderr",
          "text": [
            "\rProcessing train_dataset.hdf5:  21%|██        | 70/340 [1:01:11<4:41:14, 62.50s/it]"
          ]
        },
        {
          "output_type": "stream",
          "name": "stdout",
          "text": [
            "✅ Saved /LUNG1-089 with shape (282, 512, 512), min: -1350.0, max: 150.0\n",
            "📄 /LUNG1-090 — CT shape: (125, 512, 512), Mask shape: (125, 512, 512)\n"
          ]
        },
        {
          "output_type": "stream",
          "name": "stderr",
          "text": [
            "\rProcessing train_dataset.hdf5:  21%|██        | 71/340 [1:01:46<4:03:24, 54.29s/it]"
          ]
        },
        {
          "output_type": "stream",
          "name": "stdout",
          "text": [
            "✅ Saved /LUNG1-090 with shape (375, 512, 512), min: -1302.8, max: 150.0\n",
            "📄 /LUNG1-092 — CT shape: (135, 512, 512), Mask shape: (135, 512, 512)\n"
          ]
        },
        {
          "output_type": "stream",
          "name": "stderr",
          "text": [
            "\rProcessing train_dataset.hdf5:  21%|██        | 72/340 [1:02:23<3:39:48, 49.21s/it]"
          ]
        },
        {
          "output_type": "stream",
          "name": "stdout",
          "text": [
            "✅ Saved /LUNG1-092 with shape (405, 512, 512), min: -1350.0, max: 150.0\n",
            "📄 /LUNG1-093 — CT shape: (176, 512, 512), Mask shape: (176, 512, 512)\n"
          ]
        },
        {
          "output_type": "stream",
          "name": "stderr",
          "text": [
            "\rProcessing train_dataset.hdf5:  21%|██▏       | 73/340 [1:07:55<9:56:18, 134.00s/it]"
          ]
        },
        {
          "output_type": "stream",
          "name": "stdout",
          "text": [
            "✅ Saved /LUNG1-093 with shape (528, 512, 512), min: -1350.0, max: 150.0\n",
            "📄 /LUNG1-094 — CT shape: (84, 512, 512), Mask shape: (84, 512, 512)\n"
          ]
        },
        {
          "output_type": "stream",
          "name": "stderr",
          "text": [
            "\rProcessing train_dataset.hdf5:  22%|██▏       | 74/340 [1:08:18<7:26:21, 100.68s/it]"
          ]
        },
        {
          "output_type": "stream",
          "name": "stdout",
          "text": [
            "✅ Saved /LUNG1-094 with shape (252, 512, 512), min: -1350.0, max: 150.0\n",
            "📄 /LUNG1-096 — CT shape: (176, 512, 512), Mask shape: (176, 512, 512)\n"
          ]
        },
        {
          "output_type": "stream",
          "name": "stderr",
          "text": [
            "\rProcessing train_dataset.hdf5:  22%|██▏       | 75/340 [1:09:11<6:21:08, 86.30s/it] "
          ]
        },
        {
          "output_type": "stream",
          "name": "stdout",
          "text": [
            "✅ Saved /LUNG1-096 with shape (528, 512, 512), min: -1350.0, max: 150.0\n",
            "📄 /LUNG1-097 — CT shape: (135, 512, 512), Mask shape: (135, 512, 512)\n"
          ]
        },
        {
          "output_type": "stream",
          "name": "stderr",
          "text": [
            "\rProcessing train_dataset.hdf5:  22%|██▏       | 76/340 [1:09:51<5:18:24, 72.37s/it]"
          ]
        },
        {
          "output_type": "stream",
          "name": "stdout",
          "text": [
            "✅ Saved /LUNG1-097 with shape (405, 512, 512), min: -1350.0, max: 150.0\n",
            "📄 /LUNG1-098 — CT shape: (110, 512, 512), Mask shape: (110, 512, 512)\n"
          ]
        },
        {
          "output_type": "stream",
          "name": "stderr",
          "text": [
            "\rProcessing train_dataset.hdf5:  23%|██▎       | 77/340 [1:10:20<4:20:51, 59.51s/it]"
          ]
        },
        {
          "output_type": "stream",
          "name": "stdout",
          "text": [
            "✅ Saved /LUNG1-098 with shape (330, 512, 512), min: -1309.8, max: 150.0\n",
            "📄 /LUNG1-099 — CT shape: (117, 512, 512), Mask shape: (117, 512, 512)\n"
          ]
        },
        {
          "output_type": "stream",
          "name": "stderr",
          "text": [
            "\rProcessing train_dataset.hdf5:  23%|██▎       | 78/340 [1:10:52<3:43:37, 51.21s/it]"
          ]
        },
        {
          "output_type": "stream",
          "name": "stdout",
          "text": [
            "✅ Saved /LUNG1-099 with shape (351, 512, 512), min: -1350.0, max: 150.0\n",
            "📄 /LUNG1-100 — CT shape: (107, 512, 512), Mask shape: (107, 512, 512)\n"
          ]
        },
        {
          "output_type": "stream",
          "name": "stderr",
          "text": [
            "\rProcessing train_dataset.hdf5:  23%|██▎       | 79/340 [1:11:21<3:13:46, 44.54s/it]"
          ]
        },
        {
          "output_type": "stream",
          "name": "stdout",
          "text": [
            "✅ Saved /LUNG1-100 with shape (321, 512, 512), min: -1329.7, max: 150.0\n",
            "📄 /LUNG1-101 — CT shape: (112, 512, 512), Mask shape: (112, 512, 512)\n"
          ]
        },
        {
          "output_type": "stream",
          "name": "stderr",
          "text": [
            "\rProcessing train_dataset.hdf5:  24%|██▎       | 80/340 [1:17:00<9:36:28, 133.03s/it]"
          ]
        },
        {
          "output_type": "stream",
          "name": "stdout",
          "text": [
            "✅ Saved /LUNG1-101 with shape (336, 512, 512), min: -1350.0, max: 150.0\n",
            "📄 /LUNG1-102 — CT shape: (118, 512, 512), Mask shape: (118, 512, 512)\n"
          ]
        },
        {
          "output_type": "stream",
          "name": "stderr",
          "text": [
            "\rProcessing train_dataset.hdf5:  24%|██▍       | 81/340 [1:17:32<7:22:47, 102.58s/it]"
          ]
        },
        {
          "output_type": "stream",
          "name": "stdout",
          "text": [
            "✅ Saved /LUNG1-102 with shape (354, 512, 512), min: -1290.3, max: 150.0\n",
            "📄 /LUNG1-103 — CT shape: (112, 512, 512), Mask shape: (112, 512, 512)\n"
          ]
        },
        {
          "output_type": "stream",
          "name": "stderr",
          "text": [
            "\rProcessing train_dataset.hdf5:  24%|██▍       | 82/340 [1:18:03<5:48:32, 81.06s/it] "
          ]
        },
        {
          "output_type": "stream",
          "name": "stdout",
          "text": [
            "✅ Saved /LUNG1-103 with shape (336, 512, 512), min: -1343.1, max: 150.0\n",
            "📄 /LUNG1-104 — CT shape: (297, 512, 512), Mask shape: (297, 512, 512)\n"
          ]
        },
        {
          "output_type": "stream",
          "name": "stderr",
          "text": [
            "\rProcessing train_dataset.hdf5:  24%|██▍       | 83/340 [1:19:27<5:50:44, 81.89s/it]"
          ]
        },
        {
          "output_type": "stream",
          "name": "stdout",
          "text": [
            "✅ Saved /LUNG1-104 with shape (891, 512, 512), min: -1350.0, max: 150.0\n",
            "📄 /LUNG1-105 — CT shape: (112, 512, 512), Mask shape: (112, 512, 512)\n"
          ]
        },
        {
          "output_type": "stream",
          "name": "stderr",
          "text": [
            "\rProcessing train_dataset.hdf5:  25%|██▍       | 84/340 [1:19:56<4:42:28, 66.21s/it]"
          ]
        },
        {
          "output_type": "stream",
          "name": "stdout",
          "text": [
            "✅ Saved /LUNG1-105 with shape (336, 512, 512), min: -1313.8, max: 150.0\n",
            "📄 /LUNG1-106 — CT shape: (99, 512, 512), Mask shape: (99, 512, 512)\n"
          ]
        },
        {
          "output_type": "stream",
          "name": "stderr",
          "text": [
            "\rProcessing train_dataset.hdf5:  25%|██▌       | 85/340 [1:20:23<3:50:37, 54.26s/it]"
          ]
        },
        {
          "output_type": "stream",
          "name": "stdout",
          "text": [
            "✅ Saved /LUNG1-106 with shape (297, 512, 512), min: -1350.0, max: 150.0\n",
            "📄 /LUNG1-108 — CT shape: (176, 512, 512), Mask shape: (176, 512, 512)\n"
          ]
        },
        {
          "output_type": "stream",
          "name": "stderr",
          "text": [
            "\rProcessing train_dataset.hdf5:  25%|██▌       | 86/340 [1:26:45<10:46:59, 152.83s/it]"
          ]
        },
        {
          "output_type": "stream",
          "name": "stdout",
          "text": [
            "✅ Saved /LUNG1-108 with shape (528, 512, 512), min: -1350.0, max: 150.0\n",
            "📄 /LUNG1-109 — CT shape: (97, 512, 512), Mask shape: (97, 512, 512)\n"
          ]
        },
        {
          "output_type": "stream",
          "name": "stderr",
          "text": [
            "\rProcessing train_dataset.hdf5:  26%|██▌       | 87/340 [1:27:12<8:04:20, 114.86s/it] "
          ]
        },
        {
          "output_type": "stream",
          "name": "stdout",
          "text": [
            "✅ Saved /LUNG1-109 with shape (291, 512, 512), min: -1306.3, max: 150.0\n",
            "📄 /LUNG1-110 — CT shape: (176, 512, 512), Mask shape: (176, 512, 512)\n"
          ]
        },
        {
          "output_type": "stream",
          "name": "stderr",
          "text": [
            "\rProcessing train_dataset.hdf5:  26%|██▌       | 88/340 [1:28:02<6:40:33, 95.37s/it] "
          ]
        },
        {
          "output_type": "stream",
          "name": "stdout",
          "text": [
            "✅ Saved /LUNG1-110 with shape (528, 512, 512), min: -1350.0, max: 150.0\n",
            "📄 /LUNG1-111 — CT shape: (216, 512, 512), Mask shape: (216, 512, 512)\n"
          ]
        },
        {
          "output_type": "stream",
          "name": "stderr",
          "text": [
            "\rProcessing train_dataset.hdf5:  26%|██▌       | 89/340 [1:29:05<5:59:01, 85.82s/it]"
          ]
        },
        {
          "output_type": "stream",
          "name": "stdout",
          "text": [
            "✅ Saved /LUNG1-111 with shape (648, 512, 512), min: -1350.0, max: 150.0\n",
            "📄 /LUNG1-112 — CT shape: (176, 512, 512), Mask shape: (176, 512, 512)\n"
          ]
        },
        {
          "output_type": "stream",
          "name": "stderr",
          "text": [
            "\rProcessing train_dataset.hdf5:  26%|██▋       | 90/340 [1:29:56<5:13:38, 75.27s/it]"
          ]
        },
        {
          "output_type": "stream",
          "name": "stdout",
          "text": [
            "✅ Saved /LUNG1-112 with shape (528, 512, 512), min: -1350.0, max: 150.0\n",
            "📄 /LUNG1-113 — CT shape: (118, 512, 512), Mask shape: (118, 512, 512)\n"
          ]
        },
        {
          "output_type": "stream",
          "name": "stderr",
          "text": [
            "\rProcessing train_dataset.hdf5:  27%|██▋       | 91/340 [1:30:28<4:19:03, 62.42s/it]"
          ]
        },
        {
          "output_type": "stream",
          "name": "stdout",
          "text": [
            "✅ Saved /LUNG1-113 with shape (354, 512, 512), min: -1319.5, max: 150.0\n",
            "📄 /LUNG1-114 — CT shape: (129, 512, 512), Mask shape: (129, 512, 512)\n"
          ]
        },
        {
          "output_type": "stream",
          "name": "stderr",
          "text": [
            "\rProcessing train_dataset.hdf5:  27%|██▋       | 92/340 [1:37:20<11:31:21, 167.26s/it]"
          ]
        },
        {
          "output_type": "stream",
          "name": "stdout",
          "text": [
            "✅ Saved /LUNG1-114 with shape (387, 512, 512), min: -1350.0, max: 150.0\n",
            "📄 /LUNG1-115 — CT shape: (106, 512, 512), Mask shape: (106, 512, 512)\n"
          ]
        },
        {
          "output_type": "stream",
          "name": "stderr",
          "text": [
            "\rProcessing train_dataset.hdf5:  27%|██▋       | 93/340 [1:37:49<8:37:39, 125.75s/it] "
          ]
        },
        {
          "output_type": "stream",
          "name": "stdout",
          "text": [
            "✅ Saved /LUNG1-115 with shape (318, 512, 512), min: -1350.0, max: 150.0\n",
            "📄 /LUNG1-116 — CT shape: (142, 512, 512), Mask shape: (142, 512, 512)\n"
          ]
        },
        {
          "output_type": "stream",
          "name": "stderr",
          "text": [
            "\rProcessing train_dataset.hdf5:  28%|██▊       | 94/340 [1:38:30<6:50:57, 100.23s/it]"
          ]
        },
        {
          "output_type": "stream",
          "name": "stdout",
          "text": [
            "✅ Saved /LUNG1-116 with shape (426, 512, 512), min: -1307.7, max: 150.0\n",
            "📄 /LUNG1-118 — CT shape: (124, 512, 512), Mask shape: (124, 512, 512)\n"
          ]
        },
        {
          "output_type": "stream",
          "name": "stderr",
          "text": [
            "\rProcessing train_dataset.hdf5:  28%|██▊       | 95/340 [1:39:05<5:29:47, 80.76s/it] "
          ]
        },
        {
          "output_type": "stream",
          "name": "stdout",
          "text": [
            "✅ Saved /LUNG1-118 with shape (372, 512, 512), min: -1350.0, max: 150.0\n",
            "📄 /LUNG1-119 — CT shape: (116, 512, 512), Mask shape: (116, 512, 512)\n"
          ]
        },
        {
          "output_type": "stream",
          "name": "stderr",
          "text": [
            "\rProcessing train_dataset.hdf5:  28%|██▊       | 96/340 [1:39:37<4:29:17, 66.22s/it]"
          ]
        },
        {
          "output_type": "stream",
          "name": "stdout",
          "text": [
            "✅ Saved /LUNG1-119 with shape (348, 512, 512), min: -1296.1, max: 150.0\n",
            "📄 /LUNG1-120 — CT shape: (114, 512, 512), Mask shape: (114, 512, 512)\n"
          ]
        },
        {
          "output_type": "stream",
          "name": "stderr",
          "text": [
            "\rProcessing train_dataset.hdf5:  29%|██▊       | 97/340 [1:40:09<3:46:37, 55.96s/it]"
          ]
        },
        {
          "output_type": "stream",
          "name": "stdout",
          "text": [
            "✅ Saved /LUNG1-120 with shape (342, 512, 512), min: -1350.0, max: 150.0\n",
            "📄 /LUNG1-121 — CT shape: (125, 512, 512), Mask shape: (125, 512, 512)\n"
          ]
        },
        {
          "output_type": "stream",
          "name": "stderr",
          "text": [
            "\rProcessing train_dataset.hdf5:  29%|██▉       | 98/340 [1:47:23<11:22:26, 169.20s/it]"
          ]
        },
        {
          "output_type": "stream",
          "name": "stdout",
          "text": [
            "✅ Saved /LUNG1-121 with shape (375, 512, 512), min: -1312.4, max: 150.0\n",
            "📄 /LUNG1-122 — CT shape: (124, 512, 512), Mask shape: (124, 512, 512)\n"
          ]
        },
        {
          "output_type": "stream",
          "name": "stderr",
          "text": [
            "\rProcessing train_dataset.hdf5:  29%|██▉       | 99/340 [1:47:58<8:38:18, 129.04s/it] "
          ]
        },
        {
          "output_type": "stream",
          "name": "stdout",
          "text": [
            "✅ Saved /LUNG1-122 with shape (372, 512, 512), min: -1340.5, max: 150.0\n",
            "📄 /LUNG1-123 — CT shape: (114, 512, 512), Mask shape: (114, 512, 512)\n"
          ]
        },
        {
          "output_type": "stream",
          "name": "stderr",
          "text": [
            "\rProcessing train_dataset.hdf5:  29%|██▉       | 100/340 [1:48:39<6:50:48, 102.70s/it]"
          ]
        },
        {
          "output_type": "stream",
          "name": "stdout",
          "text": [
            "✅ Saved /LUNG1-123 with shape (342, 512, 512), min: -1350.0, max: 150.0\n",
            "📄 /LUNG1-124 — CT shape: (111, 512, 512), Mask shape: (111, 512, 512)\n"
          ]
        },
        {
          "output_type": "stream",
          "name": "stderr",
          "text": [
            "\rProcessing train_dataset.hdf5:  30%|██▉       | 101/340 [1:49:13<5:26:53, 82.07s/it] "
          ]
        },
        {
          "output_type": "stream",
          "name": "stdout",
          "text": [
            "✅ Saved /LUNG1-124 with shape (333, 512, 512), min: -1299.6, max: 150.0\n",
            "📄 /LUNG1-125 — CT shape: (107, 512, 512), Mask shape: (107, 512, 512)\n"
          ]
        },
        {
          "output_type": "stream",
          "name": "stderr",
          "text": [
            "\rProcessing train_dataset.hdf5:  30%|███       | 102/340 [1:49:44<4:24:21, 66.65s/it]"
          ]
        },
        {
          "output_type": "stream",
          "name": "stdout",
          "text": [
            "✅ Saved /LUNG1-125 with shape (321, 512, 512), min: -1312.3, max: 150.0\n",
            "📄 /LUNG1-126 — CT shape: (123, 512, 512), Mask shape: (123, 512, 512)\n"
          ]
        },
        {
          "output_type": "stream",
          "name": "stderr",
          "text": [
            "\rProcessing train_dataset.hdf5:  30%|███       | 103/340 [1:50:20<3:46:45, 57.41s/it]"
          ]
        },
        {
          "output_type": "stream",
          "name": "stdout",
          "text": [
            "✅ Saved /LUNG1-126 with shape (369, 512, 512), min: -1350.0, max: 150.0\n",
            "📄 /LUNG1-127 — CT shape: (116, 512, 512), Mask shape: (116, 512, 512)\n"
          ]
        },
        {
          "output_type": "stream",
          "name": "stderr",
          "text": [
            "\rProcessing train_dataset.hdf5:  31%|███       | 104/340 [1:50:53<3:17:04, 50.10s/it]"
          ]
        },
        {
          "output_type": "stream",
          "name": "stdout",
          "text": [
            "✅ Saved /LUNG1-127 with shape (348, 512, 512), min: -1350.0, max: 150.0\n",
            "📄 /LUNG1-129 — CT shape: (112, 512, 512), Mask shape: (112, 512, 512)\n"
          ]
        },
        {
          "output_type": "stream",
          "name": "stderr",
          "text": [
            "\rProcessing train_dataset.hdf5:  31%|███       | 105/340 [1:58:32<11:16:33, 172.74s/it]"
          ]
        },
        {
          "output_type": "stream",
          "name": "stdout",
          "text": [
            "✅ Saved /LUNG1-129 with shape (336, 512, 512), min: -1350.0, max: 150.0\n",
            "📄 /LUNG1-130 — CT shape: (104, 512, 512), Mask shape: (104, 512, 512)\n"
          ]
        },
        {
          "output_type": "stream",
          "name": "stderr",
          "text": [
            "\rProcessing train_dataset.hdf5:  31%|███       | 106/340 [1:59:00<8:25:11, 129.54s/it] "
          ]
        },
        {
          "output_type": "stream",
          "name": "stdout",
          "text": [
            "✅ Saved /LUNG1-130 with shape (312, 512, 512), min: -1333.4, max: 150.0\n",
            "📄 /LUNG1-131 — CT shape: (114, 512, 512), Mask shape: (114, 512, 512)\n"
          ]
        },
        {
          "output_type": "stream",
          "name": "stderr",
          "text": [
            "\rProcessing train_dataset.hdf5:  31%|███▏      | 107/340 [1:59:33<6:29:31, 100.31s/it]"
          ]
        },
        {
          "output_type": "stream",
          "name": "stdout",
          "text": [
            "✅ Saved /LUNG1-131 with shape (342, 512, 512), min: -1350.0, max: 150.0\n",
            "📄 /LUNG1-135 — CT shape: (93, 512, 512), Mask shape: (93, 512, 512)\n"
          ]
        },
        {
          "output_type": "stream",
          "name": "stderr",
          "text": [
            "\rProcessing train_dataset.hdf5:  32%|███▏      | 108/340 [1:59:59<5:01:41, 78.03s/it] "
          ]
        },
        {
          "output_type": "stream",
          "name": "stdout",
          "text": [
            "✅ Saved /LUNG1-135 with shape (279, 512, 512), min: -1350.0, max: 150.0\n",
            "📄 /LUNG1-136 — CT shape: (110, 512, 512), Mask shape: (110, 512, 512)\n"
          ]
        },
        {
          "output_type": "stream",
          "name": "stderr",
          "text": [
            "\rProcessing train_dataset.hdf5:  32%|███▏      | 109/340 [2:00:32<4:08:54, 64.65s/it]"
          ]
        },
        {
          "output_type": "stream",
          "name": "stdout",
          "text": [
            "✅ Saved /LUNG1-136 with shape (330, 512, 512), min: -1350.0, max: 150.0\n",
            "📄 /LUNG1-137 — CT shape: (134, 512, 512), Mask shape: (134, 512, 512)\n"
          ]
        },
        {
          "output_type": "stream",
          "name": "stderr",
          "text": [
            "\rProcessing train_dataset.hdf5:  32%|███▏      | 110/340 [2:01:12<3:39:10, 57.17s/it]"
          ]
        },
        {
          "output_type": "stream",
          "name": "stdout",
          "text": [
            "✅ Saved /LUNG1-137 with shape (402, 512, 512), min: -1350.0, max: 150.0\n",
            "📄 /LUNG1-138 — CT shape: (93, 512, 512), Mask shape: (93, 512, 512)\n"
          ]
        },
        {
          "output_type": "stream",
          "name": "stderr",
          "text": [
            "\rProcessing train_dataset.hdf5:  33%|███▎      | 111/340 [2:01:38<3:02:55, 47.93s/it]"
          ]
        },
        {
          "output_type": "stream",
          "name": "stdout",
          "text": [
            "✅ Saved /LUNG1-138 with shape (279, 512, 512), min: -1350.0, max: 150.0\n",
            "📄 /LUNG1-140 — CT shape: (111, 512, 512), Mask shape: (111, 512, 512)\n"
          ]
        },
        {
          "output_type": "stream",
          "name": "stderr",
          "text": [
            "\rProcessing train_dataset.hdf5:  33%|███▎      | 112/340 [2:09:45<11:22:25, 179.58s/it]"
          ]
        },
        {
          "output_type": "stream",
          "name": "stdout",
          "text": [
            "✅ Saved /LUNG1-140 with shape (333, 512, 512), min: -1337.8, max: 150.0\n",
            "📄 /LUNG1-141 — CT shape: (118, 512, 512), Mask shape: (118, 512, 512)\n"
          ]
        },
        {
          "output_type": "stream",
          "name": "stderr",
          "text": [
            "\rProcessing train_dataset.hdf5:  33%|███▎      | 113/340 [2:10:18<8:32:40, 135.51s/it] "
          ]
        },
        {
          "output_type": "stream",
          "name": "stdout",
          "text": [
            "✅ Saved /LUNG1-141 with shape (354, 512, 512), min: -1350.0, max: 150.0\n",
            "📄 /LUNG1-142 — CT shape: (103, 512, 512), Mask shape: (103, 512, 512)\n"
          ]
        },
        {
          "output_type": "stream",
          "name": "stderr",
          "text": [
            "\rProcessing train_dataset.hdf5:  34%|███▎      | 114/340 [2:10:47<6:30:09, 103.58s/it]"
          ]
        },
        {
          "output_type": "stream",
          "name": "stdout",
          "text": [
            "✅ Saved /LUNG1-142 with shape (309, 512, 512), min: -1285.7, max: 150.0\n",
            "📄 /LUNG1-144 — CT shape: (134, 512, 512), Mask shape: (134, 512, 512)\n"
          ]
        },
        {
          "output_type": "stream",
          "name": "stderr",
          "text": [
            "\rProcessing train_dataset.hdf5:  34%|███▍      | 115/340 [2:11:27<5:17:04, 84.55s/it] "
          ]
        },
        {
          "output_type": "stream",
          "name": "stdout",
          "text": [
            "✅ Saved /LUNG1-144 with shape (402, 512, 512), min: -1350.0, max: 150.0\n",
            "📄 /LUNG1-145 — CT shape: (111, 512, 512), Mask shape: (111, 512, 512)\n"
          ]
        },
        {
          "output_type": "stream",
          "name": "stderr",
          "text": [
            "\rProcessing train_dataset.hdf5:  34%|███▍      | 116/340 [2:11:58<4:15:36, 68.47s/it]"
          ]
        },
        {
          "output_type": "stream",
          "name": "stdout",
          "text": [
            "✅ Saved /LUNG1-145 with shape (333, 512, 512), min: -1350.0, max: 150.0\n",
            "📄 /LUNG1-146 — CT shape: (134, 512, 512), Mask shape: (134, 512, 512)\n"
          ]
        },
        {
          "output_type": "stream",
          "name": "stderr",
          "text": [
            "\rProcessing train_dataset.hdf5:  34%|███▍      | 117/340 [2:12:39<3:43:37, 60.17s/it]"
          ]
        },
        {
          "output_type": "stream",
          "name": "stdout",
          "text": [
            "✅ Saved /LUNG1-146 with shape (402, 512, 512), min: -1350.0, max: 150.0\n",
            "📄 /LUNG1-148 — CT shape: (108, 512, 512), Mask shape: (108, 512, 512)\n"
          ]
        },
        {
          "output_type": "stream",
          "name": "stderr",
          "text": [
            "\rProcessing train_dataset.hdf5:  35%|███▍      | 118/340 [2:21:15<12:08:35, 196.92s/it]"
          ]
        },
        {
          "output_type": "stream",
          "name": "stdout",
          "text": [
            "✅ Saved /LUNG1-148 with shape (324, 512, 512), min: -1350.0, max: 150.0\n",
            "📄 /LUNG1-150 — CT shape: (120, 512, 512), Mask shape: (120, 512, 512)\n"
          ]
        },
        {
          "output_type": "stream",
          "name": "stderr",
          "text": [
            "\rProcessing train_dataset.hdf5:  35%|███▌      | 119/340 [2:21:48<9:04:26, 147.81s/it] "
          ]
        },
        {
          "output_type": "stream",
          "name": "stdout",
          "text": [
            "✅ Saved /LUNG1-150 with shape (360, 512, 512), min: -1350.0, max: 150.0\n",
            "📄 /LUNG1-152 — CT shape: (119, 512, 512), Mask shape: (119, 512, 512)\n"
          ]
        },
        {
          "output_type": "stream",
          "name": "stderr",
          "text": [
            "\rProcessing train_dataset.hdf5:  35%|███▌      | 120/340 [2:22:22<6:57:19, 113.82s/it]"
          ]
        },
        {
          "output_type": "stream",
          "name": "stdout",
          "text": [
            "✅ Saved /LUNG1-152 with shape (357, 512, 512), min: -1322.5, max: 150.0\n",
            "📄 /LUNG1-153 — CT shape: (106, 512, 512), Mask shape: (106, 512, 512)\n"
          ]
        },
        {
          "output_type": "stream",
          "name": "stderr",
          "text": [
            "\rProcessing train_dataset.hdf5:  36%|███▌      | 121/340 [2:22:53<5:24:47, 88.98s/it] "
          ]
        },
        {
          "output_type": "stream",
          "name": "stdout",
          "text": [
            "✅ Saved /LUNG1-153 with shape (318, 512, 512), min: -1350.0, max: 150.0\n",
            "📄 /LUNG1-154 — CT shape: (113, 512, 512), Mask shape: (113, 512, 512)\n"
          ]
        },
        {
          "output_type": "stream",
          "name": "stderr",
          "text": [
            "\rProcessing train_dataset.hdf5:  36%|███▌      | 122/340 [2:23:26<4:22:10, 72.16s/it]"
          ]
        },
        {
          "output_type": "stream",
          "name": "stdout",
          "text": [
            "✅ Saved /LUNG1-154 with shape (339, 512, 512), min: -1310.5, max: 150.0\n",
            "📄 /LUNG1-155 — CT shape: (121, 512, 512), Mask shape: (121, 512, 512)\n"
          ]
        },
        {
          "output_type": "stream",
          "name": "stderr",
          "text": [
            "\rProcessing train_dataset.hdf5:  36%|███▌      | 123/340 [2:24:02<3:40:57, 61.10s/it]"
          ]
        },
        {
          "output_type": "stream",
          "name": "stdout",
          "text": [
            "✅ Saved /LUNG1-155 with shape (363, 512, 512), min: -1337.3, max: 150.0\n",
            "📄 /LUNG1-156 — CT shape: (101, 512, 512), Mask shape: (101, 512, 512)\n"
          ]
        },
        {
          "output_type": "stream",
          "name": "stderr",
          "text": [
            "\rProcessing train_dataset.hdf5:  36%|███▋      | 124/340 [2:24:30<3:04:25, 51.23s/it]"
          ]
        },
        {
          "output_type": "stream",
          "name": "stdout",
          "text": [
            "✅ Saved /LUNG1-156 with shape (303, 512, 512), min: -1350.0, max: 150.0\n",
            "📄 /LUNG1-157 — CT shape: (100, 512, 512), Mask shape: (100, 512, 512)\n"
          ]
        },
        {
          "output_type": "stream",
          "name": "stderr",
          "text": [
            "\rProcessing train_dataset.hdf5:  37%|███▋      | 125/340 [2:33:21<11:39:45, 195.28s/it]"
          ]
        },
        {
          "output_type": "stream",
          "name": "stdout",
          "text": [
            "✅ Saved /LUNG1-157 with shape (300, 512, 512), min: -1297.5, max: 150.0\n",
            "📄 /LUNG1-159 — CT shape: (105, 512, 512), Mask shape: (105, 512, 512)\n"
          ]
        },
        {
          "output_type": "stream",
          "name": "stderr",
          "text": [
            "\rProcessing train_dataset.hdf5:  37%|███▋      | 126/340 [2:33:50<8:38:32, 145.38s/it] "
          ]
        },
        {
          "output_type": "stream",
          "name": "stdout",
          "text": [
            "✅ Saved /LUNG1-159 with shape (315, 512, 512), min: -1288.7, max: 150.0\n",
            "📄 /LUNG1-160 — CT shape: (144, 512, 512), Mask shape: (144, 512, 512)\n"
          ]
        },
        {
          "output_type": "stream",
          "name": "stderr",
          "text": [
            "\rProcessing train_dataset.hdf5:  37%|███▋      | 127/340 [2:34:32<6:46:03, 114.38s/it]"
          ]
        },
        {
          "output_type": "stream",
          "name": "stdout",
          "text": [
            "✅ Saved /LUNG1-160 with shape (432, 512, 512), min: -1350.0, max: 150.0\n",
            "📄 /LUNG1-161 — CT shape: (124, 512, 512), Mask shape: (124, 512, 512)\n"
          ]
        },
        {
          "output_type": "stream",
          "name": "stderr",
          "text": [
            "\rProcessing train_dataset.hdf5:  38%|███▊      | 128/340 [2:35:07<5:19:46, 90.50s/it] "
          ]
        },
        {
          "output_type": "stream",
          "name": "stdout",
          "text": [
            "✅ Saved /LUNG1-161 with shape (372, 512, 512), min: -1350.0, max: 150.0\n",
            "📄 /LUNG1-162 — CT shape: (124, 512, 512), Mask shape: (124, 512, 512)\n"
          ]
        },
        {
          "output_type": "stream",
          "name": "stderr",
          "text": [
            "\rProcessing train_dataset.hdf5:  38%|███▊      | 129/340 [2:35:44<4:22:01, 74.51s/it]"
          ]
        },
        {
          "output_type": "stream",
          "name": "stdout",
          "text": [
            "✅ Saved /LUNG1-162 with shape (372, 512, 512), min: -1350.0, max: 150.0\n",
            "📄 /LUNG1-163 — CT shape: (108, 512, 512), Mask shape: (108, 512, 512)\n"
          ]
        },
        {
          "output_type": "stream",
          "name": "stderr",
          "text": [
            "\rProcessing train_dataset.hdf5:  38%|███▊      | 130/340 [2:36:15<3:34:54, 61.40s/it]"
          ]
        },
        {
          "output_type": "stream",
          "name": "stdout",
          "text": [
            "✅ Saved /LUNG1-163 with shape (324, 512, 512), min: -1256.6, max: 150.0\n",
            "📄 /LUNG1-164 — CT shape: (134, 512, 512), Mask shape: (134, 512, 512)\n"
          ]
        },
        {
          "output_type": "stream",
          "name": "stderr",
          "text": [
            "\rProcessing train_dataset.hdf5:  39%|███▊      | 131/340 [2:36:53<3:09:55, 54.53s/it]"
          ]
        },
        {
          "output_type": "stream",
          "name": "stdout",
          "text": [
            "✅ Saved /LUNG1-164 with shape (402, 512, 512), min: -1350.0, max: 150.0\n",
            "📄 /LUNG1-165 — CT shape: (103, 512, 512), Mask shape: (103, 512, 512)\n"
          ]
        },
        {
          "output_type": "stream",
          "name": "stderr",
          "text": [
            "\rProcessing train_dataset.hdf5:  39%|███▉      | 132/340 [2:46:12<11:52:45, 205.60s/it]"
          ]
        },
        {
          "output_type": "stream",
          "name": "stdout",
          "text": [
            "✅ Saved /LUNG1-165 with shape (309, 512, 512), min: -1328.9, max: 150.0\n",
            "📄 /LUNG1-166 — CT shape: (134, 512, 512), Mask shape: (134, 512, 512)\n"
          ]
        },
        {
          "output_type": "stream",
          "name": "stderr",
          "text": [
            "\rProcessing train_dataset.hdf5:  39%|███▉      | 133/340 [2:46:49<8:55:27, 155.21s/it] "
          ]
        },
        {
          "output_type": "stream",
          "name": "stdout",
          "text": [
            "✅ Saved /LUNG1-166 with shape (402, 512, 512), min: -1350.0, max: 150.0\n",
            "📄 /LUNG1-167 — CT shape: (134, 512, 512), Mask shape: (134, 512, 512)\n"
          ]
        },
        {
          "output_type": "stream",
          "name": "stderr",
          "text": [
            "\rProcessing train_dataset.hdf5:  39%|███▉      | 134/340 [2:47:28<6:52:38, 120.19s/it]"
          ]
        },
        {
          "output_type": "stream",
          "name": "stdout",
          "text": [
            "✅ Saved /LUNG1-167 with shape (402, 512, 512), min: -1350.0, max: 150.0\n",
            "📄 /LUNG1-169 — CT shape: (97, 512, 512), Mask shape: (97, 512, 512)\n"
          ]
        },
        {
          "output_type": "stream",
          "name": "stderr",
          "text": [
            "\rProcessing train_dataset.hdf5:  40%|███▉      | 135/340 [2:47:55<5:15:38, 92.38s/it] "
          ]
        },
        {
          "output_type": "stream",
          "name": "stdout",
          "text": [
            "✅ Saved /LUNG1-169 with shape (291, 512, 512), min: -1236.0, max: 150.0\n",
            "📄 /LUNG1-171 — CT shape: (112, 512, 512), Mask shape: (112, 512, 512)\n"
          ]
        },
        {
          "output_type": "stream",
          "name": "stderr",
          "text": [
            "\rProcessing train_dataset.hdf5:  40%|████      | 136/340 [2:48:27<4:12:49, 74.36s/it]"
          ]
        },
        {
          "output_type": "stream",
          "name": "stdout",
          "text": [
            "✅ Saved /LUNG1-171 with shape (336, 512, 512), min: -1273.4, max: 150.0\n",
            "📄 /LUNG1-172 — CT shape: (95, 512, 512), Mask shape: (95, 512, 512)\n"
          ]
        },
        {
          "output_type": "stream",
          "name": "stderr",
          "text": [
            "\rProcessing train_dataset.hdf5:  40%|████      | 137/340 [2:48:53<3:21:51, 59.66s/it]"
          ]
        },
        {
          "output_type": "stream",
          "name": "stdout",
          "text": [
            "✅ Saved /LUNG1-172 with shape (285, 512, 512), min: -1296.7, max: 150.0\n",
            "📄 /LUNG1-173 — CT shape: (106, 512, 512), Mask shape: (106, 512, 512)\n"
          ]
        },
        {
          "output_type": "stream",
          "name": "stderr",
          "text": [
            "\rProcessing train_dataset.hdf5:  41%|████      | 138/340 [2:58:49<12:23:02, 220.71s/it]"
          ]
        },
        {
          "output_type": "stream",
          "name": "stdout",
          "text": [
            "✅ Saved /LUNG1-173 with shape (318, 512, 512), min: -1309.6, max: 150.0\n",
            "📄 /LUNG1-174 — CT shape: (108, 512, 512), Mask shape: (108, 512, 512)\n"
          ]
        },
        {
          "output_type": "stream",
          "name": "stderr",
          "text": [
            "\rProcessing train_dataset.hdf5:  41%|████      | 139/340 [2:59:20<9:08:11, 163.64s/it] "
          ]
        },
        {
          "output_type": "stream",
          "name": "stdout",
          "text": [
            "✅ Saved /LUNG1-174 with shape (324, 512, 512), min: -1339.5, max: 150.0\n",
            "📄 /LUNG1-178 — CT shape: (126, 512, 512), Mask shape: (126, 512, 512)\n"
          ]
        },
        {
          "output_type": "stream",
          "name": "stderr",
          "text": [
            "\rProcessing train_dataset.hdf5:  41%|████      | 140/340 [2:59:57<6:58:41, 125.61s/it]"
          ]
        },
        {
          "output_type": "stream",
          "name": "stdout",
          "text": [
            "✅ Saved /LUNG1-178 with shape (378, 512, 512), min: -1350.0, max: 150.0\n",
            "📄 /LUNG1-179 — CT shape: (123, 512, 512), Mask shape: (123, 512, 512)\n"
          ]
        },
        {
          "output_type": "stream",
          "name": "stderr",
          "text": [
            "\rProcessing train_dataset.hdf5:  41%|████▏     | 141/340 [3:00:33<5:27:22, 98.70s/it] "
          ]
        },
        {
          "output_type": "stream",
          "name": "stdout",
          "text": [
            "✅ Saved /LUNG1-179 with shape (369, 512, 512), min: -1350.0, max: 150.0\n",
            "📄 /LUNG1-180 — CT shape: (134, 512, 512), Mask shape: (134, 512, 512)\n"
          ]
        },
        {
          "output_type": "stream",
          "name": "stderr",
          "text": [
            "\rProcessing train_dataset.hdf5:  42%|████▏     | 142/340 [3:01:11<4:26:29, 80.76s/it]"
          ]
        },
        {
          "output_type": "stream",
          "name": "stdout",
          "text": [
            "✅ Saved /LUNG1-180 with shape (402, 512, 512), min: -1350.0, max: 150.0\n",
            "📄 /LUNG1-181 — CT shape: (142, 512, 512), Mask shape: (142, 512, 512)\n"
          ]
        },
        {
          "output_type": "stream",
          "name": "stderr",
          "text": [
            "\rProcessing train_dataset.hdf5:  42%|████▏     | 143/340 [3:01:53<3:46:18, 68.93s/it]"
          ]
        },
        {
          "output_type": "stream",
          "name": "stdout",
          "text": [
            "✅ Saved /LUNG1-181 with shape (426, 512, 512), min: -1336.6, max: 150.0\n",
            "📄 /LUNG1-182 — CT shape: (134, 512, 512), Mask shape: (134, 512, 512)\n"
          ]
        },
        {
          "output_type": "stream",
          "name": "stderr",
          "text": [
            "\rProcessing train_dataset.hdf5:  42%|████▏     | 144/340 [3:13:53<14:23:14, 264.26s/it]"
          ]
        },
        {
          "output_type": "stream",
          "name": "stdout",
          "text": [
            "✅ Saved /LUNG1-182 with shape (402, 512, 512), min: -1299.2, max: 150.0\n",
            "📄 /LUNG1-183 — CT shape: (109, 512, 512), Mask shape: (109, 512, 512)\n"
          ]
        },
        {
          "output_type": "stream",
          "name": "stderr",
          "text": [
            "\rProcessing train_dataset.hdf5:  43%|████▎     | 145/340 [3:14:23<10:30:58, 194.15s/it]"
          ]
        },
        {
          "output_type": "stream",
          "name": "stdout",
          "text": [
            "✅ Saved /LUNG1-183 with shape (327, 512, 512), min: -1350.0, max: 150.0\n",
            "📄 /LUNG1-184 — CT shape: (134, 512, 512), Mask shape: (134, 512, 512)\n"
          ]
        },
        {
          "output_type": "stream",
          "name": "stderr",
          "text": [
            "\rProcessing train_dataset.hdf5:  43%|████▎     | 146/340 [3:15:02<7:57:00, 147.53s/it] "
          ]
        },
        {
          "output_type": "stream",
          "name": "stdout",
          "text": [
            "✅ Saved /LUNG1-184 with shape (402, 512, 512), min: -1249.6, max: 150.0\n",
            "📄 /LUNG1-185 — CT shape: (134, 512, 512), Mask shape: (134, 512, 512)\n"
          ]
        },
        {
          "output_type": "stream",
          "name": "stderr",
          "text": [
            "\rProcessing train_dataset.hdf5:  43%|████▎     | 147/340 [3:15:41<6:09:26, 114.85s/it]"
          ]
        },
        {
          "output_type": "stream",
          "name": "stdout",
          "text": [
            "✅ Saved /LUNG1-185 with shape (402, 512, 512), min: -1322.4, max: 150.0\n",
            "📄 /LUNG1-187 — CT shape: (94, 512, 512), Mask shape: (94, 512, 512)\n"
          ]
        },
        {
          "output_type": "stream",
          "name": "stderr",
          "text": [
            "\rProcessing train_dataset.hdf5:  44%|████▎     | 148/340 [3:16:07<4:42:44, 88.36s/it] "
          ]
        },
        {
          "output_type": "stream",
          "name": "stdout",
          "text": [
            "✅ Saved /LUNG1-187 with shape (282, 512, 512), min: -1236.9, max: 150.0\n",
            "📄 /LUNG1-188 — CT shape: (115, 512, 512), Mask shape: (115, 512, 512)\n"
          ]
        },
        {
          "output_type": "stream",
          "name": "stderr",
          "text": [
            "\rProcessing train_dataset.hdf5:  44%|████▍     | 149/340 [3:16:40<3:48:24, 71.75s/it]"
          ]
        },
        {
          "output_type": "stream",
          "name": "stdout",
          "text": [
            "✅ Saved /LUNG1-188 with shape (345, 512, 512), min: -1341.1, max: 150.0\n",
            "📄 /LUNG1-189 — CT shape: (94, 512, 512), Mask shape: (94, 512, 512)\n"
          ]
        },
        {
          "output_type": "stream",
          "name": "stderr",
          "text": [
            "\rProcessing train_dataset.hdf5:  44%|████▍     | 150/340 [3:17:07<3:04:07, 58.14s/it]"
          ]
        },
        {
          "output_type": "stream",
          "name": "stdout",
          "text": [
            "✅ Saved /LUNG1-189 with shape (282, 512, 512), min: -1350.0, max: 150.0\n",
            "📄 /LUNG1-190 — CT shape: (112, 512, 512), Mask shape: (112, 512, 512)\n"
          ]
        },
        {
          "output_type": "stream",
          "name": "stderr",
          "text": [
            "\rProcessing train_dataset.hdf5:  44%|████▍     | 151/340 [3:28:31<12:55:14, 246.11s/it]"
          ]
        },
        {
          "output_type": "stream",
          "name": "stdout",
          "text": [
            "✅ Saved /LUNG1-190 with shape (336, 512, 512), min: -1275.1, max: 150.0\n",
            "📄 /LUNG1-191 — CT shape: (119, 512, 512), Mask shape: (119, 512, 512)\n"
          ]
        },
        {
          "output_type": "stream",
          "name": "stderr",
          "text": [
            "\rProcessing train_dataset.hdf5:  45%|████▍     | 152/340 [3:29:06<9:32:45, 182.80s/it] "
          ]
        },
        {
          "output_type": "stream",
          "name": "stdout",
          "text": [
            "✅ Saved /LUNG1-191 with shape (357, 512, 512), min: -1263.8, max: 150.0\n",
            "📄 /LUNG1-192 — CT shape: (134, 512, 512), Mask shape: (134, 512, 512)\n"
          ]
        },
        {
          "output_type": "stream",
          "name": "stderr",
          "text": [
            "\rProcessing train_dataset.hdf5:  45%|████▌     | 153/340 [3:29:45<7:15:15, 139.66s/it]"
          ]
        },
        {
          "output_type": "stream",
          "name": "stdout",
          "text": [
            "✅ Saved /LUNG1-192 with shape (402, 512, 512), min: -1310.1, max: 150.0\n",
            "📄 /LUNG1-193 — CT shape: (106, 512, 512), Mask shape: (106, 512, 512)\n"
          ]
        },
        {
          "output_type": "stream",
          "name": "stderr",
          "text": [
            "\rProcessing train_dataset.hdf5:  45%|████▌     | 154/340 [3:30:15<5:30:44, 106.69s/it]"
          ]
        },
        {
          "output_type": "stream",
          "name": "stdout",
          "text": [
            "✅ Saved /LUNG1-193 with shape (318, 512, 512), min: -1350.0, max: 150.0\n",
            "📄 /LUNG1-195 — CT shape: (90, 512, 512), Mask shape: (90, 512, 512)\n"
          ]
        },
        {
          "output_type": "stream",
          "name": "stderr",
          "text": [
            "\rProcessing train_dataset.hdf5:  46%|████▌     | 155/340 [3:30:41<4:13:48, 82.31s/it] "
          ]
        },
        {
          "output_type": "stream",
          "name": "stdout",
          "text": [
            "✅ Saved /LUNG1-195 with shape (270, 512, 512), min: -1350.0, max: 150.0\n",
            "📄 /LUNG1-197 — CT shape: (143, 512, 512), Mask shape: (143, 512, 512)\n"
          ]
        },
        {
          "output_type": "stream",
          "name": "stderr",
          "text": [
            "\rProcessing train_dataset.hdf5:  46%|████▌     | 156/340 [3:31:23<3:35:20, 70.22s/it]"
          ]
        },
        {
          "output_type": "stream",
          "name": "stdout",
          "text": [
            "✅ Saved /LUNG1-197 with shape (429, 512, 512), min: -1350.0, max: 150.0\n",
            "📄 /LUNG1-199 — CT shape: (109, 512, 512), Mask shape: (109, 512, 512)\n"
          ]
        },
        {
          "output_type": "stream",
          "name": "stderr",
          "text": [
            "\rProcessing train_dataset.hdf5:  46%|████▌     | 157/340 [3:42:37<12:46:32, 251.32s/it]"
          ]
        },
        {
          "output_type": "stream",
          "name": "stdout",
          "text": [
            "✅ Saved /LUNG1-199 with shape (327, 512, 512), min: -1315.4, max: 150.0\n",
            "📄 /LUNG1-200 — CT shape: (134, 512, 512), Mask shape: (134, 512, 512)\n"
          ]
        },
        {
          "output_type": "stream",
          "name": "stderr",
          "text": [
            "\rProcessing train_dataset.hdf5:  46%|████▋     | 158/340 [3:43:15<9:28:57, 187.57s/it] "
          ]
        },
        {
          "output_type": "stream",
          "name": "stdout",
          "text": [
            "✅ Saved /LUNG1-200 with shape (402, 512, 512), min: -1350.0, max: 150.0\n",
            "📄 /LUNG1-202 — CT shape: (134, 512, 512), Mask shape: (134, 512, 512)\n"
          ]
        },
        {
          "output_type": "stream",
          "name": "stderr",
          "text": [
            "\rProcessing train_dataset.hdf5:  47%|████▋     | 159/340 [3:43:54<7:10:50, 142.82s/it]"
          ]
        },
        {
          "output_type": "stream",
          "name": "stdout",
          "text": [
            "✅ Saved /LUNG1-202 with shape (402, 512, 512), min: -1326.7, max: 150.0\n",
            "📄 /LUNG1-203 — CT shape: (112, 512, 512), Mask shape: (112, 512, 512)\n"
          ]
        },
        {
          "output_type": "stream",
          "name": "stderr",
          "text": [
            "\rProcessing train_dataset.hdf5:  47%|████▋     | 160/340 [3:44:25<5:28:05, 109.36s/it]"
          ]
        },
        {
          "output_type": "stream",
          "name": "stdout",
          "text": [
            "✅ Saved /LUNG1-203 with shape (336, 512, 512), min: -1295.1, max: 150.0\n",
            "📄 /LUNG1-204 — CT shape: (92, 512, 512), Mask shape: (92, 512, 512)\n"
          ]
        },
        {
          "output_type": "stream",
          "name": "stderr",
          "text": [
            "\rProcessing train_dataset.hdf5:  47%|████▋     | 161/340 [3:44:51<4:11:53, 84.43s/it] "
          ]
        },
        {
          "output_type": "stream",
          "name": "stdout",
          "text": [
            "✅ Saved /LUNG1-204 with shape (276, 512, 512), min: -1257.6, max: 150.0\n",
            "📄 /LUNG1-205 — CT shape: (94, 512, 512), Mask shape: (94, 512, 512)\n"
          ]
        },
        {
          "output_type": "stream",
          "name": "stderr",
          "text": [
            "\rProcessing train_dataset.hdf5:  48%|████▊     | 162/340 [3:45:18<3:19:07, 67.12s/it]"
          ]
        },
        {
          "output_type": "stream",
          "name": "stdout",
          "text": [
            "✅ Saved /LUNG1-205 with shape (282, 512, 512), min: -1332.1, max: 150.0\n",
            "📄 /LUNG1-206 — CT shape: (134, 512, 512), Mask shape: (134, 512, 512)\n"
          ]
        },
        {
          "output_type": "stream",
          "name": "stderr",
          "text": [
            "\rProcessing train_dataset.hdf5:  48%|████▊     | 163/340 [3:45:57<2:53:15, 58.73s/it]"
          ]
        },
        {
          "output_type": "stream",
          "name": "stdout",
          "text": [
            "✅ Saved /LUNG1-206 with shape (402, 512, 512), min: -1321.1, max: 150.0\n",
            "📄 /LUNG1-207 — CT shape: (124, 512, 512), Mask shape: (124, 512, 512)\n"
          ]
        },
        {
          "output_type": "stream",
          "name": "stderr",
          "text": [
            "\rProcessing train_dataset.hdf5:  48%|████▊     | 164/340 [3:57:55<12:31:50, 256.31s/it]"
          ]
        },
        {
          "output_type": "stream",
          "name": "stdout",
          "text": [
            "✅ Saved /LUNG1-207 with shape (372, 512, 512), min: -1251.0, max: 150.0\n",
            "📄 /LUNG1-208 — CT shape: (116, 512, 512), Mask shape: (116, 512, 512)\n"
          ]
        },
        {
          "output_type": "stream",
          "name": "stderr",
          "text": [
            "\rProcessing train_dataset.hdf5:  49%|████▊     | 165/340 [3:58:27<9:12:06, 189.30s/it] "
          ]
        },
        {
          "output_type": "stream",
          "name": "stdout",
          "text": [
            "✅ Saved /LUNG1-208 with shape (348, 512, 512), min: -1293.9, max: 150.0\n",
            "📄 /LUNG1-209 — CT shape: (120, 512, 512), Mask shape: (120, 512, 512)\n"
          ]
        },
        {
          "output_type": "stream",
          "name": "stderr",
          "text": [
            "\rProcessing train_dataset.hdf5:  49%|████▉     | 166/340 [3:59:01<6:53:40, 142.65s/it]"
          ]
        },
        {
          "output_type": "stream",
          "name": "stdout",
          "text": [
            "✅ Saved /LUNG1-209 with shape (360, 512, 512), min: -1241.4, max: 150.0\n",
            "📄 /LUNG1-211 — CT shape: (94, 512, 512), Mask shape: (94, 512, 512)\n"
          ]
        },
        {
          "output_type": "stream",
          "name": "stderr",
          "text": [
            "\rProcessing train_dataset.hdf5:  49%|████▉     | 167/340 [3:59:27<5:10:28, 107.68s/it]"
          ]
        },
        {
          "output_type": "stream",
          "name": "stdout",
          "text": [
            "✅ Saved /LUNG1-211 with shape (282, 512, 512), min: -1350.0, max: 150.0\n",
            "📄 /LUNG1-212 — CT shape: (111, 512, 512), Mask shape: (111, 512, 512)\n"
          ]
        },
        {
          "output_type": "stream",
          "name": "stderr",
          "text": [
            "\rProcessing train_dataset.hdf5:  49%|████▉     | 168/340 [4:00:00<4:03:52, 85.07s/it] "
          ]
        },
        {
          "output_type": "stream",
          "name": "stdout",
          "text": [
            "✅ Saved /LUNG1-212 with shape (333, 512, 512), min: -1345.3, max: 150.0\n",
            "📄 /LUNG1-213 — CT shape: (94, 512, 512), Mask shape: (94, 512, 512)\n"
          ]
        },
        {
          "output_type": "stream",
          "name": "stderr",
          "text": [
            "\rProcessing train_dataset.hdf5:  50%|████▉     | 169/340 [4:00:26<3:12:20, 67.49s/it]"
          ]
        },
        {
          "output_type": "stream",
          "name": "stdout",
          "text": [
            "✅ Saved /LUNG1-213 with shape (282, 512, 512), min: -1294.9, max: 150.0\n",
            "📄 /LUNG1-214 — CT shape: (105, 512, 512), Mask shape: (105, 512, 512)\n"
          ]
        },
        {
          "output_type": "stream",
          "name": "stderr",
          "text": [
            "\rProcessing train_dataset.hdf5:  50%|█████     | 170/340 [4:00:56<2:39:35, 56.33s/it]"
          ]
        },
        {
          "output_type": "stream",
          "name": "stdout",
          "text": [
            "✅ Saved /LUNG1-214 with shape (315, 512, 512), min: -1305.4, max: 150.0\n",
            "📄 /LUNG1-215 — CT shape: (75, 512, 512), Mask shape: (75, 512, 512)\n"
          ]
        },
        {
          "output_type": "stream",
          "name": "stderr",
          "text": [
            "\rProcessing train_dataset.hdf5:  50%|█████     | 171/340 [4:13:06<12:07:44, 258.37s/it]"
          ]
        },
        {
          "output_type": "stream",
          "name": "stdout",
          "text": [
            "✅ Saved /LUNG1-215 with shape (225, 512, 512), min: -1350.0, max: 150.0\n",
            "📄 /LUNG1-216 — CT shape: (134, 512, 512), Mask shape: (134, 512, 512)\n"
          ]
        },
        {
          "output_type": "stream",
          "name": "stderr",
          "text": [
            "\rProcessing train_dataset.hdf5:  51%|█████     | 172/340 [4:13:46<8:59:52, 192.81s/it] "
          ]
        },
        {
          "output_type": "stream",
          "name": "stdout",
          "text": [
            "✅ Saved /LUNG1-216 with shape (402, 512, 512), min: -1350.0, max: 150.0\n",
            "📄 /LUNG1-217 — CT shape: (94, 512, 512), Mask shape: (94, 512, 512)\n"
          ]
        },
        {
          "output_type": "stream",
          "name": "stderr",
          "text": [
            "\rProcessing train_dataset.hdf5:  51%|█████     | 173/340 [4:14:13<6:37:46, 142.91s/it]"
          ]
        },
        {
          "output_type": "stream",
          "name": "stdout",
          "text": [
            "✅ Saved /LUNG1-217 with shape (282, 512, 512), min: -1350.0, max: 150.0\n",
            "📄 /LUNG1-218 — CT shape: (94, 512, 512), Mask shape: (94, 512, 512)\n"
          ]
        },
        {
          "output_type": "stream",
          "name": "stderr",
          "text": [
            "\rProcessing train_dataset.hdf5:  51%|█████     | 174/340 [4:14:39<4:58:48, 108.00s/it]"
          ]
        },
        {
          "output_type": "stream",
          "name": "stdout",
          "text": [
            "✅ Saved /LUNG1-218 with shape (282, 512, 512), min: -1350.0, max: 150.0\n",
            "📄 /LUNG1-219 — CT shape: (93, 512, 512), Mask shape: (93, 512, 512)\n"
          ]
        },
        {
          "output_type": "stream",
          "name": "stderr",
          "text": [
            "\rProcessing train_dataset.hdf5:  51%|█████▏    | 175/340 [4:15:06<3:49:56, 83.61s/it] "
          ]
        },
        {
          "output_type": "stream",
          "name": "stdout",
          "text": [
            "✅ Saved /LUNG1-219 with shape (279, 512, 512), min: -1266.2, max: 150.0\n",
            "📄 /LUNG1-221 — CT shape: (94, 512, 512), Mask shape: (94, 512, 512)\n"
          ]
        },
        {
          "output_type": "stream",
          "name": "stderr",
          "text": [
            "\rProcessing train_dataset.hdf5:  52%|█████▏    | 176/340 [4:15:33<3:01:56, 66.56s/it]"
          ]
        },
        {
          "output_type": "stream",
          "name": "stdout",
          "text": [
            "✅ Saved /LUNG1-221 with shape (282, 512, 512), min: -1297.9, max: 150.0\n",
            "📄 /LUNG1-222 — CT shape: (109, 512, 512), Mask shape: (109, 512, 512)\n"
          ]
        },
        {
          "output_type": "stream",
          "name": "stderr",
          "text": [
            "\rProcessing train_dataset.hdf5:  52%|█████▏    | 177/340 [4:16:05<2:32:42, 56.21s/it]"
          ]
        },
        {
          "output_type": "stream",
          "name": "stdout",
          "text": [
            "✅ Saved /LUNG1-222 with shape (327, 512, 512), min: -1288.5, max: 150.0\n",
            "📄 /LUNG1-223 — CT shape: (129, 512, 512), Mask shape: (129, 512, 512)\n"
          ]
        },
        {
          "output_type": "stream",
          "name": "stderr",
          "text": [
            "\rProcessing train_dataset.hdf5:  52%|█████▏    | 178/340 [4:30:25<13:22:46, 297.32s/it]"
          ]
        },
        {
          "output_type": "stream",
          "name": "stdout",
          "text": [
            "✅ Saved /LUNG1-223 with shape (387, 512, 512), min: -1315.6, max: 150.0\n",
            "📄 /LUNG1-226 — CT shape: (94, 512, 512), Mask shape: (94, 512, 512)\n"
          ]
        },
        {
          "output_type": "stream",
          "name": "stderr",
          "text": [
            "\rProcessing train_dataset.hdf5:  53%|█████▎    | 179/340 [4:30:51<9:39:48, 216.08s/it] "
          ]
        },
        {
          "output_type": "stream",
          "name": "stdout",
          "text": [
            "✅ Saved /LUNG1-226 with shape (282, 512, 512), min: -1330.9, max: 150.0\n",
            "📄 /LUNG1-227 — CT shape: (118, 512, 512), Mask shape: (118, 512, 512)\n"
          ]
        },
        {
          "output_type": "stream",
          "name": "stderr",
          "text": [
            "\rProcessing train_dataset.hdf5:  53%|█████▎    | 180/340 [4:31:25<7:10:15, 161.35s/it]"
          ]
        },
        {
          "output_type": "stream",
          "name": "stdout",
          "text": [
            "✅ Saved /LUNG1-227 with shape (354, 512, 512), min: -1327.8, max: 150.0\n",
            "📄 /LUNG1-228 — CT shape: (90, 512, 512), Mask shape: (90, 512, 512)\n"
          ]
        },
        {
          "output_type": "stream",
          "name": "stderr",
          "text": [
            "\rProcessing train_dataset.hdf5:  53%|█████▎    | 181/340 [4:31:49<5:18:57, 120.36s/it]"
          ]
        },
        {
          "output_type": "stream",
          "name": "stdout",
          "text": [
            "✅ Saved /LUNG1-228 with shape (270, 512, 512), min: -1350.0, max: 150.0\n",
            "📄 /LUNG1-229 — CT shape: (94, 512, 512), Mask shape: (94, 512, 512)\n"
          ]
        },
        {
          "output_type": "stream",
          "name": "stderr",
          "text": [
            "\rProcessing train_dataset.hdf5:  54%|█████▎    | 182/340 [4:32:16<4:02:34, 92.12s/it] "
          ]
        },
        {
          "output_type": "stream",
          "name": "stdout",
          "text": [
            "✅ Saved /LUNG1-229 with shape (282, 512, 512), min: -1221.5, max: 150.0\n",
            "📄 /LUNG1-231 — CT shape: (132, 512, 512), Mask shape: (132, 512, 512)\n"
          ]
        },
        {
          "output_type": "stream",
          "name": "stderr",
          "text": [
            "\rProcessing train_dataset.hdf5:  54%|█████▍    | 183/340 [4:32:55<3:19:17, 76.16s/it]"
          ]
        },
        {
          "output_type": "stream",
          "name": "stdout",
          "text": [
            "✅ Saved /LUNG1-231 with shape (396, 512, 512), min: -1283.7, max: 150.0\n",
            "📄 /LUNG1-232 — CT shape: (136, 512, 512), Mask shape: (136, 512, 512)\n"
          ]
        },
        {
          "output_type": "stream",
          "name": "stderr",
          "text": [
            "\rProcessing train_dataset.hdf5:  54%|█████▍    | 184/340 [4:33:34<2:49:06, 65.04s/it]"
          ]
        },
        {
          "output_type": "stream",
          "name": "stdout",
          "text": [
            "✅ Saved /LUNG1-232 with shape (408, 512, 512), min: -1329.6, max: 150.0\n",
            "📄 /LUNG1-234 — CT shape: (94, 512, 512), Mask shape: (94, 512, 512)\n"
          ]
        },
        {
          "output_type": "stream",
          "name": "stderr",
          "text": [
            "\rProcessing train_dataset.hdf5:  54%|█████▍    | 185/340 [4:48:49<13:46:55, 320.10s/it]"
          ]
        },
        {
          "output_type": "stream",
          "name": "stdout",
          "text": [
            "✅ Saved /LUNG1-234 with shape (282, 512, 512), min: -1206.9, max: 150.0\n",
            "📄 /LUNG1-236 — CT shape: (94, 512, 512), Mask shape: (94, 512, 512)\n"
          ]
        },
        {
          "output_type": "stream",
          "name": "stderr",
          "text": [
            "\rProcessing train_dataset.hdf5:  55%|█████▍    | 186/340 [4:49:16<9:55:48, 232.13s/it] "
          ]
        },
        {
          "output_type": "stream",
          "name": "stdout",
          "text": [
            "✅ Saved /LUNG1-236 with shape (282, 512, 512), min: -1318.6, max: 150.0\n",
            "📄 /LUNG1-237 — CT shape: (126, 512, 512), Mask shape: (126, 512, 512)\n"
          ]
        },
        {
          "output_type": "stream",
          "name": "stderr",
          "text": [
            "\rProcessing train_dataset.hdf5:  55%|█████▌    | 187/340 [4:49:53<7:22:30, 173.53s/it]"
          ]
        },
        {
          "output_type": "stream",
          "name": "stdout",
          "text": [
            "✅ Saved /LUNG1-237 with shape (378, 512, 512), min: -1327.5, max: 150.0\n",
            "📄 /LUNG1-238 — CT shape: (94, 512, 512), Mask shape: (94, 512, 512)\n"
          ]
        },
        {
          "output_type": "stream",
          "name": "stderr",
          "text": [
            "\rProcessing train_dataset.hdf5:  55%|█████▌    | 188/340 [4:50:20<5:28:17, 129.59s/it]"
          ]
        },
        {
          "output_type": "stream",
          "name": "stdout",
          "text": [
            "✅ Saved /LUNG1-238 with shape (282, 512, 512), min: -1350.0, max: 150.0\n",
            "📄 /LUNG1-240 — CT shape: (134, 512, 512), Mask shape: (134, 512, 512)\n"
          ]
        },
        {
          "output_type": "stream",
          "name": "stderr",
          "text": [
            "\rProcessing train_dataset.hdf5:  56%|█████▌    | 189/340 [4:51:13<4:28:28, 106.68s/it]"
          ]
        },
        {
          "output_type": "stream",
          "name": "stdout",
          "text": [
            "✅ Saved /LUNG1-240 with shape (402, 512, 512), min: -1292.5, max: 150.0\n",
            "📄 /LUNG1-242 — CT shape: (134, 512, 512), Mask shape: (134, 512, 512)\n"
          ]
        },
        {
          "output_type": "stream",
          "name": "stderr",
          "text": [
            "\rProcessing train_dataset.hdf5:  56%|█████▌    | 190/340 [4:51:52<3:36:11, 86.48s/it] "
          ]
        },
        {
          "output_type": "stream",
          "name": "stdout",
          "text": [
            "✅ Saved /LUNG1-242 with shape (402, 512, 512), min: -1350.0, max: 150.0\n",
            "📄 /LUNG1-243 — CT shape: (94, 512, 512), Mask shape: (94, 512, 512)\n"
          ]
        },
        {
          "output_type": "stream",
          "name": "stderr",
          "text": [
            "\rProcessing train_dataset.hdf5:  56%|█████▌    | 191/340 [5:07:56<14:28:33, 349.75s/it]"
          ]
        },
        {
          "output_type": "stream",
          "name": "stdout",
          "text": [
            "✅ Saved /LUNG1-243 with shape (282, 512, 512), min: -1260.7, max: 150.0\n",
            "📄 /LUNG1-244 — CT shape: (134, 512, 512), Mask shape: (134, 512, 512)\n"
          ]
        },
        {
          "output_type": "stream",
          "name": "stderr",
          "text": [
            "\rProcessing train_dataset.hdf5:  56%|█████▋    | 192/340 [5:08:35<10:32:33, 256.44s/it]"
          ]
        },
        {
          "output_type": "stream",
          "name": "stdout",
          "text": [
            "✅ Saved /LUNG1-244 with shape (402, 512, 512), min: -1305.1, max: 150.0\n",
            "📄 /LUNG1-245 — CT shape: (130, 512, 512), Mask shape: (130, 512, 512)\n"
          ]
        },
        {
          "output_type": "stream",
          "name": "stderr",
          "text": [
            "\rProcessing train_dataset.hdf5:  57%|█████▋    | 193/340 [5:09:12<7:46:59, 190.61s/it] "
          ]
        },
        {
          "output_type": "stream",
          "name": "stdout",
          "text": [
            "✅ Saved /LUNG1-245 with shape (390, 512, 512), min: -1257.2, max: 150.0\n",
            "📄 /LUNG1-247 — CT shape: (134, 512, 512), Mask shape: (134, 512, 512)\n"
          ]
        },
        {
          "output_type": "stream",
          "name": "stderr",
          "text": [
            "\rProcessing train_dataset.hdf5:  57%|█████▋    | 194/340 [5:09:51<5:52:53, 145.02s/it]"
          ]
        },
        {
          "output_type": "stream",
          "name": "stdout",
          "text": [
            "✅ Saved /LUNG1-247 with shape (402, 512, 512), min: -1350.0, max: 150.0\n",
            "📄 /LUNG1-248 — CT shape: (134, 512, 512), Mask shape: (134, 512, 512)\n"
          ]
        },
        {
          "output_type": "stream",
          "name": "stderr",
          "text": [
            "\rProcessing train_dataset.hdf5:  57%|█████▋    | 195/340 [5:10:29<4:33:03, 112.99s/it]"
          ]
        },
        {
          "output_type": "stream",
          "name": "stdout",
          "text": [
            "✅ Saved /LUNG1-248 with shape (402, 512, 512), min: -1350.0, max: 150.0\n",
            "📄 /LUNG1-250 — CT shape: (134, 512, 512), Mask shape: (134, 512, 512)\n"
          ]
        },
        {
          "output_type": "stream",
          "name": "stderr",
          "text": [
            "\rProcessing train_dataset.hdf5:  58%|█████▊    | 196/340 [5:11:07<3:37:32, 90.64s/it] "
          ]
        },
        {
          "output_type": "stream",
          "name": "stdout",
          "text": [
            "✅ Saved /LUNG1-250 with shape (402, 512, 512), min: -1248.6, max: 150.0\n",
            "📄 /LUNG1-251 — CT shape: (134, 512, 512), Mask shape: (134, 512, 512)\n"
          ]
        },
        {
          "output_type": "stream",
          "name": "stderr",
          "text": [
            "\rProcessing train_dataset.hdf5:  58%|█████▊    | 197/340 [5:27:14<14:02:43, 353.59s/it]"
          ]
        },
        {
          "output_type": "stream",
          "name": "stdout",
          "text": [
            "✅ Saved /LUNG1-251 with shape (402, 512, 512), min: -1311.1, max: 150.0\n",
            "📄 /LUNG1-252 — CT shape: (97, 512, 512), Mask shape: (97, 512, 512)\n"
          ]
        },
        {
          "output_type": "stream",
          "name": "stderr",
          "text": [
            "\rProcessing train_dataset.hdf5:  58%|█████▊    | 198/340 [5:27:43<10:05:57, 256.04s/it]"
          ]
        },
        {
          "output_type": "stream",
          "name": "stdout",
          "text": [
            "✅ Saved /LUNG1-252 with shape (291, 512, 512), min: -1296.0, max: 150.0\n",
            "📄 /LUNG1-253 — CT shape: (91, 512, 512), Mask shape: (91, 512, 512)\n"
          ]
        },
        {
          "output_type": "stream",
          "name": "stderr",
          "text": [
            "\rProcessing train_dataset.hdf5:  59%|█████▊    | 199/340 [5:28:08<7:19:03, 186.83s/it] "
          ]
        },
        {
          "output_type": "stream",
          "name": "stdout",
          "text": [
            "✅ Saved /LUNG1-253 with shape (273, 512, 512), min: -1263.3, max: 150.0\n",
            "📄 /LUNG1-254 — CT shape: (126, 512, 512), Mask shape: (126, 512, 512)\n"
          ]
        },
        {
          "output_type": "stream",
          "name": "stderr",
          "text": [
            "\rProcessing train_dataset.hdf5:  59%|█████▉    | 200/340 [5:28:47<5:32:00, 142.29s/it]"
          ]
        },
        {
          "output_type": "stream",
          "name": "stdout",
          "text": [
            "✅ Saved /LUNG1-254 with shape (378, 512, 512), min: -1296.8, max: 150.0\n",
            "📄 /LUNG1-255 — CT shape: (134, 512, 512), Mask shape: (134, 512, 512)\n"
          ]
        },
        {
          "output_type": "stream",
          "name": "stderr",
          "text": [
            "\rProcessing train_dataset.hdf5:  59%|█████▉    | 201/340 [5:29:25<4:17:39, 111.22s/it]"
          ]
        },
        {
          "output_type": "stream",
          "name": "stdout",
          "text": [
            "✅ Saved /LUNG1-255 with shape (402, 512, 512), min: -1305.0, max: 150.0\n",
            "📄 /LUNG1-256 — CT shape: (134, 512, 512), Mask shape: (134, 512, 512)\n"
          ]
        },
        {
          "output_type": "stream",
          "name": "stderr",
          "text": [
            "\rProcessing train_dataset.hdf5:  59%|█████▉    | 202/340 [5:30:05<3:26:12, 89.65s/it] "
          ]
        },
        {
          "output_type": "stream",
          "name": "stdout",
          "text": [
            "✅ Saved /LUNG1-256 with shape (402, 512, 512), min: -1301.8, max: 150.0\n",
            "📄 /LUNG1-257 — CT shape: (134, 512, 512), Mask shape: (134, 512, 512)\n"
          ]
        },
        {
          "output_type": "stream",
          "name": "stderr",
          "text": [
            "\rProcessing train_dataset.hdf5:  60%|█████▉    | 203/340 [5:47:23<14:14:18, 374.15s/it]"
          ]
        },
        {
          "output_type": "stream",
          "name": "stdout",
          "text": [
            "✅ Saved /LUNG1-257 with shape (402, 512, 512), min: -1350.0, max: 150.0\n",
            "📄 /LUNG1-258 — CT shape: (134, 512, 512), Mask shape: (134, 512, 512)\n"
          ]
        },
        {
          "output_type": "stream",
          "name": "stderr",
          "text": [
            "\rProcessing train_dataset.hdf5:  60%|██████    | 204/340 [5:48:01<10:20:00, 273.53s/it]"
          ]
        },
        {
          "output_type": "stream",
          "name": "stdout",
          "text": [
            "✅ Saved /LUNG1-258 with shape (402, 512, 512), min: -1253.1, max: 150.0\n",
            "📄 /LUNG1-259 — CT shape: (130, 512, 512), Mask shape: (130, 512, 512)\n"
          ]
        },
        {
          "output_type": "stream",
          "name": "stderr",
          "text": [
            "\rProcessing train_dataset.hdf5:  60%|██████    | 205/340 [5:48:40<7:36:35, 202.93s/it] "
          ]
        },
        {
          "output_type": "stream",
          "name": "stdout",
          "text": [
            "✅ Saved /LUNG1-259 with shape (390, 512, 512), min: -1317.8, max: 150.0\n",
            "📄 /LUNG1-260 — CT shape: (134, 512, 512), Mask shape: (134, 512, 512)\n"
          ]
        },
        {
          "output_type": "stream",
          "name": "stderr",
          "text": [
            "\rProcessing train_dataset.hdf5:  61%|██████    | 206/340 [5:49:18<5:43:02, 153.60s/it]"
          ]
        },
        {
          "output_type": "stream",
          "name": "stdout",
          "text": [
            "✅ Saved /LUNG1-260 with shape (402, 512, 512), min: -1333.8, max: 150.0\n",
            "📄 /LUNG1-261 — CT shape: (94, 512, 512), Mask shape: (94, 512, 512)\n"
          ]
        },
        {
          "output_type": "stream",
          "name": "stderr",
          "text": [
            "\rProcessing train_dataset.hdf5:  61%|██████    | 207/340 [5:49:44<4:15:32, 115.28s/it]"
          ]
        },
        {
          "output_type": "stream",
          "name": "stdout",
          "text": [
            "✅ Saved /LUNG1-261 with shape (282, 512, 512), min: -1273.8, max: 150.0\n",
            "📄 /LUNG1-262 — CT shape: (94, 512, 512), Mask shape: (94, 512, 512)\n"
          ]
        },
        {
          "output_type": "stream",
          "name": "stderr",
          "text": [
            "\rProcessing train_dataset.hdf5:  61%|██████    | 208/340 [5:50:11<3:15:10, 88.71s/it] "
          ]
        },
        {
          "output_type": "stream",
          "name": "stdout",
          "text": [
            "✅ Saved /LUNG1-262 with shape (282, 512, 512), min: -1222.0, max: 150.0\n",
            "📄 /LUNG1-265 — CT shape: (134, 512, 512), Mask shape: (134, 512, 512)\n"
          ]
        },
        {
          "output_type": "stream",
          "name": "stderr",
          "text": [
            "\rProcessing train_dataset.hdf5:  61%|██████▏   | 209/340 [6:08:37<14:20:11, 393.98s/it]"
          ]
        },
        {
          "output_type": "stream",
          "name": "stdout",
          "text": [
            "✅ Saved /LUNG1-265 with shape (402, 512, 512), min: -1259.2, max: 150.0\n",
            "📄 /LUNG1-267 — CT shape: (129, 512, 512), Mask shape: (129, 512, 512)\n"
          ]
        },
        {
          "output_type": "stream",
          "name": "stderr",
          "text": [
            "\rProcessing train_dataset.hdf5:  62%|██████▏   | 210/340 [6:09:14<10:21:35, 286.89s/it]"
          ]
        },
        {
          "output_type": "stream",
          "name": "stdout",
          "text": [
            "✅ Saved /LUNG1-267 with shape (387, 512, 512), min: -1350.0, max: 150.0\n",
            "📄 /LUNG1-268 — CT shape: (132, 512, 512), Mask shape: (132, 512, 512)\n"
          ]
        },
        {
          "output_type": "stream",
          "name": "stderr",
          "text": [
            "\rProcessing train_dataset.hdf5:  62%|██████▏   | 211/340 [6:09:51<7:35:57, 212.07s/it] "
          ]
        },
        {
          "output_type": "stream",
          "name": "stdout",
          "text": [
            "✅ Saved /LUNG1-268 with shape (396, 512, 512), min: -1338.1, max: 150.0\n",
            "📄 /LUNG1-269 — CT shape: (134, 512, 512), Mask shape: (134, 512, 512)\n"
          ]
        },
        {
          "output_type": "stream",
          "name": "stderr",
          "text": [
            "\rProcessing train_dataset.hdf5:  62%|██████▏   | 212/340 [6:10:29<5:40:51, 159.78s/it]"
          ]
        },
        {
          "output_type": "stream",
          "name": "stdout",
          "text": [
            "✅ Saved /LUNG1-269 with shape (402, 512, 512), min: -1347.8, max: 150.0\n",
            "📄 /LUNG1-270 — CT shape: (134, 512, 512), Mask shape: (134, 512, 512)\n"
          ]
        },
        {
          "output_type": "stream",
          "name": "stderr",
          "text": [
            "\rProcessing train_dataset.hdf5:  63%|██████▎   | 213/340 [6:11:07<4:20:59, 123.31s/it]"
          ]
        },
        {
          "output_type": "stream",
          "name": "stdout",
          "text": [
            "✅ Saved /LUNG1-270 with shape (402, 512, 512), min: -1344.8, max: 150.0\n",
            "📄 /LUNG1-271 — CT shape: (94, 512, 512), Mask shape: (94, 512, 512)\n"
          ]
        },
        {
          "output_type": "stream",
          "name": "stderr",
          "text": [
            "\rProcessing train_dataset.hdf5:  63%|██████▎   | 214/340 [6:11:34<3:17:43, 94.15s/it] "
          ]
        },
        {
          "output_type": "stream",
          "name": "stdout",
          "text": [
            "✅ Saved /LUNG1-271 with shape (282, 512, 512), min: -1350.0, max: 150.0\n",
            "📄 /LUNG1-272 — CT shape: (134, 512, 512), Mask shape: (134, 512, 512)\n"
          ]
        },
        {
          "output_type": "stream",
          "name": "stderr",
          "text": [
            "\rProcessing train_dataset.hdf5:  63%|██████▎   | 215/340 [6:29:41<13:37:00, 392.17s/it]"
          ]
        },
        {
          "output_type": "stream",
          "name": "stdout",
          "text": [
            "✅ Saved /LUNG1-272 with shape (402, 512, 512), min: -1350.0, max: 150.0\n",
            "📄 /LUNG1-274 — CT shape: (134, 512, 512), Mask shape: (134, 512, 512)\n"
          ]
        },
        {
          "output_type": "stream",
          "name": "stderr",
          "text": [
            "\rProcessing train_dataset.hdf5:  64%|██████▎   | 216/340 [6:30:21<9:51:56, 286.42s/it] "
          ]
        },
        {
          "output_type": "stream",
          "name": "stdout",
          "text": [
            "✅ Saved /LUNG1-274 with shape (402, 512, 512), min: -1323.2, max: 150.0\n",
            "📄 /LUNG1-275 — CT shape: (132, 512, 512), Mask shape: (132, 512, 512)\n"
          ]
        },
        {
          "output_type": "stream",
          "name": "stderr",
          "text": [
            "\rProcessing train_dataset.hdf5:  64%|██████▍   | 217/340 [6:30:58<7:14:08, 211.78s/it]"
          ]
        },
        {
          "output_type": "stream",
          "name": "stdout",
          "text": [
            "✅ Saved /LUNG1-275 with shape (396, 512, 512), min: -1296.6, max: 150.0\n",
            "📄 /LUNG1-276 — CT shape: (94, 512, 512), Mask shape: (94, 512, 512)\n"
          ]
        },
        {
          "output_type": "stream",
          "name": "stderr",
          "text": [
            "\rProcessing train_dataset.hdf5:  64%|██████▍   | 218/340 [6:31:24<5:17:06, 155.96s/it]"
          ]
        },
        {
          "output_type": "stream",
          "name": "stdout",
          "text": [
            "✅ Saved /LUNG1-276 with shape (282, 512, 512), min: -1270.0, max: 150.0\n",
            "📄 /LUNG1-277 — CT shape: (130, 512, 512), Mask shape: (130, 512, 512)\n"
          ]
        },
        {
          "output_type": "stream",
          "name": "stderr",
          "text": [
            "\rProcessing train_dataset.hdf5:  64%|██████▍   | 219/340 [6:32:02<4:03:03, 120.52s/it]"
          ]
        },
        {
          "output_type": "stream",
          "name": "stdout",
          "text": [
            "✅ Saved /LUNG1-277 with shape (390, 512, 512), min: -1225.1, max: 150.0\n",
            "📄 /LUNG1-278 — CT shape: (120, 512, 512), Mask shape: (120, 512, 512)\n"
          ]
        },
        {
          "output_type": "stream",
          "name": "stderr",
          "text": [
            "\rProcessing train_dataset.hdf5:  65%|██████▍   | 220/340 [6:32:35<3:08:51, 94.43s/it] "
          ]
        },
        {
          "output_type": "stream",
          "name": "stdout",
          "text": [
            "✅ Saved /LUNG1-278 with shape (360, 512, 512), min: -1300.6, max: 150.0\n",
            "📄 /LUNG1-279 — CT shape: (134, 512, 512), Mask shape: (134, 512, 512)\n"
          ]
        },
        {
          "output_type": "stream",
          "name": "stderr",
          "text": [
            "\rProcessing train_dataset.hdf5:  65%|██████▌   | 221/340 [6:33:14<2:34:11, 77.75s/it]"
          ]
        },
        {
          "output_type": "stream",
          "name": "stdout",
          "text": [
            "✅ Saved /LUNG1-279 with shape (402, 512, 512), min: -1349.6, max: 150.0\n",
            "📄 /LUNG1-280 — CT shape: (130, 512, 512), Mask shape: (130, 512, 512)\n"
          ]
        },
        {
          "output_type": "stream",
          "name": "stderr",
          "text": [
            "\rProcessing train_dataset.hdf5:  65%|██████▌   | 222/340 [6:51:56<12:48:49, 390.93s/it]"
          ]
        },
        {
          "output_type": "stream",
          "name": "stdout",
          "text": [
            "✅ Saved /LUNG1-280 with shape (390, 512, 512), min: -1350.0, max: 150.0\n",
            "📄 /LUNG1-282 — CT shape: (92, 512, 512), Mask shape: (92, 512, 512)\n"
          ]
        },
        {
          "output_type": "stream",
          "name": "stderr",
          "text": [
            "\rProcessing train_dataset.hdf5:  66%|██████▌   | 223/340 [6:52:22<9:08:40, 281.37s/it] "
          ]
        },
        {
          "output_type": "stream",
          "name": "stdout",
          "text": [
            "✅ Saved /LUNG1-282 with shape (276, 512, 512), min: -1350.0, max: 150.0\n",
            "📄 /LUNG1-283 — CT shape: (108, 512, 512), Mask shape: (108, 512, 512)\n"
          ]
        },
        {
          "output_type": "stream",
          "name": "stderr",
          "text": [
            "\rProcessing train_dataset.hdf5:  66%|██████▌   | 224/340 [6:52:53<6:38:44, 206.24s/it]"
          ]
        },
        {
          "output_type": "stream",
          "name": "stdout",
          "text": [
            "✅ Saved /LUNG1-283 with shape (324, 512, 512), min: -1350.0, max: 150.0\n",
            "📄 /LUNG1-284 — CT shape: (97, 512, 512), Mask shape: (97, 512, 512)\n"
          ]
        },
        {
          "output_type": "stream",
          "name": "stderr",
          "text": [
            "\rProcessing train_dataset.hdf5:  66%|██████▌   | 225/340 [6:53:20<4:52:22, 152.54s/it]"
          ]
        },
        {
          "output_type": "stream",
          "name": "stdout",
          "text": [
            "✅ Saved /LUNG1-284 with shape (291, 512, 512), min: -1287.8, max: 150.0\n",
            "📄 /LUNG1-285 — CT shape: (90, 512, 512), Mask shape: (90, 512, 512)\n"
          ]
        },
        {
          "output_type": "stream",
          "name": "stderr",
          "text": [
            "\rProcessing train_dataset.hdf5:  66%|██████▋   | 226/340 [6:53:45<3:37:21, 114.40s/it]"
          ]
        },
        {
          "output_type": "stream",
          "name": "stdout",
          "text": [
            "✅ Saved /LUNG1-285 with shape (270, 512, 512), min: -1281.1, max: 150.0\n",
            "📄 /LUNG1-287 — CT shape: (94, 512, 512), Mask shape: (94, 512, 512)\n"
          ]
        },
        {
          "output_type": "stream",
          "name": "stderr",
          "text": [
            "\rProcessing train_dataset.hdf5:  67%|██████▋   | 227/340 [6:54:12<2:46:01, 88.16s/it] "
          ]
        },
        {
          "output_type": "stream",
          "name": "stdout",
          "text": [
            "✅ Saved /LUNG1-287 with shape (282, 512, 512), min: -1350.0, max: 150.0\n",
            "📄 /LUNG1-288 — CT shape: (132, 512, 512), Mask shape: (132, 512, 512)\n"
          ]
        },
        {
          "output_type": "stream",
          "name": "stderr",
          "text": [
            "\rProcessing train_dataset.hdf5:  67%|██████▋   | 228/340 [7:13:53<12:56:16, 415.86s/it]"
          ]
        },
        {
          "output_type": "stream",
          "name": "stdout",
          "text": [
            "✅ Saved /LUNG1-288 with shape (396, 512, 512), min: -1318.9, max: 150.0\n",
            "📄 /LUNG1-289 — CT shape: (125, 512, 512), Mask shape: (125, 512, 512)\n"
          ]
        },
        {
          "output_type": "stream",
          "name": "stderr",
          "text": [
            "\rProcessing train_dataset.hdf5:  67%|██████▋   | 229/340 [7:14:29<9:18:32, 301.91s/it] "
          ]
        },
        {
          "output_type": "stream",
          "name": "stdout",
          "text": [
            "✅ Saved /LUNG1-289 with shape (375, 512, 512), min: -1350.0, max: 150.0\n",
            "📄 /LUNG1-290 — CT shape: (134, 512, 512), Mask shape: (134, 512, 512)\n"
          ]
        },
        {
          "output_type": "stream",
          "name": "stderr",
          "text": [
            "\rProcessing train_dataset.hdf5:  68%|██████▊   | 230/340 [7:15:07<6:48:30, 222.82s/it]"
          ]
        },
        {
          "output_type": "stream",
          "name": "stdout",
          "text": [
            "✅ Saved /LUNG1-290 with shape (402, 512, 512), min: -1350.0, max: 150.0\n",
            "📄 /LUNG1-291 — CT shape: (134, 512, 512), Mask shape: (134, 512, 512)\n"
          ]
        },
        {
          "output_type": "stream",
          "name": "stderr",
          "text": [
            "\rProcessing train_dataset.hdf5:  68%|██████▊   | 231/340 [7:15:45<5:04:10, 167.44s/it]"
          ]
        },
        {
          "output_type": "stream",
          "name": "stdout",
          "text": [
            "✅ Saved /LUNG1-291 with shape (402, 512, 512), min: -1265.7, max: 150.0\n",
            "📄 /LUNG1-292 — CT shape: (125, 512, 512), Mask shape: (125, 512, 512)\n"
          ]
        },
        {
          "output_type": "stream",
          "name": "stderr",
          "text": [
            "\rProcessing train_dataset.hdf5:  68%|██████▊   | 232/340 [7:16:21<3:50:21, 127.98s/it]"
          ]
        },
        {
          "output_type": "stream",
          "name": "stdout",
          "text": [
            "✅ Saved /LUNG1-292 with shape (375, 512, 512), min: -1350.0, max: 150.0\n",
            "📄 /LUNG1-293 — CT shape: (133, 512, 512), Mask shape: (133, 512, 512)\n"
          ]
        },
        {
          "output_type": "stream",
          "name": "stderr",
          "text": [
            "\rProcessing train_dataset.hdf5:  69%|██████▊   | 233/340 [7:17:00<3:00:17, 101.10s/it]"
          ]
        },
        {
          "output_type": "stream",
          "name": "stdout",
          "text": [
            "✅ Saved /LUNG1-293 with shape (399, 512, 512), min: -1350.0, max: 150.0\n",
            "📄 /LUNG1-294 — CT shape: (90, 512, 512), Mask shape: (90, 512, 512)\n"
          ]
        },
        {
          "output_type": "stream",
          "name": "stderr",
          "text": [
            "\rProcessing train_dataset.hdf5:  69%|██████▉   | 234/340 [7:37:44<13:04:48, 444.23s/it]"
          ]
        },
        {
          "output_type": "stream",
          "name": "stdout",
          "text": [
            "✅ Saved /LUNG1-294 with shape (270, 512, 512), min: -1260.6, max: 150.0\n",
            "📄 /LUNG1-295 — CT shape: (130, 512, 512), Mask shape: (130, 512, 512)\n"
          ]
        },
        {
          "output_type": "stream",
          "name": "stderr",
          "text": [
            "\rProcessing train_dataset.hdf5:  69%|██████▉   | 235/340 [7:38:22<9:23:52, 322.21s/it] "
          ]
        },
        {
          "output_type": "stream",
          "name": "stdout",
          "text": [
            "✅ Saved /LUNG1-295 with shape (390, 512, 512), min: -1302.6, max: 150.0\n",
            "📄 /LUNG1-296 — CT shape: (133, 512, 512), Mask shape: (133, 512, 512)\n"
          ]
        },
        {
          "output_type": "stream",
          "name": "stderr",
          "text": [
            "\rProcessing train_dataset.hdf5:  69%|██████▉   | 236/340 [7:39:01<6:51:08, 237.20s/it]"
          ]
        },
        {
          "output_type": "stream",
          "name": "stdout",
          "text": [
            "✅ Saved /LUNG1-296 with shape (399, 512, 512), min: -1350.0, max: 150.0\n",
            "📄 /LUNG1-297 — CT shape: (102, 512, 512), Mask shape: (102, 512, 512)\n"
          ]
        },
        {
          "output_type": "stream",
          "name": "stderr",
          "text": [
            "\rProcessing train_dataset.hdf5:  70%|██████▉   | 237/340 [7:39:29<4:59:37, 174.54s/it]"
          ]
        },
        {
          "output_type": "stream",
          "name": "stdout",
          "text": [
            "✅ Saved /LUNG1-297 with shape (306, 512, 512), min: -1245.1, max: 150.0\n",
            "📄 /LUNG1-298 — CT shape: (111, 512, 512), Mask shape: (111, 512, 512)\n"
          ]
        },
        {
          "output_type": "stream",
          "name": "stderr",
          "text": [
            "\rProcessing train_dataset.hdf5:  70%|███████   | 238/340 [7:40:00<3:43:39, 131.57s/it]"
          ]
        },
        {
          "output_type": "stream",
          "name": "stdout",
          "text": [
            "✅ Saved /LUNG1-298 with shape (333, 512, 512), min: -1310.5, max: 150.0\n",
            "📄 /LUNG1-300 — CT shape: (134, 512, 512), Mask shape: (134, 512, 512)\n"
          ]
        },
        {
          "output_type": "stream",
          "name": "stderr",
          "text": [
            "\rProcessing train_dataset.hdf5:  70%|███████   | 239/340 [7:40:40<2:54:51, 103.87s/it]"
          ]
        },
        {
          "output_type": "stream",
          "name": "stdout",
          "text": [
            "✅ Saved /LUNG1-300 with shape (402, 512, 512), min: -1334.7, max: 150.0\n",
            "📄 /LUNG1-301 — CT shape: (119, 512, 512), Mask shape: (119, 512, 512)\n"
          ]
        },
        {
          "output_type": "stream",
          "name": "stderr",
          "text": [
            "\rProcessing train_dataset.hdf5:  71%|███████   | 240/340 [8:01:25<12:23:48, 446.28s/it]"
          ]
        },
        {
          "output_type": "stream",
          "name": "stdout",
          "text": [
            "✅ Saved /LUNG1-301 with shape (357, 512, 512), min: -1290.4, max: 150.0\n",
            "📄 /LUNG1-302 — CT shape: (122, 512, 512), Mask shape: (122, 512, 512)\n"
          ]
        },
        {
          "output_type": "stream",
          "name": "stderr",
          "text": [
            "\rProcessing train_dataset.hdf5:  71%|███████   | 241/340 [8:02:00<8:52:37, 322.80s/it] "
          ]
        },
        {
          "output_type": "stream",
          "name": "stdout",
          "text": [
            "✅ Saved /LUNG1-302 with shape (366, 512, 512), min: -1256.8, max: 150.0\n",
            "📄 /LUNG1-303 — CT shape: (134, 512, 512), Mask shape: (134, 512, 512)\n"
          ]
        },
        {
          "output_type": "stream",
          "name": "stderr",
          "text": [
            "\rProcessing train_dataset.hdf5:  71%|███████   | 242/340 [8:02:38<6:27:44, 237.39s/it]"
          ]
        },
        {
          "output_type": "stream",
          "name": "stdout",
          "text": [
            "✅ Saved /LUNG1-303 with shape (402, 512, 512), min: -1350.0, max: 150.0\n",
            "📄 /LUNG1-304 — CT shape: (94, 512, 512), Mask shape: (94, 512, 512)\n"
          ]
        },
        {
          "output_type": "stream",
          "name": "stderr",
          "text": [
            "\rProcessing train_dataset.hdf5:  71%|███████▏  | 243/340 [8:03:04<4:41:11, 173.94s/it]"
          ]
        },
        {
          "output_type": "stream",
          "name": "stdout",
          "text": [
            "✅ Saved /LUNG1-304 with shape (282, 512, 512), min: -1336.5, max: 150.0\n",
            "📄 /LUNG1-305 — CT shape: (132, 512, 512), Mask shape: (132, 512, 512)\n"
          ]
        },
        {
          "output_type": "stream",
          "name": "stderr",
          "text": [
            "\rProcessing train_dataset.hdf5:  72%|███████▏  | 244/340 [8:03:42<3:33:13, 133.26s/it]"
          ]
        },
        {
          "output_type": "stream",
          "name": "stdout",
          "text": [
            "✅ Saved /LUNG1-305 with shape (396, 512, 512), min: -1350.0, max: 150.0\n",
            "📄 /LUNG1-306 — CT shape: (136, 512, 512), Mask shape: (136, 512, 512)\n"
          ]
        },
        {
          "output_type": "stream",
          "name": "stderr",
          "text": [
            "\rProcessing train_dataset.hdf5:  72%|███████▏  | 245/340 [8:04:21<2:46:13, 104.99s/it]"
          ]
        },
        {
          "output_type": "stream",
          "name": "stdout",
          "text": [
            "✅ Saved /LUNG1-306 with shape (408, 512, 512), min: -1350.0, max: 150.0\n",
            "📄 /LUNG1-307 — CT shape: (134, 512, 512), Mask shape: (134, 512, 512)\n"
          ]
        },
        {
          "output_type": "stream",
          "name": "stderr",
          "text": [
            "\rProcessing train_dataset.hdf5:  72%|███████▏  | 246/340 [8:05:00<2:13:26, 85.18s/it] "
          ]
        },
        {
          "output_type": "stream",
          "name": "stdout",
          "text": [
            "✅ Saved /LUNG1-307 with shape (402, 512, 512), min: -1350.0, max: 150.0\n",
            "📄 /LUNG1-308 — CT shape: (94, 512, 512), Mask shape: (94, 512, 512)\n"
          ]
        },
        {
          "output_type": "stream",
          "name": "stderr",
          "text": [
            "\rProcessing train_dataset.hdf5:  73%|███████▎  | 247/340 [8:27:04<11:48:16, 456.95s/it]"
          ]
        },
        {
          "output_type": "stream",
          "name": "stdout",
          "text": [
            "✅ Saved /LUNG1-308 with shape (282, 512, 512), min: -1350.0, max: 150.0\n",
            "📄 /LUNG1-309 — CT shape: (131, 512, 512), Mask shape: (131, 512, 512)\n"
          ]
        },
        {
          "output_type": "stream",
          "name": "stderr",
          "text": [
            "\rProcessing train_dataset.hdf5:  73%|███████▎  | 248/340 [8:27:43<8:28:18, 331.51s/it] "
          ]
        },
        {
          "output_type": "stream",
          "name": "stdout",
          "text": [
            "✅ Saved /LUNG1-309 with shape (393, 512, 512), min: -1348.7, max: 150.0\n",
            "📄 /LUNG1-310 — CT shape: (143, 512, 512), Mask shape: (143, 512, 512)\n"
          ]
        },
        {
          "output_type": "stream",
          "name": "stderr",
          "text": [
            "\rProcessing train_dataset.hdf5:  73%|███████▎  | 249/340 [8:28:24<6:10:42, 244.42s/it]"
          ]
        },
        {
          "output_type": "stream",
          "name": "stdout",
          "text": [
            "✅ Saved /LUNG1-310 with shape (429, 512, 512), min: -1320.4, max: 150.0\n",
            "📄 /LUNG1-311 — CT shape: (122, 512, 512), Mask shape: (122, 512, 512)\n"
          ]
        },
        {
          "output_type": "stream",
          "name": "stderr",
          "text": [
            "\rProcessing train_dataset.hdf5:  74%|███████▎  | 250/340 [8:28:59<4:32:07, 181.42s/it]"
          ]
        },
        {
          "output_type": "stream",
          "name": "stdout",
          "text": [
            "✅ Saved /LUNG1-311 with shape (366, 512, 512), min: -1350.0, max: 150.0\n",
            "📄 /LUNG1-313 — CT shape: (134, 512, 512), Mask shape: (134, 512, 512)\n"
          ]
        },
        {
          "output_type": "stream",
          "name": "stderr",
          "text": [
            "\rProcessing train_dataset.hdf5:  74%|███████▍  | 251/340 [8:29:37<3:25:29, 138.54s/it]"
          ]
        },
        {
          "output_type": "stream",
          "name": "stdout",
          "text": [
            "✅ Saved /LUNG1-313 with shape (402, 512, 512), min: -1335.5, max: 150.0\n",
            "📄 /LUNG1-314 — CT shape: (96, 512, 512), Mask shape: (96, 512, 512)\n"
          ]
        },
        {
          "output_type": "stream",
          "name": "stderr",
          "text": [
            "\rProcessing train_dataset.hdf5:  74%|███████▍  | 252/340 [8:30:04<2:33:51, 104.91s/it]"
          ]
        },
        {
          "output_type": "stream",
          "name": "stdout",
          "text": [
            "✅ Saved /LUNG1-314 with shape (288, 512, 512), min: -1267.4, max: 150.0\n",
            "📄 /LUNG1-315 — CT shape: (126, 512, 512), Mask shape: (126, 512, 512)\n"
          ]
        },
        {
          "output_type": "stream",
          "name": "stderr",
          "text": [
            "\rProcessing train_dataset.hdf5:  74%|███████▍  | 253/340 [8:52:27<11:30:57, 476.52s/it]"
          ]
        },
        {
          "output_type": "stream",
          "name": "stdout",
          "text": [
            "✅ Saved /LUNG1-315 with shape (378, 512, 512), min: -1350.0, max: 150.0\n",
            "📄 /LUNG1-316 — CT shape: (134, 512, 512), Mask shape: (134, 512, 512)\n"
          ]
        },
        {
          "output_type": "stream",
          "name": "stderr",
          "text": [
            "\rProcessing train_dataset.hdf5:  75%|███████▍  | 254/340 [8:53:05<8:14:12, 344.80s/it] "
          ]
        },
        {
          "output_type": "stream",
          "name": "stdout",
          "text": [
            "✅ Saved /LUNG1-316 with shape (402, 512, 512), min: -1319.5, max: 150.0\n",
            "📄 /LUNG1-317 — CT shape: (115, 512, 512), Mask shape: (115, 512, 512)\n"
          ]
        },
        {
          "output_type": "stream",
          "name": "stderr",
          "text": [
            "\rProcessing train_dataset.hdf5:  75%|███████▌  | 255/340 [8:53:36<5:55:12, 250.74s/it]"
          ]
        },
        {
          "output_type": "stream",
          "name": "stdout",
          "text": [
            "✅ Saved /LUNG1-317 with shape (345, 512, 512), min: -1350.0, max: 150.0\n",
            "📄 /LUNG1-318 — CT shape: (134, 512, 512), Mask shape: (134, 512, 512)\n"
          ]
        },
        {
          "output_type": "stream",
          "name": "stderr",
          "text": [
            "\rProcessing train_dataset.hdf5:  75%|███████▌  | 256/340 [8:54:13<4:21:28, 186.76s/it]"
          ]
        },
        {
          "output_type": "stream",
          "name": "stdout",
          "text": [
            "✅ Saved /LUNG1-318 with shape (402, 512, 512), min: -1317.8, max: 150.0\n",
            "📄 /LUNG1-319 — CT shape: (136, 512, 512), Mask shape: (136, 512, 512)\n"
          ]
        },
        {
          "output_type": "stream",
          "name": "stderr",
          "text": [
            "\rProcessing train_dataset.hdf5:  76%|███████▌  | 257/340 [8:55:05<3:22:24, 146.32s/it]"
          ]
        },
        {
          "output_type": "stream",
          "name": "stdout",
          "text": [
            "✅ Saved /LUNG1-319 with shape (408, 512, 512), min: -1325.5, max: 150.0\n",
            "📄 /LUNG1-320 — CT shape: (131, 512, 512), Mask shape: (131, 512, 512)\n"
          ]
        },
        {
          "output_type": "stream",
          "name": "stderr",
          "text": [
            "\rProcessing train_dataset.hdf5:  76%|███████▌  | 258/340 [8:55:57<2:41:00, 117.82s/it]"
          ]
        },
        {
          "output_type": "stream",
          "name": "stdout",
          "text": [
            "✅ Saved /LUNG1-320 with shape (393, 512, 512), min: -1308.8, max: 150.0\n",
            "📄 /LUNG1-321 — CT shape: (130, 512, 512), Mask shape: (130, 512, 512)\n"
          ]
        },
        {
          "output_type": "stream",
          "name": "stderr",
          "text": [
            "\rProcessing train_dataset.hdf5:  76%|███████▌  | 259/340 [9:17:59<10:46:49, 479.13s/it]"
          ]
        },
        {
          "output_type": "stream",
          "name": "stdout",
          "text": [
            "✅ Saved /LUNG1-321 with shape (390, 512, 512), min: -1281.3, max: 150.0\n",
            "📄 /LUNG1-322 — CT shape: (132, 512, 512), Mask shape: (132, 512, 512)\n"
          ]
        },
        {
          "output_type": "stream",
          "name": "stderr",
          "text": [
            "\rProcessing train_dataset.hdf5:  76%|███████▋  | 260/340 [9:18:36<7:41:50, 346.38s/it] "
          ]
        },
        {
          "output_type": "stream",
          "name": "stdout",
          "text": [
            "✅ Saved /LUNG1-322 with shape (396, 512, 512), min: -1288.2, max: 150.0\n",
            "📄 /LUNG1-323 — CT shape: (132, 512, 512), Mask shape: (132, 512, 512)\n"
          ]
        },
        {
          "output_type": "stream",
          "name": "stderr",
          "text": [
            "\rProcessing train_dataset.hdf5:  77%|███████▋  | 261/340 [9:19:12<5:33:31, 253.31s/it]"
          ]
        },
        {
          "output_type": "stream",
          "name": "stdout",
          "text": [
            "✅ Saved /LUNG1-323 with shape (396, 512, 512), min: -1350.0, max: 150.0\n",
            "📄 /LUNG1-324 — CT shape: (134, 512, 512), Mask shape: (134, 512, 512)\n"
          ]
        },
        {
          "output_type": "stream",
          "name": "stderr",
          "text": [
            "\rProcessing train_dataset.hdf5:  77%|███████▋  | 262/340 [9:19:49<4:04:57, 188.43s/it]"
          ]
        },
        {
          "output_type": "stream",
          "name": "stdout",
          "text": [
            "✅ Saved /LUNG1-324 with shape (402, 512, 512), min: -1298.3, max: 150.0\n",
            "📄 /LUNG1-325 — CT shape: (134, 512, 512), Mask shape: (134, 512, 512)\n"
          ]
        },
        {
          "output_type": "stream",
          "name": "stderr",
          "text": [
            "\rProcessing train_dataset.hdf5:  77%|███████▋  | 263/340 [9:20:26<3:03:29, 142.98s/it]"
          ]
        },
        {
          "output_type": "stream",
          "name": "stdout",
          "text": [
            "✅ Saved /LUNG1-325 with shape (402, 512, 512), min: -1302.6, max: 150.0\n",
            "📄 /LUNG1-326 — CT shape: (112, 512, 512), Mask shape: (112, 512, 512)\n"
          ]
        },
        {
          "output_type": "stream",
          "name": "stderr",
          "text": [
            "\rProcessing train_dataset.hdf5:  78%|███████▊  | 264/340 [9:20:56<2:18:12, 109.11s/it]"
          ]
        },
        {
          "output_type": "stream",
          "name": "stdout",
          "text": [
            "✅ Saved /LUNG1-326 with shape (336, 512, 512), min: -1350.0, max: 150.0\n",
            "📄 /LUNG1-327 — CT shape: (131, 512, 512), Mask shape: (131, 512, 512)\n"
          ]
        },
        {
          "output_type": "stream",
          "name": "stderr",
          "text": [
            "\rProcessing train_dataset.hdf5:  78%|███████▊  | 265/340 [9:44:38<10:28:47, 503.04s/it]"
          ]
        },
        {
          "output_type": "stream",
          "name": "stdout",
          "text": [
            "✅ Saved /LUNG1-327 with shape (393, 512, 512), min: -1293.3, max: 150.0\n",
            "📄 /LUNG1-328 — CT shape: (132, 512, 512), Mask shape: (132, 512, 512)\n"
          ]
        },
        {
          "output_type": "stream",
          "name": "stderr",
          "text": [
            "\rProcessing train_dataset.hdf5:  78%|███████▊  | 266/340 [9:45:15<7:28:01, 363.26s/it] "
          ]
        },
        {
          "output_type": "stream",
          "name": "stdout",
          "text": [
            "✅ Saved /LUNG1-328 with shape (396, 512, 512), min: -1324.7, max: 150.0\n",
            "📄 /LUNG1-330 — CT shape: (134, 512, 512), Mask shape: (134, 512, 512)\n"
          ]
        },
        {
          "output_type": "stream",
          "name": "stderr",
          "text": [
            "\rProcessing train_dataset.hdf5:  79%|███████▊  | 267/340 [9:45:52<5:22:56, 265.44s/it]"
          ]
        },
        {
          "output_type": "stream",
          "name": "stdout",
          "text": [
            "✅ Saved /LUNG1-330 with shape (402, 512, 512), min: -1266.8, max: 150.0\n",
            "📄 /LUNG1-331 — CT shape: (134, 512, 512), Mask shape: (134, 512, 512)\n"
          ]
        },
        {
          "output_type": "stream",
          "name": "stderr",
          "text": [
            "\rProcessing train_dataset.hdf5:  79%|███████▉  | 268/340 [9:46:29<3:56:21, 196.96s/it]"
          ]
        },
        {
          "output_type": "stream",
          "name": "stdout",
          "text": [
            "✅ Saved /LUNG1-331 with shape (402, 512, 512), min: -1293.9, max: 150.0\n",
            "📄 /LUNG1-332 — CT shape: (124, 512, 512), Mask shape: (124, 512, 512)\n"
          ]
        },
        {
          "output_type": "stream",
          "name": "stderr",
          "text": [
            "\rProcessing train_dataset.hdf5:  79%|███████▉  | 269/340 [9:47:04<2:55:28, 148.29s/it]"
          ]
        },
        {
          "output_type": "stream",
          "name": "stdout",
          "text": [
            "✅ Saved /LUNG1-332 with shape (372, 512, 512), min: -1311.8, max: 150.0\n",
            "📄 /LUNG1-333 — CT shape: (95, 512, 512), Mask shape: (95, 512, 512)\n"
          ]
        },
        {
          "output_type": "stream",
          "name": "stderr",
          "text": [
            "\rProcessing train_dataset.hdf5:  79%|███████▉  | 270/340 [9:47:29<2:09:57, 111.40s/it]"
          ]
        },
        {
          "output_type": "stream",
          "name": "stdout",
          "text": [
            "✅ Saved /LUNG1-333 with shape (285, 512, 512), min: -1234.3, max: 150.0\n",
            "📄 /LUNG1-334 — CT shape: (99, 512, 512), Mask shape: (99, 512, 512)\n"
          ]
        },
        {
          "output_type": "stream",
          "name": "stderr",
          "text": [
            "\rProcessing train_dataset.hdf5:  80%|███████▉  | 271/340 [10:11:57<9:56:08, 518.39s/it]"
          ]
        },
        {
          "output_type": "stream",
          "name": "stdout",
          "text": [
            "✅ Saved /LUNG1-334 with shape (297, 512, 512), min: -1239.9, max: 150.0\n",
            "📄 /LUNG1-335 — CT shape: (134, 512, 512), Mask shape: (134, 512, 512)\n"
          ]
        },
        {
          "output_type": "stream",
          "name": "stderr",
          "text": [
            "\rProcessing train_dataset.hdf5:  80%|████████  | 272/340 [10:12:35<7:03:56, 374.07s/it]"
          ]
        },
        {
          "output_type": "stream",
          "name": "stdout",
          "text": [
            "✅ Saved /LUNG1-335 with shape (402, 512, 512), min: -1345.5, max: 150.0\n",
            "📄 /LUNG1-336 — CT shape: (134, 512, 512), Mask shape: (134, 512, 512)\n"
          ]
        },
        {
          "output_type": "stream",
          "name": "stderr",
          "text": [
            "\rProcessing train_dataset.hdf5:  80%|████████  | 273/340 [10:13:12<5:04:52, 273.02s/it]"
          ]
        },
        {
          "output_type": "stream",
          "name": "stdout",
          "text": [
            "✅ Saved /LUNG1-336 with shape (402, 512, 512), min: -1299.5, max: 150.0\n",
            "📄 /LUNG1-339 — CT shape: (134, 512, 512), Mask shape: (134, 512, 512)\n"
          ]
        },
        {
          "output_type": "stream",
          "name": "stderr",
          "text": [
            "\rProcessing train_dataset.hdf5:  81%|████████  | 274/340 [10:13:49<3:42:23, 202.17s/it]"
          ]
        },
        {
          "output_type": "stream",
          "name": "stdout",
          "text": [
            "✅ Saved /LUNG1-339 with shape (402, 512, 512), min: -1350.0, max: 150.0\n",
            "📄 /LUNG1-341 — CT shape: (134, 512, 512), Mask shape: (134, 512, 512)\n"
          ]
        },
        {
          "output_type": "stream",
          "name": "stderr",
          "text": [
            "\rProcessing train_dataset.hdf5:  81%|████████  | 275/340 [10:14:26<2:45:18, 152.59s/it]"
          ]
        },
        {
          "output_type": "stream",
          "name": "stdout",
          "text": [
            "✅ Saved /LUNG1-341 with shape (402, 512, 512), min: -1339.4, max: 150.0\n",
            "📄 /LUNG1-342 — CT shape: (134, 512, 512), Mask shape: (134, 512, 512)\n"
          ]
        },
        {
          "output_type": "stream",
          "name": "stderr",
          "text": [
            "\rProcessing train_dataset.hdf5:  81%|████████  | 276/340 [10:15:03<2:05:54, 118.04s/it]"
          ]
        },
        {
          "output_type": "stream",
          "name": "stdout",
          "text": [
            "✅ Saved /LUNG1-342 with shape (402, 512, 512), min: -1324.9, max: 150.0\n",
            "📄 /LUNG1-343 — CT shape: (94, 512, 512), Mask shape: (94, 512, 512)\n"
          ]
        },
        {
          "output_type": "stream",
          "name": "stderr",
          "text": [
            "\rProcessing train_dataset.hdf5:  81%|████████▏ | 277/340 [10:46:35<11:22:41, 650.19s/it]"
          ]
        },
        {
          "output_type": "stream",
          "name": "stdout",
          "text": [
            "✅ Saved /LUNG1-343 with shape (282, 512, 512), min: -1340.3, max: 150.0\n",
            "📄 /LUNG1-344 — CT shape: (134, 512, 512), Mask shape: (134, 512, 512)\n"
          ]
        },
        {
          "output_type": "stream",
          "name": "stderr",
          "text": [
            "\rProcessing train_dataset.hdf5:  82%|████████▏ | 278/340 [10:47:14<8:02:29, 466.93s/it] "
          ]
        },
        {
          "output_type": "stream",
          "name": "stdout",
          "text": [
            "✅ Saved /LUNG1-344 with shape (402, 512, 512), min: -1271.1, max: 150.0\n",
            "📄 /LUNG1-345 — CT shape: (94, 512, 512), Mask shape: (94, 512, 512)\n"
          ]
        },
        {
          "output_type": "stream",
          "name": "stderr",
          "text": [
            "\rProcessing train_dataset.hdf5:  82%|████████▏ | 279/340 [10:47:41<5:40:22, 334.80s/it]"
          ]
        },
        {
          "output_type": "stream",
          "name": "stdout",
          "text": [
            "✅ Saved /LUNG1-345 with shape (282, 512, 512), min: -1289.1, max: 150.0\n",
            "📄 /LUNG1-346 — CT shape: (134, 512, 512), Mask shape: (134, 512, 512)\n"
          ]
        },
        {
          "output_type": "stream",
          "name": "stderr",
          "text": [
            "\rProcessing train_dataset.hdf5:  82%|████████▏ | 280/340 [10:48:20<4:06:07, 246.12s/it]"
          ]
        },
        {
          "output_type": "stream",
          "name": "stdout",
          "text": [
            "✅ Saved /LUNG1-346 with shape (402, 512, 512), min: -1350.0, max: 150.0\n",
            "📄 /LUNG1-347 — CT shape: (94, 512, 512), Mask shape: (94, 512, 512)\n"
          ]
        },
        {
          "output_type": "stream",
          "name": "stderr",
          "text": [
            "\rProcessing train_dataset.hdf5:  83%|████████▎ | 281/340 [10:48:46<2:57:09, 180.16s/it]"
          ]
        },
        {
          "output_type": "stream",
          "name": "stdout",
          "text": [
            "✅ Saved /LUNG1-347 with shape (282, 512, 512), min: -1338.1, max: 150.0\n",
            "📄 /LUNG1-348 — CT shape: (132, 512, 512), Mask shape: (132, 512, 512)\n"
          ]
        },
        {
          "output_type": "stream",
          "name": "stderr",
          "text": [
            "\rProcessing train_dataset.hdf5:  83%|████████▎ | 282/340 [10:49:44<2:18:37, 143.41s/it]"
          ]
        },
        {
          "output_type": "stream",
          "name": "stdout",
          "text": [
            "✅ Saved /LUNG1-348 with shape (396, 512, 512), min: -1325.2, max: 150.0\n",
            "📄 /LUNG1-349 — CT shape: (131, 512, 512), Mask shape: (131, 512, 512)\n"
          ]
        },
        {
          "output_type": "stream",
          "name": "stderr",
          "text": [
            "\rProcessing train_dataset.hdf5:  83%|████████▎ | 283/340 [10:50:23<1:46:28, 112.08s/it]"
          ]
        },
        {
          "output_type": "stream",
          "name": "stdout",
          "text": [
            "✅ Saved /LUNG1-349 with shape (393, 512, 512), min: -1299.8, max: 150.0\n",
            "📄 /LUNG1-350 — CT shape: (104, 512, 512), Mask shape: (104, 512, 512)\n"
          ]
        },
        {
          "output_type": "stream",
          "name": "stderr",
          "text": [
            "\rProcessing train_dataset.hdf5:  84%|████████▎ | 284/340 [10:50:52<1:21:22, 87.18s/it] "
          ]
        },
        {
          "output_type": "stream",
          "name": "stdout",
          "text": [
            "✅ Saved /LUNG1-350 with shape (312, 512, 512), min: -1350.0, max: 150.0\n",
            "📄 /LUNG1-351 — CT shape: (130, 512, 512), Mask shape: (130, 512, 512)\n"
          ]
        },
        {
          "output_type": "stream",
          "name": "stderr",
          "text": [
            "\rProcessing train_dataset.hdf5:  84%|████████▍ | 285/340 [10:51:30<1:06:15, 72.29s/it]"
          ]
        },
        {
          "output_type": "stream",
          "name": "stdout",
          "text": [
            "✅ Saved /LUNG1-351 with shape (390, 512, 512), min: -1350.0, max: 150.0\n",
            "📄 /LUNG1-354 — CT shape: (135, 512, 512), Mask shape: (135, 512, 512)\n"
          ]
        },
        {
          "output_type": "stream",
          "name": "stderr",
          "text": [
            "\rProcessing train_dataset.hdf5:  84%|████████▍ | 286/340 [10:52:09<56:02, 62.26s/it]  "
          ]
        },
        {
          "output_type": "stream",
          "name": "stdout",
          "text": [
            "✅ Saved /LUNG1-354 with shape (405, 512, 512), min: -1284.0, max: 150.0\n",
            "📄 /LUNG1-355 — CT shape: (102, 512, 512), Mask shape: (102, 512, 512)\n"
          ]
        },
        {
          "output_type": "stream",
          "name": "stderr",
          "text": [
            "\rProcessing train_dataset.hdf5:  84%|████████▍ | 287/340 [10:52:37<46:02, 52.12s/it]"
          ]
        },
        {
          "output_type": "stream",
          "name": "stdout",
          "text": [
            "✅ Saved /LUNG1-355 with shape (306, 512, 512), min: -1277.2, max: 150.0\n",
            "📄 /LUNG1-357 — CT shape: (134, 512, 512), Mask shape: (134, 512, 512)\n"
          ]
        },
        {
          "output_type": "stream",
          "name": "stderr",
          "text": [
            "\rProcessing train_dataset.hdf5:  85%|████████▍ | 288/340 [10:53:16<41:41, 48.10s/it]"
          ]
        },
        {
          "output_type": "stream",
          "name": "stdout",
          "text": [
            "✅ Saved /LUNG1-357 with shape (402, 512, 512), min: -1261.5, max: 150.0\n",
            "📄 /LUNG1-358 — CT shape: (104, 512, 512), Mask shape: (104, 512, 512)\n"
          ]
        },
        {
          "output_type": "stream",
          "name": "stderr",
          "text": [
            "\rProcessing train_dataset.hdf5:  85%|████████▌ | 289/340 [10:53:45<36:12, 42.60s/it]"
          ]
        },
        {
          "output_type": "stream",
          "name": "stdout",
          "text": [
            "✅ Saved /LUNG1-358 with shape (312, 512, 512), min: -1337.7, max: 150.0\n",
            "📄 /LUNG1-359 — CT shape: (134, 512, 512), Mask shape: (134, 512, 512)\n"
          ]
        },
        {
          "output_type": "stream",
          "name": "stderr",
          "text": [
            "\rProcessing train_dataset.hdf5:  85%|████████▌ | 290/340 [11:19:51<6:56:20, 499.61s/it]"
          ]
        },
        {
          "output_type": "stream",
          "name": "stdout",
          "text": [
            "✅ Saved /LUNG1-359 with shape (402, 512, 512), min: -1350.0, max: 150.0\n",
            "📄 /LUNG1-360 — CT shape: (134, 512, 512), Mask shape: (134, 512, 512)\n"
          ]
        },
        {
          "output_type": "stream",
          "name": "stderr",
          "text": [
            "\rProcessing train_dataset.hdf5:  86%|████████▌ | 291/340 [11:20:30<4:54:59, 361.20s/it]"
          ]
        },
        {
          "output_type": "stream",
          "name": "stdout",
          "text": [
            "✅ Saved /LUNG1-360 with shape (402, 512, 512), min: -1264.3, max: 150.0\n",
            "📄 /LUNG1-361 — CT shape: (134, 512, 512), Mask shape: (134, 512, 512)\n"
          ]
        },
        {
          "output_type": "stream",
          "name": "stderr",
          "text": [
            "\rProcessing train_dataset.hdf5:  86%|████████▌ | 292/340 [11:21:08<3:31:22, 264.21s/it]"
          ]
        },
        {
          "output_type": "stream",
          "name": "stdout",
          "text": [
            "✅ Saved /LUNG1-361 with shape (402, 512, 512), min: -1350.0, max: 150.0\n",
            "📄 /LUNG1-362 — CT shape: (134, 512, 512), Mask shape: (134, 512, 512)\n"
          ]
        },
        {
          "output_type": "stream",
          "name": "stderr",
          "text": [
            "\rProcessing train_dataset.hdf5:  86%|████████▌ | 293/340 [11:21:53<2:35:39, 198.72s/it]"
          ]
        },
        {
          "output_type": "stream",
          "name": "stdout",
          "text": [
            "✅ Saved /LUNG1-362 with shape (402, 512, 512), min: -1350.0, max: 150.0\n",
            "📄 /LUNG1-363 — CT shape: (94, 512, 512), Mask shape: (94, 512, 512)\n"
          ]
        },
        {
          "output_type": "stream",
          "name": "stderr",
          "text": [
            "\rProcessing train_dataset.hdf5:  86%|████████▋ | 294/340 [11:22:21<1:52:58, 147.35s/it]"
          ]
        },
        {
          "output_type": "stream",
          "name": "stdout",
          "text": [
            "✅ Saved /LUNG1-363 with shape (282, 512, 512), min: -1256.3, max: 150.0\n",
            "📄 /LUNG1-364 — CT shape: (134, 512, 512), Mask shape: (134, 512, 512)\n"
          ]
        },
        {
          "output_type": "stream",
          "name": "stderr",
          "text": [
            "\rProcessing train_dataset.hdf5:  87%|████████▋ | 295/340 [11:23:01<1:26:16, 115.04s/it]"
          ]
        },
        {
          "output_type": "stream",
          "name": "stdout",
          "text": [
            "✅ Saved /LUNG1-364 with shape (402, 512, 512), min: -1324.0, max: 150.0\n",
            "📄 /LUNG1-366 — CT shape: (134, 512, 512), Mask shape: (134, 512, 512)\n"
          ]
        },
        {
          "output_type": "stream",
          "name": "stderr",
          "text": [
            "\rProcessing train_dataset.hdf5:  87%|████████▋ | 296/340 [11:49:30<6:48:39, 557.25s/it]"
          ]
        },
        {
          "output_type": "stream",
          "name": "stdout",
          "text": [
            "✅ Saved /LUNG1-366 with shape (402, 512, 512), min: -1332.9, max: 150.0\n",
            "📄 /LUNG1-367 — CT shape: (134, 512, 512), Mask shape: (134, 512, 512)\n"
          ]
        },
        {
          "output_type": "stream",
          "name": "stderr",
          "text": [
            "\rProcessing train_dataset.hdf5:  87%|████████▋ | 297/340 [11:50:20<4:50:26, 405.26s/it]"
          ]
        },
        {
          "output_type": "stream",
          "name": "stdout",
          "text": [
            "✅ Saved /LUNG1-367 with shape (402, 512, 512), min: -1255.9, max: 150.0\n",
            "📄 /LUNG1-368 — CT shape: (131, 512, 512), Mask shape: (131, 512, 512)\n"
          ]
        },
        {
          "output_type": "stream",
          "name": "stderr",
          "text": [
            "\rProcessing train_dataset.hdf5:  88%|████████▊ | 298/340 [11:51:00<3:26:52, 295.54s/it]"
          ]
        },
        {
          "output_type": "stream",
          "name": "stdout",
          "text": [
            "✅ Saved /LUNG1-368 with shape (393, 512, 512), min: -1350.0, max: 150.0\n",
            "📄 /LUNG1-369 — CT shape: (134, 512, 512), Mask shape: (134, 512, 512)\n"
          ]
        },
        {
          "output_type": "stream",
          "name": "stderr",
          "text": [
            "\rProcessing train_dataset.hdf5:  88%|████████▊ | 299/340 [11:51:39<2:29:21, 218.58s/it]"
          ]
        },
        {
          "output_type": "stream",
          "name": "stdout",
          "text": [
            "✅ Saved /LUNG1-369 with shape (402, 512, 512), min: -1350.0, max: 150.0\n",
            "📄 /LUNG1-370 — CT shape: (134, 512, 512), Mask shape: (134, 512, 512)\n"
          ]
        },
        {
          "output_type": "stream",
          "name": "stderr",
          "text": [
            "\rProcessing train_dataset.hdf5:  88%|████████▊ | 300/340 [11:52:17<1:49:41, 164.54s/it]"
          ]
        },
        {
          "output_type": "stream",
          "name": "stdout",
          "text": [
            "✅ Saved /LUNG1-370 with shape (402, 512, 512), min: -1350.0, max: 150.0\n",
            "📄 /LUNG1-373 — CT shape: (94, 512, 512), Mask shape: (94, 512, 512)\n"
          ]
        },
        {
          "output_type": "stream",
          "name": "stderr",
          "text": [
            "\rProcessing train_dataset.hdf5:  89%|████████▊ | 301/340 [11:52:44<1:20:00, 123.08s/it]"
          ]
        },
        {
          "output_type": "stream",
          "name": "stdout",
          "text": [
            "✅ Saved /LUNG1-373 with shape (282, 512, 512), min: -1317.9, max: 150.0\n",
            "📄 /LUNG1-375 — CT shape: (134, 512, 512), Mask shape: (134, 512, 512)\n"
          ]
        },
        {
          "output_type": "stream",
          "name": "stderr",
          "text": [
            "\rProcessing train_dataset.hdf5:  89%|████████▉ | 302/340 [12:19:35<6:00:39, 569.47s/it]"
          ]
        },
        {
          "output_type": "stream",
          "name": "stdout",
          "text": [
            "✅ Saved /LUNG1-375 with shape (402, 512, 512), min: -1286.3, max: 150.0\n",
            "📄 /LUNG1-376 — CT shape: (134, 512, 512), Mask shape: (134, 512, 512)\n"
          ]
        },
        {
          "output_type": "stream",
          "name": "stderr",
          "text": [
            "\rProcessing train_dataset.hdf5:  89%|████████▉ | 303/340 [12:20:13<4:12:56, 410.19s/it]"
          ]
        },
        {
          "output_type": "stream",
          "name": "stdout",
          "text": [
            "✅ Saved /LUNG1-376 with shape (402, 512, 512), min: -1284.6, max: 150.0\n",
            "📄 /LUNG1-377 — CT shape: (134, 512, 512), Mask shape: (134, 512, 512)\n"
          ]
        },
        {
          "output_type": "stream",
          "name": "stderr",
          "text": [
            "\rProcessing train_dataset.hdf5:  89%|████████▉ | 304/340 [12:20:51<2:59:08, 298.57s/it]"
          ]
        },
        {
          "output_type": "stream",
          "name": "stdout",
          "text": [
            "✅ Saved /LUNG1-377 with shape (402, 512, 512), min: -1265.0, max: 150.0\n",
            "📄 /LUNG1-378 — CT shape: (134, 512, 512), Mask shape: (134, 512, 512)\n"
          ]
        },
        {
          "output_type": "stream",
          "name": "stderr",
          "text": [
            "\rProcessing train_dataset.hdf5:  90%|████████▉ | 305/340 [12:21:30<2:08:40, 220.59s/it]"
          ]
        },
        {
          "output_type": "stream",
          "name": "stdout",
          "text": [
            "✅ Saved /LUNG1-378 with shape (402, 512, 512), min: -1326.1, max: 150.0\n",
            "📄 /LUNG1-379 — CT shape: (134, 512, 512), Mask shape: (134, 512, 512)\n"
          ]
        },
        {
          "output_type": "stream",
          "name": "stderr",
          "text": [
            "\rProcessing train_dataset.hdf5:  90%|█████████ | 306/340 [12:22:08<1:34:02, 165.95s/it]"
          ]
        },
        {
          "output_type": "stream",
          "name": "stdout",
          "text": [
            "✅ Saved /LUNG1-379 with shape (402, 512, 512), min: -1305.7, max: 150.0\n",
            "📄 /LUNG1-380 — CT shape: (131, 512, 512), Mask shape: (131, 512, 512)\n",
            "✅ Saved /LUNG1-380 with shape (393, 512, 512), min: -1326.1, max: 150.0\n"
          ]
        },
        {
          "output_type": "stream",
          "name": "stderr",
          "text": [
            "\rProcessing train_dataset.hdf5:  90%|█████████ | 307/340 [12:22:50<1:10:48, 128.73s/it]"
          ]
        },
        {
          "output_type": "stream",
          "name": "stdout",
          "text": [
            "📄 /LUNG1-381 — CT shape: (134, 512, 512), Mask shape: (134, 512, 512)\n"
          ]
        },
        {
          "output_type": "stream",
          "name": "stderr",
          "text": [
            "\rProcessing train_dataset.hdf5:  91%|█████████ | 308/340 [12:50:35<5:14:20, 589.39s/it]"
          ]
        },
        {
          "output_type": "stream",
          "name": "stdout",
          "text": [
            "✅ Saved /LUNG1-381 with shape (402, 512, 512), min: -1299.7, max: 150.0\n",
            "📄 /LUNG1-382 — CT shape: (132, 512, 512), Mask shape: (132, 512, 512)\n"
          ]
        },
        {
          "output_type": "stream",
          "name": "stderr",
          "text": [
            "\rProcessing train_dataset.hdf5:  91%|█████████ | 309/340 [12:51:14<3:39:15, 424.37s/it]"
          ]
        },
        {
          "output_type": "stream",
          "name": "stdout",
          "text": [
            "✅ Saved /LUNG1-382 with shape (396, 512, 512), min: -1281.2, max: 150.0\n",
            "📄 /LUNG1-384 — CT shape: (134, 512, 512), Mask shape: (134, 512, 512)\n"
          ]
        },
        {
          "output_type": "stream",
          "name": "stderr",
          "text": [
            "\rProcessing train_dataset.hdf5:  91%|█████████ | 310/340 [12:51:53<2:34:19, 308.66s/it]"
          ]
        },
        {
          "output_type": "stream",
          "name": "stdout",
          "text": [
            "✅ Saved /LUNG1-384 with shape (402, 512, 512), min: -1293.8, max: 150.0\n",
            "📄 /LUNG1-385 — CT shape: (114, 512, 512), Mask shape: (114, 512, 512)\n"
          ]
        },
        {
          "output_type": "stream",
          "name": "stderr",
          "text": [
            "\rProcessing train_dataset.hdf5:  91%|█████████▏| 311/340 [12:52:24<1:49:02, 225.61s/it]"
          ]
        },
        {
          "output_type": "stream",
          "name": "stdout",
          "text": [
            "✅ Saved /LUNG1-385 with shape (342, 512, 512), min: -1296.7, max: 150.0\n",
            "📄 /LUNG1-386 — CT shape: (134, 512, 512), Mask shape: (134, 512, 512)\n"
          ]
        },
        {
          "output_type": "stream",
          "name": "stderr",
          "text": [
            "\rProcessing train_dataset.hdf5:  92%|█████████▏| 312/340 [12:53:03<1:19:04, 169.46s/it]"
          ]
        },
        {
          "output_type": "stream",
          "name": "stdout",
          "text": [
            "✅ Saved /LUNG1-386 with shape (402, 512, 512), min: -1325.7, max: 150.0\n",
            "📄 /LUNG1-387 — CT shape: (101, 512, 512), Mask shape: (101, 512, 512)\n"
          ]
        },
        {
          "output_type": "stream",
          "name": "stderr",
          "text": [
            "\rProcessing train_dataset.hdf5:  92%|█████████▏| 313/340 [12:53:31<57:14, 127.22s/it]  "
          ]
        },
        {
          "output_type": "stream",
          "name": "stdout",
          "text": [
            "✅ Saved /LUNG1-387 with shape (303, 512, 512), min: -1305.6, max: 150.0\n",
            "📄 /LUNG1-388 — CT shape: (131, 512, 512), Mask shape: (131, 512, 512)\n"
          ]
        },
        {
          "output_type": "stream",
          "name": "stderr",
          "text": [
            "\rProcessing train_dataset.hdf5:  92%|█████████▏| 314/340 [13:21:46<4:18:55, 597.50s/it]"
          ]
        },
        {
          "output_type": "stream",
          "name": "stdout",
          "text": [
            "✅ Saved /LUNG1-388 with shape (393, 512, 512), min: -1342.1, max: 150.0\n",
            "📄 /LUNG1-389 — CT shape: (93, 512, 512), Mask shape: (93, 512, 512)\n"
          ]
        },
        {
          "output_type": "stream",
          "name": "stderr",
          "text": [
            "\rProcessing train_dataset.hdf5:  93%|█████████▎| 315/340 [13:22:12<2:57:30, 426.02s/it]"
          ]
        },
        {
          "output_type": "stream",
          "name": "stdout",
          "text": [
            "✅ Saved /LUNG1-389 with shape (279, 512, 512), min: -1263.5, max: 150.0\n",
            "📄 /LUNG1-390 — CT shape: (129, 512, 512), Mask shape: (129, 512, 512)\n"
          ]
        },
        {
          "output_type": "stream",
          "name": "stderr",
          "text": [
            "\rProcessing train_dataset.hdf5:  93%|█████████▎| 316/340 [13:22:50<2:03:52, 309.69s/it]"
          ]
        },
        {
          "output_type": "stream",
          "name": "stdout",
          "text": [
            "✅ Saved /LUNG1-390 with shape (387, 512, 512), min: -1346.7, max: 150.0\n",
            "📄 /LUNG1-391 — CT shape: (119, 512, 512), Mask shape: (119, 512, 512)\n"
          ]
        },
        {
          "output_type": "stream",
          "name": "stderr",
          "text": [
            "\rProcessing train_dataset.hdf5:  93%|█████████▎| 317/340 [13:23:24<1:26:56, 226.79s/it]"
          ]
        },
        {
          "output_type": "stream",
          "name": "stdout",
          "text": [
            "✅ Saved /LUNG1-391 with shape (357, 512, 512), min: -1350.0, max: 150.0\n",
            "📄 /LUNG1-392 — CT shape: (122, 512, 512), Mask shape: (122, 512, 512)\n"
          ]
        },
        {
          "output_type": "stream",
          "name": "stderr",
          "text": [
            "\rProcessing train_dataset.hdf5:  94%|█████████▎| 318/340 [13:23:58<1:01:56, 168.94s/it]"
          ]
        },
        {
          "output_type": "stream",
          "name": "stdout",
          "text": [
            "✅ Saved /LUNG1-392 with shape (366, 512, 512), min: -1307.9, max: 150.0\n",
            "📄 /LUNG1-393 — CT shape: (134, 512, 512), Mask shape: (134, 512, 512)\n"
          ]
        },
        {
          "output_type": "stream",
          "name": "stderr",
          "text": [
            "\rProcessing train_dataset.hdf5:  94%|█████████▍| 319/340 [13:24:36<45:25, 129.78s/it]  "
          ]
        },
        {
          "output_type": "stream",
          "name": "stdout",
          "text": [
            "✅ Saved /LUNG1-393 with shape (402, 512, 512), min: -1294.7, max: 150.0\n",
            "📄 /LUNG1-394 — CT shape: (95, 512, 512), Mask shape: (95, 512, 512)\n"
          ]
        },
        {
          "output_type": "stream",
          "name": "stderr",
          "text": [
            "\rProcessing train_dataset.hdf5:  94%|█████████▍| 320/340 [13:25:03<32:57, 98.86s/it] "
          ]
        },
        {
          "output_type": "stream",
          "name": "stdout",
          "text": [
            "✅ Saved /LUNG1-394 with shape (285, 512, 512), min: -1340.4, max: 150.0\n",
            "📄 /LUNG1-395 — CT shape: (134, 512, 512), Mask shape: (134, 512, 512)\n"
          ]
        },
        {
          "output_type": "stream",
          "name": "stderr",
          "text": [
            "\rProcessing train_dataset.hdf5:  94%|█████████▍| 321/340 [13:53:39<3:04:56, 584.02s/it]"
          ]
        },
        {
          "output_type": "stream",
          "name": "stdout",
          "text": [
            "✅ Saved /LUNG1-395 with shape (402, 512, 512), min: -1350.0, max: 150.0\n",
            "📄 /LUNG1-396 — CT shape: (134, 512, 512), Mask shape: (134, 512, 512)\n"
          ]
        },
        {
          "output_type": "stream",
          "name": "stderr",
          "text": [
            "\rProcessing train_dataset.hdf5:  95%|█████████▍| 322/340 [13:54:18<2:06:08, 420.45s/it]"
          ]
        },
        {
          "output_type": "stream",
          "name": "stdout",
          "text": [
            "✅ Saved /LUNG1-396 with shape (402, 512, 512), min: -1330.7, max: 150.0\n",
            "📄 /LUNG1-397 — CT shape: (139, 512, 512), Mask shape: (139, 512, 512)\n"
          ]
        },
        {
          "output_type": "stream",
          "name": "stderr",
          "text": [
            "\rProcessing train_dataset.hdf5:  95%|█████████▌| 323/340 [13:54:57<1:26:41, 305.97s/it]"
          ]
        },
        {
          "output_type": "stream",
          "name": "stdout",
          "text": [
            "✅ Saved /LUNG1-397 with shape (417, 512, 512), min: -1350.0, max: 150.0\n",
            "📄 /LUNG1-398 — CT shape: (123, 512, 512), Mask shape: (123, 512, 512)\n"
          ]
        },
        {
          "output_type": "stream",
          "name": "stderr",
          "text": [
            "\rProcessing train_dataset.hdf5:  95%|█████████▌| 324/340 [13:55:31<59:52, 224.53s/it]  "
          ]
        },
        {
          "output_type": "stream",
          "name": "stdout",
          "text": [
            "✅ Saved /LUNG1-398 with shape (369, 512, 512), min: -1344.1, max: 150.0\n",
            "📄 /LUNG1-399 — CT shape: (134, 512, 512), Mask shape: (134, 512, 512)\n"
          ]
        },
        {
          "output_type": "stream",
          "name": "stderr",
          "text": [
            "\rProcessing train_dataset.hdf5:  96%|█████████▌| 325/340 [13:56:08<42:05, 168.35s/it]"
          ]
        },
        {
          "output_type": "stream",
          "name": "stdout",
          "text": [
            "✅ Saved /LUNG1-399 with shape (402, 512, 512), min: -1254.2, max: 150.0\n",
            "📄 /LUNG1-400 — CT shape: (134, 512, 512), Mask shape: (134, 512, 512)\n"
          ]
        },
        {
          "output_type": "stream",
          "name": "stderr",
          "text": [
            "\rProcessing train_dataset.hdf5:  96%|█████████▌| 326/340 [13:56:46<30:06, 129.04s/it]"
          ]
        },
        {
          "output_type": "stream",
          "name": "stdout",
          "text": [
            "✅ Saved /LUNG1-400 with shape (402, 512, 512), min: -1344.4, max: 150.0\n",
            "📄 /LUNG1-401 — CT shape: (134, 512, 512), Mask shape: (134, 512, 512)\n"
          ]
        },
        {
          "output_type": "stream",
          "name": "stderr",
          "text": [
            "\rProcessing train_dataset.hdf5:  96%|█████████▌| 327/340 [14:25:13<2:10:34, 602.62s/it]"
          ]
        },
        {
          "output_type": "stream",
          "name": "stdout",
          "text": [
            "✅ Saved /LUNG1-401 with shape (402, 512, 512), min: -1296.9, max: 150.0\n",
            "📄 /LUNG1-402 — CT shape: (134, 512, 512), Mask shape: (134, 512, 512)\n"
          ]
        },
        {
          "output_type": "stream",
          "name": "stderr",
          "text": [
            "\rProcessing train_dataset.hdf5:  96%|█████████▋| 328/340 [14:25:51<1:26:38, 433.20s/it]"
          ]
        },
        {
          "output_type": "stream",
          "name": "stdout",
          "text": [
            "✅ Saved /LUNG1-402 with shape (402, 512, 512), min: -1350.0, max: 150.0\n",
            "📄 /LUNG1-403 — CT shape: (134, 512, 512), Mask shape: (134, 512, 512)\n"
          ]
        },
        {
          "output_type": "stream",
          "name": "stderr",
          "text": [
            "\rProcessing train_dataset.hdf5:  97%|█████████▋| 329/340 [14:26:28<57:37, 314.32s/it]  "
          ]
        },
        {
          "output_type": "stream",
          "name": "stdout",
          "text": [
            "✅ Saved /LUNG1-403 with shape (402, 512, 512), min: -1323.6, max: 150.0\n",
            "📄 /LUNG1-404 — CT shape: (134, 512, 512), Mask shape: (134, 512, 512)\n"
          ]
        },
        {
          "output_type": "stream",
          "name": "stderr",
          "text": [
            "\rProcessing train_dataset.hdf5:  97%|█████████▋| 330/340 [14:27:05<38:29, 230.97s/it]"
          ]
        },
        {
          "output_type": "stream",
          "name": "stdout",
          "text": [
            "✅ Saved /LUNG1-404 with shape (402, 512, 512), min: -1315.3, max: 150.0\n",
            "📄 /LUNG1-406 — CT shape: (111, 512, 512), Mask shape: (111, 512, 512)\n"
          ]
        },
        {
          "output_type": "stream",
          "name": "stderr",
          "text": [
            "\rProcessing train_dataset.hdf5:  97%|█████████▋| 331/340 [14:27:34<25:34, 170.47s/it]"
          ]
        },
        {
          "output_type": "stream",
          "name": "stdout",
          "text": [
            "✅ Saved /LUNG1-406 with shape (333, 512, 512), min: -1350.0, max: 150.0\n",
            "📄 /LUNG1-407 — CT shape: (126, 512, 512), Mask shape: (126, 512, 512)\n"
          ]
        },
        {
          "output_type": "stream",
          "name": "stderr",
          "text": [
            "\rProcessing train_dataset.hdf5:  98%|█████████▊| 332/340 [14:28:09<17:19, 129.97s/it]"
          ]
        },
        {
          "output_type": "stream",
          "name": "stdout",
          "text": [
            "✅ Saved /LUNG1-407 with shape (378, 512, 512), min: -1350.0, max: 150.0\n",
            "📄 /LUNG1-409 — CT shape: (126, 512, 512), Mask shape: (126, 512, 512)\n"
          ]
        },
        {
          "output_type": "stream",
          "name": "stderr",
          "text": [
            "\rProcessing train_dataset.hdf5:  98%|█████████▊| 333/340 [14:57:03<1:11:17, 611.13s/it]"
          ]
        },
        {
          "output_type": "stream",
          "name": "stdout",
          "text": [
            "✅ Saved /LUNG1-409 with shape (378, 512, 512), min: -1350.0, max: 150.0\n",
            "📄 /LUNG1-411 — CT shape: (136, 512, 512), Mask shape: (136, 512, 512)\n"
          ]
        },
        {
          "output_type": "stream",
          "name": "stderr",
          "text": [
            "\rProcessing train_dataset.hdf5:  98%|█████████▊| 334/340 [14:57:41<43:55, 439.19s/it]  "
          ]
        },
        {
          "output_type": "stream",
          "name": "stdout",
          "text": [
            "✅ Saved /LUNG1-411 with shape (408, 512, 512), min: -1350.0, max: 150.0\n",
            "📄 /LUNG1-413 — CT shape: (116, 512, 512), Mask shape: (116, 512, 512)\n"
          ]
        },
        {
          "output_type": "stream",
          "name": "stderr",
          "text": [
            "\rProcessing train_dataset.hdf5:  99%|█████████▊| 335/340 [14:58:12<26:23, 316.77s/it]"
          ]
        },
        {
          "output_type": "stream",
          "name": "stdout",
          "text": [
            "✅ Saved /LUNG1-413 with shape (348, 512, 512), min: -1266.5, max: 150.0\n",
            "📄 /LUNG1-414 — CT shape: (134, 512, 512), Mask shape: (134, 512, 512)\n"
          ]
        },
        {
          "output_type": "stream",
          "name": "stderr",
          "text": [
            "\rProcessing train_dataset.hdf5:  99%|█████████▉| 336/340 [14:58:50<15:31, 232.89s/it]"
          ]
        },
        {
          "output_type": "stream",
          "name": "stdout",
          "text": [
            "✅ Saved /LUNG1-414 with shape (402, 512, 512), min: -1255.8, max: 150.0\n",
            "📄 /LUNG1-416 — CT shape: (131, 512, 512), Mask shape: (131, 512, 512)\n"
          ]
        },
        {
          "output_type": "stream",
          "name": "stderr",
          "text": [
            "\rProcessing train_dataset.hdf5:  99%|█████████▉| 337/340 [14:59:26<08:41, 173.82s/it]"
          ]
        },
        {
          "output_type": "stream",
          "name": "stdout",
          "text": [
            "✅ Saved /LUNG1-416 with shape (393, 512, 512), min: -1350.0, max: 150.0\n",
            "📄 /LUNG1-417 — CT shape: (131, 512, 512), Mask shape: (131, 512, 512)\n"
          ]
        },
        {
          "output_type": "stream",
          "name": "stderr",
          "text": [
            "\rProcessing train_dataset.hdf5:  99%|█████████▉| 338/340 [15:00:02<04:25, 132.58s/it]"
          ]
        },
        {
          "output_type": "stream",
          "name": "stdout",
          "text": [
            "✅ Saved /LUNG1-417 with shape (393, 512, 512), min: -1257.7, max: 150.0\n",
            "📄 /LUNG1-420 — CT shape: (134, 512, 512), Mask shape: (134, 512, 512)\n"
          ]
        },
        {
          "output_type": "stream",
          "name": "stderr",
          "text": [
            "\rProcessing train_dataset.hdf5: 100%|█████████▉| 339/340 [15:29:30<10:23, 623.29s/it]"
          ]
        },
        {
          "output_type": "stream",
          "name": "stdout",
          "text": [
            "✅ Saved /LUNG1-420 with shape (402, 512, 512), min: -1289.8, max: 150.0\n",
            "📄 /LUNG1-422 — CT shape: (116, 512, 512), Mask shape: (116, 512, 512)\n"
          ]
        },
        {
          "output_type": "stream",
          "name": "stderr",
          "text": [
            "Processing train_dataset.hdf5: 100%|██████████| 340/340 [15:30:02<00:00, 164.12s/it]"
          ]
        },
        {
          "output_type": "stream",
          "name": "stdout",
          "text": [
            "✅ Saved /LUNG1-422 with shape (348, 512, 512), min: -1350.0, max: 150.0\n",
            "📁 Finished saving preprocessed data to: /content/drive/MyDrive/PhDwork/Segmentation/datasets/Datasets_PreprocessedCT_clipping_uniformSpacing_With_Empty_NonEmpty_slices_In_Train/train_dataset.hdf5\n",
            "\n",
            "🚀 Starting preprocessing: valid_dataset.hdf5\n"
          ]
        },
        {
          "output_type": "stream",
          "name": "stderr",
          "text": [
            "\n"
          ]
        },
        {
          "output_type": "stream",
          "name": "stdout",
          "text": [
            "🔍 Found 43 patients in valid_dataset.hdf5.\n"
          ]
        },
        {
          "output_type": "stream",
          "name": "stderr",
          "text": [
            "\rProcessing valid_dataset.hdf5:   0%|          | 0/43 [00:00<?, ?it/s]"
          ]
        },
        {
          "output_type": "stream",
          "name": "stdout",
          "text": [
            "📄 /LUNG1-010 — CT shape: (91, 512, 512), Mask shape: (91, 512, 512)\n"
          ]
        },
        {
          "output_type": "stream",
          "name": "stderr",
          "text": [
            "\rProcessing valid_dataset.hdf5:   2%|▏         | 1/43 [00:26<18:49, 26.90s/it]"
          ]
        },
        {
          "output_type": "stream",
          "name": "stdout",
          "text": [
            "✅ Saved /LUNG1-010 with shape (273, 512, 512), min: -1350.0, max: 150.0\n",
            "📄 /LUNG1-031 — CT shape: (153, 512, 512), Mask shape: (153, 512, 512)\n"
          ]
        },
        {
          "output_type": "stream",
          "name": "stderr",
          "text": [
            "\rProcessing valid_dataset.hdf5:   5%|▍         | 2/43 [01:16<27:28, 40.20s/it]"
          ]
        },
        {
          "output_type": "stream",
          "name": "stdout",
          "text": [
            "✅ Saved /LUNG1-031 with shape (459, 512, 512), min: -1350.0, max: 150.0\n",
            "📄 /LUNG1-040 — CT shape: (95, 512, 512), Mask shape: (95, 512, 512)\n"
          ]
        },
        {
          "output_type": "stream",
          "name": "stderr",
          "text": [
            "\rProcessing valid_dataset.hdf5:   7%|▋         | 3/43 [01:46<23:48, 35.71s/it]"
          ]
        },
        {
          "output_type": "stream",
          "name": "stdout",
          "text": [
            "✅ Saved /LUNG1-040 with shape (285, 512, 512), min: -1350.0, max: 150.0\n",
            "📄 /LUNG1-056 — CT shape: (134, 512, 512), Mask shape: (134, 512, 512)\n"
          ]
        },
        {
          "output_type": "stream",
          "name": "stderr",
          "text": [
            "\rProcessing valid_dataset.hdf5:   9%|▉         | 4/43 [02:26<24:18, 37.41s/it]"
          ]
        },
        {
          "output_type": "stream",
          "name": "stdout",
          "text": [
            "✅ Saved /LUNG1-056 with shape (402, 512, 512), min: -1350.0, max: 150.0\n",
            "📄 /LUNG1-057 — CT shape: (101, 512, 512), Mask shape: (101, 512, 512)\n"
          ]
        },
        {
          "output_type": "stream",
          "name": "stderr",
          "text": [
            "\rProcessing valid_dataset.hdf5:  12%|█▏        | 5/43 [02:56<21:56, 34.64s/it]"
          ]
        },
        {
          "output_type": "stream",
          "name": "stdout",
          "text": [
            "✅ Saved /LUNG1-057 with shape (303, 512, 512), min: -1350.0, max: 150.0\n",
            "📄 /LUNG1-071 — CT shape: (135, 512, 512), Mask shape: (135, 512, 512)\n"
          ]
        },
        {
          "output_type": "stream",
          "name": "stderr",
          "text": [
            "\rProcessing valid_dataset.hdf5:  14%|█▍        | 6/43 [03:36<22:33, 36.58s/it]"
          ]
        },
        {
          "output_type": "stream",
          "name": "stdout",
          "text": [
            "✅ Saved /LUNG1-071 with shape (405, 512, 512), min: -1350.0, max: 150.0\n",
            "📄 /LUNG1-073 — CT shape: (176, 512, 512), Mask shape: (176, 512, 512)\n"
          ]
        },
        {
          "output_type": "stream",
          "name": "stderr",
          "text": [
            "\rProcessing valid_dataset.hdf5:  16%|█▋        | 7/43 [04:30<25:13, 42.03s/it]"
          ]
        },
        {
          "output_type": "stream",
          "name": "stdout",
          "text": [
            "✅ Saved /LUNG1-073 with shape (528, 512, 512), min: -1350.0, max: 150.0\n",
            "📄 /LUNG1-074 — CT shape: (115, 512, 512), Mask shape: (115, 512, 512)\n"
          ]
        },
        {
          "output_type": "stream",
          "name": "stderr",
          "text": [
            "\rProcessing valid_dataset.hdf5:  19%|█▊        | 8/43 [05:04<23:10, 39.71s/it]"
          ]
        },
        {
          "output_type": "stream",
          "name": "stdout",
          "text": [
            "✅ Saved /LUNG1-074 with shape (345, 512, 512), min: -1350.0, max: 150.0\n",
            "📄 /LUNG1-076 — CT shape: (92, 512, 512), Mask shape: (92, 512, 512)\n"
          ]
        },
        {
          "output_type": "stream",
          "name": "stderr",
          "text": [
            "\rProcessing valid_dataset.hdf5:  21%|██        | 9/43 [05:31<20:15, 35.76s/it]"
          ]
        },
        {
          "output_type": "stream",
          "name": "stdout",
          "text": [
            "✅ Saved /LUNG1-076 with shape (276, 512, 512), min: -1350.0, max: 150.0\n",
            "📄 /LUNG1-077 — CT shape: (117, 512, 512), Mask shape: (117, 512, 512)\n"
          ]
        },
        {
          "output_type": "stream",
          "name": "stderr",
          "text": [
            "\rProcessing valid_dataset.hdf5:  23%|██▎       | 10/43 [06:06<19:27, 35.39s/it]"
          ]
        },
        {
          "output_type": "stream",
          "name": "stdout",
          "text": [
            "✅ Saved /LUNG1-077 with shape (351, 512, 512), min: -1350.0, max: 150.0\n",
            "📄 /LUNG1-080 — CT shape: (99, 512, 512), Mask shape: (99, 512, 512)\n"
          ]
        },
        {
          "output_type": "stream",
          "name": "stderr",
          "text": [
            "\rProcessing valid_dataset.hdf5:  26%|██▌       | 11/43 [06:35<17:52, 33.51s/it]"
          ]
        },
        {
          "output_type": "stream",
          "name": "stdout",
          "text": [
            "✅ Saved /LUNG1-080 with shape (297, 512, 512), min: -1350.0, max: 150.0\n",
            "📄 /LUNG1-091 — CT shape: (135, 512, 512), Mask shape: (135, 512, 512)\n"
          ]
        },
        {
          "output_type": "stream",
          "name": "stderr",
          "text": [
            "\rProcessing valid_dataset.hdf5:  28%|██▊       | 12/43 [07:21<19:15, 37.26s/it]"
          ]
        },
        {
          "output_type": "stream",
          "name": "stdout",
          "text": [
            "✅ Saved /LUNG1-091 with shape (405, 512, 512), min: -1350.0, max: 150.0\n",
            "📄 /LUNG1-095 — CT shape: (106, 512, 512), Mask shape: (106, 512, 512)\n"
          ]
        },
        {
          "output_type": "stream",
          "name": "stderr",
          "text": [
            "\rProcessing valid_dataset.hdf5:  30%|███       | 13/43 [07:52<17:38, 35.30s/it]"
          ]
        },
        {
          "output_type": "stream",
          "name": "stdout",
          "text": [
            "✅ Saved /LUNG1-095 with shape (315, 512, 512), min: -1350.0, max: 150.0\n",
            "📄 /LUNG1-117 — CT shape: (90, 512, 512), Mask shape: (90, 512, 512)\n"
          ]
        },
        {
          "output_type": "stream",
          "name": "stderr",
          "text": [
            "\rProcessing valid_dataset.hdf5:  33%|███▎      | 14/43 [08:20<15:58, 33.05s/it]"
          ]
        },
        {
          "output_type": "stream",
          "name": "stdout",
          "text": [
            "✅ Saved /LUNG1-117 with shape (270, 512, 512), min: -1350.0, max: 150.0\n",
            "📄 /LUNG1-134 — CT shape: (108, 512, 512), Mask shape: (108, 512, 512)\n"
          ]
        },
        {
          "output_type": "stream",
          "name": "stderr",
          "text": [
            "\rProcessing valid_dataset.hdf5:  35%|███▍      | 15/43 [08:51<15:11, 32.56s/it]"
          ]
        },
        {
          "output_type": "stream",
          "name": "stdout",
          "text": [
            "✅ Saved /LUNG1-134 with shape (324, 512, 512), min: -1348.4, max: 150.0\n",
            "📄 /LUNG1-139 — CT shape: (107, 512, 512), Mask shape: (107, 512, 512)\n"
          ]
        },
        {
          "output_type": "stream",
          "name": "stderr",
          "text": [
            "\rProcessing valid_dataset.hdf5:  37%|███▋      | 16/43 [09:22<14:26, 32.09s/it]"
          ]
        },
        {
          "output_type": "stream",
          "name": "stdout",
          "text": [
            "✅ Saved /LUNG1-139 with shape (321, 512, 512), min: -1234.8, max: 150.0\n",
            "📄 /LUNG1-147 — CT shape: (99, 512, 512), Mask shape: (99, 512, 512)\n"
          ]
        },
        {
          "output_type": "stream",
          "name": "stderr",
          "text": [
            "\rProcessing valid_dataset.hdf5:  40%|███▉      | 17/43 [09:51<13:25, 30.98s/it]"
          ]
        },
        {
          "output_type": "stream",
          "name": "stdout",
          "text": [
            "✅ Saved /LUNG1-147 with shape (297, 512, 512), min: -1281.1, max: 150.0\n",
            "📄 /LUNG1-170 — CT shape: (110, 512, 512), Mask shape: (110, 512, 512)\n"
          ]
        },
        {
          "output_type": "stream",
          "name": "stderr",
          "text": [
            "\rProcessing valid_dataset.hdf5:  42%|████▏     | 18/43 [10:22<12:57, 31.10s/it]"
          ]
        },
        {
          "output_type": "stream",
          "name": "stdout",
          "text": [
            "✅ Saved /LUNG1-170 with shape (330, 512, 512), min: -1234.6, max: 150.0\n",
            "📄 /LUNG1-177 — CT shape: (94, 512, 512), Mask shape: (94, 512, 512)\n"
          ]
        },
        {
          "output_type": "stream",
          "name": "stderr",
          "text": [
            "\rProcessing valid_dataset.hdf5:  44%|████▍     | 19/43 [10:50<12:01, 30.08s/it]"
          ]
        },
        {
          "output_type": "stream",
          "name": "stdout",
          "text": [
            "✅ Saved /LUNG1-177 with shape (282, 512, 512), min: -1267.5, max: 150.0\n",
            "📄 /LUNG1-186 — CT shape: (134, 512, 512), Mask shape: (134, 512, 512)\n"
          ]
        },
        {
          "output_type": "stream",
          "name": "stderr",
          "text": [
            "\rProcessing valid_dataset.hdf5:  47%|████▋     | 20/43 [11:49<14:55, 38.94s/it]"
          ]
        },
        {
          "output_type": "stream",
          "name": "stdout",
          "text": [
            "✅ Saved /LUNG1-186 with shape (402, 512, 512), min: -1287.2, max: 150.0\n",
            "📄 /LUNG1-194 — CT shape: (127, 512, 512), Mask shape: (127, 512, 512)\n"
          ]
        },
        {
          "output_type": "stream",
          "name": "stderr",
          "text": [
            "\rProcessing valid_dataset.hdf5:  49%|████▉     | 21/43 [12:42<15:50, 43.20s/it]"
          ]
        },
        {
          "output_type": "stream",
          "name": "stdout",
          "text": [
            "✅ Saved /LUNG1-194 with shape (384, 512, 512), min: -1349.6, max: 150.0\n",
            "📄 /LUNG1-196 — CT shape: (94, 512, 512), Mask shape: (94, 512, 512)\n"
          ]
        },
        {
          "output_type": "stream",
          "name": "stderr",
          "text": [
            "\rProcessing valid_dataset.hdf5:  51%|█████     | 22/43 [13:10<13:31, 38.64s/it]"
          ]
        },
        {
          "output_type": "stream",
          "name": "stdout",
          "text": [
            "✅ Saved /LUNG1-196 with shape (282, 512, 512), min: -1280.7, max: 150.0\n",
            "📄 /LUNG1-198 — CT shape: (131, 512, 512), Mask shape: (131, 512, 512)\n"
          ]
        },
        {
          "output_type": "stream",
          "name": "stderr",
          "text": [
            "\rProcessing valid_dataset.hdf5:  53%|█████▎    | 23/43 [13:48<12:44, 38.22s/it]"
          ]
        },
        {
          "output_type": "stream",
          "name": "stdout",
          "text": [
            "✅ Saved /LUNG1-198 with shape (393, 512, 512), min: -1298.0, max: 150.0\n",
            "📄 /LUNG1-210 — CT shape: (131, 512, 512), Mask shape: (131, 512, 512)\n"
          ]
        },
        {
          "output_type": "stream",
          "name": "stderr",
          "text": [
            "\rProcessing valid_dataset.hdf5:  56%|█████▌    | 24/43 [14:25<12:02, 38.02s/it]"
          ]
        },
        {
          "output_type": "stream",
          "name": "stdout",
          "text": [
            "✅ Saved /LUNG1-210 with shape (393, 512, 512), min: -1350.0, max: 150.0\n",
            "📄 /LUNG1-220 — CT shape: (94, 512, 512), Mask shape: (94, 512, 512)\n"
          ]
        },
        {
          "output_type": "stream",
          "name": "stderr",
          "text": [
            "\rProcessing valid_dataset.hdf5:  58%|█████▊    | 25/43 [14:52<10:22, 34.59s/it]"
          ]
        },
        {
          "output_type": "stream",
          "name": "stdout",
          "text": [
            "✅ Saved /LUNG1-220 with shape (282, 512, 512), min: -1282.4, max: 150.0\n",
            "📄 /LUNG1-230 — CT shape: (93, 512, 512), Mask shape: (93, 512, 512)\n"
          ]
        },
        {
          "output_type": "stream",
          "name": "stderr",
          "text": [
            "\rProcessing valid_dataset.hdf5:  60%|██████    | 26/43 [15:18<09:07, 32.20s/it]"
          ]
        },
        {
          "output_type": "stream",
          "name": "stdout",
          "text": [
            "✅ Saved /LUNG1-230 with shape (279, 512, 512), min: -1236.1, max: 150.0\n",
            "📄 /LUNG1-233 — CT shape: (134, 512, 512), Mask shape: (134, 512, 512)\n"
          ]
        },
        {
          "output_type": "stream",
          "name": "stderr",
          "text": [
            "\rProcessing valid_dataset.hdf5:  63%|██████▎   | 27/43 [15:57<09:07, 34.20s/it]"
          ]
        },
        {
          "output_type": "stream",
          "name": "stdout",
          "text": [
            "✅ Saved /LUNG1-233 with shape (402, 512, 512), min: -1292.7, max: 150.0\n",
            "📄 /LUNG1-241 — CT shape: (136, 512, 512), Mask shape: (136, 512, 512)\n"
          ]
        },
        {
          "output_type": "stream",
          "name": "stderr",
          "text": [
            "\rProcessing valid_dataset.hdf5:  65%|██████▌   | 28/43 [16:37<08:55, 35.72s/it]"
          ]
        },
        {
          "output_type": "stream",
          "name": "stdout",
          "text": [
            "✅ Saved /LUNG1-241 with shape (408, 512, 512), min: -1329.4, max: 150.0\n",
            "📄 /LUNG1-249 — CT shape: (93, 512, 512), Mask shape: (93, 512, 512)\n"
          ]
        },
        {
          "output_type": "stream",
          "name": "stderr",
          "text": [
            "\rProcessing valid_dataset.hdf5:  67%|██████▋   | 29/43 [17:02<07:38, 32.74s/it]"
          ]
        },
        {
          "output_type": "stream",
          "name": "stdout",
          "text": [
            "✅ Saved /LUNG1-249 with shape (279, 512, 512), min: -1316.7, max: 150.0\n",
            "📄 /LUNG1-264 — CT shape: (130, 512, 512), Mask shape: (130, 512, 512)\n"
          ]
        },
        {
          "output_type": "stream",
          "name": "stderr",
          "text": [
            "\rProcessing valid_dataset.hdf5:  70%|██████▉   | 30/43 [17:40<07:23, 34.10s/it]"
          ]
        },
        {
          "output_type": "stream",
          "name": "stdout",
          "text": [
            "✅ Saved /LUNG1-264 with shape (390, 512, 512), min: -1282.8, max: 150.0\n",
            "📄 /LUNG1-273 — CT shape: (136, 512, 512), Mask shape: (136, 512, 512)\n"
          ]
        },
        {
          "output_type": "stream",
          "name": "stderr",
          "text": [
            "\rProcessing valid_dataset.hdf5:  72%|███████▏  | 31/43 [18:19<07:07, 35.59s/it]"
          ]
        },
        {
          "output_type": "stream",
          "name": "stdout",
          "text": [
            "✅ Saved /LUNG1-273 with shape (408, 512, 512), min: -1293.0, max: 150.0\n",
            "📄 /LUNG1-299 — CT shape: (93, 512, 512), Mask shape: (93, 512, 512)\n"
          ]
        },
        {
          "output_type": "stream",
          "name": "stderr",
          "text": [
            "\rProcessing valid_dataset.hdf5:  74%|███████▍  | 32/43 [18:45<05:59, 32.70s/it]"
          ]
        },
        {
          "output_type": "stream",
          "name": "stdout",
          "text": [
            "✅ Saved /LUNG1-299 with shape (279, 512, 512), min: -1350.0, max: 150.0\n",
            "📄 /LUNG1-329 — CT shape: (134, 512, 512), Mask shape: (134, 512, 512)\n"
          ]
        },
        {
          "output_type": "stream",
          "name": "stderr",
          "text": [
            "\rProcessing valid_dataset.hdf5:  77%|███████▋  | 33/43 [19:24<05:47, 34.72s/it]"
          ]
        },
        {
          "output_type": "stream",
          "name": "stdout",
          "text": [
            "✅ Saved /LUNG1-329 with shape (402, 512, 512), min: -1350.0, max: 150.0\n",
            "📄 /LUNG1-337 — CT shape: (134, 512, 512), Mask shape: (134, 512, 512)\n"
          ]
        },
        {
          "output_type": "stream",
          "name": "stderr",
          "text": [
            "\rProcessing valid_dataset.hdf5:  79%|███████▉  | 34/43 [20:02<05:21, 35.69s/it]"
          ]
        },
        {
          "output_type": "stream",
          "name": "stdout",
          "text": [
            "✅ Saved /LUNG1-337 with shape (402, 512, 512), min: -1350.0, max: 150.0\n",
            "📄 /LUNG1-340 — CT shape: (92, 512, 512), Mask shape: (92, 512, 512)\n"
          ]
        },
        {
          "output_type": "stream",
          "name": "stderr",
          "text": [
            "\rProcessing valid_dataset.hdf5:  81%|████████▏ | 35/43 [20:28<04:21, 32.67s/it]"
          ]
        },
        {
          "output_type": "stream",
          "name": "stdout",
          "text": [
            "✅ Saved /LUNG1-340 with shape (276, 512, 512), min: -1350.0, max: 150.0\n",
            "📄 /LUNG1-356 — CT shape: (134, 512, 512), Mask shape: (134, 512, 512)\n"
          ]
        },
        {
          "output_type": "stream",
          "name": "stderr",
          "text": [
            "\rProcessing valid_dataset.hdf5:  84%|████████▎ | 36/43 [21:06<04:00, 34.34s/it]"
          ]
        },
        {
          "output_type": "stream",
          "name": "stdout",
          "text": [
            "✅ Saved /LUNG1-356 with shape (402, 512, 512), min: -1270.4, max: 150.0\n",
            "📄 /LUNG1-371 — CT shape: (173, 512, 512), Mask shape: (173, 512, 512)\n"
          ]
        },
        {
          "output_type": "stream",
          "name": "stderr",
          "text": [
            "\rProcessing valid_dataset.hdf5:  86%|████████▌ | 37/43 [21:55<03:52, 38.78s/it]"
          ]
        },
        {
          "output_type": "stream",
          "name": "stdout",
          "text": [
            "✅ Saved /LUNG1-371 with shape (519, 512, 512), min: -1259.6, max: 150.0\n",
            "📄 /LUNG1-372 — CT shape: (134, 512, 512), Mask shape: (134, 512, 512)\n"
          ]
        },
        {
          "output_type": "stream",
          "name": "stderr",
          "text": [
            "\rProcessing valid_dataset.hdf5:  88%|████████▊ | 38/43 [22:36<03:17, 39.50s/it]"
          ]
        },
        {
          "output_type": "stream",
          "name": "stdout",
          "text": [
            "✅ Saved /LUNG1-372 with shape (402, 512, 512), min: -1347.2, max: 150.0\n",
            "📄 /LUNG1-412 — CT shape: (134, 512, 512), Mask shape: (134, 512, 512)\n"
          ]
        },
        {
          "output_type": "stream",
          "name": "stderr",
          "text": [
            "\rProcessing valid_dataset.hdf5:  91%|█████████ | 39/43 [23:13<02:34, 38.63s/it]"
          ]
        },
        {
          "output_type": "stream",
          "name": "stdout",
          "text": [
            "✅ Saved /LUNG1-412 with shape (402, 512, 512), min: -1350.0, max: 150.0\n",
            "📄 /LUNG1-415 — CT shape: (122, 512, 512), Mask shape: (122, 512, 512)\n"
          ]
        },
        {
          "output_type": "stream",
          "name": "stderr",
          "text": [
            "\rProcessing valid_dataset.hdf5:  93%|█████████▎| 40/43 [23:46<01:50, 36.91s/it]"
          ]
        },
        {
          "output_type": "stream",
          "name": "stdout",
          "text": [
            "✅ Saved /LUNG1-415 with shape (366, 512, 512), min: -1350.0, max: 150.0\n",
            "📄 /LUNG1-418 — CT shape: (133, 512, 512), Mask shape: (133, 512, 512)\n"
          ]
        },
        {
          "output_type": "stream",
          "name": "stderr",
          "text": [
            "\rProcessing valid_dataset.hdf5:  95%|█████████▌| 41/43 [24:21<01:12, 36.46s/it]"
          ]
        },
        {
          "output_type": "stream",
          "name": "stdout",
          "text": [
            "✅ Saved /LUNG1-418 with shape (399, 512, 512), min: -1315.4, max: 150.0\n",
            "📄 /LUNG1-419 — CT shape: (134, 512, 512), Mask shape: (134, 512, 512)\n"
          ]
        },
        {
          "output_type": "stream",
          "name": "stderr",
          "text": [
            "\rProcessing valid_dataset.hdf5:  98%|█████████▊| 42/43 [24:57<00:36, 36.41s/it]"
          ]
        },
        {
          "output_type": "stream",
          "name": "stdout",
          "text": [
            "✅ Saved /LUNG1-419 with shape (402, 512, 512), min: -1345.8, max: 150.0\n",
            "📄 /LUNG1-421 — CT shape: (134, 512, 512), Mask shape: (134, 512, 512)\n"
          ]
        },
        {
          "output_type": "stream",
          "name": "stderr",
          "text": [
            "Processing valid_dataset.hdf5: 100%|██████████| 43/43 [25:34<00:00, 35.68s/it]"
          ]
        },
        {
          "output_type": "stream",
          "name": "stdout",
          "text": [
            "✅ Saved /LUNG1-421 with shape (402, 512, 512), min: -1350.0, max: 150.0\n",
            "📁 Finished saving preprocessed data to: /content/drive/MyDrive/PhDwork/Segmentation/datasets/Datasets_PreprocessedCT_clipping_uniformSpacing_With_Empty_NonEmpty_slices_In_Train/valid_dataset.hdf5\n",
            "\n",
            "🚀 Starting preprocessing: test_dataset.hdf5\n"
          ]
        },
        {
          "output_type": "stream",
          "name": "stderr",
          "text": [
            "\n"
          ]
        },
        {
          "output_type": "stream",
          "name": "stdout",
          "text": [
            "🔍 Found 38 patients in test_dataset.hdf5.\n"
          ]
        },
        {
          "output_type": "stream",
          "name": "stderr",
          "text": [
            "\rProcessing test_dataset.hdf5:   0%|          | 0/38 [00:00<?, ?it/s]"
          ]
        },
        {
          "output_type": "stream",
          "name": "stdout",
          "text": [
            "📄 /LUNG1-001 — CT shape: (134, 512, 512), Mask shape: (134, 512, 512)\n"
          ]
        },
        {
          "output_type": "stream",
          "name": "stderr",
          "text": [
            "\rProcessing test_dataset.hdf5:   3%|▎         | 1/38 [00:37<23:02, 37.36s/it]"
          ]
        },
        {
          "output_type": "stream",
          "name": "stdout",
          "text": [
            "✅ Saved /LUNG1-001 with shape (402, 512, 512), min: -1276.6, max: 150.0\n",
            "📄 /LUNG1-025 — CT shape: (106, 512, 512), Mask shape: (106, 512, 512)\n"
          ]
        },
        {
          "output_type": "stream",
          "name": "stderr",
          "text": [
            "\rProcessing test_dataset.hdf5:   5%|▌         | 2/38 [01:04<18:55, 31.55s/it]"
          ]
        },
        {
          "output_type": "stream",
          "name": "stdout",
          "text": [
            "✅ Saved /LUNG1-025 with shape (318, 512, 512), min: -1270.9, max: 150.0\n",
            "📄 /LUNG1-027 — CT shape: (108, 512, 512), Mask shape: (108, 512, 512)\n"
          ]
        },
        {
          "output_type": "stream",
          "name": "stderr",
          "text": [
            "\rProcessing test_dataset.hdf5:   8%|▊         | 3/38 [01:33<17:33, 30.11s/it]"
          ]
        },
        {
          "output_type": "stream",
          "name": "stdout",
          "text": [
            "✅ Saved /LUNG1-027 with shape (324, 512, 512), min: -1227.0, max: 150.0\n",
            "📄 /LUNG1-034 — CT shape: (95, 512, 512), Mask shape: (95, 512, 512)\n"
          ]
        },
        {
          "output_type": "stream",
          "name": "stderr",
          "text": [
            "\rProcessing test_dataset.hdf5:  11%|█         | 4/38 [01:58<15:59, 28.23s/it]"
          ]
        },
        {
          "output_type": "stream",
          "name": "stdout",
          "text": [
            "✅ Saved /LUNG1-034 with shape (285, 512, 512), min: -1350.0, max: 150.0\n",
            "📄 /LUNG1-039 — CT shape: (95, 512, 512), Mask shape: (95, 512, 512)\n"
          ]
        },
        {
          "output_type": "stream",
          "name": "stderr",
          "text": [
            "\rProcessing test_dataset.hdf5:  13%|█▎        | 5/38 [02:23<14:57, 27.20s/it]"
          ]
        },
        {
          "output_type": "stream",
          "name": "stdout",
          "text": [
            "✅ Saved /LUNG1-039 with shape (285, 512, 512), min: -1350.0, max: 150.0\n",
            "📄 /LUNG1-066 — CT shape: (92, 512, 512), Mask shape: (92, 512, 512)\n"
          ]
        },
        {
          "output_type": "stream",
          "name": "stderr",
          "text": [
            "\rProcessing test_dataset.hdf5:  16%|█▌        | 6/38 [02:48<14:01, 26.29s/it]"
          ]
        },
        {
          "output_type": "stream",
          "name": "stdout",
          "text": [
            "✅ Saved /LUNG1-066 with shape (276, 512, 512), min: -1350.0, max: 150.0\n",
            "📄 /LUNG1-078 — CT shape: (136, 512, 512), Mask shape: (136, 512, 512)\n"
          ]
        },
        {
          "output_type": "stream",
          "name": "stderr",
          "text": [
            "\rProcessing test_dataset.hdf5:  18%|█▊        | 7/38 [03:25<15:27, 29.91s/it]"
          ]
        },
        {
          "output_type": "stream",
          "name": "stdout",
          "text": [
            "✅ Saved /LUNG1-078 with shape (408, 512, 512), min: -1350.0, max: 150.0\n",
            "📄 /LUNG1-088 — CT shape: (123, 512, 512), Mask shape: (123, 512, 512)\n"
          ]
        },
        {
          "output_type": "stream",
          "name": "stderr",
          "text": [
            "\rProcessing test_dataset.hdf5:  21%|██        | 8/38 [04:00<15:43, 31.45s/it]"
          ]
        },
        {
          "output_type": "stream",
          "name": "stdout",
          "text": [
            "✅ Saved /LUNG1-088 with shape (369, 512, 512), min: -1350.0, max: 150.0\n",
            "📄 /LUNG1-107 — CT shape: (116, 512, 512), Mask shape: (116, 512, 512)\n"
          ]
        },
        {
          "output_type": "stream",
          "name": "stderr",
          "text": [
            "\rProcessing test_dataset.hdf5:  24%|██▎       | 9/38 [04:31<15:08, 31.32s/it]"
          ]
        },
        {
          "output_type": "stream",
          "name": "stdout",
          "text": [
            "✅ Saved /LUNG1-107 with shape (348, 512, 512), min: -1350.0, max: 150.0\n",
            "📄 /LUNG1-132 — CT shape: (114, 512, 512), Mask shape: (114, 512, 512)\n"
          ]
        },
        {
          "output_type": "stream",
          "name": "stderr",
          "text": [
            "\rProcessing test_dataset.hdf5:  26%|██▋       | 10/38 [05:02<14:31, 31.11s/it]"
          ]
        },
        {
          "output_type": "stream",
          "name": "stdout",
          "text": [
            "✅ Saved /LUNG1-132 with shape (342, 512, 512), min: -1329.2, max: 150.0\n",
            "📄 /LUNG1-133 — CT shape: (184, 512, 512), Mask shape: (184, 512, 512)\n"
          ]
        },
        {
          "output_type": "stream",
          "name": "stderr",
          "text": [
            "\rProcessing test_dataset.hdf5:  29%|██▉       | 11/38 [05:54<16:52, 37.52s/it]"
          ]
        },
        {
          "output_type": "stream",
          "name": "stdout",
          "text": [
            "✅ Saved /LUNG1-133 with shape (552, 512, 512), min: -1350.0, max: 150.0\n",
            "📄 /LUNG1-143 — CT shape: (134, 512, 512), Mask shape: (134, 512, 512)\n"
          ]
        },
        {
          "output_type": "stream",
          "name": "stderr",
          "text": [
            "\rProcessing test_dataset.hdf5:  32%|███▏      | 12/38 [06:30<16:03, 37.04s/it]"
          ]
        },
        {
          "output_type": "stream",
          "name": "stdout",
          "text": [
            "✅ Saved /LUNG1-143 with shape (402, 512, 512), min: -1350.0, max: 150.0\n",
            "📄 /LUNG1-149 — CT shape: (118, 512, 512), Mask shape: (118, 512, 512)\n"
          ]
        },
        {
          "output_type": "stream",
          "name": "stderr",
          "text": [
            "\rProcessing test_dataset.hdf5:  34%|███▍      | 13/38 [06:52<13:31, 32.46s/it]"
          ]
        },
        {
          "output_type": "stream",
          "name": "stdout",
          "text": [
            "✅ Saved /LUNG1-149 with shape (354, 512, 512), min: -1350.0, max: 150.0\n",
            "📄 /LUNG1-151 — CT shape: (118, 512, 512), Mask shape: (118, 512, 512)\n"
          ]
        },
        {
          "output_type": "stream",
          "name": "stderr",
          "text": [
            "\rProcessing test_dataset.hdf5:  37%|███▋      | 14/38 [07:24<12:55, 32.32s/it]"
          ]
        },
        {
          "output_type": "stream",
          "name": "stdout",
          "text": [
            "✅ Saved /LUNG1-151 with shape (354, 512, 512), min: -1212.4, max: 150.0\n",
            "📄 /LUNG1-158 — CT shape: (115, 512, 512), Mask shape: (115, 512, 512)\n"
          ]
        },
        {
          "output_type": "stream",
          "name": "stderr",
          "text": [
            "\rProcessing test_dataset.hdf5:  39%|███▉      | 15/38 [07:54<12:09, 31.74s/it]"
          ]
        },
        {
          "output_type": "stream",
          "name": "stdout",
          "text": [
            "✅ Saved /LUNG1-158 with shape (345, 512, 512), min: -1350.0, max: 150.0\n",
            "📄 /LUNG1-168 — CT shape: (134, 512, 512), Mask shape: (134, 512, 512)\n"
          ]
        },
        {
          "output_type": "stream",
          "name": "stderr",
          "text": [
            "\rProcessing test_dataset.hdf5:  42%|████▏     | 16/38 [08:30<12:06, 33.02s/it]"
          ]
        },
        {
          "output_type": "stream",
          "name": "stdout",
          "text": [
            "✅ Saved /LUNG1-168 with shape (402, 512, 512), min: -1350.0, max: 150.0\n",
            "📄 /LUNG1-175 — CT shape: (112, 512, 512), Mask shape: (112, 512, 512)\n"
          ]
        },
        {
          "output_type": "stream",
          "name": "stderr",
          "text": [
            "\rProcessing test_dataset.hdf5:  45%|████▍     | 17/38 [08:59<11:09, 31.87s/it]"
          ]
        },
        {
          "output_type": "stream",
          "name": "stdout",
          "text": [
            "✅ Saved /LUNG1-175 with shape (336, 512, 512), min: -1344.7, max: 150.0\n",
            "📄 /LUNG1-176 — CT shape: (106, 512, 512), Mask shape: (106, 512, 512)\n"
          ]
        },
        {
          "output_type": "stream",
          "name": "stderr",
          "text": [
            "\rProcessing test_dataset.hdf5:  47%|████▋     | 18/38 [09:27<10:14, 30.74s/it]"
          ]
        },
        {
          "output_type": "stream",
          "name": "stdout",
          "text": [
            "✅ Saved /LUNG1-176 with shape (318, 512, 512), min: -1308.6, max: 150.0\n",
            "📄 /LUNG1-201 — CT shape: (134, 512, 512), Mask shape: (134, 512, 512)\n"
          ]
        },
        {
          "output_type": "stream",
          "name": "stderr",
          "text": [
            "\rProcessing test_dataset.hdf5:  50%|█████     | 19/38 [10:04<10:18, 32.55s/it]"
          ]
        },
        {
          "output_type": "stream",
          "name": "stdout",
          "text": [
            "✅ Saved /LUNG1-201 with shape (402, 512, 512), min: -1342.0, max: 150.0\n",
            "📄 /LUNG1-224 — CT shape: (93, 512, 512), Mask shape: (93, 512, 512)\n"
          ]
        },
        {
          "output_type": "stream",
          "name": "stderr",
          "text": [
            "\rProcessing test_dataset.hdf5:  53%|█████▎    | 20/38 [10:29<09:04, 30.26s/it]"
          ]
        },
        {
          "output_type": "stream",
          "name": "stdout",
          "text": [
            "✅ Saved /LUNG1-224 with shape (279, 512, 512), min: -1284.9, max: 150.0\n",
            "📄 /LUNG1-225 — CT shape: (134, 512, 512), Mask shape: (134, 512, 512)\n"
          ]
        },
        {
          "output_type": "stream",
          "name": "stderr",
          "text": [
            "\rProcessing test_dataset.hdf5:  55%|█████▌    | 21/38 [11:06<09:05, 32.12s/it]"
          ]
        },
        {
          "output_type": "stream",
          "name": "stdout",
          "text": [
            "✅ Saved /LUNG1-225 with shape (402, 512, 512), min: -1350.0, max: 150.0\n",
            "📄 /LUNG1-235 — CT shape: (129, 512, 512), Mask shape: (129, 512, 512)\n"
          ]
        },
        {
          "output_type": "stream",
          "name": "stderr",
          "text": [
            "\rProcessing test_dataset.hdf5:  58%|█████▊    | 22/38 [11:41<08:47, 32.99s/it]"
          ]
        },
        {
          "output_type": "stream",
          "name": "stdout",
          "text": [
            "✅ Saved /LUNG1-235 with shape (387, 512, 512), min: -1325.0, max: 150.0\n",
            "📄 /LUNG1-239 — CT shape: (134, 512, 512), Mask shape: (134, 512, 512)\n"
          ]
        },
        {
          "output_type": "stream",
          "name": "stderr",
          "text": [
            "\rProcessing test_dataset.hdf5:  61%|██████    | 23/38 [12:17<08:30, 34.02s/it]"
          ]
        },
        {
          "output_type": "stream",
          "name": "stdout",
          "text": [
            "✅ Saved /LUNG1-239 with shape (402, 512, 512), min: -1350.0, max: 150.0\n",
            "📄 /LUNG1-246 — CT shape: (115, 512, 512), Mask shape: (115, 512, 512)\n"
          ]
        },
        {
          "output_type": "stream",
          "name": "stderr",
          "text": [
            "\rProcessing test_dataset.hdf5:  63%|██████▎   | 24/38 [12:47<07:38, 32.75s/it]"
          ]
        },
        {
          "output_type": "stream",
          "name": "stdout",
          "text": [
            "✅ Saved /LUNG1-246 with shape (342, 512, 512), min: -1308.9, max: 150.0\n",
            "📄 /LUNG1-263 — CT shape: (134, 512, 512), Mask shape: (134, 512, 512)\n"
          ]
        },
        {
          "output_type": "stream",
          "name": "stderr",
          "text": [
            "\rProcessing test_dataset.hdf5:  66%|██████▌   | 25/38 [13:23<07:21, 33.93s/it]"
          ]
        },
        {
          "output_type": "stream",
          "name": "stdout",
          "text": [
            "✅ Saved /LUNG1-263 with shape (402, 512, 512), min: -1292.8, max: 150.0\n",
            "📄 /LUNG1-266 — CT shape: (94, 512, 512), Mask shape: (94, 512, 512)\n"
          ]
        },
        {
          "output_type": "stream",
          "name": "stderr",
          "text": [
            "\rProcessing test_dataset.hdf5:  68%|██████▊   | 26/38 [13:48<06:14, 31.19s/it]"
          ]
        },
        {
          "output_type": "stream",
          "name": "stdout",
          "text": [
            "✅ Saved /LUNG1-266 with shape (282, 512, 512), min: -1303.8, max: 150.0\n",
            "📄 /LUNG1-281 — CT shape: (101, 512, 512), Mask shape: (101, 512, 512)\n"
          ]
        },
        {
          "output_type": "stream",
          "name": "stderr",
          "text": [
            "\rProcessing test_dataset.hdf5:  71%|███████   | 27/38 [14:15<05:27, 29.81s/it]"
          ]
        },
        {
          "output_type": "stream",
          "name": "stdout",
          "text": [
            "✅ Saved /LUNG1-281 with shape (303, 512, 512), min: -1350.0, max: 150.0\n",
            "📄 /LUNG1-286 — CT shape: (136, 512, 512), Mask shape: (136, 512, 512)\n"
          ]
        },
        {
          "output_type": "stream",
          "name": "stderr",
          "text": [
            "\rProcessing test_dataset.hdf5:  74%|███████▎  | 28/38 [14:52<05:18, 31.88s/it]"
          ]
        },
        {
          "output_type": "stream",
          "name": "stdout",
          "text": [
            "✅ Saved /LUNG1-286 with shape (408, 512, 512), min: -1337.5, max: 150.0\n",
            "📄 /LUNG1-312 — CT shape: (134, 512, 512), Mask shape: (134, 512, 512)\n"
          ]
        },
        {
          "output_type": "stream",
          "name": "stderr",
          "text": [
            "\rProcessing test_dataset.hdf5:  76%|███████▋  | 29/38 [15:29<05:01, 33.46s/it]"
          ]
        },
        {
          "output_type": "stream",
          "name": "stdout",
          "text": [
            "✅ Saved /LUNG1-312 with shape (402, 512, 512), min: -1350.0, max: 150.0\n",
            "📄 /LUNG1-338 — CT shape: (134, 512, 512), Mask shape: (134, 512, 512)\n"
          ]
        },
        {
          "output_type": "stream",
          "name": "stderr",
          "text": [
            "\rProcessing test_dataset.hdf5:  79%|███████▉  | 30/38 [16:05<04:34, 34.33s/it]"
          ]
        },
        {
          "output_type": "stream",
          "name": "stdout",
          "text": [
            "✅ Saved /LUNG1-338 with shape (402, 512, 512), min: -1333.7, max: 150.0\n",
            "📄 /LUNG1-352 — CT shape: (134, 512, 512), Mask shape: (134, 512, 512)\n"
          ]
        },
        {
          "output_type": "stream",
          "name": "stderr",
          "text": [
            "\rProcessing test_dataset.hdf5:  82%|████████▏ | 31/38 [16:42<04:04, 34.99s/it]"
          ]
        },
        {
          "output_type": "stream",
          "name": "stdout",
          "text": [
            "✅ Saved /LUNG1-352 with shape (402, 512, 512), min: -1334.3, max: 150.0\n",
            "📄 /LUNG1-353 — CT shape: (134, 512, 512), Mask shape: (134, 512, 512)\n"
          ]
        },
        {
          "output_type": "stream",
          "name": "stderr",
          "text": [
            "\rProcessing test_dataset.hdf5:  84%|████████▍ | 32/38 [17:18<03:32, 35.42s/it]"
          ]
        },
        {
          "output_type": "stream",
          "name": "stdout",
          "text": [
            "✅ Saved /LUNG1-353 with shape (402, 512, 512), min: -1313.8, max: 150.0\n",
            "📄 /LUNG1-365 — CT shape: (134, 512, 512), Mask shape: (134, 512, 512)\n"
          ]
        },
        {
          "output_type": "stream",
          "name": "stderr",
          "text": [
            "\rProcessing test_dataset.hdf5:  87%|████████▋ | 33/38 [17:58<03:04, 36.88s/it]"
          ]
        },
        {
          "output_type": "stream",
          "name": "stdout",
          "text": [
            "✅ Saved /LUNG1-365 with shape (402, 512, 512), min: -1350.0, max: 150.0\n",
            "📄 /LUNG1-374 — CT shape: (130, 512, 512), Mask shape: (130, 512, 512)\n"
          ]
        },
        {
          "output_type": "stream",
          "name": "stderr",
          "text": [
            "\rProcessing test_dataset.hdf5:  89%|████████▉ | 34/38 [18:34<02:25, 36.40s/it]"
          ]
        },
        {
          "output_type": "stream",
          "name": "stdout",
          "text": [
            "✅ Saved /LUNG1-374 with shape (390, 512, 512), min: -1306.0, max: 150.0\n",
            "📄 /LUNG1-383 — CT shape: (134, 512, 512), Mask shape: (134, 512, 512)\n"
          ]
        },
        {
          "output_type": "stream",
          "name": "stderr",
          "text": [
            "\rProcessing test_dataset.hdf5:  92%|█████████▏| 35/38 [19:09<01:47, 36.00s/it]"
          ]
        },
        {
          "output_type": "stream",
          "name": "stdout",
          "text": [
            "✅ Saved /LUNG1-383 with shape (402, 512, 512), min: -1278.5, max: 150.0\n",
            "📄 /LUNG1-405 — CT shape: (134, 512, 512), Mask shape: (134, 512, 512)\n"
          ]
        },
        {
          "output_type": "stream",
          "name": "stderr",
          "text": [
            "\rProcessing test_dataset.hdf5:  95%|█████████▍| 36/38 [19:45<01:12, 36.22s/it]"
          ]
        },
        {
          "output_type": "stream",
          "name": "stdout",
          "text": [
            "✅ Saved /LUNG1-405 with shape (402, 512, 512), min: -1270.6, max: 150.0\n",
            "📄 /LUNG1-408 — CT shape: (107, 512, 512), Mask shape: (107, 512, 512)\n"
          ]
        },
        {
          "output_type": "stream",
          "name": "stderr",
          "text": [
            "\rProcessing test_dataset.hdf5:  97%|█████████▋| 37/38 [20:14<00:33, 33.97s/it]"
          ]
        },
        {
          "output_type": "stream",
          "name": "stdout",
          "text": [
            "✅ Saved /LUNG1-408 with shape (321, 512, 512), min: -1350.0, max: 150.0\n",
            "📄 /LUNG1-410 — CT shape: (134, 512, 512), Mask shape: (134, 512, 512)\n"
          ]
        },
        {
          "output_type": "stream",
          "name": "stderr",
          "text": [
            "Processing test_dataset.hdf5: 100%|██████████| 38/38 [20:51<00:00, 32.92s/it]"
          ]
        },
        {
          "output_type": "stream",
          "name": "stdout",
          "text": [
            "✅ Saved /LUNG1-410 with shape (402, 512, 512), min: -1282.3, max: 150.0\n",
            "📁 Finished saving preprocessed data to: /content/drive/MyDrive/PhDwork/Segmentation/datasets/Datasets_PreprocessedCT_clipping_uniformSpacing_With_Empty_NonEmpty_slices_In_Train/test_dataset.hdf5\n"
          ]
        },
        {
          "output_type": "stream",
          "name": "stderr",
          "text": [
            "\n"
          ]
        }
      ]
    },
    {
      "cell_type": "code",
      "source": [
        "import h5py\n",
        "import numpy as np\n",
        "import matplotlib.pyplot as plt\n",
        "from pathlib import Path\n",
        "from skimage import measure\n",
        "from typing import Optional\n",
        "\n",
        "\n",
        "class PreprocessedSliceViewer:\n",
        "    def __init__(self, original_hdf5_path: str, preprocessed_hdf5_path: str):\n",
        "        self.original_path = Path(original_hdf5_path)\n",
        "        self.preprocessed_path = Path(preprocessed_hdf5_path)\n",
        "        self.original_data = self._load_hdf5(self.original_path)\n",
        "        self.preprocessed_data = self._load_hdf5(self.preprocessed_path)\n",
        "\n",
        "    def _load_hdf5(self, path: Path):\n",
        "        if not path.exists():\n",
        "            raise FileNotFoundError(f\"HDF5 file not found: {path}\")\n",
        "        return h5py.File(path, 'r')\n",
        "\n",
        "    def _get_contour(self, mask_slice: np.ndarray):\n",
        "        return measure.find_contours(mask_slice, level=0.5)\n",
        "\n",
        "    def show_patient_slices_comparison(\n",
        "        self,\n",
        "        patient_id: str,\n",
        "        save_path: Optional[str] = None,\n",
        "        show_mask_overlay: bool = True,\n",
        "    ):\n",
        "        L = -600\n",
        "        W = 1500\n",
        "        vmin = L - W // 2\n",
        "        vmax = L + W // 2\n",
        "\n",
        "        if patient_id not in self.original_data or patient_id not in self.preprocessed_data:\n",
        "            raise KeyError(f\"Patient ID {patient_id} not found in both HDF5 files.\")\n",
        "\n",
        "        orig_ct = self.original_data[patient_id][\"ct\"][()]\n",
        "        orig_mask = self.original_data[patient_id][\"mask\"][()]\n",
        "        prepro_ct = self.preprocessed_data[patient_id][\"ct\"][()]\n",
        "        prepro_mask = self.preprocessed_data[patient_id][\"mask\"][()]\n",
        "\n",
        "        # Get all non-empty slices\n",
        "        non_empty_indices_org = [i for i in range(orig_mask.shape[0]) if np.sum(orig_mask[i]) > 0]\n",
        "        non_empty_indices_prepro = [i for i in range(prepro_mask.shape[0]) if np.sum(prepro_mask[i]) > 0]\n",
        "        if len(non_empty_indices_org) == 0:\n",
        "            raise ValueError(f\"No non-empty mask slices found for patient {patient_id}.\")\n",
        "\n",
        "        num_slices_org = len(non_empty_indices_org)\n",
        "        print(\"Number of Non-Empty Slices of original: \", num_slices_org)\n",
        "        print(\"Number of Non-Empty Slices of preprocessed: \", len(non_empty_indices_prepro))\n",
        "        print(\"Spacing of Original: \", self.original_data[patient_id].attrs['ct_spacing'])\n",
        "        print(\"Spacing of Preprocessed: \", self.preprocessed_data[patient_id].attrs['ct_spacing'])\n",
        "        print(\"Origin of Original: \", self.original_data[patient_id].attrs['ct_origin'])\n",
        "        print(\"Origin of Preprocessed: \", self.preprocessed_data[patient_id].attrs['ct_origin'])\n",
        "        print(\"Direction of Original: \", self.original_data[patient_id].attrs['ct_direction'])\n",
        "        print(\"Direction of Preprocessed: \", self.preprocessed_data[patient_id].attrs['ct_direction'])\n",
        "        print(\"Shape of Original: \", self.original_data[patient_id].attrs['shape'])\n",
        "        print(\"Shape of Preprocessed: \", self.preprocessed_data[patient_id].attrs['shape'])\n",
        "\n",
        "        # Create subplots\n",
        "        fig, axes = plt.subplots(num_slices_org, 2, figsize=(10, 3 * num_slices_org))\n",
        "\n",
        "        # Ensure axes is always 2D\n",
        "        if num_slices_org == 1:\n",
        "            axes = np.expand_dims(axes, axis=0)\n",
        "\n",
        "        for i, slice_idx in enumerate(non_empty_indices_org):\n",
        "            for j, (ct, mask, label) in enumerate([\n",
        "                (orig_ct, orig_mask, \"Original\"),\n",
        "                (prepro_ct, prepro_mask, \"Preprocessed\")\n",
        "            ]):\n",
        "                ax = axes[i, j]\n",
        "                ax.imshow(ct[slice_idx], cmap=\"gray\", vmin=vmin, vmax=vmax)\n",
        "\n",
        "                if show_mask_overlay:\n",
        "                    for contour in self._get_contour(mask[slice_idx]):\n",
        "                        ax.plot(contour[:, 1], contour[:, 0], linewidth=1.5, color=\"red\")\n",
        "                ax.text(\n",
        "                  10, 30, f\"Slice {slice_idx}\",\n",
        "                  color=\"yellow\",\n",
        "                  fontsize=12,\n",
        "                  bbox=dict(facecolor='black', alpha=0.5)\n",
        "              )\n",
        "                if i == 0:\n",
        "                    ax.set_title(label, fontsize=12)\n",
        "\n",
        "                ax.axis(\"off\")\n",
        "\n",
        "        plt.tight_layout()\n",
        "        if save_path:\n",
        "            Path(save_path).parent.mkdir(parents=True, exist_ok=True)\n",
        "            plt.savefig(save_path, format=\"pdf\")\n",
        "            print(f\"[INFO] Saved plot to: {save_path}\")\n",
        "        else:\n",
        "            plt.show()\n",
        "\n",
        "        plt.close()\n",
        "\n",
        "    def show_patient_slices(\n",
        "        self,\n",
        "        patient_id: str,\n",
        "        save_path: Optional[str] = None,\n",
        "        original: bool = True,\n",
        "    ):\n",
        "\n",
        "        # Windowing\n",
        "        L = -600\n",
        "        W = 1500\n",
        "        vmin = L - W // 2\n",
        "        vmax = L + W // 2\n",
        "\n",
        "        # Load data\n",
        "        if patient_id not in self.original_data or patient_id not in self.preprocessed_data:\n",
        "            raise KeyError(f\"Patient ID {patient_id} not found in both HDF5 files.\")\n",
        "\n",
        "        if original:\n",
        "            ct = self.original_data[patient_id][\"ct\"][()]\n",
        "            mask = self.original_data[patient_id][\"mask\"][()]\n",
        "            label = \"Original\"\n",
        "        else:\n",
        "            ct = self.preprocessed_data[patient_id][\"ct\"][()]\n",
        "            mask = self.preprocessed_data[patient_id][\"mask\"][()]\n",
        "            label = \"Preprocessed\"\n",
        "\n",
        "        # Get all non-empty slices\n",
        "        non_empty_indices = [i for i in range(mask.shape[0]) if np.sum(mask[i]) > 0]\n",
        "        if not non_empty_indices:\n",
        "            raise ValueError(f\"No non-empty mask slices found for patient {patient_id}.\")\n",
        "\n",
        "        num_slices = len(non_empty_indices)\n",
        "        print(\"Number of Non-Empty Slices: \", num_slices)\n",
        "\n",
        "        # Create subplot grid: rows = slices, cols = [CT, mask, CT+overlay]\n",
        "        fig, axes = plt.subplots(num_slices, 3, figsize=(15, 3 * num_slices))\n",
        "        if num_slices == 1:\n",
        "            axes = np.expand_dims(axes, axis=0)  # Make 2D iterable for consistency\n",
        "\n",
        "        for row, slice_idx in enumerate(non_empty_indices):\n",
        "            # --- Column 1: CT ---\n",
        "            ax_ct = axes[row][0]\n",
        "            ax_ct.imshow(ct[slice_idx], cmap=\"gray\", vmin=vmin, vmax=vmax)\n",
        "            ax_ct.set_title(\"CT\", fontsize=10)\n",
        "            ax_ct.text(10, 30, f\"Slice {slice_idx}\", color=\"yellow\", fontsize=10,\n",
        "                      bbox=dict(facecolor='black', alpha=0.5))\n",
        "            ax_ct.axis(\"off\")\n",
        "\n",
        "            # --- Column 2: Mask ---\n",
        "            ax_mask = axes[row][1]\n",
        "            ax_mask.imshow(mask[slice_idx], cmap=\"gray\")\n",
        "            ax_mask.set_title(\"Mask\", fontsize=10)\n",
        "            ax_mask.axis(\"off\")\n",
        "\n",
        "            # --- Column 3: CT with Overlay ---\n",
        "            ax_overlay = axes[row][2]\n",
        "            ax_overlay.imshow(ct[slice_idx], cmap=\"gray\", vmin=vmin, vmax=vmax)\n",
        "            for contour in self._get_contour(mask[slice_idx]):\n",
        "                ax_overlay.plot(contour[:, 1], contour[:, 0], linewidth=1.5, color=\"red\")\n",
        "            ax_overlay.set_title(\"Overlay\", fontsize=10)\n",
        "            ax_overlay.axis(\"off\")\n",
        "\n",
        "        # Add global title\n",
        "        fig.suptitle(f\"{label} slices for Patient {patient_id}\", fontsize=14)\n",
        "        plt.tight_layout(rect=[0, 0, 1, 0.98])  # leave space for suptitle\n",
        "\n",
        "        # Save or show\n",
        "        if save_path:\n",
        "            Path(save_path).parent.mkdir(parents=True, exist_ok=True)\n",
        "            plt.savefig(save_path, format=\"pdf\")\n",
        "            print(f\"[INFO] Saved plot to: {save_path}\")\n",
        "        else:\n",
        "            plt.show()\n",
        "\n",
        "        plt.close()\n"
      ],
      "metadata": {
        "id": "qtVBSchJB7aH"
      },
      "execution_count": 9,
      "outputs": []
    },
    {
      "cell_type": "code",
      "source": [
        "if __name__ == \"__main__\":\n",
        "    original_hdf5 = \"/content/drive/MyDrive/PhDwork/Segmentation/datasets/Datasets_OriginalCT_With_Empty_NonEmpty_slices_In_Train/train_dataset.hdf5\"\n",
        "    preprocessed_hdf5 = \"/content/drive/MyDrive/PhDwork/Segmentation/datasets/Datasets_PreprocessedCT_clipping_uniformSpacing_With_Empty_NonEmpty_slices_In_Train/train_dataset.hdf5\"\n",
        "    patient_id = \"LUNG1-009\"\n",
        "\n",
        "    viewer = PreprocessedSliceViewer(original_hdf5_path=original_hdf5 ,\n",
        "                                     preprocessed_hdf5_path=preprocessed_hdf5)\n",
        "\n",
        "    viewer.show_patient_slices_comparison(\n",
        "        patient_id=patient_id,\n",
        "        save_path=f\"/content/drive/MyDrive/PhDwork/Segmentation/datasets/Datasets_PreprocessedCT_clipping_uniformSpacing_With_Empty_NonEmpty_slices_In_Train/{patient_id}_all_non_empty_slices1.pdf\"\n",
        "    )\n",
        "\n",
        "    viewer.show_patient_slices(\n",
        "        patient_id=patient_id,\n",
        "        save_path=f\"/content/drive/MyDrive/PhDwork/Segmentation/datasets/Datasets_PreprocessedCT_clipping_uniformSpacing_With_Empty_NonEmpty_slices_In_Train/Comparison_Plots/original_{patient_id}_all_non_empty_slices1.pdf\",\n",
        "        original=True\n",
        "    )\n",
        "\n",
        "    viewer.show_patient_slices(\n",
        "        patient_id=patient_id,\n",
        "        save_path=f\"/content/drive/MyDrive/PhDwork/Segmentation/datasets/Datasets_PreprocessedCT_clipping_uniformSpacing_With_Empty_NonEmpty_slices_In_Train/Comparison_Plots/Preprocessed_{patient_id}_all_non_empty_slices1.pdf\",\n",
        "        original=False\n",
        "    )\n"
      ],
      "metadata": {
        "id": "NqA9VGmuQzrh",
        "colab": {
          "base_uri": "https://localhost:8080/"
        },
        "outputId": "9276e5c9-e5e6-4a42-a8ec-85234b83fadf"
      },
      "execution_count": 10,
      "outputs": [
        {
          "output_type": "stream",
          "name": "stdout",
          "text": [
            "Number of Non-Empty Slices of original:  22\n",
            "Number of Non-Empty Slices of preprocessed:  66\n",
            "Spacing of Original:  [0.977 0.977 3.   ]\n",
            "Spacing of Preprocessed:  [1. 1. 1.]\n",
            "Origin of Original:  [-250.112 -250.112 -161.9  ]\n",
            "Origin of Preprocessed:  [-250.112 -250.112 -161.9  ]\n",
            "Direction of Original:  [1. 0. 0. 0. 1. 0. 0. 0. 1.]\n",
            "Direction of Preprocessed:  [1. 0. 0. 0. 1. 0. 0. 0. 1.]\n",
            "Shape of Original:  [105 512 512]\n",
            "Shape of Preprocessed:  [315 512 512]\n",
            "[INFO] Saved plot to: /content/drive/MyDrive/PhDwork/Segmentation/datasets/Datasets_PreprocessedCT_clipping_uniformSpacing_With_Empty_NonEmpty_slices_In_Train/LUNG1-009_all_non_empty_slices1.pdf\n",
            "Number of Non-Empty Slices:  22\n",
            "[INFO] Saved plot to: /content/drive/MyDrive/PhDwork/Segmentation/datasets/Datasets_PreprocessedCT_clipping_uniformSpacing_With_Empty_NonEmpty_slices_In_Train/Comparison_Plots/original_LUNG1-009_all_non_empty_slices1.pdf\n",
            "Number of Non-Empty Slices:  66\n",
            "[INFO] Saved plot to: /content/drive/MyDrive/PhDwork/Segmentation/datasets/Datasets_PreprocessedCT_clipping_uniformSpacing_With_Empty_NonEmpty_slices_In_Train/Comparison_Plots/Preprocessed_LUNG1-009_all_non_empty_slices1.pdf\n"
          ]
        }
      ]
    },
    {
      "cell_type": "code",
      "source": [
        "import h5py\n",
        "import os\n",
        "from typing import Dict, Tuple\n",
        "\n",
        "class SliceCounter:\n",
        "    def __init__(self, hdf5_path: str):\n",
        "        self.hdf5_path = hdf5_path\n",
        "\n",
        "    def count_slices(self) -> Tuple[int, int]:\n",
        "        \"\"\"Returns (non_empty_slices, empty_slices)\"\"\"\n",
        "        non_empty = 0\n",
        "        empty = 0\n",
        "        with h5py.File(self.hdf5_path, 'r') as f:\n",
        "            for pid in f.keys():\n",
        "                masks = f[pid]['mask'][:]  # Shape: (slices, H, W)\n",
        "                sums = masks.sum(axis=(1, 2))  # Sum over H and W per slice\n",
        "                non_empty += (sums > 0).sum()\n",
        "                empty += (sums == 0).sum()\n",
        "        return non_empty, empty\n",
        "\n",
        "\n",
        "class DatasetAnalyzer:\n",
        "    def __init__(self, dataset_dir: str):\n",
        "        self.dataset_dir = dataset_dir\n",
        "        self.splits = {\n",
        "            \"train\": os.path.join(dataset_dir, \"train_dataset.hdf5\"),\n",
        "            \"valid\": os.path.join(dataset_dir, \"valid_dataset.hdf5\"),\n",
        "            \"test\": os.path.join(dataset_dir, \"test_dataset.hdf5\")\n",
        "        }\n",
        "\n",
        "    def analyze(self) -> Dict[str, Dict[str, int]]:\n",
        "        results = {}\n",
        "        for split_name, path in self.splits.items():\n",
        "            if not os.path.exists(path):\n",
        "                print(f\"⚠️ Skipping missing file: {path}\")\n",
        "                continue\n",
        "            print(f\"🔍 Counting slices in: {split_name}\")\n",
        "            counter = SliceCounter(path)\n",
        "            non_empty, empty = counter.count_slices()\n",
        "            results[split_name] = {\n",
        "                \"non_empty\": non_empty,\n",
        "                \"empty\": empty,\n",
        "                \"total\": non_empty + empty\n",
        "            }\n",
        "        return results\n",
        "\n",
        "\n",
        "if __name__ == \"__main__\":\n",
        "    dataset_dir = \"/content/drive/MyDrive/PhDwork/Segmentation/datasets/Datasets_PreprocessedCT_clipping_uniformSpacing_With_Empty_NonEmpty_slices_In_Train\"\n",
        "\n",
        "    analyzer = DatasetAnalyzer(dataset_dir)\n",
        "    slice_counts = analyzer.analyze()\n",
        "\n",
        "    print(\"\\n✅ Slice Count Summary:\")\n",
        "    for split, stats in slice_counts.items():\n",
        "        print(f\"\\n📁 {split.capitalize()} Set\")\n",
        "        print(f\"  Total Slices   : {stats['total']}\")\n",
        "        print(f\"  Non-Empty Slices: {stats['non_empty']}\")\n",
        "        print(f\"  Empty Slices   : {stats['empty']}\")\n"
      ],
      "metadata": {
        "id": "_nrZwGFPjalM",
        "colab": {
          "base_uri": "https://localhost:8080/"
        },
        "outputId": "6544fd1d-36be-420d-8969-a75a8b7a5096"
      },
      "execution_count": 11,
      "outputs": [
        {
          "output_type": "stream",
          "name": "stdout",
          "text": [
            "🔍 Counting slices in: train\n",
            "🔍 Counting slices in: valid\n",
            "🔍 Counting slices in: test\n",
            "\n",
            "✅ Slice Count Summary:\n",
            "\n",
            "📁 Train Set\n",
            "  Total Slices   : 124084\n",
            "  Non-Empty Slices: 17574\n",
            "  Empty Slices   : 106510\n",
            "\n",
            "📁 Valid Set\n",
            "  Total Slices   : 15423\n",
            "  Non-Empty Slices: 2616\n",
            "  Empty Slices   : 12807\n",
            "\n",
            "📁 Test Set\n",
            "  Total Slices   : 13956\n",
            "  Non-Empty Slices: 1848\n",
            "  Empty Slices   : 12108\n"
          ]
        }
      ]
    },
    {
      "cell_type": "code",
      "source": [],
      "metadata": {
        "id": "ISHlPu9fjYqt"
      },
      "execution_count": null,
      "outputs": []
    }
  ]
}