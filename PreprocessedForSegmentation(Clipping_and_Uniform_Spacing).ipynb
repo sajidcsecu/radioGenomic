{
  "nbformat": 4,
  "nbformat_minor": 0,
  "metadata": {
    "colab": {
      "provenance": [],
      "machine_shape": "hm",
      "authorship_tag": "ABX9TyPIRBHRhKZFlxjbIQW5t3Oc",
      "include_colab_link": true
    },
    "kernelspec": {
      "name": "python3",
      "display_name": "Python 3"
    },
    "language_info": {
      "name": "python"
    }
  },
  "cells": [
    {
      "cell_type": "markdown",
      "metadata": {
        "id": "view-in-github",
        "colab_type": "text"
      },
      "source": [
        "<a href=\"https://colab.research.google.com/github/sajidcsecu/radioGenomic/blob/main/PreprocessedForSegmentation(Clipping_and_Uniform_Spacing).ipynb\" target=\"_parent\"><img src=\"https://colab.research.google.com/assets/colab-badge.svg\" alt=\"Open In Colab\"/></a>"
      ]
    },
    {
      "cell_type": "markdown",
      "source": [
        "Importing necessary packages"
      ],
      "metadata": {
        "id": "Cgb6jNjv9Ib5"
      }
    },
    {
      "cell_type": "code",
      "source": [
        "!pip install SimpleITK"
      ],
      "metadata": {
        "colab": {
          "base_uri": "https://localhost:8080/"
        },
        "id": "EvgzoibR9kfR",
        "outputId": "5f29a6d7-d5f2-4f82-940f-691516535a50"
      },
      "execution_count": null,
      "outputs": [
        {
          "output_type": "stream",
          "name": "stdout",
          "text": [
            "Collecting SimpleITK\n",
            "  Downloading simpleitk-2.5.0-cp311-abi3-manylinux_2_17_x86_64.manylinux2014_x86_64.whl.metadata (7.2 kB)\n",
            "Downloading simpleitk-2.5.0-cp311-abi3-manylinux_2_17_x86_64.manylinux2014_x86_64.whl (52.6 MB)\n",
            "\u001b[2K   \u001b[90m━━━━━━━━━━━━━━━━━━━━━━━━━━━━━━━━━━━━━━━━\u001b[0m \u001b[32m52.6/52.6 MB\u001b[0m \u001b[31m39.0 MB/s\u001b[0m eta \u001b[36m0:00:00\u001b[0m\n",
            "\u001b[?25hInstalling collected packages: SimpleITK\n",
            "Successfully installed SimpleITK-2.5.0\n"
          ]
        }
      ]
    },
    {
      "cell_type": "code",
      "source": [
        "import os\n",
        "import h5py\n",
        "import torch\n",
        "import numpy as np\n",
        "import SimpleITK as sitk\n",
        "from torch.utils.data import Dataset, DataLoader\n",
        "from tqdm import tqdm\n",
        "import multiprocessing as mp\n",
        "from google.colab import drive\n",
        "import matplotlib.pyplot as plt\n",
        "from pathlib import Path\n",
        "from skimage import measure\n",
        "from typing import Optional\n",
        "import os"
      ],
      "metadata": {
        "id": "fk4ch0jp9HBC"
      },
      "execution_count": null,
      "outputs": []
    },
    {
      "cell_type": "code",
      "source": [
        "class HDF5Preprocessor:\n",
        "    def __init__(self, input_path, output_path, spacing=(1.0, 1.0, 1.0), clip_range=(-1350, 150), device='cuda', max_patients=None):\n",
        "        self.input_path = input_path\n",
        "        self.output_path = output_path\n",
        "        self.spacing = spacing\n",
        "        self.clip_range = clip_range\n",
        "        self.device = torch.device(device if torch.cuda.is_available() else 'cpu')\n",
        "        self.max_patients = max_patients  # for debugging or small runs\n",
        "\n",
        "    def run(self):\n",
        "        os.makedirs(os.path.dirname(self.output_path), exist_ok=True)\n",
        "\n",
        "        with h5py.File(self.input_path, 'r') as in_file, h5py.File(self.output_path, 'w') as out_file:\n",
        "            patient_ids = list(in_file.keys())\n",
        "            print(f\"🔍 Found {len(patient_ids)} patients in {os.path.basename(self.input_path)}.\")\n",
        "\n",
        "            if not patient_ids:\n",
        "                raise ValueError(\"❌ No patient groups found in input HDF5 file.\")\n",
        "\n",
        "            for i, pid in enumerate(tqdm(patient_ids, desc=f\"Processing {os.path.basename(self.input_path)}\")):\n",
        "                if self.max_patients is not None and i >= self.max_patients:\n",
        "                    break\n",
        "                try:\n",
        "                    in_group = in_file[pid]\n",
        "                    out_group = out_file.create_group(pid)\n",
        "                    self.process_patient(in_group, out_group)\n",
        "                except Exception as e:\n",
        "                    print(f\"❌ [ERROR] Failed to process {pid}: {e}\")\n",
        "\n",
        "    def process_patient(self, in_group, out_group):\n",
        "    ct_np = in_group['ct'][:]\n",
        "    mask_np = in_group['mask'][:]\n",
        "    print(f\"📄 {in_group.name} — CT shape: {ct_np.shape}, Mask shape: {mask_np.shape}\")\n",
        "\n",
        "    # Validate required metadata\n",
        "    required_attrs = [\n",
        "        'ct_origin', 'ct_spacing', 'ct_direction',\n",
        "        'mask_origin', 'mask_spacing', 'mask_direction', 'shape'\n",
        "    ]\n",
        "    for attr in required_attrs:\n",
        "        if attr not in in_group.attrs:\n",
        "            raise KeyError(f\"Missing required attribute: {attr}\")\n",
        "\n",
        "    # Convert to SimpleITK images\n",
        "    sitk_ct = sitk.GetImageFromArray(ct_np)\n",
        "    sitk_mask = sitk.GetImageFromArray(mask_np.astype(np.uint8))\n",
        "\n",
        "    sitk_ct.SetOrigin(in_group.attrs['ct_origin'])\n",
        "    sitk_ct.SetSpacing(in_group.attrs['ct_spacing'])\n",
        "    sitk_ct.SetDirection(in_group.attrs['ct_direction'])\n",
        "\n",
        "    sitk_mask.SetOrigin(in_group.attrs['mask_origin'])\n",
        "    sitk_mask.SetSpacing(in_group.attrs['mask_spacing'])\n",
        "    sitk_mask.SetDirection(in_group.attrs['mask_direction'])\n",
        "\n",
        "    # Resample\n",
        "    resampled_ct, resampled_mask = self.resample_image_and_mask(sitk_ct, sitk_mask)\n",
        "\n",
        "    # Convert back to NumPy arrays\n",
        "    res_ct_np = sitk.GetArrayFromImage(resampled_ct)\n",
        "    res_mask_np = sitk.GetArrayFromImage(resampled_mask)\n",
        "\n",
        "    # Clip CT intensities\n",
        "    res_ct_np = np.clip(res_ct_np, *self.clip_range).astype(np.float32)\n",
        "\n",
        "    # Compute and store min/max of clipped CT\n",
        "    ct_min = float(res_ct_np.min())\n",
        "    ct_max = float(res_ct_np.max())\n",
        "\n",
        "    # Save to HDF5\n",
        "    out_group.create_dataset('ct', data=res_ct_np, compression='gzip', dtype=np.float32)\n",
        "    out_group.create_dataset('mask', data=res_mask_np, compression='gzip', dtype=np.uint8)\n",
        "\n",
        "    # Metadata\n",
        "    out_group.attrs['shape'] = res_ct_np.shape\n",
        "    out_group.attrs['ct_origin'] = resampled_ct.GetOrigin()\n",
        "    out_group.attrs['ct_spacing'] = resampled_ct.GetSpacing()\n",
        "    out_group.attrs['ct_direction'] = resampled_ct.GetDirection()\n",
        "    out_group.attrs['mask_origin'] = resampled_mask.GetOrigin()\n",
        "    out_group.attrs['mask_spacing'] = resampled_mask.GetSpacing()\n",
        "    out_group.attrs['mask_direction'] = resampled_mask.GetDirection()\n",
        "    out_group.attrs['ct_min'] = ct_min\n",
        "    out_group.attrs['ct_max'] = ct_max\n",
        "\n",
        "    print(f\"✅ Saved {in_group.name} with shape {res_ct_np.shape}, min: {ct_min:.1f}, max: {ct_max:.1f}\")\n",
        "\n",
        "    def resample_image_and_mask(self, image, mask, output_size_xy=(512, 512)):\n",
        "        original_spacing = image.GetSpacing()\n",
        "        original_size = image.GetSize()\n",
        "\n",
        "        spacing_x, spacing_y, spacing_z = self.spacing\n",
        "        out_size_x, out_size_y = output_size_xy\n",
        "\n",
        "        # Compute output depth (z-dimension)\n",
        "        physical_depth = original_size[2] * original_spacing[2]\n",
        "        out_size_z = int(round(physical_depth / spacing_z))\n",
        "        new_size = [out_size_x, out_size_y, out_size_z]\n",
        "\n",
        "        # Configure resampler\n",
        "        resampler = sitk.ResampleImageFilter()\n",
        "        resampler.SetOutputSpacing(self.spacing)\n",
        "        resampler.SetSize(new_size)\n",
        "        resampler.SetOutputOrigin(image.GetOrigin())\n",
        "        resampler.SetOutputDirection(image.GetDirection())\n",
        "\n",
        "        # Interpolate CT with B-Spline, mask with NearestNeighbor\n",
        "        resampler.SetInterpolator(sitk.sitkBSpline)\n",
        "        resampled_image = resampler.Execute(image)\n",
        "\n",
        "        resampler.SetInterpolator(sitk.sitkNearestNeighbor)\n",
        "        resampled_mask = resampler.Execute(mask)\n",
        "\n",
        "        return resampled_image, resampled_mask\n"
      ],
      "metadata": {
        "id": "nixiyZGaujxT"
      },
      "execution_count": null,
      "outputs": []
    },
    {
      "cell_type": "markdown",
      "source": [
        "2. Mount Drive"
      ],
      "metadata": {
        "id": "HkpvW618Bk7u"
      }
    },
    {
      "cell_type": "code",
      "source": [
        "drive.mount('/content/drive')"
      ],
      "metadata": {
        "colab": {
          "base_uri": "https://localhost:8080/"
        },
        "id": "R2T8TvcaBoXW",
        "outputId": "5c0fc95d-5ba3-42d6-da3e-c48df8a0ded7"
      },
      "execution_count": null,
      "outputs": [
        {
          "output_type": "stream",
          "name": "stdout",
          "text": [
            "Mounted at /content/drive\n"
          ]
        }
      ]
    },
    {
      "cell_type": "markdown",
      "source": [
        "3. Main Block"
      ],
      "metadata": {
        "id": "V3WnogQCBLLw"
      }
    },
    {
      "cell_type": "code",
      "source": [
        "if __name__ == \"__main__\":\n",
        "    base_input_dir = \"/content/drive/MyDrive/PhDwork/Segmentation/datasets/Datasets_OriginalCT_With_Empty_NonEmpty_slices_In_Train\"\n",
        "    base_output_dir = \"/content/drive/MyDrive/PhDwork/Segmentation/datasets/Datasets_PreprocessedCT_clipping_uniformSpacing_With_Empty_NonEmpty_slices_In_Train\"\n",
        "\n",
        "    splits = ['train_dataset.hdf5', 'valid_dataset.hdf5', 'test_dataset.hdf5']\n",
        "\n",
        "    for split in splits:\n",
        "        input_file = os.path.join(base_input_dir, split)\n",
        "        output_file = os.path.join(base_output_dir, split)\n",
        "\n",
        "        print(f\"\\n🚀 Starting preprocessing: {split}\")\n",
        "        preprocessor = HDF5Preprocessor(input_path=input_file, output_path=output_file)\n",
        "        preprocessor.run()\n",
        "        print(f\"📁 Finished saving preprocessed data to: {output_file}\")"
      ],
      "metadata": {
        "colab": {
          "base_uri": "https://localhost:8080/"
        },
        "id": "tUTCEpHJF3Tv",
        "outputId": "ffe15f95-ad3b-4e3a-dd39-f28e68af31f6"
      },
      "execution_count": null,
      "outputs": [
        {
          "output_type": "stream",
          "name": "stdout",
          "text": [
            "\n",
            "🚀 Starting preprocessing: train_dataset.hdf5\n",
            "🔍 Found 340 patients in train_dataset.hdf5.\n"
          ]
        },
        {
          "output_type": "stream",
          "name": "stderr",
          "text": [
            "\rProcessing train_dataset.hdf5:   0%|          | 0/340 [00:00<?, ?it/s]"
          ]
        },
        {
          "output_type": "stream",
          "name": "stdout",
          "text": [
            "📄 /LUNG1-002 — CT shape: (111, 512, 512), Mask shape: (111, 512, 512)\n"
          ]
        },
        {
          "output_type": "stream",
          "name": "stderr",
          "text": [
            "\rProcessing train_dataset.hdf5:   0%|          | 1/340 [00:22<2:09:16, 22.88s/it]"
          ]
        },
        {
          "output_type": "stream",
          "name": "stdout",
          "text": [
            "✅ Saved /LUNG1-002 with shape (333, 512, 512)\n",
            "📄 /LUNG1-003 — CT shape: (107, 512, 512), Mask shape: (107, 512, 512)\n"
          ]
        },
        {
          "output_type": "stream",
          "name": "stderr",
          "text": [
            "\rProcessing train_dataset.hdf5:   1%|          | 2/340 [00:45<2:08:59, 22.90s/it]"
          ]
        },
        {
          "output_type": "stream",
          "name": "stdout",
          "text": [
            "✅ Saved /LUNG1-003 with shape (321, 512, 512)\n",
            "📄 /LUNG1-004 — CT shape: (114, 512, 512), Mask shape: (114, 512, 512)\n"
          ]
        },
        {
          "output_type": "stream",
          "name": "stderr",
          "text": [
            "\rProcessing train_dataset.hdf5:   1%|          | 3/340 [01:11<2:15:15, 24.08s/it]"
          ]
        },
        {
          "output_type": "stream",
          "name": "stdout",
          "text": [
            "✅ Saved /LUNG1-004 with shape (342, 512, 512)\n",
            "📄 /LUNG1-005 — CT shape: (91, 512, 512), Mask shape: (91, 512, 512)\n"
          ]
        },
        {
          "output_type": "stream",
          "name": "stderr",
          "text": [
            "\rProcessing train_dataset.hdf5:   1%|          | 4/340 [01:30<2:04:32, 22.24s/it]"
          ]
        },
        {
          "output_type": "stream",
          "name": "stdout",
          "text": [
            "✅ Saved /LUNG1-005 with shape (273, 512, 512)\n",
            "📄 /LUNG1-006 — CT shape: (114, 512, 512), Mask shape: (114, 512, 512)\n"
          ]
        },
        {
          "output_type": "stream",
          "name": "stderr",
          "text": [
            "\rProcessing train_dataset.hdf5:   1%|▏         | 5/340 [01:55<2:09:15, 23.15s/it]"
          ]
        },
        {
          "output_type": "stream",
          "name": "stdout",
          "text": [
            "✅ Saved /LUNG1-006 with shape (342, 512, 512)\n",
            "📄 /LUNG1-007 — CT shape: (129, 512, 512), Mask shape: (129, 512, 512)\n"
          ]
        },
        {
          "output_type": "stream",
          "name": "stderr",
          "text": [
            "\rProcessing train_dataset.hdf5:   2%|▏         | 6/340 [02:22<2:17:06, 24.63s/it]"
          ]
        },
        {
          "output_type": "stream",
          "name": "stdout",
          "text": [
            "✅ Saved /LUNG1-007 with shape (387, 512, 512)\n",
            "📄 /LUNG1-008 — CT shape: (114, 512, 512), Mask shape: (114, 512, 512)\n"
          ]
        },
        {
          "output_type": "stream",
          "name": "stderr",
          "text": [
            "\rProcessing train_dataset.hdf5:   2%|▏         | 7/340 [02:48<2:17:36, 24.80s/it]"
          ]
        },
        {
          "output_type": "stream",
          "name": "stdout",
          "text": [
            "✅ Saved /LUNG1-008 with shape (342, 512, 512)\n",
            "📄 /LUNG1-009 — CT shape: (105, 512, 512), Mask shape: (105, 512, 512)\n"
          ]
        },
        {
          "output_type": "stream",
          "name": "stderr",
          "text": [
            "\rProcessing train_dataset.hdf5:   2%|▏         | 8/340 [03:11<2:13:53, 24.20s/it]"
          ]
        },
        {
          "output_type": "stream",
          "name": "stdout",
          "text": [
            "✅ Saved /LUNG1-009 with shape (315, 512, 512)\n",
            "📄 /LUNG1-011 — CT shape: (88, 512, 512), Mask shape: (88, 512, 512)\n"
          ]
        },
        {
          "output_type": "stream",
          "name": "stderr",
          "text": [
            "\rProcessing train_dataset.hdf5:   3%|▎         | 9/340 [03:29<2:04:09, 22.51s/it]"
          ]
        },
        {
          "output_type": "stream",
          "name": "stdout",
          "text": [
            "✅ Saved /LUNG1-011 with shape (264, 512, 512)\n",
            "📄 /LUNG1-012 — CT shape: (109, 512, 512), Mask shape: (109, 512, 512)\n"
          ]
        },
        {
          "output_type": "stream",
          "name": "stderr",
          "text": [
            "\rProcessing train_dataset.hdf5:   3%|▎         | 10/340 [03:53<2:05:10, 22.76s/it]"
          ]
        },
        {
          "output_type": "stream",
          "name": "stdout",
          "text": [
            "✅ Saved /LUNG1-012 with shape (327, 512, 512)\n",
            "📄 /LUNG1-013 — CT shape: (134, 512, 512), Mask shape: (134, 512, 512)\n"
          ]
        },
        {
          "output_type": "stream",
          "name": "stderr",
          "text": [
            "\rProcessing train_dataset.hdf5:   3%|▎         | 11/340 [04:21<2:14:34, 24.54s/it]"
          ]
        },
        {
          "output_type": "stream",
          "name": "stdout",
          "text": [
            "✅ Saved /LUNG1-013 with shape (402, 512, 512)\n",
            "📄 /LUNG1-014 — CT shape: (87, 512, 512), Mask shape: (87, 512, 512)\n"
          ]
        },
        {
          "output_type": "stream",
          "name": "stderr",
          "text": [
            "\rProcessing train_dataset.hdf5:   4%|▎         | 12/340 [04:44<2:11:32, 24.06s/it]"
          ]
        },
        {
          "output_type": "stream",
          "name": "stdout",
          "text": [
            "✅ Saved /LUNG1-014 with shape (310, 512, 512)\n",
            "📄 /LUNG1-015 — CT shape: (117, 512, 512), Mask shape: (117, 512, 512)\n"
          ]
        },
        {
          "output_type": "stream",
          "name": "stderr",
          "text": [
            "\rProcessing train_dataset.hdf5:   4%|▍         | 13/340 [05:08<2:10:32, 23.95s/it]"
          ]
        },
        {
          "output_type": "stream",
          "name": "stdout",
          "text": [
            "✅ Saved /LUNG1-015 with shape (351, 512, 512)\n",
            "📄 /LUNG1-016 — CT shape: (82, 512, 512), Mask shape: (82, 512, 512)\n"
          ]
        },
        {
          "output_type": "stream",
          "name": "stderr",
          "text": [
            "\rProcessing train_dataset.hdf5:   4%|▍         | 14/340 [05:26<2:00:00, 22.09s/it]"
          ]
        },
        {
          "output_type": "stream",
          "name": "stdout",
          "text": [
            "✅ Saved /LUNG1-016 with shape (246, 512, 512)\n",
            "📄 /LUNG1-017 — CT shape: (123, 512, 512), Mask shape: (123, 512, 512)\n"
          ]
        },
        {
          "output_type": "stream",
          "name": "stderr",
          "text": [
            "\rProcessing train_dataset.hdf5:   4%|▍         | 15/340 [05:51<2:05:45, 23.22s/it]"
          ]
        },
        {
          "output_type": "stream",
          "name": "stdout",
          "text": [
            "✅ Saved /LUNG1-017 with shape (369, 512, 512)\n",
            "📄 /LUNG1-018 — CT shape: (114, 512, 512), Mask shape: (114, 512, 512)\n"
          ]
        },
        {
          "output_type": "stream",
          "name": "stderr",
          "text": [
            "\rProcessing train_dataset.hdf5:   5%|▍         | 16/340 [06:14<2:04:54, 23.13s/it]"
          ]
        },
        {
          "output_type": "stream",
          "name": "stdout",
          "text": [
            "✅ Saved /LUNG1-018 with shape (342, 512, 512)\n",
            "📄 /LUNG1-019 — CT shape: (101, 512, 512), Mask shape: (101, 512, 512)\n"
          ]
        },
        {
          "output_type": "stream",
          "name": "stderr",
          "text": [
            "\rProcessing train_dataset.hdf5:   5%|▌         | 17/340 [06:32<1:56:04, 21.56s/it]"
          ]
        },
        {
          "output_type": "stream",
          "name": "stdout",
          "text": [
            "✅ Saved /LUNG1-019 with shape (303, 512, 512)\n",
            "📄 /LUNG1-020 — CT shape: (108, 512, 512), Mask shape: (108, 512, 512)\n"
          ]
        },
        {
          "output_type": "stream",
          "name": "stderr",
          "text": [
            "\rProcessing train_dataset.hdf5:   5%|▌         | 18/340 [06:55<1:57:24, 21.88s/it]"
          ]
        },
        {
          "output_type": "stream",
          "name": "stdout",
          "text": [
            "✅ Saved /LUNG1-020 with shape (324, 512, 512)\n",
            "📄 /LUNG1-021 — CT shape: (197, 512, 512), Mask shape: (197, 512, 512)\n"
          ]
        },
        {
          "output_type": "stream",
          "name": "stderr",
          "text": [
            "\rProcessing train_dataset.hdf5:   6%|▌         | 19/340 [07:38<2:31:15, 28.27s/it]"
          ]
        },
        {
          "output_type": "stream",
          "name": "stdout",
          "text": [
            "✅ Saved /LUNG1-021 with shape (594, 512, 512)\n",
            "📄 /LUNG1-022 — CT shape: (121, 512, 512), Mask shape: (121, 512, 512)\n"
          ]
        },
        {
          "output_type": "stream",
          "name": "stderr",
          "text": [
            "\rProcessing train_dataset.hdf5:   6%|▌         | 20/340 [08:04<2:26:37, 27.49s/it]"
          ]
        },
        {
          "output_type": "stream",
          "name": "stdout",
          "text": [
            "✅ Saved /LUNG1-022 with shape (363, 512, 512)\n",
            "📄 /LUNG1-023 — CT shape: (126, 512, 512), Mask shape: (126, 512, 512)\n"
          ]
        },
        {
          "output_type": "stream",
          "name": "stderr",
          "text": [
            "\rProcessing train_dataset.hdf5:   6%|▌         | 21/340 [08:30<2:24:36, 27.20s/it]"
          ]
        },
        {
          "output_type": "stream",
          "name": "stdout",
          "text": [
            "✅ Saved /LUNG1-023 with shape (378, 512, 512)\n",
            "📄 /LUNG1-024 — CT shape: (95, 512, 512), Mask shape: (95, 512, 512)\n"
          ]
        },
        {
          "output_type": "stream",
          "name": "stderr",
          "text": [
            "\rProcessing train_dataset.hdf5:   6%|▋         | 22/340 [08:50<2:11:39, 24.84s/it]"
          ]
        },
        {
          "output_type": "stream",
          "name": "stdout",
          "text": [
            "✅ Saved /LUNG1-024 with shape (285, 512, 512)\n",
            "📄 /LUNG1-026 — CT shape: (110, 512, 512), Mask shape: (110, 512, 512)\n"
          ]
        },
        {
          "output_type": "stream",
          "name": "stderr",
          "text": [
            "\rProcessing train_dataset.hdf5:   7%|▋         | 23/340 [09:12<2:07:27, 24.12s/it]"
          ]
        },
        {
          "output_type": "stream",
          "name": "stdout",
          "text": [
            "✅ Saved /LUNG1-026 with shape (330, 512, 512)\n",
            "📄 /LUNG1-028 — CT shape: (102, 512, 512), Mask shape: (102, 512, 512)\n"
          ]
        },
        {
          "output_type": "stream",
          "name": "stderr",
          "text": [
            "\rProcessing train_dataset.hdf5:   7%|▋         | 24/340 [09:34<2:03:45, 23.50s/it]"
          ]
        },
        {
          "output_type": "stream",
          "name": "stdout",
          "text": [
            "✅ Saved /LUNG1-028 with shape (306, 512, 512)\n",
            "📄 /LUNG1-029 — CT shape: (131, 512, 512), Mask shape: (131, 512, 512)\n"
          ]
        },
        {
          "output_type": "stream",
          "name": "stderr",
          "text": [
            "\rProcessing train_dataset.hdf5:   7%|▋         | 25/340 [10:02<2:09:27, 24.66s/it]"
          ]
        },
        {
          "output_type": "stream",
          "name": "stdout",
          "text": [
            "✅ Saved /LUNG1-029 with shape (393, 512, 512)\n",
            "📄 /LUNG1-030 — CT shape: (94, 512, 512), Mask shape: (94, 512, 512)\n"
          ]
        },
        {
          "output_type": "stream",
          "name": "stderr",
          "text": [
            "\rProcessing train_dataset.hdf5:   8%|▊         | 26/340 [10:21<2:01:12, 23.16s/it]"
          ]
        },
        {
          "output_type": "stream",
          "name": "stdout",
          "text": [
            "✅ Saved /LUNG1-030 with shape (282, 512, 512)\n",
            "📄 /LUNG1-032 — CT shape: (117, 512, 512), Mask shape: (117, 512, 512)\n"
          ]
        },
        {
          "output_type": "stream",
          "name": "stderr",
          "text": [
            "\rProcessing train_dataset.hdf5:   8%|▊         | 27/340 [10:45<2:02:12, 23.42s/it]"
          ]
        },
        {
          "output_type": "stream",
          "name": "stdout",
          "text": [
            "✅ Saved /LUNG1-032 with shape (351, 512, 512)\n",
            "📄 /LUNG1-033 — CT shape: (113, 512, 512), Mask shape: (113, 512, 512)\n"
          ]
        },
        {
          "output_type": "stream",
          "name": "stderr",
          "text": [
            "\rProcessing train_dataset.hdf5:   8%|▊         | 28/340 [11:08<2:00:54, 23.25s/it]"
          ]
        },
        {
          "output_type": "stream",
          "name": "stdout",
          "text": [
            "✅ Saved /LUNG1-033 with shape (339, 512, 512)\n",
            "📄 /LUNG1-035 — CT shape: (94, 512, 512), Mask shape: (94, 512, 512)\n"
          ]
        },
        {
          "output_type": "stream",
          "name": "stderr",
          "text": [
            "\rProcessing train_dataset.hdf5:   9%|▊         | 29/340 [11:27<1:54:05, 22.01s/it]"
          ]
        },
        {
          "output_type": "stream",
          "name": "stdout",
          "text": [
            "✅ Saved /LUNG1-035 with shape (282, 512, 512)\n",
            "📄 /LUNG1-036 — CT shape: (135, 512, 512), Mask shape: (135, 512, 512)\n"
          ]
        },
        {
          "output_type": "stream",
          "name": "stderr",
          "text": [
            "\rProcessing train_dataset.hdf5:   9%|▉         | 30/340 [11:56<2:04:41, 24.13s/it]"
          ]
        },
        {
          "output_type": "stream",
          "name": "stdout",
          "text": [
            "✅ Saved /LUNG1-036 with shape (405, 512, 512)\n",
            "📄 /LUNG1-037 — CT shape: (109, 512, 512), Mask shape: (109, 512, 512)\n"
          ]
        },
        {
          "output_type": "stream",
          "name": "stderr",
          "text": [
            "\rProcessing train_dataset.hdf5:   9%|▉         | 31/340 [12:19<2:02:28, 23.78s/it]"
          ]
        },
        {
          "output_type": "stream",
          "name": "stdout",
          "text": [
            "✅ Saved /LUNG1-037 with shape (327, 512, 512)\n",
            "📄 /LUNG1-038 — CT shape: (176, 512, 512), Mask shape: (176, 512, 512)\n"
          ]
        },
        {
          "output_type": "stream",
          "name": "stderr",
          "text": [
            "\rProcessing train_dataset.hdf5:   9%|▉         | 32/340 [12:56<2:21:57, 27.65s/it]"
          ]
        },
        {
          "output_type": "stream",
          "name": "stdout",
          "text": [
            "✅ Saved /LUNG1-038 with shape (528, 512, 512)\n",
            "📄 /LUNG1-041 — CT shape: (104, 512, 512), Mask shape: (104, 512, 512)\n"
          ]
        },
        {
          "output_type": "stream",
          "name": "stderr",
          "text": [
            "\rProcessing train_dataset.hdf5:  10%|▉         | 33/340 [13:17<2:11:46, 25.75s/it]"
          ]
        },
        {
          "output_type": "stream",
          "name": "stdout",
          "text": [
            "✅ Saved /LUNG1-041 with shape (312, 512, 512)\n",
            "📄 /LUNG1-042 — CT shape: (99, 512, 512), Mask shape: (99, 512, 512)\n"
          ]
        },
        {
          "output_type": "stream",
          "name": "stderr",
          "text": [
            "\rProcessing train_dataset.hdf5:  10%|█         | 34/340 [13:37<2:02:55, 24.10s/it]"
          ]
        },
        {
          "output_type": "stream",
          "name": "stdout",
          "text": [
            "✅ Saved /LUNG1-042 with shape (297, 512, 512)\n",
            "📄 /LUNG1-043 — CT shape: (103, 512, 512), Mask shape: (103, 512, 512)\n"
          ]
        },
        {
          "output_type": "stream",
          "name": "stderr",
          "text": [
            "\rProcessing train_dataset.hdf5:  10%|█         | 35/340 [13:58<1:57:32, 23.12s/it]"
          ]
        },
        {
          "output_type": "stream",
          "name": "stdout",
          "text": [
            "✅ Saved /LUNG1-043 with shape (309, 512, 512)\n",
            "📄 /LUNG1-044 — CT shape: (99, 512, 512), Mask shape: (99, 512, 512)\n"
          ]
        },
        {
          "output_type": "stream",
          "name": "stderr",
          "text": [
            "\rProcessing train_dataset.hdf5:  11%|█         | 36/340 [14:19<1:53:34, 22.42s/it]"
          ]
        },
        {
          "output_type": "stream",
          "name": "stdout",
          "text": [
            "✅ Saved /LUNG1-044 with shape (297, 512, 512)\n",
            "📄 /LUNG1-045 — CT shape: (108, 512, 512), Mask shape: (108, 512, 512)\n"
          ]
        },
        {
          "output_type": "stream",
          "name": "stderr",
          "text": [
            "\rProcessing train_dataset.hdf5:  11%|█         | 37/340 [14:40<1:51:20, 22.05s/it]"
          ]
        },
        {
          "output_type": "stream",
          "name": "stdout",
          "text": [
            "✅ Saved /LUNG1-045 with shape (324, 512, 512)\n",
            "📄 /LUNG1-046 — CT shape: (89, 512, 512), Mask shape: (89, 512, 512)\n"
          ]
        },
        {
          "output_type": "stream",
          "name": "stderr",
          "text": [
            "\rProcessing train_dataset.hdf5:  11%|█         | 38/340 [15:00<1:47:14, 21.30s/it]"
          ]
        },
        {
          "output_type": "stream",
          "name": "stdout",
          "text": [
            "✅ Saved /LUNG1-046 with shape (267, 512, 512)\n",
            "📄 /LUNG1-047 — CT shape: (110, 512, 512), Mask shape: (110, 512, 512)\n"
          ]
        },
        {
          "output_type": "stream",
          "name": "stderr",
          "text": [
            "\rProcessing train_dataset.hdf5:  11%|█▏        | 39/340 [15:22<1:48:15, 21.58s/it]"
          ]
        },
        {
          "output_type": "stream",
          "name": "stdout",
          "text": [
            "✅ Saved /LUNG1-047 with shape (330, 512, 512)\n",
            "📄 /LUNG1-048 — CT shape: (135, 512, 512), Mask shape: (135, 512, 512)\n"
          ]
        },
        {
          "output_type": "stream",
          "name": "stderr",
          "text": [
            "\rProcessing train_dataset.hdf5:  12%|█▏        | 40/340 [15:50<1:58:02, 23.61s/it]"
          ]
        },
        {
          "output_type": "stream",
          "name": "stdout",
          "text": [
            "✅ Saved /LUNG1-048 with shape (405, 512, 512)\n",
            "📄 /LUNG1-049 — CT shape: (118, 512, 512), Mask shape: (118, 512, 512)\n"
          ]
        },
        {
          "output_type": "stream",
          "name": "stderr",
          "text": [
            "\rProcessing train_dataset.hdf5:  12%|█▏        | 41/340 [16:15<1:59:02, 23.89s/it]"
          ]
        },
        {
          "output_type": "stream",
          "name": "stdout",
          "text": [
            "✅ Saved /LUNG1-049 with shape (354, 512, 512)\n",
            "📄 /LUNG1-050 — CT shape: (104, 512, 512), Mask shape: (104, 512, 512)\n"
          ]
        },
        {
          "output_type": "stream",
          "name": "stderr",
          "text": [
            "\rProcessing train_dataset.hdf5:  12%|█▏        | 42/340 [18:43<5:03:08, 61.04s/it]"
          ]
        },
        {
          "output_type": "stream",
          "name": "stdout",
          "text": [
            "✅ Saved /LUNG1-050 with shape (312, 512, 512)\n",
            "📄 /LUNG1-051 — CT shape: (125, 512, 512), Mask shape: (125, 512, 512)\n"
          ]
        },
        {
          "output_type": "stream",
          "name": "stderr",
          "text": [
            "\rProcessing train_dataset.hdf5:  13%|█▎        | 43/340 [19:13<4:16:42, 51.86s/it]"
          ]
        },
        {
          "output_type": "stream",
          "name": "stdout",
          "text": [
            "✅ Saved /LUNG1-051 with shape (375, 512, 512)\n",
            "📄 /LUNG1-052 — CT shape: (127, 512, 512), Mask shape: (127, 512, 512)\n"
          ]
        },
        {
          "output_type": "stream",
          "name": "stderr",
          "text": [
            "\rProcessing train_dataset.hdf5:  13%|█▎        | 44/340 [19:41<3:39:41, 44.53s/it]"
          ]
        },
        {
          "output_type": "stream",
          "name": "stdout",
          "text": [
            "✅ Saved /LUNG1-052 with shape (381, 512, 512)\n",
            "📄 /LUNG1-053 — CT shape: (94, 512, 512), Mask shape: (94, 512, 512)\n"
          ]
        },
        {
          "output_type": "stream",
          "name": "stderr",
          "text": [
            "\rProcessing train_dataset.hdf5:  13%|█▎        | 45/340 [20:01<3:02:48, 37.18s/it]"
          ]
        },
        {
          "output_type": "stream",
          "name": "stdout",
          "text": [
            "✅ Saved /LUNG1-053 with shape (282, 512, 512)\n",
            "📄 /LUNG1-054 — CT shape: (117, 512, 512), Mask shape: (117, 512, 512)\n"
          ]
        },
        {
          "output_type": "stream",
          "name": "stderr",
          "text": [
            "\rProcessing train_dataset.hdf5:  14%|█▎        | 46/340 [20:25<2:44:06, 33.49s/it]"
          ]
        },
        {
          "output_type": "stream",
          "name": "stdout",
          "text": [
            "✅ Saved /LUNG1-054 with shape (351, 512, 512)\n",
            "📄 /LUNG1-055 — CT shape: (125, 512, 512), Mask shape: (125, 512, 512)\n"
          ]
        },
        {
          "output_type": "stream",
          "name": "stderr",
          "text": [
            "\rProcessing train_dataset.hdf5:  14%|█▍        | 47/340 [20:54<2:35:34, 31.86s/it]"
          ]
        },
        {
          "output_type": "stream",
          "name": "stdout",
          "text": [
            "✅ Saved /LUNG1-055 with shape (375, 512, 512)\n",
            "📄 /LUNG1-058 — CT shape: (297, 512, 512), Mask shape: (297, 512, 512)\n"
          ]
        },
        {
          "output_type": "stream",
          "name": "stderr",
          "text": [
            "\rProcessing train_dataset.hdf5:  14%|█▍        | 48/340 [24:08<6:32:51, 80.72s/it]"
          ]
        },
        {
          "output_type": "stream",
          "name": "stdout",
          "text": [
            "✅ Saved /LUNG1-058 with shape (891, 512, 512)\n",
            "📄 /LUNG1-059 — CT shape: (110, 512, 512), Mask shape: (110, 512, 512)\n"
          ]
        },
        {
          "output_type": "stream",
          "name": "stderr",
          "text": [
            "\rProcessing train_dataset.hdf5:  14%|█▍        | 49/340 [24:30<5:06:12, 63.13s/it]"
          ]
        },
        {
          "output_type": "stream",
          "name": "stdout",
          "text": [
            "✅ Saved /LUNG1-059 with shape (330, 512, 512)\n",
            "📄 /LUNG1-060 — CT shape: (134, 512, 512), Mask shape: (134, 512, 512)\n"
          ]
        },
        {
          "output_type": "stream",
          "name": "stderr",
          "text": [
            "\rProcessing train_dataset.hdf5:  15%|█▍        | 50/340 [24:59<4:15:02, 52.77s/it]"
          ]
        },
        {
          "output_type": "stream",
          "name": "stdout",
          "text": [
            "✅ Saved /LUNG1-060 with shape (402, 512, 512)\n",
            "📄 /LUNG1-061 — CT shape: (114, 512, 512), Mask shape: (114, 512, 512)\n"
          ]
        },
        {
          "output_type": "stream",
          "name": "stderr",
          "text": [
            "\rProcessing train_dataset.hdf5:  15%|█▌        | 51/340 [25:25<3:35:42, 44.78s/it]"
          ]
        },
        {
          "output_type": "stream",
          "name": "stdout",
          "text": [
            "✅ Saved /LUNG1-061 with shape (342, 512, 512)\n",
            "📄 /LUNG1-062 — CT shape: (101, 512, 512), Mask shape: (101, 512, 512)\n"
          ]
        },
        {
          "output_type": "stream",
          "name": "stderr",
          "text": [
            "\rProcessing train_dataset.hdf5:  15%|█▌        | 52/340 [25:46<3:00:14, 37.55s/it]"
          ]
        },
        {
          "output_type": "stream",
          "name": "stdout",
          "text": [
            "✅ Saved /LUNG1-062 with shape (303, 512, 512)\n",
            "📄 /LUNG1-063 — CT shape: (114, 512, 512), Mask shape: (114, 512, 512)\n"
          ]
        },
        {
          "output_type": "stream",
          "name": "stderr",
          "text": [
            "\rProcessing train_dataset.hdf5:  16%|█▌        | 53/340 [26:10<2:39:53, 33.43s/it]"
          ]
        },
        {
          "output_type": "stream",
          "name": "stdout",
          "text": [
            "✅ Saved /LUNG1-063 with shape (342, 512, 512)\n",
            "📄 /LUNG1-064 — CT shape: (104, 512, 512), Mask shape: (104, 512, 512)\n"
          ]
        },
        {
          "output_type": "stream",
          "name": "stderr",
          "text": [
            "\rProcessing train_dataset.hdf5:  16%|█▌        | 54/340 [26:31<2:21:55, 29.78s/it]"
          ]
        },
        {
          "output_type": "stream",
          "name": "stdout",
          "text": [
            "✅ Saved /LUNG1-064 with shape (312, 512, 512)\n",
            "📄 /LUNG1-065 — CT shape: (135, 512, 512), Mask shape: (135, 512, 512)\n"
          ]
        },
        {
          "output_type": "stream",
          "name": "stderr",
          "text": [
            "\rProcessing train_dataset.hdf5:  16%|█▌        | 55/340 [26:58<2:17:54, 29.03s/it]"
          ]
        },
        {
          "output_type": "stream",
          "name": "stdout",
          "text": [
            "✅ Saved /LUNG1-065 with shape (405, 512, 512)\n",
            "📄 /LUNG1-067 — CT shape: (176, 512, 512), Mask shape: (176, 512, 512)\n"
          ]
        },
        {
          "output_type": "stream",
          "name": "stderr",
          "text": [
            "\rProcessing train_dataset.hdf5:  16%|█▋        | 56/340 [27:34<2:27:00, 31.06s/it]"
          ]
        },
        {
          "output_type": "stream",
          "name": "stdout",
          "text": [
            "✅ Saved /LUNG1-067 with shape (528, 512, 512)\n",
            "📄 /LUNG1-068 — CT shape: (105, 512, 512), Mask shape: (105, 512, 512)\n"
          ]
        },
        {
          "output_type": "stream",
          "name": "stderr",
          "text": [
            "\rProcessing train_dataset.hdf5:  17%|█▋        | 57/340 [27:55<2:13:01, 28.20s/it]"
          ]
        },
        {
          "output_type": "stream",
          "name": "stdout",
          "text": [
            "✅ Saved /LUNG1-068 with shape (315, 512, 512)\n",
            "📄 /LUNG1-069 — CT shape: (153, 512, 512), Mask shape: (153, 512, 512)\n"
          ]
        },
        {
          "output_type": "stream",
          "name": "stderr",
          "text": [
            "\rProcessing train_dataset.hdf5:  17%|█▋        | 58/340 [28:38<2:33:21, 32.63s/it]"
          ]
        },
        {
          "output_type": "stream",
          "name": "stdout",
          "text": [
            "✅ Saved /LUNG1-069 with shape (459, 512, 512)\n",
            "📄 /LUNG1-070 — CT shape: (109, 512, 512), Mask shape: (109, 512, 512)\n"
          ]
        },
        {
          "output_type": "stream",
          "name": "stderr",
          "text": [
            "\rProcessing train_dataset.hdf5:  17%|█▋        | 59/340 [29:07<2:26:40, 31.32s/it]"
          ]
        },
        {
          "output_type": "stream",
          "name": "stdout",
          "text": [
            "✅ Saved /LUNG1-070 with shape (327, 512, 512)\n",
            "📄 /LUNG1-072 — CT shape: (127, 512, 512), Mask shape: (127, 512, 512)\n"
          ]
        },
        {
          "output_type": "stream",
          "name": "stderr",
          "text": [
            "\rProcessing train_dataset.hdf5:  18%|█▊        | 60/340 [29:35<2:21:36, 30.34s/it]"
          ]
        },
        {
          "output_type": "stream",
          "name": "stdout",
          "text": [
            "✅ Saved /LUNG1-072 with shape (381, 512, 512)\n",
            "📄 /LUNG1-075 — CT shape: (176, 512, 512), Mask shape: (176, 512, 512)\n"
          ]
        },
        {
          "output_type": "stream",
          "name": "stderr",
          "text": [
            "\rProcessing train_dataset.hdf5:  18%|█▊        | 61/340 [33:11<6:40:38, 86.16s/it]"
          ]
        },
        {
          "output_type": "stream",
          "name": "stdout",
          "text": [
            "✅ Saved /LUNG1-075 with shape (528, 512, 512)\n",
            "📄 /LUNG1-079 — CT shape: (135, 512, 512), Mask shape: (135, 512, 512)\n"
          ]
        },
        {
          "output_type": "stream",
          "name": "stderr",
          "text": [
            "\rProcessing train_dataset.hdf5:  18%|█▊        | 62/340 [33:40<5:19:27, 68.95s/it]"
          ]
        },
        {
          "output_type": "stream",
          "name": "stdout",
          "text": [
            "✅ Saved /LUNG1-079 with shape (405, 512, 512)\n",
            "📄 /LUNG1-081 — CT shape: (113, 512, 512), Mask shape: (113, 512, 512)\n"
          ]
        },
        {
          "output_type": "stream",
          "name": "stderr",
          "text": [
            "\rProcessing train_dataset.hdf5:  19%|█▊        | 63/340 [34:04<4:15:47, 55.41s/it]"
          ]
        },
        {
          "output_type": "stream",
          "name": "stdout",
          "text": [
            "✅ Saved /LUNG1-081 with shape (339, 512, 512)\n",
            "📄 /LUNG1-082 — CT shape: (176, 512, 512), Mask shape: (176, 512, 512)\n"
          ]
        },
        {
          "output_type": "stream",
          "name": "stderr",
          "text": [
            "\rProcessing train_dataset.hdf5:  19%|█▉        | 64/340 [34:43<3:52:06, 50.46s/it]"
          ]
        },
        {
          "output_type": "stream",
          "name": "stdout",
          "text": [
            "✅ Saved /LUNG1-082 with shape (528, 512, 512)\n",
            "📄 /LUNG1-083 — CT shape: (113, 512, 512), Mask shape: (113, 512, 512)\n"
          ]
        },
        {
          "output_type": "stream",
          "name": "stderr",
          "text": [
            "\rProcessing train_dataset.hdf5:  19%|█▉        | 65/340 [35:07<3:15:19, 42.62s/it]"
          ]
        },
        {
          "output_type": "stream",
          "name": "stdout",
          "text": [
            "✅ Saved /LUNG1-083 with shape (339, 512, 512)\n",
            "📄 /LUNG1-084 — CT shape: (135, 512, 512), Mask shape: (135, 512, 512)\n"
          ]
        },
        {
          "output_type": "stream",
          "name": "stderr",
          "text": [
            "\rProcessing train_dataset.hdf5:  19%|█▉        | 66/340 [35:37<2:57:23, 38.85s/it]"
          ]
        },
        {
          "output_type": "stream",
          "name": "stdout",
          "text": [
            "✅ Saved /LUNG1-084 with shape (405, 512, 512)\n",
            "📄 /LUNG1-085 — CT shape: (106, 512, 512), Mask shape: (106, 512, 512)\n"
          ]
        },
        {
          "output_type": "stream",
          "name": "stderr",
          "text": [
            "\rProcessing train_dataset.hdf5:  20%|█▉        | 67/340 [36:01<2:36:19, 34.36s/it]"
          ]
        },
        {
          "output_type": "stream",
          "name": "stdout",
          "text": [
            "✅ Saved /LUNG1-085 with shape (348, 512, 512)\n",
            "📄 /LUNG1-086 — CT shape: (176, 512, 512), Mask shape: (176, 512, 512)\n"
          ]
        },
        {
          "output_type": "stream",
          "name": "stderr",
          "text": [
            "\rProcessing train_dataset.hdf5:  20%|██        | 68/340 [36:40<2:41:48, 35.69s/it]"
          ]
        },
        {
          "output_type": "stream",
          "name": "stdout",
          "text": [
            "✅ Saved /LUNG1-086 with shape (528, 512, 512)\n",
            "📄 /LUNG1-087 — CT shape: (116, 512, 512), Mask shape: (116, 512, 512)\n"
          ]
        },
        {
          "output_type": "stream",
          "name": "stderr",
          "text": [
            "\rProcessing train_dataset.hdf5:  20%|██        | 69/340 [37:05<2:27:12, 32.59s/it]"
          ]
        },
        {
          "output_type": "stream",
          "name": "stdout",
          "text": [
            "✅ Saved /LUNG1-087 with shape (348, 512, 512)\n",
            "📄 /LUNG1-089 — CT shape: (94, 512, 512), Mask shape: (94, 512, 512)\n"
          ]
        },
        {
          "output_type": "stream",
          "name": "stderr",
          "text": [
            "\rProcessing train_dataset.hdf5:  21%|██        | 70/340 [37:26<2:10:34, 29.02s/it]"
          ]
        },
        {
          "output_type": "stream",
          "name": "stdout",
          "text": [
            "✅ Saved /LUNG1-089 with shape (282, 512, 512)\n",
            "📄 /LUNG1-090 — CT shape: (125, 512, 512), Mask shape: (125, 512, 512)\n"
          ]
        },
        {
          "output_type": "stream",
          "name": "stderr",
          "text": [
            "\rProcessing train_dataset.hdf5:  21%|██        | 71/340 [37:54<2:08:37, 28.69s/it]"
          ]
        },
        {
          "output_type": "stream",
          "name": "stdout",
          "text": [
            "✅ Saved /LUNG1-090 with shape (375, 512, 512)\n",
            "📄 /LUNG1-092 — CT shape: (135, 512, 512), Mask shape: (135, 512, 512)\n"
          ]
        },
        {
          "output_type": "stream",
          "name": "stderr",
          "text": [
            "\rProcessing train_dataset.hdf5:  21%|██        | 72/340 [38:24<2:09:46, 29.05s/it]"
          ]
        },
        {
          "output_type": "stream",
          "name": "stdout",
          "text": [
            "✅ Saved /LUNG1-092 with shape (405, 512, 512)\n",
            "📄 /LUNG1-093 — CT shape: (176, 512, 512), Mask shape: (176, 512, 512)\n"
          ]
        },
        {
          "output_type": "stream",
          "name": "stderr",
          "text": [
            "\rProcessing train_dataset.hdf5:  21%|██▏       | 73/340 [44:46<10:00:49, 135.02s/it]"
          ]
        },
        {
          "output_type": "stream",
          "name": "stdout",
          "text": [
            "✅ Saved /LUNG1-093 with shape (528, 512, 512)\n",
            "📄 /LUNG1-094 — CT shape: (84, 512, 512), Mask shape: (84, 512, 512)\n"
          ]
        },
        {
          "output_type": "stream",
          "name": "stderr",
          "text": [
            "\rProcessing train_dataset.hdf5:  22%|██▏       | 74/340 [45:05<7:24:21, 100.23s/it] "
          ]
        },
        {
          "output_type": "stream",
          "name": "stdout",
          "text": [
            "✅ Saved /LUNG1-094 with shape (252, 512, 512)\n",
            "📄 /LUNG1-096 — CT shape: (176, 512, 512), Mask shape: (176, 512, 512)\n"
          ]
        },
        {
          "output_type": "stream",
          "name": "stderr",
          "text": [
            "\rProcessing train_dataset.hdf5:  22%|██▏       | 75/340 [45:45<6:03:10, 82.23s/it] "
          ]
        },
        {
          "output_type": "stream",
          "name": "stdout",
          "text": [
            "✅ Saved /LUNG1-096 with shape (528, 512, 512)\n",
            "📄 /LUNG1-097 — CT shape: (135, 512, 512), Mask shape: (135, 512, 512)\n"
          ]
        },
        {
          "output_type": "stream",
          "name": "stderr",
          "text": [
            "\rProcessing train_dataset.hdf5:  22%|██▏       | 76/340 [46:15<4:53:15, 66.65s/it]"
          ]
        },
        {
          "output_type": "stream",
          "name": "stdout",
          "text": [
            "✅ Saved /LUNG1-097 with shape (405, 512, 512)\n",
            "📄 /LUNG1-098 — CT shape: (110, 512, 512), Mask shape: (110, 512, 512)\n"
          ]
        },
        {
          "output_type": "stream",
          "name": "stderr",
          "text": [
            "\rProcessing train_dataset.hdf5:  23%|██▎       | 77/340 [46:40<3:56:58, 54.06s/it]"
          ]
        },
        {
          "output_type": "stream",
          "name": "stdout",
          "text": [
            "✅ Saved /LUNG1-098 with shape (330, 512, 512)\n",
            "📄 /LUNG1-099 — CT shape: (117, 512, 512), Mask shape: (117, 512, 512)\n"
          ]
        },
        {
          "output_type": "stream",
          "name": "stderr",
          "text": [
            "\rProcessing train_dataset.hdf5:  23%|██▎       | 78/340 [47:06<3:19:08, 45.60s/it]"
          ]
        },
        {
          "output_type": "stream",
          "name": "stdout",
          "text": [
            "✅ Saved /LUNG1-099 with shape (351, 512, 512)\n",
            "📄 /LUNG1-100 — CT shape: (107, 512, 512), Mask shape: (107, 512, 512)\n"
          ]
        },
        {
          "output_type": "stream",
          "name": "stderr",
          "text": [
            "\rProcessing train_dataset.hdf5:  23%|██▎       | 79/340 [47:30<2:49:49, 39.04s/it]"
          ]
        },
        {
          "output_type": "stream",
          "name": "stdout",
          "text": [
            "✅ Saved /LUNG1-100 with shape (321, 512, 512)\n",
            "📄 /LUNG1-101 — CT shape: (112, 512, 512), Mask shape: (112, 512, 512)\n"
          ]
        },
        {
          "output_type": "stream",
          "name": "stderr",
          "text": [
            "\rProcessing train_dataset.hdf5:  24%|██▎       | 80/340 [47:53<2:28:46, 34.33s/it]"
          ]
        },
        {
          "output_type": "stream",
          "name": "stdout",
          "text": [
            "✅ Saved /LUNG1-101 with shape (336, 512, 512)\n",
            "📄 /LUNG1-102 — CT shape: (118, 512, 512), Mask shape: (118, 512, 512)\n"
          ]
        },
        {
          "output_type": "stream",
          "name": "stderr",
          "text": [
            "\rProcessing train_dataset.hdf5:  24%|██▍       | 81/340 [48:19<2:18:00, 31.97s/it]"
          ]
        },
        {
          "output_type": "stream",
          "name": "stdout",
          "text": [
            "✅ Saved /LUNG1-102 with shape (354, 512, 512)\n",
            "📄 /LUNG1-103 — CT shape: (112, 512, 512), Mask shape: (112, 512, 512)\n"
          ]
        },
        {
          "output_type": "stream",
          "name": "stderr",
          "text": [
            "\rProcessing train_dataset.hdf5:  24%|██▍       | 82/340 [48:44<2:07:19, 29.61s/it]"
          ]
        },
        {
          "output_type": "stream",
          "name": "stdout",
          "text": [
            "✅ Saved /LUNG1-103 with shape (336, 512, 512)\n",
            "📄 /LUNG1-104 — CT shape: (297, 512, 512), Mask shape: (297, 512, 512)\n"
          ]
        },
        {
          "output_type": "stream",
          "name": "stderr",
          "text": [
            "\rProcessing train_dataset.hdf5:  24%|██▍       | 83/340 [50:04<3:11:33, 44.72s/it]"
          ]
        },
        {
          "output_type": "stream",
          "name": "stdout",
          "text": [
            "✅ Saved /LUNG1-104 with shape (891, 512, 512)\n",
            "📄 /LUNG1-105 — CT shape: (112, 512, 512), Mask shape: (112, 512, 512)\n"
          ]
        },
        {
          "output_type": "stream",
          "name": "stderr",
          "text": [
            "\rProcessing train_dataset.hdf5:  25%|██▍       | 84/340 [50:30<2:47:00, 39.14s/it]"
          ]
        },
        {
          "output_type": "stream",
          "name": "stdout",
          "text": [
            "✅ Saved /LUNG1-105 with shape (336, 512, 512)\n",
            "📄 /LUNG1-106 — CT shape: (99, 512, 512), Mask shape: (99, 512, 512)\n"
          ]
        },
        {
          "output_type": "stream",
          "name": "stderr",
          "text": [
            "\rProcessing train_dataset.hdf5:  25%|██▌       | 85/340 [50:52<2:25:04, 34.14s/it]"
          ]
        },
        {
          "output_type": "stream",
          "name": "stdout",
          "text": [
            "✅ Saved /LUNG1-106 with shape (297, 512, 512)\n",
            "📄 /LUNG1-108 — CT shape: (176, 512, 512), Mask shape: (176, 512, 512)\n"
          ]
        },
        {
          "output_type": "stream",
          "name": "stderr",
          "text": [
            "\rProcessing train_dataset.hdf5:  25%|██▌       | 86/340 [57:31<10:07:42, 143.55s/it]"
          ]
        },
        {
          "output_type": "stream",
          "name": "stdout",
          "text": [
            "✅ Saved /LUNG1-108 with shape (528, 512, 512)\n",
            "📄 /LUNG1-109 — CT shape: (97, 512, 512), Mask shape: (97, 512, 512)\n"
          ]
        },
        {
          "output_type": "stream",
          "name": "stderr",
          "text": [
            "\rProcessing train_dataset.hdf5:  26%|██▌       | 87/340 [57:54<7:32:22, 107.28s/it] "
          ]
        },
        {
          "output_type": "stream",
          "name": "stdout",
          "text": [
            "✅ Saved /LUNG1-109 with shape (291, 512, 512)\n",
            "📄 /LUNG1-110 — CT shape: (176, 512, 512), Mask shape: (176, 512, 512)\n"
          ]
        },
        {
          "output_type": "stream",
          "name": "stderr",
          "text": [
            "\rProcessing train_dataset.hdf5:  26%|██▌       | 88/340 [58:34<6:05:40, 87.07s/it] "
          ]
        },
        {
          "output_type": "stream",
          "name": "stdout",
          "text": [
            "✅ Saved /LUNG1-110 with shape (528, 512, 512)\n",
            "📄 /LUNG1-111 — CT shape: (216, 512, 512), Mask shape: (216, 512, 512)\n"
          ]
        },
        {
          "output_type": "stream",
          "name": "stderr",
          "text": [
            "\rProcessing train_dataset.hdf5:  26%|██▌       | 89/340 [59:23<5:16:49, 75.74s/it]"
          ]
        },
        {
          "output_type": "stream",
          "name": "stdout",
          "text": [
            "✅ Saved /LUNG1-111 with shape (648, 512, 512)\n",
            "📄 /LUNG1-112 — CT shape: (176, 512, 512), Mask shape: (176, 512, 512)\n"
          ]
        },
        {
          "output_type": "stream",
          "name": "stderr",
          "text": [
            "\rProcessing train_dataset.hdf5:  26%|██▋       | 90/340 [1:00:12<4:42:09, 67.72s/it]"
          ]
        },
        {
          "output_type": "stream",
          "name": "stdout",
          "text": [
            "✅ Saved /LUNG1-112 with shape (528, 512, 512)\n",
            "📄 /LUNG1-113 — CT shape: (118, 512, 512), Mask shape: (118, 512, 512)\n"
          ]
        },
        {
          "output_type": "stream",
          "name": "stderr",
          "text": [
            "\rProcessing train_dataset.hdf5:  27%|██▋       | 91/340 [1:00:41<3:52:47, 56.09s/it]"
          ]
        },
        {
          "output_type": "stream",
          "name": "stdout",
          "text": [
            "✅ Saved /LUNG1-113 with shape (354, 512, 512)\n",
            "📄 /LUNG1-114 — CT shape: (129, 512, 512), Mask shape: (129, 512, 512)\n"
          ]
        },
        {
          "output_type": "stream",
          "name": "stderr",
          "text": [
            "\rProcessing train_dataset.hdf5:  27%|██▋       | 92/340 [1:07:19<10:56:37, 158.86s/it]"
          ]
        },
        {
          "output_type": "stream",
          "name": "stdout",
          "text": [
            "✅ Saved /LUNG1-114 with shape (387, 512, 512)\n",
            "📄 /LUNG1-115 — CT shape: (106, 512, 512), Mask shape: (106, 512, 512)\n"
          ]
        },
        {
          "output_type": "stream",
          "name": "stderr",
          "text": [
            "\rProcessing train_dataset.hdf5:  27%|██▋       | 93/340 [1:07:46<8:10:24, 119.13s/it] "
          ]
        },
        {
          "output_type": "stream",
          "name": "stdout",
          "text": [
            "✅ Saved /LUNG1-115 with shape (318, 512, 512)\n",
            "📄 /LUNG1-116 — CT shape: (142, 512, 512), Mask shape: (142, 512, 512)\n"
          ]
        },
        {
          "output_type": "stream",
          "name": "stderr",
          "text": [
            "\rProcessing train_dataset.hdf5:  28%|██▊       | 94/340 [1:08:18<6:21:16, 92.99s/it] "
          ]
        },
        {
          "output_type": "stream",
          "name": "stdout",
          "text": [
            "✅ Saved /LUNG1-116 with shape (426, 512, 512)\n",
            "📄 /LUNG1-118 — CT shape: (124, 512, 512), Mask shape: (124, 512, 512)\n"
          ]
        },
        {
          "output_type": "stream",
          "name": "stderr",
          "text": [
            "\rProcessing train_dataset.hdf5:  28%|██▊       | 95/340 [1:08:52<5:07:11, 75.23s/it]"
          ]
        },
        {
          "output_type": "stream",
          "name": "stdout",
          "text": [
            "✅ Saved /LUNG1-118 with shape (372, 512, 512)\n",
            "📄 /LUNG1-119 — CT shape: (116, 512, 512), Mask shape: (116, 512, 512)\n"
          ]
        },
        {
          "output_type": "stream",
          "name": "stderr",
          "text": [
            "\rProcessing train_dataset.hdf5:  28%|██▊       | 96/340 [1:09:20<4:08:07, 61.02s/it]"
          ]
        },
        {
          "output_type": "stream",
          "name": "stdout",
          "text": [
            "✅ Saved /LUNG1-119 with shape (348, 512, 512)\n",
            "📄 /LUNG1-120 — CT shape: (114, 512, 512), Mask shape: (114, 512, 512)\n"
          ]
        },
        {
          "output_type": "stream",
          "name": "stderr",
          "text": [
            "\rProcessing train_dataset.hdf5:  29%|██▊       | 97/340 [1:09:46<3:24:38, 50.53s/it]"
          ]
        },
        {
          "output_type": "stream",
          "name": "stdout",
          "text": [
            "✅ Saved /LUNG1-120 with shape (342, 512, 512)\n",
            "📄 /LUNG1-121 — CT shape: (125, 512, 512), Mask shape: (125, 512, 512)\n"
          ]
        },
        {
          "output_type": "stream",
          "name": "stderr",
          "text": [
            "\rProcessing train_dataset.hdf5:  29%|██▉       | 98/340 [1:16:53<10:59:24, 163.49s/it]"
          ]
        },
        {
          "output_type": "stream",
          "name": "stdout",
          "text": [
            "✅ Saved /LUNG1-121 with shape (375, 512, 512)\n",
            "📄 /LUNG1-122 — CT shape: (124, 512, 512), Mask shape: (124, 512, 512)\n"
          ]
        },
        {
          "output_type": "stream",
          "name": "stderr",
          "text": [
            "\rProcessing train_dataset.hdf5:  29%|██▉       | 99/340 [1:17:21<8:14:08, 123.02s/it] "
          ]
        },
        {
          "output_type": "stream",
          "name": "stdout",
          "text": [
            "✅ Saved /LUNG1-122 with shape (372, 512, 512)\n",
            "📄 /LUNG1-123 — CT shape: (114, 512, 512), Mask shape: (114, 512, 512)\n"
          ]
        },
        {
          "output_type": "stream",
          "name": "stderr",
          "text": [
            "\rProcessing train_dataset.hdf5:  29%|██▉       | 100/340 [1:17:46<6:14:43, 93.68s/it]"
          ]
        },
        {
          "output_type": "stream",
          "name": "stdout",
          "text": [
            "✅ Saved /LUNG1-123 with shape (342, 512, 512)\n",
            "📄 /LUNG1-124 — CT shape: (111, 512, 512), Mask shape: (111, 512, 512)\n"
          ]
        },
        {
          "output_type": "stream",
          "name": "stderr",
          "text": [
            "\rProcessing train_dataset.hdf5:  30%|██▉       | 101/340 [1:18:12<4:51:13, 73.11s/it]"
          ]
        },
        {
          "output_type": "stream",
          "name": "stdout",
          "text": [
            "✅ Saved /LUNG1-124 with shape (333, 512, 512)\n",
            "📄 /LUNG1-125 — CT shape: (107, 512, 512), Mask shape: (107, 512, 512)\n"
          ]
        },
        {
          "output_type": "stream",
          "name": "stderr",
          "text": [
            "\rProcessing train_dataset.hdf5:  30%|███       | 102/340 [1:18:35<3:51:01, 58.24s/it]"
          ]
        },
        {
          "output_type": "stream",
          "name": "stdout",
          "text": [
            "✅ Saved /LUNG1-125 with shape (321, 512, 512)\n",
            "📄 /LUNG1-126 — CT shape: (123, 512, 512), Mask shape: (123, 512, 512)\n"
          ]
        },
        {
          "output_type": "stream",
          "name": "stderr",
          "text": [
            "\rProcessing train_dataset.hdf5:  30%|███       | 103/340 [1:19:03<3:13:53, 49.09s/it]"
          ]
        },
        {
          "output_type": "stream",
          "name": "stdout",
          "text": [
            "✅ Saved /LUNG1-126 with shape (369, 512, 512)\n",
            "📄 /LUNG1-127 — CT shape: (116, 512, 512), Mask shape: (116, 512, 512)\n"
          ]
        },
        {
          "output_type": "stream",
          "name": "stderr",
          "text": [
            "\rProcessing train_dataset.hdf5:  31%|███       | 104/340 [1:19:28<2:45:08, 41.98s/it]"
          ]
        },
        {
          "output_type": "stream",
          "name": "stdout",
          "text": [
            "✅ Saved /LUNG1-127 with shape (348, 512, 512)\n",
            "📄 /LUNG1-129 — CT shape: (112, 512, 512), Mask shape: (112, 512, 512)\n"
          ]
        },
        {
          "output_type": "stream",
          "name": "stderr",
          "text": [
            "\rProcessing train_dataset.hdf5:  31%|███       | 105/340 [1:26:56<10:41:10, 163.70s/it]"
          ]
        },
        {
          "output_type": "stream",
          "name": "stdout",
          "text": [
            "✅ Saved /LUNG1-129 with shape (336, 512, 512)\n",
            "📄 /LUNG1-130 — CT shape: (104, 512, 512), Mask shape: (104, 512, 512)\n"
          ]
        },
        {
          "output_type": "stream",
          "name": "stderr",
          "text": [
            "\rProcessing train_dataset.hdf5:  31%|███       | 106/340 [1:27:19<7:53:40, 121.46s/it] "
          ]
        },
        {
          "output_type": "stream",
          "name": "stdout",
          "text": [
            "✅ Saved /LUNG1-130 with shape (312, 512, 512)\n",
            "📄 /LUNG1-131 — CT shape: (114, 512, 512), Mask shape: (114, 512, 512)\n"
          ]
        },
        {
          "output_type": "stream",
          "name": "stderr",
          "text": [
            "\rProcessing train_dataset.hdf5:  31%|███▏      | 107/340 [1:27:43<5:58:30, 92.32s/it] "
          ]
        },
        {
          "output_type": "stream",
          "name": "stdout",
          "text": [
            "✅ Saved /LUNG1-131 with shape (342, 512, 512)\n",
            "📄 /LUNG1-135 — CT shape: (93, 512, 512), Mask shape: (93, 512, 512)\n"
          ]
        },
        {
          "output_type": "stream",
          "name": "stderr",
          "text": [
            "\rProcessing train_dataset.hdf5:  32%|███▏      | 108/340 [1:28:03<4:33:17, 70.68s/it]"
          ]
        },
        {
          "output_type": "stream",
          "name": "stdout",
          "text": [
            "✅ Saved /LUNG1-135 with shape (279, 512, 512)\n",
            "📄 /LUNG1-136 — CT shape: (110, 512, 512), Mask shape: (110, 512, 512)\n"
          ]
        },
        {
          "output_type": "stream",
          "name": "stderr",
          "text": [
            "\rProcessing train_dataset.hdf5:  32%|███▏      | 109/340 [1:28:27<3:37:46, 56.57s/it]"
          ]
        },
        {
          "output_type": "stream",
          "name": "stdout",
          "text": [
            "✅ Saved /LUNG1-136 with shape (330, 512, 512)\n",
            "📄 /LUNG1-137 — CT shape: (134, 512, 512), Mask shape: (134, 512, 512)\n"
          ]
        },
        {
          "output_type": "stream",
          "name": "stderr",
          "text": [
            "\rProcessing train_dataset.hdf5:  32%|███▏      | 110/340 [1:28:57<3:05:50, 48.48s/it]"
          ]
        },
        {
          "output_type": "stream",
          "name": "stdout",
          "text": [
            "✅ Saved /LUNG1-137 with shape (402, 512, 512)\n",
            "📄 /LUNG1-138 — CT shape: (93, 512, 512), Mask shape: (93, 512, 512)\n"
          ]
        },
        {
          "output_type": "stream",
          "name": "stderr",
          "text": [
            "\rProcessing train_dataset.hdf5:  33%|███▎      | 111/340 [1:29:17<2:33:00, 40.09s/it]"
          ]
        },
        {
          "output_type": "stream",
          "name": "stdout",
          "text": [
            "✅ Saved /LUNG1-138 with shape (279, 512, 512)\n",
            "📄 /LUNG1-140 — CT shape: (111, 512, 512), Mask shape: (111, 512, 512)\n"
          ]
        },
        {
          "output_type": "stream",
          "name": "stderr",
          "text": [
            "\rProcessing train_dataset.hdf5:  33%|███▎      | 112/340 [1:29:41<2:13:19, 35.08s/it]"
          ]
        },
        {
          "output_type": "stream",
          "name": "stdout",
          "text": [
            "✅ Saved /LUNG1-140 with shape (333, 512, 512)\n",
            "📄 /LUNG1-141 — CT shape: (118, 512, 512), Mask shape: (118, 512, 512)\n"
          ]
        },
        {
          "output_type": "stream",
          "name": "stderr",
          "text": [
            "\rProcessing train_dataset.hdf5:  33%|███▎      | 113/340 [1:30:04<1:59:54, 31.69s/it]"
          ]
        },
        {
          "output_type": "stream",
          "name": "stdout",
          "text": [
            "✅ Saved /LUNG1-141 with shape (354, 512, 512)\n",
            "📄 /LUNG1-142 — CT shape: (103, 512, 512), Mask shape: (103, 512, 512)\n"
          ]
        },
        {
          "output_type": "stream",
          "name": "stderr",
          "text": [
            "\rProcessing train_dataset.hdf5:  34%|███▎      | 114/340 [1:30:26<1:47:51, 28.63s/it]"
          ]
        },
        {
          "output_type": "stream",
          "name": "stdout",
          "text": [
            "✅ Saved /LUNG1-142 with shape (309, 512, 512)\n",
            "📄 /LUNG1-144 — CT shape: (134, 512, 512), Mask shape: (134, 512, 512)\n"
          ]
        },
        {
          "output_type": "stream",
          "name": "stderr",
          "text": [
            "\rProcessing train_dataset.hdf5:  34%|███▍      | 115/340 [1:30:58<1:51:09, 29.64s/it]"
          ]
        },
        {
          "output_type": "stream",
          "name": "stdout",
          "text": [
            "✅ Saved /LUNG1-144 with shape (402, 512, 512)\n",
            "📄 /LUNG1-145 — CT shape: (111, 512, 512), Mask shape: (111, 512, 512)\n"
          ]
        },
        {
          "output_type": "stream",
          "name": "stderr",
          "text": [
            "\rProcessing train_dataset.hdf5:  34%|███▍      | 116/340 [1:31:20<1:42:42, 27.51s/it]"
          ]
        },
        {
          "output_type": "stream",
          "name": "stdout",
          "text": [
            "✅ Saved /LUNG1-145 with shape (333, 512, 512)\n",
            "📄 /LUNG1-146 — CT shape: (134, 512, 512), Mask shape: (134, 512, 512)\n"
          ]
        },
        {
          "output_type": "stream",
          "name": "stderr",
          "text": [
            "\rProcessing train_dataset.hdf5:  34%|███▍      | 117/340 [1:32:00<1:55:24, 31.05s/it]"
          ]
        },
        {
          "output_type": "stream",
          "name": "stdout",
          "text": [
            "✅ Saved /LUNG1-146 with shape (402, 512, 512)\n",
            "📄 /LUNG1-148 — CT shape: (108, 512, 512), Mask shape: (108, 512, 512)\n"
          ]
        },
        {
          "output_type": "stream",
          "name": "stderr",
          "text": [
            "\rProcessing train_dataset.hdf5:  35%|███▍      | 118/340 [1:39:40<9:51:20, 159.82s/it]"
          ]
        },
        {
          "output_type": "stream",
          "name": "stdout",
          "text": [
            "✅ Saved /LUNG1-148 with shape (324, 512, 512)\n",
            "📄 /LUNG1-150 — CT shape: (120, 512, 512), Mask shape: (120, 512, 512)\n"
          ]
        },
        {
          "output_type": "stream",
          "name": "stderr",
          "text": [
            "\rProcessing train_dataset.hdf5:  35%|███▌      | 119/340 [1:40:05<7:19:43, 119.38s/it]"
          ]
        },
        {
          "output_type": "stream",
          "name": "stdout",
          "text": [
            "✅ Saved /LUNG1-150 with shape (360, 512, 512)\n",
            "📄 /LUNG1-152 — CT shape: (119, 512, 512), Mask shape: (119, 512, 512)\n"
          ]
        },
        {
          "output_type": "stream",
          "name": "stderr",
          "text": [
            "\rProcessing train_dataset.hdf5:  35%|███▌      | 120/340 [1:40:30<5:34:25, 91.21s/it] "
          ]
        },
        {
          "output_type": "stream",
          "name": "stdout",
          "text": [
            "✅ Saved /LUNG1-152 with shape (357, 512, 512)\n",
            "📄 /LUNG1-153 — CT shape: (106, 512, 512), Mask shape: (106, 512, 512)\n"
          ]
        },
        {
          "output_type": "stream",
          "name": "stderr",
          "text": [
            "\rProcessing train_dataset.hdf5:  36%|███▌      | 121/340 [1:40:53<4:17:47, 70.63s/it]"
          ]
        },
        {
          "output_type": "stream",
          "name": "stdout",
          "text": [
            "✅ Saved /LUNG1-153 with shape (318, 512, 512)\n",
            "📄 /LUNG1-154 — CT shape: (113, 512, 512), Mask shape: (113, 512, 512)\n"
          ]
        },
        {
          "output_type": "stream",
          "name": "stderr",
          "text": [
            "\rProcessing train_dataset.hdf5:  36%|███▌      | 122/340 [1:41:16<3:25:08, 56.46s/it]"
          ]
        },
        {
          "output_type": "stream",
          "name": "stdout",
          "text": [
            "✅ Saved /LUNG1-154 with shape (339, 512, 512)\n",
            "📄 /LUNG1-155 — CT shape: (121, 512, 512), Mask shape: (121, 512, 512)\n"
          ]
        },
        {
          "output_type": "stream",
          "name": "stderr",
          "text": [
            "\rProcessing train_dataset.hdf5:  36%|███▌      | 123/340 [1:41:43<2:51:28, 47.41s/it]"
          ]
        },
        {
          "output_type": "stream",
          "name": "stdout",
          "text": [
            "✅ Saved /LUNG1-155 with shape (363, 512, 512)\n",
            "📄 /LUNG1-156 — CT shape: (101, 512, 512), Mask shape: (101, 512, 512)\n"
          ]
        },
        {
          "output_type": "stream",
          "name": "stderr",
          "text": [
            "\rProcessing train_dataset.hdf5:  36%|███▋      | 124/340 [1:42:12<2:31:11, 42.00s/it]"
          ]
        },
        {
          "output_type": "stream",
          "name": "stdout",
          "text": [
            "✅ Saved /LUNG1-156 with shape (303, 512, 512)\n",
            "📄 /LUNG1-157 — CT shape: (100, 512, 512), Mask shape: (100, 512, 512)\n"
          ]
        },
        {
          "output_type": "stream",
          "name": "stderr",
          "text": [
            "\rProcessing train_dataset.hdf5:  37%|███▋      | 125/340 [1:49:46<9:53:32, 165.64s/it]"
          ]
        },
        {
          "output_type": "stream",
          "name": "stdout",
          "text": [
            "✅ Saved /LUNG1-157 with shape (300, 512, 512)\n",
            "📄 /LUNG1-159 — CT shape: (105, 512, 512), Mask shape: (105, 512, 512)\n"
          ]
        },
        {
          "output_type": "stream",
          "name": "stderr",
          "text": [
            "\rProcessing train_dataset.hdf5:  37%|███▋      | 126/340 [1:50:09<7:17:55, 122.78s/it]"
          ]
        },
        {
          "output_type": "stream",
          "name": "stdout",
          "text": [
            "✅ Saved /LUNG1-159 with shape (315, 512, 512)\n",
            "📄 /LUNG1-160 — CT shape: (144, 512, 512), Mask shape: (144, 512, 512)\n"
          ]
        },
        {
          "output_type": "stream",
          "name": "stderr",
          "text": [
            "\rProcessing train_dataset.hdf5:  37%|███▋      | 127/340 [1:50:39<5:37:17, 95.01s/it] "
          ]
        },
        {
          "output_type": "stream",
          "name": "stdout",
          "text": [
            "✅ Saved /LUNG1-160 with shape (432, 512, 512)\n",
            "📄 /LUNG1-161 — CT shape: (124, 512, 512), Mask shape: (124, 512, 512)\n"
          ]
        },
        {
          "output_type": "stream",
          "name": "stderr",
          "text": [
            "\rProcessing train_dataset.hdf5:  38%|███▊      | 128/340 [1:51:06<4:22:53, 74.41s/it]"
          ]
        },
        {
          "output_type": "stream",
          "name": "stdout",
          "text": [
            "✅ Saved /LUNG1-161 with shape (372, 512, 512)\n",
            "📄 /LUNG1-162 — CT shape: (124, 512, 512), Mask shape: (124, 512, 512)\n"
          ]
        },
        {
          "output_type": "stream",
          "name": "stderr",
          "text": [
            "\rProcessing train_dataset.hdf5:  38%|███▊      | 129/340 [1:51:34<3:32:49, 60.52s/it]"
          ]
        },
        {
          "output_type": "stream",
          "name": "stdout",
          "text": [
            "✅ Saved /LUNG1-162 with shape (372, 512, 512)\n",
            "📄 /LUNG1-163 — CT shape: (108, 512, 512), Mask shape: (108, 512, 512)\n"
          ]
        },
        {
          "output_type": "stream",
          "name": "stderr",
          "text": [
            "\rProcessing train_dataset.hdf5:  38%|███▊      | 130/340 [1:51:58<2:53:40, 49.62s/it]"
          ]
        },
        {
          "output_type": "stream",
          "name": "stdout",
          "text": [
            "✅ Saved /LUNG1-163 with shape (324, 512, 512)\n",
            "📄 /LUNG1-164 — CT shape: (134, 512, 512), Mask shape: (134, 512, 512)\n"
          ]
        },
        {
          "output_type": "stream",
          "name": "stderr",
          "text": [
            "\rProcessing train_dataset.hdf5:  39%|███▊      | 131/340 [1:52:36<2:40:55, 46.20s/it]"
          ]
        },
        {
          "output_type": "stream",
          "name": "stdout",
          "text": [
            "✅ Saved /LUNG1-164 with shape (402, 512, 512)\n",
            "📄 /LUNG1-165 — CT shape: (103, 512, 512), Mask shape: (103, 512, 512)\n"
          ]
        },
        {
          "output_type": "stream",
          "name": "stderr",
          "text": [
            "\rProcessing train_dataset.hdf5:  39%|███▉      | 132/340 [2:00:59<10:35:36, 183.35s/it]"
          ]
        },
        {
          "output_type": "stream",
          "name": "stdout",
          "text": [
            "✅ Saved /LUNG1-165 with shape (309, 512, 512)\n",
            "📄 /LUNG1-166 — CT shape: (134, 512, 512), Mask shape: (134, 512, 512)\n"
          ]
        },
        {
          "output_type": "stream",
          "name": "stderr",
          "text": [
            "\rProcessing train_dataset.hdf5:  39%|███▉      | 133/340 [2:01:29<7:53:31, 137.25s/it] "
          ]
        },
        {
          "output_type": "stream",
          "name": "stdout",
          "text": [
            "✅ Saved /LUNG1-166 with shape (402, 512, 512)\n",
            "📄 /LUNG1-167 — CT shape: (134, 512, 512), Mask shape: (134, 512, 512)\n"
          ]
        },
        {
          "output_type": "stream",
          "name": "stderr",
          "text": [
            "\rProcessing train_dataset.hdf5:  39%|███▉      | 134/340 [2:01:58<5:59:43, 104.77s/it]"
          ]
        },
        {
          "output_type": "stream",
          "name": "stdout",
          "text": [
            "✅ Saved /LUNG1-167 with shape (402, 512, 512)\n",
            "📄 /LUNG1-169 — CT shape: (97, 512, 512), Mask shape: (97, 512, 512)\n"
          ]
        },
        {
          "output_type": "stream",
          "name": "stderr",
          "text": [
            "\rProcessing train_dataset.hdf5:  40%|███▉      | 135/340 [2:02:19<4:31:34, 79.48s/it] "
          ]
        },
        {
          "output_type": "stream",
          "name": "stdout",
          "text": [
            "✅ Saved /LUNG1-169 with shape (291, 512, 512)\n",
            "📄 /LUNG1-171 — CT shape: (112, 512, 512), Mask shape: (112, 512, 512)\n"
          ]
        },
        {
          "output_type": "stream",
          "name": "stderr",
          "text": [
            "\rProcessing train_dataset.hdf5:  40%|████      | 136/340 [2:02:42<3:33:28, 62.79s/it]"
          ]
        },
        {
          "output_type": "stream",
          "name": "stdout",
          "text": [
            "✅ Saved /LUNG1-171 with shape (336, 512, 512)\n",
            "📄 /LUNG1-172 — CT shape: (95, 512, 512), Mask shape: (95, 512, 512)\n"
          ]
        },
        {
          "output_type": "stream",
          "name": "stderr",
          "text": [
            "\rProcessing train_dataset.hdf5:  40%|████      | 137/340 [2:03:07<2:53:19, 51.23s/it]"
          ]
        },
        {
          "output_type": "stream",
          "name": "stdout",
          "text": [
            "✅ Saved /LUNG1-172 with shape (285, 512, 512)\n",
            "📄 /LUNG1-173 — CT shape: (106, 512, 512), Mask shape: (106, 512, 512)\n"
          ]
        },
        {
          "output_type": "stream",
          "name": "stderr",
          "text": [
            "\rProcessing train_dataset.hdf5:  41%|████      | 138/340 [2:12:03<11:02:18, 196.72s/it]"
          ]
        },
        {
          "output_type": "stream",
          "name": "stdout",
          "text": [
            "✅ Saved /LUNG1-173 with shape (318, 512, 512)\n",
            "📄 /LUNG1-174 — CT shape: (108, 512, 512), Mask shape: (108, 512, 512)\n"
          ]
        },
        {
          "output_type": "stream",
          "name": "stderr",
          "text": [
            "\rProcessing train_dataset.hdf5:  41%|████      | 139/340 [2:12:27<8:05:51, 145.03s/it] "
          ]
        },
        {
          "output_type": "stream",
          "name": "stdout",
          "text": [
            "✅ Saved /LUNG1-174 with shape (324, 512, 512)\n",
            "📄 /LUNG1-178 — CT shape: (126, 512, 512), Mask shape: (126, 512, 512)\n"
          ]
        },
        {
          "output_type": "stream",
          "name": "stderr",
          "text": [
            "\rProcessing train_dataset.hdf5:  41%|████      | 140/340 [2:12:56<6:06:44, 110.02s/it]"
          ]
        },
        {
          "output_type": "stream",
          "name": "stdout",
          "text": [
            "✅ Saved /LUNG1-178 with shape (378, 512, 512)\n",
            "📄 /LUNG1-179 — CT shape: (123, 512, 512), Mask shape: (123, 512, 512)\n"
          ]
        },
        {
          "output_type": "stream",
          "name": "stderr",
          "text": [
            "\rProcessing train_dataset.hdf5:  41%|████▏     | 141/340 [2:13:23<4:42:51, 85.28s/it] "
          ]
        },
        {
          "output_type": "stream",
          "name": "stdout",
          "text": [
            "✅ Saved /LUNG1-179 with shape (369, 512, 512)\n",
            "📄 /LUNG1-180 — CT shape: (134, 512, 512), Mask shape: (134, 512, 512)\n"
          ]
        },
        {
          "output_type": "stream",
          "name": "stderr",
          "text": [
            "\rProcessing train_dataset.hdf5:  42%|████▏     | 142/340 [2:14:09<4:02:31, 73.49s/it]"
          ]
        },
        {
          "output_type": "stream",
          "name": "stdout",
          "text": [
            "✅ Saved /LUNG1-180 with shape (402, 512, 512)\n",
            "📄 /LUNG1-181 — CT shape: (142, 512, 512), Mask shape: (142, 512, 512)\n"
          ]
        },
        {
          "output_type": "stream",
          "name": "stderr",
          "text": [
            "\rProcessing train_dataset.hdf5:  42%|████▏     | 143/340 [2:14:45<3:23:56, 62.12s/it]"
          ]
        },
        {
          "output_type": "stream",
          "name": "stdout",
          "text": [
            "✅ Saved /LUNG1-181 with shape (426, 512, 512)\n",
            "📄 /LUNG1-182 — CT shape: (134, 512, 512), Mask shape: (134, 512, 512)\n"
          ]
        },
        {
          "output_type": "stream",
          "name": "stderr",
          "text": [
            "\rProcessing train_dataset.hdf5:  42%|████▏     | 144/340 [2:15:15<2:51:37, 52.54s/it]"
          ]
        },
        {
          "output_type": "stream",
          "name": "stdout",
          "text": [
            "✅ Saved /LUNG1-182 with shape (402, 512, 512)\n",
            "📄 /LUNG1-183 — CT shape: (109, 512, 512), Mask shape: (109, 512, 512)\n"
          ]
        },
        {
          "output_type": "stream",
          "name": "stderr",
          "text": [
            "\rProcessing train_dataset.hdf5:  43%|████▎     | 145/340 [2:15:38<2:21:48, 43.63s/it]"
          ]
        },
        {
          "output_type": "stream",
          "name": "stdout",
          "text": [
            "✅ Saved /LUNG1-183 with shape (327, 512, 512)\n",
            "📄 /LUNG1-184 — CT shape: (134, 512, 512), Mask shape: (134, 512, 512)\n"
          ]
        },
        {
          "output_type": "stream",
          "name": "stderr",
          "text": [
            "\rProcessing train_dataset.hdf5:  43%|████▎     | 146/340 [2:16:08<2:07:40, 39.49s/it]"
          ]
        },
        {
          "output_type": "stream",
          "name": "stdout",
          "text": [
            "✅ Saved /LUNG1-184 with shape (402, 512, 512)\n",
            "📄 /LUNG1-185 — CT shape: (134, 512, 512), Mask shape: (134, 512, 512)\n"
          ]
        },
        {
          "output_type": "stream",
          "name": "stderr",
          "text": [
            "\rProcessing train_dataset.hdf5:  43%|████▎     | 147/340 [2:16:38<1:57:44, 36.60s/it]"
          ]
        },
        {
          "output_type": "stream",
          "name": "stdout",
          "text": [
            "✅ Saved /LUNG1-185 with shape (402, 512, 512)\n",
            "📄 /LUNG1-187 — CT shape: (94, 512, 512), Mask shape: (94, 512, 512)\n"
          ]
        },
        {
          "output_type": "stream",
          "name": "stderr",
          "text": [
            "\rProcessing train_dataset.hdf5:  44%|████▎     | 148/340 [2:16:58<1:41:36, 31.75s/it]"
          ]
        },
        {
          "output_type": "stream",
          "name": "stdout",
          "text": [
            "✅ Saved /LUNG1-187 with shape (282, 512, 512)\n",
            "📄 /LUNG1-188 — CT shape: (115, 512, 512), Mask shape: (115, 512, 512)\n"
          ]
        },
        {
          "output_type": "stream",
          "name": "stderr",
          "text": [
            "\rProcessing train_dataset.hdf5:  44%|████▍     | 149/340 [2:17:23<1:34:56, 29.82s/it]"
          ]
        },
        {
          "output_type": "stream",
          "name": "stdout",
          "text": [
            "✅ Saved /LUNG1-188 with shape (345, 512, 512)\n",
            "📄 /LUNG1-189 — CT shape: (94, 512, 512), Mask shape: (94, 512, 512)\n"
          ]
        },
        {
          "output_type": "stream",
          "name": "stderr",
          "text": [
            "\rProcessing train_dataset.hdf5:  44%|████▍     | 150/340 [2:17:44<1:25:52, 27.12s/it]"
          ]
        },
        {
          "output_type": "stream",
          "name": "stdout",
          "text": [
            "✅ Saved /LUNG1-189 with shape (282, 512, 512)\n",
            "📄 /LUNG1-190 — CT shape: (112, 512, 512), Mask shape: (112, 512, 512)\n"
          ]
        },
        {
          "output_type": "stream",
          "name": "stderr",
          "text": [
            "\rProcessing train_dataset.hdf5:  44%|████▍     | 151/340 [2:18:07<1:21:31, 25.88s/it]"
          ]
        },
        {
          "output_type": "stream",
          "name": "stdout",
          "text": [
            "✅ Saved /LUNG1-190 with shape (336, 512, 512)\n",
            "📄 /LUNG1-191 — CT shape: (119, 512, 512), Mask shape: (119, 512, 512)\n"
          ]
        },
        {
          "output_type": "stream",
          "name": "stderr",
          "text": [
            "\rProcessing train_dataset.hdf5:  45%|████▍     | 152/340 [2:18:31<1:19:24, 25.34s/it]"
          ]
        },
        {
          "output_type": "stream",
          "name": "stdout",
          "text": [
            "✅ Saved /LUNG1-191 with shape (357, 512, 512)\n",
            "📄 /LUNG1-192 — CT shape: (134, 512, 512), Mask shape: (134, 512, 512)\n"
          ]
        },
        {
          "output_type": "stream",
          "name": "stderr",
          "text": [
            "\rProcessing train_dataset.hdf5:  45%|████▌     | 153/340 [2:19:00<1:22:16, 26.40s/it]"
          ]
        },
        {
          "output_type": "stream",
          "name": "stdout",
          "text": [
            "✅ Saved /LUNG1-192 with shape (402, 512, 512)\n",
            "📄 /LUNG1-193 — CT shape: (106, 512, 512), Mask shape: (106, 512, 512)\n"
          ]
        },
        {
          "output_type": "stream",
          "name": "stderr",
          "text": [
            "\rProcessing train_dataset.hdf5:  45%|████▌     | 154/340 [2:19:23<1:18:29, 25.32s/it]"
          ]
        },
        {
          "output_type": "stream",
          "name": "stdout",
          "text": [
            "✅ Saved /LUNG1-193 with shape (318, 512, 512)\n",
            "📄 /LUNG1-195 — CT shape: (90, 512, 512), Mask shape: (90, 512, 512)\n"
          ]
        },
        {
          "output_type": "stream",
          "name": "stderr",
          "text": [
            "\rProcessing train_dataset.hdf5:  46%|████▌     | 155/340 [2:19:43<1:13:02, 23.69s/it]"
          ]
        },
        {
          "output_type": "stream",
          "name": "stdout",
          "text": [
            "✅ Saved /LUNG1-195 with shape (270, 512, 512)\n",
            "📄 /LUNG1-197 — CT shape: (143, 512, 512), Mask shape: (143, 512, 512)\n"
          ]
        },
        {
          "output_type": "stream",
          "name": "stderr",
          "text": [
            "\rProcessing train_dataset.hdf5:  46%|████▌     | 156/340 [2:20:15<1:20:42, 26.32s/it]"
          ]
        },
        {
          "output_type": "stream",
          "name": "stdout",
          "text": [
            "✅ Saved /LUNG1-197 with shape (429, 512, 512)\n",
            "📄 /LUNG1-199 — CT shape: (109, 512, 512), Mask shape: (109, 512, 512)\n"
          ]
        },
        {
          "output_type": "stream",
          "name": "stderr",
          "text": [
            "\rProcessing train_dataset.hdf5:  46%|████▌     | 157/340 [2:20:39<1:17:50, 25.52s/it]"
          ]
        },
        {
          "output_type": "stream",
          "name": "stdout",
          "text": [
            "✅ Saved /LUNG1-199 with shape (327, 512, 512)\n",
            "📄 /LUNG1-200 — CT shape: (134, 512, 512), Mask shape: (134, 512, 512)\n"
          ]
        },
        {
          "output_type": "stream",
          "name": "stderr",
          "text": [
            "\rProcessing train_dataset.hdf5:  46%|████▋     | 158/340 [2:21:06<1:18:39, 25.93s/it]"
          ]
        },
        {
          "output_type": "stream",
          "name": "stdout",
          "text": [
            "✅ Saved /LUNG1-200 with shape (402, 512, 512)\n",
            "📄 /LUNG1-202 — CT shape: (134, 512, 512), Mask shape: (134, 512, 512)\n"
          ]
        },
        {
          "output_type": "stream",
          "name": "stderr",
          "text": [
            "\rProcessing train_dataset.hdf5:  47%|████▋     | 159/340 [2:21:34<1:20:16, 26.61s/it]"
          ]
        },
        {
          "output_type": "stream",
          "name": "stdout",
          "text": [
            "✅ Saved /LUNG1-202 with shape (402, 512, 512)\n",
            "📄 /LUNG1-203 — CT shape: (112, 512, 512), Mask shape: (112, 512, 512)\n"
          ]
        },
        {
          "output_type": "stream",
          "name": "stderr",
          "text": [
            "\rProcessing train_dataset.hdf5:  47%|████▋     | 160/340 [2:21:58<1:17:41, 25.90s/it]"
          ]
        },
        {
          "output_type": "stream",
          "name": "stdout",
          "text": [
            "✅ Saved /LUNG1-203 with shape (336, 512, 512)\n",
            "📄 /LUNG1-204 — CT shape: (92, 512, 512), Mask shape: (92, 512, 512)\n"
          ]
        },
        {
          "output_type": "stream",
          "name": "stderr",
          "text": [
            "\rProcessing train_dataset.hdf5:  47%|████▋     | 161/340 [2:22:18<1:12:14, 24.22s/it]"
          ]
        },
        {
          "output_type": "stream",
          "name": "stdout",
          "text": [
            "✅ Saved /LUNG1-204 with shape (276, 512, 512)\n",
            "📄 /LUNG1-205 — CT shape: (94, 512, 512), Mask shape: (94, 512, 512)\n"
          ]
        },
        {
          "output_type": "stream",
          "name": "stderr",
          "text": [
            "\rProcessing train_dataset.hdf5:  48%|████▊     | 162/340 [2:22:38<1:07:37, 22.80s/it]"
          ]
        },
        {
          "output_type": "stream",
          "name": "stdout",
          "text": [
            "✅ Saved /LUNG1-205 with shape (282, 512, 512)\n",
            "📄 /LUNG1-206 — CT shape: (134, 512, 512), Mask shape: (134, 512, 512)\n"
          ]
        },
        {
          "output_type": "stream",
          "name": "stderr",
          "text": [
            "\rProcessing train_dataset.hdf5:  48%|████▊     | 163/340 [2:23:06<1:12:01, 24.41s/it]"
          ]
        },
        {
          "output_type": "stream",
          "name": "stdout",
          "text": [
            "✅ Saved /LUNG1-206 with shape (402, 512, 512)\n",
            "📄 /LUNG1-207 — CT shape: (124, 512, 512), Mask shape: (124, 512, 512)\n"
          ]
        },
        {
          "output_type": "stream",
          "name": "stderr",
          "text": [
            "\rProcessing train_dataset.hdf5:  48%|████▊     | 164/340 [2:33:57<10:22:54, 212.35s/it]"
          ]
        },
        {
          "output_type": "stream",
          "name": "stdout",
          "text": [
            "✅ Saved /LUNG1-207 with shape (372, 512, 512)\n",
            "📄 /LUNG1-208 — CT shape: (116, 512, 512), Mask shape: (116, 512, 512)\n"
          ]
        },
        {
          "output_type": "stream",
          "name": "stderr",
          "text": [
            "\rProcessing train_dataset.hdf5:  49%|████▊     | 165/340 [2:34:21<7:34:31, 155.84s/it] "
          ]
        },
        {
          "output_type": "stream",
          "name": "stdout",
          "text": [
            "✅ Saved /LUNG1-208 with shape (348, 512, 512)\n",
            "📄 /LUNG1-209 — CT shape: (120, 512, 512), Mask shape: (120, 512, 512)\n"
          ]
        },
        {
          "output_type": "stream",
          "name": "stderr",
          "text": [
            "\rProcessing train_dataset.hdf5:  49%|████▉     | 166/340 [2:34:55<5:45:55, 119.28s/it]"
          ]
        },
        {
          "output_type": "stream",
          "name": "stdout",
          "text": [
            "✅ Saved /LUNG1-209 with shape (360, 512, 512)\n",
            "📄 /LUNG1-211 — CT shape: (94, 512, 512), Mask shape: (94, 512, 512)\n"
          ]
        },
        {
          "output_type": "stream",
          "name": "stderr",
          "text": [
            "\rProcessing train_dataset.hdf5:  49%|████▉     | 167/340 [2:35:23<4:25:15, 92.00s/it] "
          ]
        },
        {
          "output_type": "stream",
          "name": "stdout",
          "text": [
            "✅ Saved /LUNG1-211 with shape (282, 512, 512)\n",
            "📄 /LUNG1-212 — CT shape: (111, 512, 512), Mask shape: (111, 512, 512)\n"
          ]
        },
        {
          "output_type": "stream",
          "name": "stderr",
          "text": [
            "\rProcessing train_dataset.hdf5:  49%|████▉     | 168/340 [2:35:50<3:27:24, 72.35s/it]"
          ]
        },
        {
          "output_type": "stream",
          "name": "stdout",
          "text": [
            "✅ Saved /LUNG1-212 with shape (333, 512, 512)\n",
            "📄 /LUNG1-213 — CT shape: (94, 512, 512), Mask shape: (94, 512, 512)\n"
          ]
        },
        {
          "output_type": "stream",
          "name": "stderr",
          "text": [
            "\rProcessing train_dataset.hdf5:  50%|████▉     | 169/340 [2:36:11<2:42:10, 56.90s/it]"
          ]
        },
        {
          "output_type": "stream",
          "name": "stdout",
          "text": [
            "✅ Saved /LUNG1-213 with shape (282, 512, 512)\n",
            "📄 /LUNG1-214 — CT shape: (105, 512, 512), Mask shape: (105, 512, 512)\n"
          ]
        },
        {
          "output_type": "stream",
          "name": "stderr",
          "text": [
            "\rProcessing train_dataset.hdf5:  50%|█████     | 170/340 [2:36:34<2:12:31, 46.77s/it]"
          ]
        },
        {
          "output_type": "stream",
          "name": "stdout",
          "text": [
            "✅ Saved /LUNG1-214 with shape (315, 512, 512)\n",
            "📄 /LUNG1-215 — CT shape: (75, 512, 512), Mask shape: (75, 512, 512)\n"
          ]
        },
        {
          "output_type": "stream",
          "name": "stderr",
          "text": [
            "\rProcessing train_dataset.hdf5:  50%|█████     | 171/340 [2:36:49<1:44:54, 37.25s/it]"
          ]
        },
        {
          "output_type": "stream",
          "name": "stdout",
          "text": [
            "✅ Saved /LUNG1-215 with shape (225, 512, 512)\n",
            "📄 /LUNG1-216 — CT shape: (134, 512, 512), Mask shape: (134, 512, 512)\n"
          ]
        },
        {
          "output_type": "stream",
          "name": "stderr",
          "text": [
            "\rProcessing train_dataset.hdf5:  51%|█████     | 172/340 [2:37:17<1:37:03, 34.66s/it]"
          ]
        },
        {
          "output_type": "stream",
          "name": "stdout",
          "text": [
            "✅ Saved /LUNG1-216 with shape (402, 512, 512)\n",
            "📄 /LUNG1-217 — CT shape: (94, 512, 512), Mask shape: (94, 512, 512)\n"
          ]
        },
        {
          "output_type": "stream",
          "name": "stderr",
          "text": [
            "\rProcessing train_dataset.hdf5:  51%|█████     | 173/340 [2:37:38<1:24:30, 30.36s/it]"
          ]
        },
        {
          "output_type": "stream",
          "name": "stdout",
          "text": [
            "✅ Saved /LUNG1-217 with shape (282, 512, 512)\n",
            "📄 /LUNG1-218 — CT shape: (94, 512, 512), Mask shape: (94, 512, 512)\n"
          ]
        },
        {
          "output_type": "stream",
          "name": "stderr",
          "text": [
            "\rProcessing train_dataset.hdf5:  51%|█████     | 174/340 [2:37:59<1:16:10, 27.53s/it]"
          ]
        },
        {
          "output_type": "stream",
          "name": "stdout",
          "text": [
            "✅ Saved /LUNG1-218 with shape (282, 512, 512)\n",
            "📄 /LUNG1-219 — CT shape: (93, 512, 512), Mask shape: (93, 512, 512)\n"
          ]
        },
        {
          "output_type": "stream",
          "name": "stderr",
          "text": [
            "\rProcessing train_dataset.hdf5:  51%|█████▏    | 175/340 [2:38:18<1:09:18, 25.20s/it]"
          ]
        },
        {
          "output_type": "stream",
          "name": "stdout",
          "text": [
            "✅ Saved /LUNG1-219 with shape (279, 512, 512)\n",
            "📄 /LUNG1-221 — CT shape: (94, 512, 512), Mask shape: (94, 512, 512)\n"
          ]
        },
        {
          "output_type": "stream",
          "name": "stderr",
          "text": [
            "\rProcessing train_dataset.hdf5:  52%|█████▏    | 176/340 [2:38:49<1:13:19, 26.83s/it]"
          ]
        },
        {
          "output_type": "stream",
          "name": "stdout",
          "text": [
            "✅ Saved /LUNG1-221 with shape (282, 512, 512)\n",
            "📄 /LUNG1-222 — CT shape: (109, 512, 512), Mask shape: (109, 512, 512)\n"
          ]
        },
        {
          "output_type": "stream",
          "name": "stderr",
          "text": [
            "\rProcessing train_dataset.hdf5:  52%|█████▏    | 177/340 [2:39:20<1:16:19, 28.09s/it]"
          ]
        },
        {
          "output_type": "stream",
          "name": "stdout",
          "text": [
            "✅ Saved /LUNG1-222 with shape (327, 512, 512)\n",
            "📄 /LUNG1-223 — CT shape: (129, 512, 512), Mask shape: (129, 512, 512)\n"
          ]
        },
        {
          "output_type": "stream",
          "name": "stderr",
          "text": [
            "\rProcessing train_dataset.hdf5:  52%|█████▏    | 178/340 [2:39:47<1:15:02, 27.79s/it]"
          ]
        },
        {
          "output_type": "stream",
          "name": "stdout",
          "text": [
            "✅ Saved /LUNG1-223 with shape (387, 512, 512)\n",
            "📄 /LUNG1-226 — CT shape: (94, 512, 512), Mask shape: (94, 512, 512)\n"
          ]
        },
        {
          "output_type": "stream",
          "name": "stderr",
          "text": [
            "\rProcessing train_dataset.hdf5:  53%|█████▎    | 179/340 [2:40:07<1:08:03, 25.36s/it]"
          ]
        },
        {
          "output_type": "stream",
          "name": "stdout",
          "text": [
            "✅ Saved /LUNG1-226 with shape (282, 512, 512)\n",
            "📄 /LUNG1-227 — CT shape: (118, 512, 512), Mask shape: (118, 512, 512)\n"
          ]
        },
        {
          "output_type": "stream",
          "name": "stderr",
          "text": [
            "\rProcessing train_dataset.hdf5:  53%|█████▎    | 180/340 [2:40:32<1:07:33, 25.34s/it]"
          ]
        },
        {
          "output_type": "stream",
          "name": "stdout",
          "text": [
            "✅ Saved /LUNG1-227 with shape (354, 512, 512)\n",
            "📄 /LUNG1-228 — CT shape: (90, 512, 512), Mask shape: (90, 512, 512)\n"
          ]
        },
        {
          "output_type": "stream",
          "name": "stderr",
          "text": [
            "\rProcessing train_dataset.hdf5:  53%|█████▎    | 181/340 [2:40:52<1:02:33, 23.60s/it]"
          ]
        },
        {
          "output_type": "stream",
          "name": "stdout",
          "text": [
            "✅ Saved /LUNG1-228 with shape (270, 512, 512)\n",
            "📄 /LUNG1-229 — CT shape: (94, 512, 512), Mask shape: (94, 512, 512)\n"
          ]
        },
        {
          "output_type": "stream",
          "name": "stderr",
          "text": [
            "\rProcessing train_dataset.hdf5:  54%|█████▎    | 182/340 [2:41:11<58:57, 22.39s/it]  "
          ]
        },
        {
          "output_type": "stream",
          "name": "stdout",
          "text": [
            "✅ Saved /LUNG1-229 with shape (282, 512, 512)\n",
            "📄 /LUNG1-231 — CT shape: (132, 512, 512), Mask shape: (132, 512, 512)\n"
          ]
        },
        {
          "output_type": "stream",
          "name": "stderr",
          "text": [
            "\rProcessing train_dataset.hdf5:  54%|█████▍    | 183/340 [2:41:39<1:02:49, 24.01s/it]"
          ]
        },
        {
          "output_type": "stream",
          "name": "stdout",
          "text": [
            "✅ Saved /LUNG1-231 with shape (396, 512, 512)\n",
            "📄 /LUNG1-232 — CT shape: (136, 512, 512), Mask shape: (136, 512, 512)\n"
          ]
        },
        {
          "output_type": "stream",
          "name": "stderr",
          "text": [
            "\rProcessing train_dataset.hdf5:  54%|█████▍    | 184/340 [2:42:10<1:07:28, 25.95s/it]"
          ]
        },
        {
          "output_type": "stream",
          "name": "stdout",
          "text": [
            "✅ Saved /LUNG1-232 with shape (408, 512, 512)\n",
            "📄 /LUNG1-234 — CT shape: (94, 512, 512), Mask shape: (94, 512, 512)\n"
          ]
        },
        {
          "output_type": "stream",
          "name": "stderr",
          "text": [
            "\rProcessing train_dataset.hdf5:  54%|█████▍    | 185/340 [2:42:29<1:02:14, 24.10s/it]"
          ]
        },
        {
          "output_type": "stream",
          "name": "stdout",
          "text": [
            "✅ Saved /LUNG1-234 with shape (282, 512, 512)\n",
            "📄 /LUNG1-236 — CT shape: (94, 512, 512), Mask shape: (94, 512, 512)\n"
          ]
        },
        {
          "output_type": "stream",
          "name": "stderr",
          "text": [
            "\rProcessing train_dataset.hdf5:  55%|█████▍    | 186/340 [2:42:48<57:57, 22.58s/it]  "
          ]
        },
        {
          "output_type": "stream",
          "name": "stdout",
          "text": [
            "✅ Saved /LUNG1-236 with shape (282, 512, 512)\n",
            "📄 /LUNG1-237 — CT shape: (126, 512, 512), Mask shape: (126, 512, 512)\n"
          ]
        },
        {
          "output_type": "stream",
          "name": "stderr",
          "text": [
            "\rProcessing train_dataset.hdf5:  55%|█████▌    | 187/340 [2:43:16<1:01:02, 23.94s/it]"
          ]
        },
        {
          "output_type": "stream",
          "name": "stdout",
          "text": [
            "✅ Saved /LUNG1-237 with shape (378, 512, 512)\n",
            "📄 /LUNG1-238 — CT shape: (94, 512, 512), Mask shape: (94, 512, 512)\n"
          ]
        },
        {
          "output_type": "stream",
          "name": "stderr",
          "text": [
            "\rProcessing train_dataset.hdf5:  55%|█████▌    | 188/340 [2:43:35<57:06, 22.54s/it]  "
          ]
        },
        {
          "output_type": "stream",
          "name": "stdout",
          "text": [
            "✅ Saved /LUNG1-238 with shape (282, 512, 512)\n",
            "📄 /LUNG1-240 — CT shape: (134, 512, 512), Mask shape: (134, 512, 512)\n"
          ]
        },
        {
          "output_type": "stream",
          "name": "stderr",
          "text": [
            "\rProcessing train_dataset.hdf5:  56%|█████▌    | 189/340 [2:44:03<1:00:51, 24.18s/it]"
          ]
        },
        {
          "output_type": "stream",
          "name": "stdout",
          "text": [
            "✅ Saved /LUNG1-240 with shape (402, 512, 512)\n",
            "📄 /LUNG1-242 — CT shape: (134, 512, 512), Mask shape: (134, 512, 512)\n"
          ]
        },
        {
          "output_type": "stream",
          "name": "stderr",
          "text": [
            "\rProcessing train_dataset.hdf5:  56%|█████▌    | 190/340 [2:44:32<1:04:26, 25.77s/it]"
          ]
        },
        {
          "output_type": "stream",
          "name": "stdout",
          "text": [
            "✅ Saved /LUNG1-242 with shape (402, 512, 512)\n",
            "📄 /LUNG1-243 — CT shape: (94, 512, 512), Mask shape: (94, 512, 512)\n"
          ]
        },
        {
          "output_type": "stream",
          "name": "stderr",
          "text": [
            "\rProcessing train_dataset.hdf5:  56%|█████▌    | 191/340 [2:59:04<11:34:17, 279.58s/it]"
          ]
        },
        {
          "output_type": "stream",
          "name": "stdout",
          "text": [
            "✅ Saved /LUNG1-243 with shape (282, 512, 512)\n",
            "📄 /LUNG1-244 — CT shape: (134, 512, 512), Mask shape: (134, 512, 512)\n"
          ]
        },
        {
          "output_type": "stream",
          "name": "stderr",
          "text": [
            "\rProcessing train_dataset.hdf5:  56%|█████▋    | 192/340 [2:59:39<8:28:13, 206.04s/it] "
          ]
        },
        {
          "output_type": "stream",
          "name": "stdout",
          "text": [
            "✅ Saved /LUNG1-244 with shape (402, 512, 512)\n",
            "📄 /LUNG1-245 — CT shape: (130, 512, 512), Mask shape: (130, 512, 512)\n"
          ]
        },
        {
          "output_type": "stream",
          "name": "stderr",
          "text": [
            "\rProcessing train_dataset.hdf5:  57%|█████▋    | 193/340 [3:00:11<6:17:21, 154.03s/it]"
          ]
        },
        {
          "output_type": "stream",
          "name": "stdout",
          "text": [
            "✅ Saved /LUNG1-245 with shape (390, 512, 512)\n",
            "📄 /LUNG1-247 — CT shape: (134, 512, 512), Mask shape: (134, 512, 512)\n"
          ]
        },
        {
          "output_type": "stream",
          "name": "stderr",
          "text": [
            "\rProcessing train_dataset.hdf5:  57%|█████▋    | 194/340 [3:00:44<4:46:09, 117.60s/it]"
          ]
        },
        {
          "output_type": "stream",
          "name": "stdout",
          "text": [
            "✅ Saved /LUNG1-247 with shape (402, 512, 512)\n",
            "📄 /LUNG1-248 — CT shape: (134, 512, 512), Mask shape: (134, 512, 512)\n"
          ]
        },
        {
          "output_type": "stream",
          "name": "stderr",
          "text": [
            "\rProcessing train_dataset.hdf5:  57%|█████▋    | 195/340 [3:01:20<3:44:58, 93.09s/it] "
          ]
        },
        {
          "output_type": "stream",
          "name": "stdout",
          "text": [
            "✅ Saved /LUNG1-248 with shape (402, 512, 512)\n",
            "📄 /LUNG1-250 — CT shape: (134, 512, 512), Mask shape: (134, 512, 512)\n"
          ]
        },
        {
          "output_type": "stream",
          "name": "stderr",
          "text": [
            "\rProcessing train_dataset.hdf5:  58%|█████▊    | 196/340 [3:01:55<3:01:52, 75.78s/it]"
          ]
        },
        {
          "output_type": "stream",
          "name": "stdout",
          "text": [
            "✅ Saved /LUNG1-250 with shape (402, 512, 512)\n",
            "📄 /LUNG1-251 — CT shape: (134, 512, 512), Mask shape: (134, 512, 512)\n"
          ]
        },
        {
          "output_type": "stream",
          "name": "stderr",
          "text": [
            "\rProcessing train_dataset.hdf5:  58%|█████▊    | 197/340 [3:02:30<2:31:33, 63.59s/it]"
          ]
        },
        {
          "output_type": "stream",
          "name": "stdout",
          "text": [
            "✅ Saved /LUNG1-251 with shape (402, 512, 512)\n",
            "📄 /LUNG1-252 — CT shape: (97, 512, 512), Mask shape: (97, 512, 512)\n"
          ]
        },
        {
          "output_type": "stream",
          "name": "stderr",
          "text": [
            "\rProcessing train_dataset.hdf5:  58%|█████▊    | 198/340 [3:02:54<2:02:11, 51.63s/it]"
          ]
        },
        {
          "output_type": "stream",
          "name": "stdout",
          "text": [
            "✅ Saved /LUNG1-252 with shape (291, 512, 512)\n",
            "📄 /LUNG1-253 — CT shape: (91, 512, 512), Mask shape: (91, 512, 512)\n"
          ]
        },
        {
          "output_type": "stream",
          "name": "stderr",
          "text": [
            "\rProcessing train_dataset.hdf5:  59%|█████▊    | 199/340 [3:03:17<1:40:53, 42.93s/it]"
          ]
        },
        {
          "output_type": "stream",
          "name": "stdout",
          "text": [
            "✅ Saved /LUNG1-253 with shape (273, 512, 512)\n",
            "📄 /LUNG1-254 — CT shape: (126, 512, 512), Mask shape: (126, 512, 512)\n"
          ]
        },
        {
          "output_type": "stream",
          "name": "stderr",
          "text": [
            "\rProcessing train_dataset.hdf5:  59%|█████▉    | 200/340 [3:03:48<1:32:17, 39.56s/it]"
          ]
        },
        {
          "output_type": "stream",
          "name": "stdout",
          "text": [
            "✅ Saved /LUNG1-254 with shape (378, 512, 512)\n",
            "📄 /LUNG1-255 — CT shape: (134, 512, 512), Mask shape: (134, 512, 512)\n"
          ]
        },
        {
          "output_type": "stream",
          "name": "stderr",
          "text": [
            "\rProcessing train_dataset.hdf5:  59%|█████▉    | 201/340 [3:04:21<1:26:56, 37.53s/it]"
          ]
        },
        {
          "output_type": "stream",
          "name": "stdout",
          "text": [
            "✅ Saved /LUNG1-255 with shape (402, 512, 512)\n",
            "📄 /LUNG1-256 — CT shape: (134, 512, 512), Mask shape: (134, 512, 512)\n"
          ]
        },
        {
          "output_type": "stream",
          "name": "stderr",
          "text": [
            "\rProcessing train_dataset.hdf5:  59%|█████▉    | 202/340 [3:04:54<1:23:06, 36.14s/it]"
          ]
        },
        {
          "output_type": "stream",
          "name": "stdout",
          "text": [
            "✅ Saved /LUNG1-256 with shape (402, 512, 512)\n",
            "📄 /LUNG1-257 — CT shape: (134, 512, 512), Mask shape: (134, 512, 512)\n"
          ]
        },
        {
          "output_type": "stream",
          "name": "stderr",
          "text": [
            "\rProcessing train_dataset.hdf5:  60%|█████▉    | 203/340 [3:05:28<1:20:44, 35.36s/it]"
          ]
        },
        {
          "output_type": "stream",
          "name": "stdout",
          "text": [
            "✅ Saved /LUNG1-257 with shape (402, 512, 512)\n",
            "📄 /LUNG1-258 — CT shape: (134, 512, 512), Mask shape: (134, 512, 512)\n"
          ]
        },
        {
          "output_type": "stream",
          "name": "stderr",
          "text": [
            "\rProcessing train_dataset.hdf5:  60%|██████    | 204/340 [3:05:59<1:17:27, 34.18s/it]"
          ]
        },
        {
          "output_type": "stream",
          "name": "stdout",
          "text": [
            "✅ Saved /LUNG1-258 with shape (402, 512, 512)\n",
            "📄 /LUNG1-259 — CT shape: (130, 512, 512), Mask shape: (130, 512, 512)\n"
          ]
        },
        {
          "output_type": "stream",
          "name": "stderr",
          "text": [
            "\rProcessing train_dataset.hdf5:  60%|██████    | 205/340 [3:06:31<1:15:11, 33.42s/it]"
          ]
        },
        {
          "output_type": "stream",
          "name": "stdout",
          "text": [
            "✅ Saved /LUNG1-259 with shape (390, 512, 512)\n",
            "📄 /LUNG1-260 — CT shape: (134, 512, 512), Mask shape: (134, 512, 512)\n"
          ]
        },
        {
          "output_type": "stream",
          "name": "stderr",
          "text": [
            "\rProcessing train_dataset.hdf5:  61%|██████    | 206/340 [3:07:28<1:30:41, 40.61s/it]"
          ]
        },
        {
          "output_type": "stream",
          "name": "stdout",
          "text": [
            "✅ Saved /LUNG1-260 with shape (402, 512, 512)\n",
            "📄 /LUNG1-261 — CT shape: (94, 512, 512), Mask shape: (94, 512, 512)\n"
          ]
        },
        {
          "output_type": "stream",
          "name": "stderr",
          "text": [
            "\rProcessing train_dataset.hdf5:  61%|██████    | 207/340 [3:08:02<1:25:54, 38.75s/it]"
          ]
        },
        {
          "output_type": "stream",
          "name": "stdout",
          "text": [
            "✅ Saved /LUNG1-261 with shape (282, 512, 512)\n",
            "📄 /LUNG1-262 — CT shape: (94, 512, 512), Mask shape: (94, 512, 512)\n"
          ]
        },
        {
          "output_type": "stream",
          "name": "stderr",
          "text": [
            "\rProcessing train_dataset.hdf5:  61%|██████    | 208/340 [3:08:27<1:16:05, 34.58s/it]"
          ]
        },
        {
          "output_type": "stream",
          "name": "stdout",
          "text": [
            "✅ Saved /LUNG1-262 with shape (282, 512, 512)\n",
            "📄 /LUNG1-265 — CT shape: (134, 512, 512), Mask shape: (134, 512, 512)\n"
          ]
        },
        {
          "output_type": "stream",
          "name": "stderr",
          "text": [
            "\rProcessing train_dataset.hdf5:  61%|██████▏   | 209/340 [3:09:01<1:14:56, 34.33s/it]"
          ]
        },
        {
          "output_type": "stream",
          "name": "stdout",
          "text": [
            "✅ Saved /LUNG1-265 with shape (402, 512, 512)\n",
            "📄 /LUNG1-267 — CT shape: (129, 512, 512), Mask shape: (129, 512, 512)\n"
          ]
        },
        {
          "output_type": "stream",
          "name": "stderr",
          "text": [
            "\rProcessing train_dataset.hdf5:  62%|██████▏   | 210/340 [3:09:34<1:13:31, 33.93s/it]"
          ]
        },
        {
          "output_type": "stream",
          "name": "stdout",
          "text": [
            "✅ Saved /LUNG1-267 with shape (387, 512, 512)\n",
            "📄 /LUNG1-268 — CT shape: (132, 512, 512), Mask shape: (132, 512, 512)\n"
          ]
        },
        {
          "output_type": "stream",
          "name": "stderr",
          "text": [
            "\rProcessing train_dataset.hdf5:  62%|██████▏   | 211/340 [3:10:07<1:12:09, 33.56s/it]"
          ]
        },
        {
          "output_type": "stream",
          "name": "stdout",
          "text": [
            "✅ Saved /LUNG1-268 with shape (396, 512, 512)\n",
            "📄 /LUNG1-269 — CT shape: (134, 512, 512), Mask shape: (134, 512, 512)\n"
          ]
        },
        {
          "output_type": "stream",
          "name": "stderr",
          "text": [
            "\rProcessing train_dataset.hdf5:  62%|██████▏   | 212/340 [3:10:38<1:10:27, 33.03s/it]"
          ]
        },
        {
          "output_type": "stream",
          "name": "stdout",
          "text": [
            "✅ Saved /LUNG1-269 with shape (402, 512, 512)\n",
            "📄 /LUNG1-270 — CT shape: (134, 512, 512), Mask shape: (134, 512, 512)\n"
          ]
        },
        {
          "output_type": "stream",
          "name": "stderr",
          "text": [
            "\rProcessing train_dataset.hdf5:  63%|██████▎   | 213/340 [3:11:12<1:10:24, 33.26s/it]"
          ]
        },
        {
          "output_type": "stream",
          "name": "stdout",
          "text": [
            "✅ Saved /LUNG1-270 with shape (402, 512, 512)\n",
            "📄 /LUNG1-271 — CT shape: (94, 512, 512), Mask shape: (94, 512, 512)\n"
          ]
        },
        {
          "output_type": "stream",
          "name": "stderr",
          "text": [
            "\rProcessing train_dataset.hdf5:  63%|██████▎   | 214/340 [3:11:36<1:03:58, 30.46s/it]"
          ]
        },
        {
          "output_type": "stream",
          "name": "stdout",
          "text": [
            "✅ Saved /LUNG1-271 with shape (282, 512, 512)\n",
            "📄 /LUNG1-272 — CT shape: (134, 512, 512), Mask shape: (134, 512, 512)\n"
          ]
        },
        {
          "output_type": "stream",
          "name": "stderr",
          "text": [
            "\rProcessing train_dataset.hdf5:  63%|██████▎   | 215/340 [3:12:11<1:05:53, 31.63s/it]"
          ]
        },
        {
          "output_type": "stream",
          "name": "stdout",
          "text": [
            "✅ Saved /LUNG1-272 with shape (402, 512, 512)\n",
            "📄 /LUNG1-274 — CT shape: (134, 512, 512), Mask shape: (134, 512, 512)\n"
          ]
        },
        {
          "output_type": "stream",
          "name": "stderr",
          "text": [
            "\rProcessing train_dataset.hdf5:  64%|██████▎   | 216/340 [3:12:44<1:06:22, 32.12s/it]"
          ]
        },
        {
          "output_type": "stream",
          "name": "stdout",
          "text": [
            "✅ Saved /LUNG1-274 with shape (402, 512, 512)\n",
            "📄 /LUNG1-275 — CT shape: (132, 512, 512), Mask shape: (132, 512, 512)\n"
          ]
        },
        {
          "output_type": "stream",
          "name": "stderr",
          "text": [
            "\rProcessing train_dataset.hdf5:  64%|██████▍   | 217/340 [3:13:15<1:04:58, 31.69s/it]"
          ]
        },
        {
          "output_type": "stream",
          "name": "stdout",
          "text": [
            "✅ Saved /LUNG1-275 with shape (396, 512, 512)\n",
            "📄 /LUNG1-276 — CT shape: (94, 512, 512), Mask shape: (94, 512, 512)\n"
          ]
        },
        {
          "output_type": "stream",
          "name": "stderr",
          "text": [
            "\rProcessing train_dataset.hdf5:  64%|██████▍   | 218/340 [3:13:38<59:33, 29.29s/it]  "
          ]
        },
        {
          "output_type": "stream",
          "name": "stdout",
          "text": [
            "✅ Saved /LUNG1-276 with shape (282, 512, 512)\n",
            "📄 /LUNG1-277 — CT shape: (130, 512, 512), Mask shape: (130, 512, 512)\n"
          ]
        },
        {
          "output_type": "stream",
          "name": "stderr",
          "text": [
            "\rProcessing train_dataset.hdf5:  64%|██████▍   | 219/340 [3:14:09<59:51, 29.68s/it]"
          ]
        },
        {
          "output_type": "stream",
          "name": "stdout",
          "text": [
            "✅ Saved /LUNG1-277 with shape (390, 512, 512)\n",
            "📄 /LUNG1-278 — CT shape: (120, 512, 512), Mask shape: (120, 512, 512)\n"
          ]
        },
        {
          "output_type": "stream",
          "name": "stderr",
          "text": [
            "\rProcessing train_dataset.hdf5:  65%|██████▍   | 220/340 [3:14:36<58:05, 29.04s/it]"
          ]
        },
        {
          "output_type": "stream",
          "name": "stdout",
          "text": [
            "✅ Saved /LUNG1-278 with shape (360, 512, 512)\n",
            "📄 /LUNG1-279 — CT shape: (134, 512, 512), Mask shape: (134, 512, 512)\n"
          ]
        },
        {
          "output_type": "stream",
          "name": "stderr",
          "text": [
            "\rProcessing train_dataset.hdf5:  65%|██████▌   | 221/340 [3:15:08<58:53, 29.70s/it]"
          ]
        },
        {
          "output_type": "stream",
          "name": "stdout",
          "text": [
            "✅ Saved /LUNG1-279 with shape (402, 512, 512)\n",
            "📄 /LUNG1-280 — CT shape: (130, 512, 512), Mask shape: (130, 512, 512)\n"
          ]
        },
        {
          "output_type": "stream",
          "name": "stderr",
          "text": [
            "\rProcessing train_dataset.hdf5:  65%|██████▌   | 222/340 [3:15:37<58:21, 29.67s/it]"
          ]
        },
        {
          "output_type": "stream",
          "name": "stdout",
          "text": [
            "✅ Saved /LUNG1-280 with shape (390, 512, 512)\n",
            "📄 /LUNG1-282 — CT shape: (92, 512, 512), Mask shape: (92, 512, 512)\n"
          ]
        },
        {
          "output_type": "stream",
          "name": "stderr",
          "text": [
            "\rProcessing train_dataset.hdf5:  66%|██████▌   | 223/340 [3:15:57<52:21, 26.85s/it]"
          ]
        },
        {
          "output_type": "stream",
          "name": "stdout",
          "text": [
            "✅ Saved /LUNG1-282 with shape (276, 512, 512)\n",
            "📄 /LUNG1-283 — CT shape: (108, 512, 512), Mask shape: (108, 512, 512)\n"
          ]
        },
        {
          "output_type": "stream",
          "name": "stderr",
          "text": [
            "\rProcessing train_dataset.hdf5:  66%|██████▌   | 224/340 [3:16:23<50:57, 26.36s/it]"
          ]
        },
        {
          "output_type": "stream",
          "name": "stdout",
          "text": [
            "✅ Saved /LUNG1-283 with shape (324, 512, 512)\n",
            "📄 /LUNG1-284 — CT shape: (97, 512, 512), Mask shape: (97, 512, 512)\n"
          ]
        },
        {
          "output_type": "stream",
          "name": "stderr",
          "text": [
            "\rProcessing train_dataset.hdf5:  66%|██████▌   | 225/340 [3:16:45<48:05, 25.10s/it]"
          ]
        },
        {
          "output_type": "stream",
          "name": "stdout",
          "text": [
            "✅ Saved /LUNG1-284 with shape (291, 512, 512)\n",
            "📄 /LUNG1-285 — CT shape: (90, 512, 512), Mask shape: (90, 512, 512)\n"
          ]
        },
        {
          "output_type": "stream",
          "name": "stderr",
          "text": [
            "\rProcessing train_dataset.hdf5:  66%|██████▋   | 226/340 [3:17:06<45:21, 23.87s/it]"
          ]
        },
        {
          "output_type": "stream",
          "name": "stdout",
          "text": [
            "✅ Saved /LUNG1-285 with shape (270, 512, 512)\n",
            "📄 /LUNG1-287 — CT shape: (94, 512, 512), Mask shape: (94, 512, 512)\n"
          ]
        },
        {
          "output_type": "stream",
          "name": "stderr",
          "text": [
            "\rProcessing train_dataset.hdf5:  67%|██████▋   | 227/340 [3:17:32<46:08, 24.50s/it]"
          ]
        },
        {
          "output_type": "stream",
          "name": "stdout",
          "text": [
            "✅ Saved /LUNG1-287 with shape (282, 512, 512)\n",
            "📄 /LUNG1-288 — CT shape: (132, 512, 512), Mask shape: (132, 512, 512)\n"
          ]
        },
        {
          "output_type": "stream",
          "name": "stderr",
          "text": [
            "\rProcessing train_dataset.hdf5:  67%|██████▋   | 228/340 [3:18:20<58:51, 31.53s/it]"
          ]
        },
        {
          "output_type": "stream",
          "name": "stdout",
          "text": [
            "✅ Saved /LUNG1-288 with shape (396, 512, 512)\n",
            "📄 /LUNG1-289 — CT shape: (125, 512, 512), Mask shape: (125, 512, 512)\n"
          ]
        },
        {
          "output_type": "stream",
          "name": "stderr",
          "text": [
            "\rProcessing train_dataset.hdf5:  67%|██████▋   | 229/340 [3:18:53<59:12, 32.01s/it]"
          ]
        },
        {
          "output_type": "stream",
          "name": "stdout",
          "text": [
            "✅ Saved /LUNG1-289 with shape (375, 512, 512)\n",
            "📄 /LUNG1-290 — CT shape: (134, 512, 512), Mask shape: (134, 512, 512)\n"
          ]
        },
        {
          "output_type": "stream",
          "name": "stderr",
          "text": [
            "\rProcessing train_dataset.hdf5:  68%|██████▊   | 230/340 [3:19:23<57:55, 31.60s/it]"
          ]
        },
        {
          "output_type": "stream",
          "name": "stdout",
          "text": [
            "✅ Saved /LUNG1-290 with shape (402, 512, 512)\n",
            "📄 /LUNG1-291 — CT shape: (134, 512, 512), Mask shape: (134, 512, 512)\n"
          ]
        },
        {
          "output_type": "stream",
          "name": "stderr",
          "text": [
            "\rProcessing train_dataset.hdf5:  68%|██████▊   | 231/340 [3:19:55<57:14, 31.51s/it]"
          ]
        },
        {
          "output_type": "stream",
          "name": "stdout",
          "text": [
            "✅ Saved /LUNG1-291 with shape (402, 512, 512)\n",
            "📄 /LUNG1-292 — CT shape: (125, 512, 512), Mask shape: (125, 512, 512)\n"
          ]
        },
        {
          "output_type": "stream",
          "name": "stderr",
          "text": [
            "\rProcessing train_dataset.hdf5:  68%|██████▊   | 232/340 [3:20:23<54:46, 30.43s/it]"
          ]
        },
        {
          "output_type": "stream",
          "name": "stdout",
          "text": [
            "✅ Saved /LUNG1-292 with shape (375, 512, 512)\n",
            "📄 /LUNG1-293 — CT shape: (133, 512, 512), Mask shape: (133, 512, 512)\n"
          ]
        },
        {
          "output_type": "stream",
          "name": "stderr",
          "text": [
            "\rProcessing train_dataset.hdf5:  69%|██████▊   | 233/340 [3:20:53<54:22, 30.49s/it]"
          ]
        },
        {
          "output_type": "stream",
          "name": "stdout",
          "text": [
            "✅ Saved /LUNG1-293 with shape (399, 512, 512)\n",
            "📄 /LUNG1-294 — CT shape: (90, 512, 512), Mask shape: (90, 512, 512)\n"
          ]
        },
        {
          "output_type": "stream",
          "name": "stderr",
          "text": [
            "\rProcessing train_dataset.hdf5:  69%|██████▉   | 234/340 [3:21:12<47:51, 27.09s/it]"
          ]
        },
        {
          "output_type": "stream",
          "name": "stdout",
          "text": [
            "✅ Saved /LUNG1-294 with shape (270, 512, 512)\n",
            "📄 /LUNG1-295 — CT shape: (130, 512, 512), Mask shape: (130, 512, 512)\n"
          ]
        },
        {
          "output_type": "stream",
          "name": "stderr",
          "text": [
            "\rProcessing train_dataset.hdf5:  69%|██████▉   | 235/340 [3:21:42<48:25, 27.68s/it]"
          ]
        },
        {
          "output_type": "stream",
          "name": "stdout",
          "text": [
            "✅ Saved /LUNG1-295 with shape (390, 512, 512)\n",
            "📄 /LUNG1-296 — CT shape: (133, 512, 512), Mask shape: (133, 512, 512)\n"
          ]
        },
        {
          "output_type": "stream",
          "name": "stderr",
          "text": [
            "\rProcessing train_dataset.hdf5:  69%|██████▉   | 236/340 [3:22:13<50:05, 28.90s/it]"
          ]
        },
        {
          "output_type": "stream",
          "name": "stdout",
          "text": [
            "✅ Saved /LUNG1-296 with shape (399, 512, 512)\n",
            "📄 /LUNG1-297 — CT shape: (102, 512, 512), Mask shape: (102, 512, 512)\n"
          ]
        },
        {
          "output_type": "stream",
          "name": "stderr",
          "text": [
            "\rProcessing train_dataset.hdf5:  70%|██████▉   | 237/340 [3:22:36<46:32, 27.11s/it]"
          ]
        },
        {
          "output_type": "stream",
          "name": "stdout",
          "text": [
            "✅ Saved /LUNG1-297 with shape (306, 512, 512)\n",
            "📄 /LUNG1-298 — CT shape: (111, 512, 512), Mask shape: (111, 512, 512)\n"
          ]
        },
        {
          "output_type": "stream",
          "name": "stderr",
          "text": [
            "\rProcessing train_dataset.hdf5:  70%|███████   | 238/340 [3:23:03<45:48, 26.95s/it]"
          ]
        },
        {
          "output_type": "stream",
          "name": "stdout",
          "text": [
            "✅ Saved /LUNG1-298 with shape (333, 512, 512)\n",
            "📄 /LUNG1-300 — CT shape: (134, 512, 512), Mask shape: (134, 512, 512)\n"
          ]
        },
        {
          "output_type": "stream",
          "name": "stderr",
          "text": [
            "\rProcessing train_dataset.hdf5:  70%|███████   | 239/340 [3:23:34<47:35, 28.27s/it]"
          ]
        },
        {
          "output_type": "stream",
          "name": "stdout",
          "text": [
            "✅ Saved /LUNG1-300 with shape (402, 512, 512)\n",
            "📄 /LUNG1-301 — CT shape: (119, 512, 512), Mask shape: (119, 512, 512)\n"
          ]
        },
        {
          "output_type": "stream",
          "name": "stderr",
          "text": [
            "\rProcessing train_dataset.hdf5:  71%|███████   | 240/340 [3:24:02<46:47, 28.07s/it]"
          ]
        },
        {
          "output_type": "stream",
          "name": "stdout",
          "text": [
            "✅ Saved /LUNG1-301 with shape (357, 512, 512)\n",
            "📄 /LUNG1-302 — CT shape: (122, 512, 512), Mask shape: (122, 512, 512)\n"
          ]
        },
        {
          "output_type": "stream",
          "name": "stderr",
          "text": [
            "\rProcessing train_dataset.hdf5:  71%|███████   | 241/340 [3:24:28<45:18, 27.46s/it]"
          ]
        },
        {
          "output_type": "stream",
          "name": "stdout",
          "text": [
            "✅ Saved /LUNG1-302 with shape (366, 512, 512)\n",
            "📄 /LUNG1-303 — CT shape: (134, 512, 512), Mask shape: (134, 512, 512)\n"
          ]
        },
        {
          "output_type": "stream",
          "name": "stderr",
          "text": [
            "\rProcessing train_dataset.hdf5:  71%|███████   | 242/340 [3:24:57<45:34, 27.90s/it]"
          ]
        },
        {
          "output_type": "stream",
          "name": "stdout",
          "text": [
            "✅ Saved /LUNG1-303 with shape (402, 512, 512)\n",
            "📄 /LUNG1-304 — CT shape: (94, 512, 512), Mask shape: (94, 512, 512)\n"
          ]
        },
        {
          "output_type": "stream",
          "name": "stderr",
          "text": [
            "\rProcessing train_dataset.hdf5:  71%|███████▏  | 243/340 [3:25:18<42:01, 26.00s/it]"
          ]
        },
        {
          "output_type": "stream",
          "name": "stdout",
          "text": [
            "✅ Saved /LUNG1-304 with shape (282, 512, 512)\n",
            "📄 /LUNG1-305 — CT shape: (132, 512, 512), Mask shape: (132, 512, 512)\n"
          ]
        },
        {
          "output_type": "stream",
          "name": "stderr",
          "text": [
            "\rProcessing train_dataset.hdf5:  72%|███████▏  | 244/340 [3:25:49<43:53, 27.43s/it]"
          ]
        },
        {
          "output_type": "stream",
          "name": "stdout",
          "text": [
            "✅ Saved /LUNG1-305 with shape (396, 512, 512)\n",
            "📄 /LUNG1-306 — CT shape: (136, 512, 512), Mask shape: (136, 512, 512)\n"
          ]
        },
        {
          "output_type": "stream",
          "name": "stderr",
          "text": [
            "\rProcessing train_dataset.hdf5:  72%|███████▏  | 245/340 [3:26:19<44:27, 28.08s/it]"
          ]
        },
        {
          "output_type": "stream",
          "name": "stdout",
          "text": [
            "✅ Saved /LUNG1-306 with shape (408, 512, 512)\n",
            "📄 /LUNG1-307 — CT shape: (134, 512, 512), Mask shape: (134, 512, 512)\n"
          ]
        },
        {
          "output_type": "stream",
          "name": "stderr",
          "text": [
            "\rProcessing train_dataset.hdf5:  72%|███████▏  | 246/340 [3:26:49<45:15, 28.89s/it]"
          ]
        },
        {
          "output_type": "stream",
          "name": "stdout",
          "text": [
            "✅ Saved /LUNG1-307 with shape (402, 512, 512)\n",
            "📄 /LUNG1-308 — CT shape: (94, 512, 512), Mask shape: (94, 512, 512)\n"
          ]
        },
        {
          "output_type": "stream",
          "name": "stderr",
          "text": [
            "\rProcessing train_dataset.hdf5:  73%|███████▎  | 247/340 [3:27:10<40:50, 26.35s/it]"
          ]
        },
        {
          "output_type": "stream",
          "name": "stdout",
          "text": [
            "✅ Saved /LUNG1-308 with shape (282, 512, 512)\n",
            "📄 /LUNG1-309 — CT shape: (131, 512, 512), Mask shape: (131, 512, 512)\n"
          ]
        },
        {
          "output_type": "stream",
          "name": "stderr",
          "text": [
            "\rProcessing train_dataset.hdf5:  73%|███████▎  | 248/340 [3:27:39<41:32, 27.09s/it]"
          ]
        },
        {
          "output_type": "stream",
          "name": "stdout",
          "text": [
            "✅ Saved /LUNG1-309 with shape (393, 512, 512)\n",
            "📄 /LUNG1-310 — CT shape: (143, 512, 512), Mask shape: (143, 512, 512)\n"
          ]
        },
        {
          "output_type": "stream",
          "name": "stderr",
          "text": [
            "\rProcessing train_dataset.hdf5:  73%|███████▎  | 249/340 [3:28:14<44:47, 29.53s/it]"
          ]
        },
        {
          "output_type": "stream",
          "name": "stdout",
          "text": [
            "✅ Saved /LUNG1-310 with shape (429, 512, 512)\n",
            "📄 /LUNG1-311 — CT shape: (122, 512, 512), Mask shape: (122, 512, 512)\n"
          ]
        },
        {
          "output_type": "stream",
          "name": "stderr",
          "text": [
            "\rProcessing train_dataset.hdf5:  74%|███████▎  | 250/340 [3:28:56<49:52, 33.25s/it]"
          ]
        },
        {
          "output_type": "stream",
          "name": "stdout",
          "text": [
            "✅ Saved /LUNG1-311 with shape (366, 512, 512)\n",
            "📄 /LUNG1-313 — CT shape: (134, 512, 512), Mask shape: (134, 512, 512)\n"
          ]
        },
        {
          "output_type": "stream",
          "name": "stderr",
          "text": [
            "\rProcessing train_dataset.hdf5:  74%|███████▍  | 251/340 [3:29:29<49:22, 33.29s/it]"
          ]
        },
        {
          "output_type": "stream",
          "name": "stdout",
          "text": [
            "✅ Saved /LUNG1-313 with shape (402, 512, 512)\n",
            "📄 /LUNG1-314 — CT shape: (96, 512, 512), Mask shape: (96, 512, 512)\n"
          ]
        },
        {
          "output_type": "stream",
          "name": "stderr",
          "text": [
            "\rProcessing train_dataset.hdf5:  74%|███████▍  | 252/340 [3:29:52<44:02, 30.03s/it]"
          ]
        },
        {
          "output_type": "stream",
          "name": "stdout",
          "text": [
            "✅ Saved /LUNG1-314 with shape (288, 512, 512)\n",
            "📄 /LUNG1-315 — CT shape: (126, 512, 512), Mask shape: (126, 512, 512)\n"
          ]
        },
        {
          "output_type": "stream",
          "name": "stderr",
          "text": [
            "\rProcessing train_dataset.hdf5:  74%|███████▍  | 253/340 [3:30:20<42:58, 29.64s/it]"
          ]
        },
        {
          "output_type": "stream",
          "name": "stdout",
          "text": [
            "✅ Saved /LUNG1-315 with shape (378, 512, 512)\n",
            "📄 /LUNG1-316 — CT shape: (134, 512, 512), Mask shape: (134, 512, 512)\n"
          ]
        },
        {
          "output_type": "stream",
          "name": "stderr",
          "text": [
            "\rProcessing train_dataset.hdf5:  75%|███████▍  | 254/340 [3:30:52<43:20, 30.24s/it]"
          ]
        },
        {
          "output_type": "stream",
          "name": "stdout",
          "text": [
            "✅ Saved /LUNG1-316 with shape (402, 512, 512)\n",
            "📄 /LUNG1-317 — CT shape: (115, 512, 512), Mask shape: (115, 512, 512)\n"
          ]
        },
        {
          "output_type": "stream",
          "name": "stderr",
          "text": [
            "\rProcessing train_dataset.hdf5:  75%|███████▌  | 255/340 [3:31:17<40:37, 28.68s/it]"
          ]
        },
        {
          "output_type": "stream",
          "name": "stdout",
          "text": [
            "✅ Saved /LUNG1-317 with shape (345, 512, 512)\n",
            "📄 /LUNG1-318 — CT shape: (134, 512, 512), Mask shape: (134, 512, 512)\n"
          ]
        },
        {
          "output_type": "stream",
          "name": "stderr",
          "text": [
            "\rProcessing train_dataset.hdf5:  75%|███████▌  | 256/340 [3:31:49<41:32, 29.67s/it]"
          ]
        },
        {
          "output_type": "stream",
          "name": "stdout",
          "text": [
            "✅ Saved /LUNG1-318 with shape (402, 512, 512)\n",
            "📄 /LUNG1-319 — CT shape: (136, 512, 512), Mask shape: (136, 512, 512)\n"
          ]
        },
        {
          "output_type": "stream",
          "name": "stderr",
          "text": [
            "\rProcessing train_dataset.hdf5:  76%|███████▌  | 257/340 [3:32:20<41:29, 30.00s/it]"
          ]
        },
        {
          "output_type": "stream",
          "name": "stdout",
          "text": [
            "✅ Saved /LUNG1-319 with shape (408, 512, 512)\n",
            "📄 /LUNG1-320 — CT shape: (131, 512, 512), Mask shape: (131, 512, 512)\n"
          ]
        },
        {
          "output_type": "stream",
          "name": "stderr",
          "text": [
            "\rProcessing train_dataset.hdf5:  76%|███████▌  | 258/340 [3:32:50<41:04, 30.05s/it]"
          ]
        },
        {
          "output_type": "stream",
          "name": "stdout",
          "text": [
            "✅ Saved /LUNG1-320 with shape (393, 512, 512)\n",
            "📄 /LUNG1-321 — CT shape: (130, 512, 512), Mask shape: (130, 512, 512)\n"
          ]
        },
        {
          "output_type": "stream",
          "name": "stderr",
          "text": [
            "\rProcessing train_dataset.hdf5:  76%|███████▌  | 259/340 [3:33:19<40:10, 29.76s/it]"
          ]
        },
        {
          "output_type": "stream",
          "name": "stdout",
          "text": [
            "✅ Saved /LUNG1-321 with shape (390, 512, 512)\n",
            "📄 /LUNG1-322 — CT shape: (132, 512, 512), Mask shape: (132, 512, 512)\n"
          ]
        },
        {
          "output_type": "stream",
          "name": "stderr",
          "text": [
            "\rProcessing train_dataset.hdf5:  76%|███████▋  | 260/340 [3:33:48<39:19, 29.49s/it]"
          ]
        },
        {
          "output_type": "stream",
          "name": "stdout",
          "text": [
            "✅ Saved /LUNG1-322 with shape (396, 512, 512)\n",
            "📄 /LUNG1-323 — CT shape: (132, 512, 512), Mask shape: (132, 512, 512)\n"
          ]
        },
        {
          "output_type": "stream",
          "name": "stderr",
          "text": [
            "\rProcessing train_dataset.hdf5:  77%|███████▋  | 261/340 [3:34:19<39:16, 29.84s/it]"
          ]
        },
        {
          "output_type": "stream",
          "name": "stdout",
          "text": [
            "✅ Saved /LUNG1-323 with shape (396, 512, 512)\n",
            "📄 /LUNG1-324 — CT shape: (134, 512, 512), Mask shape: (134, 512, 512)\n"
          ]
        },
        {
          "output_type": "stream",
          "name": "stderr",
          "text": [
            "\rProcessing train_dataset.hdf5:  77%|███████▋  | 262/340 [3:34:50<39:32, 30.42s/it]"
          ]
        },
        {
          "output_type": "stream",
          "name": "stdout",
          "text": [
            "✅ Saved /LUNG1-324 with shape (402, 512, 512)\n",
            "📄 /LUNG1-325 — CT shape: (134, 512, 512), Mask shape: (134, 512, 512)\n"
          ]
        },
        {
          "output_type": "stream",
          "name": "stderr",
          "text": [
            "\rProcessing train_dataset.hdf5:  77%|███████▋  | 263/340 [3:35:22<39:26, 30.73s/it]"
          ]
        },
        {
          "output_type": "stream",
          "name": "stdout",
          "text": [
            "✅ Saved /LUNG1-325 with shape (402, 512, 512)\n",
            "📄 /LUNG1-326 — CT shape: (112, 512, 512), Mask shape: (112, 512, 512)\n"
          ]
        },
        {
          "output_type": "stream",
          "name": "stderr",
          "text": [
            "\rProcessing train_dataset.hdf5:  78%|███████▊  | 264/340 [3:35:48<37:20, 29.48s/it]"
          ]
        },
        {
          "output_type": "stream",
          "name": "stdout",
          "text": [
            "✅ Saved /LUNG1-326 with shape (336, 512, 512)\n",
            "📄 /LUNG1-327 — CT shape: (131, 512, 512), Mask shape: (131, 512, 512)\n"
          ]
        },
        {
          "output_type": "stream",
          "name": "stderr",
          "text": [
            "\rProcessing train_dataset.hdf5:  78%|███████▊  | 265/340 [3:36:24<39:04, 31.26s/it]"
          ]
        },
        {
          "output_type": "stream",
          "name": "stdout",
          "text": [
            "✅ Saved /LUNG1-327 with shape (393, 512, 512)\n",
            "📄 /LUNG1-328 — CT shape: (132, 512, 512), Mask shape: (132, 512, 512)\n"
          ]
        },
        {
          "output_type": "stream",
          "name": "stderr",
          "text": [
            "\rProcessing train_dataset.hdf5:  78%|███████▊  | 266/340 [3:37:09<43:34, 35.33s/it]"
          ]
        },
        {
          "output_type": "stream",
          "name": "stdout",
          "text": [
            "✅ Saved /LUNG1-328 with shape (396, 512, 512)\n",
            "📄 /LUNG1-330 — CT shape: (134, 512, 512), Mask shape: (134, 512, 512)\n"
          ]
        },
        {
          "output_type": "stream",
          "name": "stderr",
          "text": [
            "\rProcessing train_dataset.hdf5:  79%|███████▊  | 267/340 [3:37:47<44:15, 36.38s/it]"
          ]
        },
        {
          "output_type": "stream",
          "name": "stdout",
          "text": [
            "✅ Saved /LUNG1-330 with shape (402, 512, 512)\n",
            "📄 /LUNG1-331 — CT shape: (134, 512, 512), Mask shape: (134, 512, 512)\n"
          ]
        },
        {
          "output_type": "stream",
          "name": "stderr",
          "text": [
            "\rProcessing train_dataset.hdf5:  79%|███████▉  | 268/340 [3:38:17<41:03, 34.22s/it]"
          ]
        },
        {
          "output_type": "stream",
          "name": "stdout",
          "text": [
            "✅ Saved /LUNG1-331 with shape (402, 512, 512)\n",
            "📄 /LUNG1-332 — CT shape: (124, 512, 512), Mask shape: (124, 512, 512)\n"
          ]
        },
        {
          "output_type": "stream",
          "name": "stderr",
          "text": [
            "\rProcessing train_dataset.hdf5:  79%|███████▉  | 269/340 [3:38:44<38:12, 32.29s/it]"
          ]
        },
        {
          "output_type": "stream",
          "name": "stdout",
          "text": [
            "✅ Saved /LUNG1-332 with shape (372, 512, 512)\n",
            "📄 /LUNG1-333 — CT shape: (95, 512, 512), Mask shape: (95, 512, 512)\n"
          ]
        },
        {
          "output_type": "stream",
          "name": "stderr",
          "text": [
            "\rProcessing train_dataset.hdf5:  79%|███████▉  | 270/340 [3:39:20<38:53, 33.33s/it]"
          ]
        },
        {
          "output_type": "stream",
          "name": "stdout",
          "text": [
            "✅ Saved /LUNG1-333 with shape (285, 512, 512)\n",
            "📄 /LUNG1-334 — CT shape: (99, 512, 512), Mask shape: (99, 512, 512)\n"
          ]
        },
        {
          "output_type": "stream",
          "name": "stderr",
          "text": [
            "\rProcessing train_dataset.hdf5:  80%|███████▉  | 271/340 [3:39:49<36:48, 32.01s/it]"
          ]
        },
        {
          "output_type": "stream",
          "name": "stdout",
          "text": [
            "✅ Saved /LUNG1-334 with shape (297, 512, 512)\n",
            "📄 /LUNG1-335 — CT shape: (134, 512, 512), Mask shape: (134, 512, 512)\n"
          ]
        },
        {
          "output_type": "stream",
          "name": "stderr",
          "text": [
            "\rProcessing train_dataset.hdf5:  80%|████████  | 272/340 [3:40:21<36:17, 32.01s/it]"
          ]
        },
        {
          "output_type": "stream",
          "name": "stdout",
          "text": [
            "✅ Saved /LUNG1-335 with shape (402, 512, 512)\n",
            "📄 /LUNG1-336 — CT shape: (134, 512, 512), Mask shape: (134, 512, 512)\n"
          ]
        },
        {
          "output_type": "stream",
          "name": "stderr",
          "text": [
            "\rProcessing train_dataset.hdf5:  80%|████████  | 273/340 [3:40:52<35:19, 31.63s/it]"
          ]
        },
        {
          "output_type": "stream",
          "name": "stdout",
          "text": [
            "✅ Saved /LUNG1-336 with shape (402, 512, 512)\n",
            "📄 /LUNG1-339 — CT shape: (134, 512, 512), Mask shape: (134, 512, 512)\n"
          ]
        },
        {
          "output_type": "stream",
          "name": "stderr",
          "text": [
            "\rProcessing train_dataset.hdf5:  81%|████████  | 274/340 [3:41:23<34:35, 31.44s/it]"
          ]
        },
        {
          "output_type": "stream",
          "name": "stdout",
          "text": [
            "✅ Saved /LUNG1-339 with shape (402, 512, 512)\n",
            "📄 /LUNG1-341 — CT shape: (134, 512, 512), Mask shape: (134, 512, 512)\n"
          ]
        },
        {
          "output_type": "stream",
          "name": "stderr",
          "text": [
            "\rProcessing train_dataset.hdf5:  81%|████████  | 275/340 [3:41:54<34:01, 31.41s/it]"
          ]
        },
        {
          "output_type": "stream",
          "name": "stdout",
          "text": [
            "✅ Saved /LUNG1-341 with shape (402, 512, 512)\n",
            "📄 /LUNG1-342 — CT shape: (134, 512, 512), Mask shape: (134, 512, 512)\n"
          ]
        },
        {
          "output_type": "stream",
          "name": "stderr",
          "text": [
            "\rProcessing train_dataset.hdf5:  81%|████████  | 276/340 [3:42:25<33:11, 31.12s/it]"
          ]
        },
        {
          "output_type": "stream",
          "name": "stdout",
          "text": [
            "✅ Saved /LUNG1-342 with shape (402, 512, 512)\n",
            "📄 /LUNG1-343 — CT shape: (94, 512, 512), Mask shape: (94, 512, 512)\n"
          ]
        },
        {
          "output_type": "stream",
          "name": "stderr",
          "text": [
            "\rProcessing train_dataset.hdf5:  81%|████████▏ | 277/340 [3:42:47<29:48, 28.40s/it]"
          ]
        },
        {
          "output_type": "stream",
          "name": "stdout",
          "text": [
            "✅ Saved /LUNG1-343 with shape (282, 512, 512)\n",
            "📄 /LUNG1-344 — CT shape: (134, 512, 512), Mask shape: (134, 512, 512)\n"
          ]
        },
        {
          "output_type": "stream",
          "name": "stderr",
          "text": [
            "\rProcessing train_dataset.hdf5:  82%|████████▏ | 278/340 [3:43:17<29:59, 29.02s/it]"
          ]
        },
        {
          "output_type": "stream",
          "name": "stdout",
          "text": [
            "✅ Saved /LUNG1-344 with shape (402, 512, 512)\n",
            "📄 /LUNG1-345 — CT shape: (94, 512, 512), Mask shape: (94, 512, 512)\n"
          ]
        },
        {
          "output_type": "stream",
          "name": "stderr",
          "text": [
            "\rProcessing train_dataset.hdf5:  82%|████████▏ | 279/340 [3:43:38<27:03, 26.61s/it]"
          ]
        },
        {
          "output_type": "stream",
          "name": "stdout",
          "text": [
            "✅ Saved /LUNG1-345 with shape (282, 512, 512)\n",
            "📄 /LUNG1-346 — CT shape: (134, 512, 512), Mask shape: (134, 512, 512)\n"
          ]
        },
        {
          "output_type": "stream",
          "name": "stderr",
          "text": [
            "\rProcessing train_dataset.hdf5:  82%|████████▏ | 280/340 [3:44:09<27:47, 27.79s/it]"
          ]
        },
        {
          "output_type": "stream",
          "name": "stdout",
          "text": [
            "✅ Saved /LUNG1-346 with shape (402, 512, 512)\n",
            "📄 /LUNG1-347 — CT shape: (94, 512, 512), Mask shape: (94, 512, 512)\n"
          ]
        },
        {
          "output_type": "stream",
          "name": "stderr",
          "text": [
            "\rProcessing train_dataset.hdf5:  83%|████████▎ | 281/340 [3:44:30<25:25, 25.85s/it]"
          ]
        },
        {
          "output_type": "stream",
          "name": "stdout",
          "text": [
            "✅ Saved /LUNG1-347 with shape (282, 512, 512)\n",
            "📄 /LUNG1-348 — CT shape: (132, 512, 512), Mask shape: (132, 512, 512)\n"
          ]
        },
        {
          "output_type": "stream",
          "name": "stderr",
          "text": [
            "\rProcessing train_dataset.hdf5:  83%|████████▎ | 282/340 [3:45:01<26:34, 27.49s/it]"
          ]
        },
        {
          "output_type": "stream",
          "name": "stdout",
          "text": [
            "✅ Saved /LUNG1-348 with shape (396, 512, 512)\n",
            "📄 /LUNG1-349 — CT shape: (131, 512, 512), Mask shape: (131, 512, 512)\n"
          ]
        },
        {
          "output_type": "stream",
          "name": "stderr",
          "text": [
            "\rProcessing train_dataset.hdf5:  83%|████████▎ | 283/340 [3:45:32<27:02, 28.46s/it]"
          ]
        },
        {
          "output_type": "stream",
          "name": "stdout",
          "text": [
            "✅ Saved /LUNG1-349 with shape (393, 512, 512)\n",
            "📄 /LUNG1-350 — CT shape: (104, 512, 512), Mask shape: (104, 512, 512)\n"
          ]
        },
        {
          "output_type": "stream",
          "name": "stderr",
          "text": [
            "\rProcessing train_dataset.hdf5:  84%|████████▎ | 284/340 [3:45:55<25:04, 26.86s/it]"
          ]
        },
        {
          "output_type": "stream",
          "name": "stdout",
          "text": [
            "✅ Saved /LUNG1-350 with shape (312, 512, 512)\n",
            "📄 /LUNG1-351 — CT shape: (130, 512, 512), Mask shape: (130, 512, 512)\n"
          ]
        },
        {
          "output_type": "stream",
          "name": "stderr",
          "text": [
            "\rProcessing train_dataset.hdf5:  84%|████████▍ | 285/340 [3:46:24<25:07, 27.41s/it]"
          ]
        },
        {
          "output_type": "stream",
          "name": "stdout",
          "text": [
            "✅ Saved /LUNG1-351 with shape (390, 512, 512)\n",
            "📄 /LUNG1-354 — CT shape: (135, 512, 512), Mask shape: (135, 512, 512)\n"
          ]
        },
        {
          "output_type": "stream",
          "name": "stderr",
          "text": [
            "\rProcessing train_dataset.hdf5:  84%|████████▍ | 286/340 [3:46:54<25:24, 28.23s/it]"
          ]
        },
        {
          "output_type": "stream",
          "name": "stdout",
          "text": [
            "✅ Saved /LUNG1-354 with shape (405, 512, 512)\n",
            "📄 /LUNG1-355 — CT shape: (102, 512, 512), Mask shape: (102, 512, 512)\n"
          ]
        },
        {
          "output_type": "stream",
          "name": "stderr",
          "text": [
            "\rProcessing train_dataset.hdf5:  84%|████████▍ | 287/340 [3:47:18<23:50, 27.00s/it]"
          ]
        },
        {
          "output_type": "stream",
          "name": "stdout",
          "text": [
            "✅ Saved /LUNG1-355 with shape (306, 512, 512)\n",
            "📄 /LUNG1-357 — CT shape: (134, 512, 512), Mask shape: (134, 512, 512)\n"
          ]
        },
        {
          "output_type": "stream",
          "name": "stderr",
          "text": [
            "\rProcessing train_dataset.hdf5:  85%|████████▍ | 288/340 [3:47:50<24:40, 28.47s/it]"
          ]
        },
        {
          "output_type": "stream",
          "name": "stdout",
          "text": [
            "✅ Saved /LUNG1-357 with shape (402, 512, 512)\n",
            "📄 /LUNG1-358 — CT shape: (104, 512, 512), Mask shape: (104, 512, 512)\n"
          ]
        },
        {
          "output_type": "stream",
          "name": "stderr",
          "text": [
            "\rProcessing train_dataset.hdf5:  85%|████████▌ | 289/340 [3:48:14<23:08, 27.23s/it]"
          ]
        },
        {
          "output_type": "stream",
          "name": "stdout",
          "text": [
            "✅ Saved /LUNG1-358 with shape (312, 512, 512)\n",
            "📄 /LUNG1-359 — CT shape: (134, 512, 512), Mask shape: (134, 512, 512)\n"
          ]
        },
        {
          "output_type": "stream",
          "name": "stderr",
          "text": [
            "\rProcessing train_dataset.hdf5:  85%|████████▌ | 290/340 [3:48:45<23:29, 28.19s/it]"
          ]
        },
        {
          "output_type": "stream",
          "name": "stdout",
          "text": [
            "✅ Saved /LUNG1-359 with shape (402, 512, 512)\n",
            "📄 /LUNG1-360 — CT shape: (134, 512, 512), Mask shape: (134, 512, 512)\n"
          ]
        },
        {
          "output_type": "stream",
          "name": "stderr",
          "text": [
            "\rProcessing train_dataset.hdf5:  86%|████████▌ | 291/340 [3:49:15<23:35, 28.89s/it]"
          ]
        },
        {
          "output_type": "stream",
          "name": "stdout",
          "text": [
            "✅ Saved /LUNG1-360 with shape (402, 512, 512)\n",
            "📄 /LUNG1-361 — CT shape: (134, 512, 512), Mask shape: (134, 512, 512)\n"
          ]
        },
        {
          "output_type": "stream",
          "name": "stderr",
          "text": [
            "\rProcessing train_dataset.hdf5:  86%|████████▌ | 292/340 [3:49:59<26:35, 33.24s/it]"
          ]
        },
        {
          "output_type": "stream",
          "name": "stdout",
          "text": [
            "✅ Saved /LUNG1-361 with shape (402, 512, 512)\n",
            "📄 /LUNG1-362 — CT shape: (134, 512, 512), Mask shape: (134, 512, 512)\n"
          ]
        },
        {
          "output_type": "stream",
          "name": "stderr",
          "text": [
            "\rProcessing train_dataset.hdf5:  86%|████████▌ | 293/340 [3:50:36<27:00, 34.47s/it]"
          ]
        },
        {
          "output_type": "stream",
          "name": "stdout",
          "text": [
            "✅ Saved /LUNG1-362 with shape (402, 512, 512)\n",
            "📄 /LUNG1-363 — CT shape: (94, 512, 512), Mask shape: (94, 512, 512)\n"
          ]
        },
        {
          "output_type": "stream",
          "name": "stderr",
          "text": [
            "\rProcessing train_dataset.hdf5:  86%|████████▋ | 294/340 [3:50:59<23:52, 31.14s/it]"
          ]
        },
        {
          "output_type": "stream",
          "name": "stdout",
          "text": [
            "✅ Saved /LUNG1-363 with shape (282, 512, 512)\n",
            "📄 /LUNG1-364 — CT shape: (134, 512, 512), Mask shape: (134, 512, 512)\n"
          ]
        },
        {
          "output_type": "stream",
          "name": "stderr",
          "text": [
            "\rProcessing train_dataset.hdf5:  87%|████████▋ | 295/340 [3:51:34<24:01, 32.03s/it]"
          ]
        },
        {
          "output_type": "stream",
          "name": "stdout",
          "text": [
            "✅ Saved /LUNG1-364 with shape (402, 512, 512)\n",
            "📄 /LUNG1-366 — CT shape: (134, 512, 512), Mask shape: (134, 512, 512)\n"
          ]
        },
        {
          "output_type": "stream",
          "name": "stderr",
          "text": [
            "\rProcessing train_dataset.hdf5:  87%|████████▋ | 296/340 [3:52:06<23:32, 32.10s/it]"
          ]
        },
        {
          "output_type": "stream",
          "name": "stdout",
          "text": [
            "✅ Saved /LUNG1-366 with shape (402, 512, 512)\n",
            "📄 /LUNG1-367 — CT shape: (134, 512, 512), Mask shape: (134, 512, 512)\n"
          ]
        },
        {
          "output_type": "stream",
          "name": "stderr",
          "text": [
            "\rProcessing train_dataset.hdf5:  87%|████████▋ | 297/340 [3:52:38<23:00, 32.11s/it]"
          ]
        },
        {
          "output_type": "stream",
          "name": "stdout",
          "text": [
            "✅ Saved /LUNG1-367 with shape (402, 512, 512)\n",
            "📄 /LUNG1-368 — CT shape: (131, 512, 512), Mask shape: (131, 512, 512)\n"
          ]
        },
        {
          "output_type": "stream",
          "name": "stderr",
          "text": [
            "\rProcessing train_dataset.hdf5:  88%|████████▊ | 298/340 [3:53:10<22:29, 32.13s/it]"
          ]
        },
        {
          "output_type": "stream",
          "name": "stdout",
          "text": [
            "✅ Saved /LUNG1-368 with shape (393, 512, 512)\n",
            "📄 /LUNG1-369 — CT shape: (134, 512, 512), Mask shape: (134, 512, 512)\n"
          ]
        },
        {
          "output_type": "stream",
          "name": "stderr",
          "text": [
            "\rProcessing train_dataset.hdf5:  88%|████████▊ | 299/340 [3:53:42<21:52, 32.02s/it]"
          ]
        },
        {
          "output_type": "stream",
          "name": "stdout",
          "text": [
            "✅ Saved /LUNG1-369 with shape (402, 512, 512)\n",
            "📄 /LUNG1-370 — CT shape: (134, 512, 512), Mask shape: (134, 512, 512)\n"
          ]
        },
        {
          "output_type": "stream",
          "name": "stderr",
          "text": [
            "\rProcessing train_dataset.hdf5:  88%|████████▊ | 300/340 [3:54:14<21:19, 31.99s/it]"
          ]
        },
        {
          "output_type": "stream",
          "name": "stdout",
          "text": [
            "✅ Saved /LUNG1-370 with shape (402, 512, 512)\n",
            "📄 /LUNG1-373 — CT shape: (94, 512, 512), Mask shape: (94, 512, 512)\n"
          ]
        },
        {
          "output_type": "stream",
          "name": "stderr",
          "text": [
            "\rProcessing train_dataset.hdf5:  89%|████████▊ | 301/340 [3:54:35<18:42, 28.79s/it]"
          ]
        },
        {
          "output_type": "stream",
          "name": "stdout",
          "text": [
            "✅ Saved /LUNG1-373 with shape (282, 512, 512)\n",
            "📄 /LUNG1-375 — CT shape: (134, 512, 512), Mask shape: (134, 512, 512)\n"
          ]
        },
        {
          "output_type": "stream",
          "name": "stderr",
          "text": [
            "\rProcessing train_dataset.hdf5:  89%|████████▉ | 302/340 [3:55:05<18:25, 29.09s/it]"
          ]
        },
        {
          "output_type": "stream",
          "name": "stdout",
          "text": [
            "✅ Saved /LUNG1-375 with shape (402, 512, 512)\n",
            "📄 /LUNG1-376 — CT shape: (134, 512, 512), Mask shape: (134, 512, 512)\n"
          ]
        },
        {
          "output_type": "stream",
          "name": "stderr",
          "text": [
            "\rProcessing train_dataset.hdf5:  89%|████████▉ | 303/340 [3:55:36<18:15, 29.61s/it]"
          ]
        },
        {
          "output_type": "stream",
          "name": "stdout",
          "text": [
            "✅ Saved /LUNG1-376 with shape (402, 512, 512)\n",
            "📄 /LUNG1-377 — CT shape: (134, 512, 512), Mask shape: (134, 512, 512)\n"
          ]
        },
        {
          "output_type": "stream",
          "name": "stderr",
          "text": [
            "\rProcessing train_dataset.hdf5:  89%|████████▉ | 304/340 [3:56:06<17:52, 29.80s/it]"
          ]
        },
        {
          "output_type": "stream",
          "name": "stdout",
          "text": [
            "✅ Saved /LUNG1-377 with shape (402, 512, 512)\n",
            "📄 /LUNG1-378 — CT shape: (134, 512, 512), Mask shape: (134, 512, 512)\n"
          ]
        },
        {
          "output_type": "stream",
          "name": "stderr",
          "text": [
            "\rProcessing train_dataset.hdf5:  90%|████████▉ | 305/340 [3:56:37<17:37, 30.21s/it]"
          ]
        },
        {
          "output_type": "stream",
          "name": "stdout",
          "text": [
            "✅ Saved /LUNG1-378 with shape (402, 512, 512)\n",
            "📄 /LUNG1-379 — CT shape: (134, 512, 512), Mask shape: (134, 512, 512)\n"
          ]
        },
        {
          "output_type": "stream",
          "name": "stderr",
          "text": [
            "\rProcessing train_dataset.hdf5:  90%|█████████ | 306/340 [3:57:08<17:15, 30.45s/it]"
          ]
        },
        {
          "output_type": "stream",
          "name": "stdout",
          "text": [
            "✅ Saved /LUNG1-379 with shape (402, 512, 512)\n",
            "📄 /LUNG1-380 — CT shape: (131, 512, 512), Mask shape: (131, 512, 512)\n"
          ]
        },
        {
          "output_type": "stream",
          "name": "stderr",
          "text": [
            "\rProcessing train_dataset.hdf5:  90%|█████████ | 307/340 [3:57:39<16:47, 30.52s/it]"
          ]
        },
        {
          "output_type": "stream",
          "name": "stdout",
          "text": [
            "✅ Saved /LUNG1-380 with shape (393, 512, 512)\n",
            "📄 /LUNG1-381 — CT shape: (134, 512, 512), Mask shape: (134, 512, 512)\n"
          ]
        },
        {
          "output_type": "stream",
          "name": "stderr",
          "text": [
            "\rProcessing train_dataset.hdf5:  91%|█████████ | 308/340 [3:58:08<16:00, 30.00s/it]"
          ]
        },
        {
          "output_type": "stream",
          "name": "stdout",
          "text": [
            "✅ Saved /LUNG1-381 with shape (402, 512, 512)\n",
            "📄 /LUNG1-382 — CT shape: (132, 512, 512), Mask shape: (132, 512, 512)\n"
          ]
        },
        {
          "output_type": "stream",
          "name": "stderr",
          "text": [
            "\rProcessing train_dataset.hdf5:  91%|█████████ | 309/340 [3:58:37<15:20, 29.70s/it]"
          ]
        },
        {
          "output_type": "stream",
          "name": "stdout",
          "text": [
            "✅ Saved /LUNG1-382 with shape (396, 512, 512)\n",
            "📄 /LUNG1-384 — CT shape: (134, 512, 512), Mask shape: (134, 512, 512)\n"
          ]
        },
        {
          "output_type": "stream",
          "name": "stderr",
          "text": [
            "\rProcessing train_dataset.hdf5:  91%|█████████ | 310/340 [3:59:06<14:51, 29.71s/it]"
          ]
        },
        {
          "output_type": "stream",
          "name": "stdout",
          "text": [
            "✅ Saved /LUNG1-384 with shape (402, 512, 512)\n",
            "📄 /LUNG1-385 — CT shape: (114, 512, 512), Mask shape: (114, 512, 512)\n"
          ]
        },
        {
          "output_type": "stream",
          "name": "stderr",
          "text": [
            "\rProcessing train_dataset.hdf5:  91%|█████████▏| 311/340 [3:59:31<13:40, 28.29s/it]"
          ]
        },
        {
          "output_type": "stream",
          "name": "stdout",
          "text": [
            "✅ Saved /LUNG1-385 with shape (342, 512, 512)\n",
            "📄 /LUNG1-386 — CT shape: (134, 512, 512), Mask shape: (134, 512, 512)\n"
          ]
        },
        {
          "output_type": "stream",
          "name": "stderr",
          "text": [
            "\rProcessing train_dataset.hdf5:  92%|█████████▏| 312/340 [4:00:01<13:26, 28.81s/it]"
          ]
        },
        {
          "output_type": "stream",
          "name": "stdout",
          "text": [
            "✅ Saved /LUNG1-386 with shape (402, 512, 512)\n",
            "📄 /LUNG1-387 — CT shape: (101, 512, 512), Mask shape: (101, 512, 512)\n"
          ]
        },
        {
          "output_type": "stream",
          "name": "stderr",
          "text": [
            "\rProcessing train_dataset.hdf5:  92%|█████████▏| 313/340 [4:00:35<13:37, 30.27s/it]"
          ]
        },
        {
          "output_type": "stream",
          "name": "stdout",
          "text": [
            "✅ Saved /LUNG1-387 with shape (303, 512, 512)\n",
            "📄 /LUNG1-388 — CT shape: (131, 512, 512), Mask shape: (131, 512, 512)\n"
          ]
        },
        {
          "output_type": "stream",
          "name": "stderr",
          "text": [
            "\rProcessing train_dataset.hdf5:  92%|█████████▏| 314/340 [4:01:16<14:28, 33.41s/it]"
          ]
        },
        {
          "output_type": "stream",
          "name": "stdout",
          "text": [
            "✅ Saved /LUNG1-388 with shape (393, 512, 512)\n",
            "📄 /LUNG1-389 — CT shape: (93, 512, 512), Mask shape: (93, 512, 512)\n"
          ]
        },
        {
          "output_type": "stream",
          "name": "stderr",
          "text": [
            "\rProcessing train_dataset.hdf5:  93%|█████████▎| 315/340 [4:01:40<12:45, 30.62s/it]"
          ]
        },
        {
          "output_type": "stream",
          "name": "stdout",
          "text": [
            "✅ Saved /LUNG1-389 with shape (279, 512, 512)\n",
            "📄 /LUNG1-390 — CT shape: (129, 512, 512), Mask shape: (129, 512, 512)\n"
          ]
        },
        {
          "output_type": "stream",
          "name": "stderr",
          "text": [
            "\rProcessing train_dataset.hdf5:  93%|█████████▎| 316/340 [4:02:13<12:32, 31.37s/it]"
          ]
        },
        {
          "output_type": "stream",
          "name": "stdout",
          "text": [
            "✅ Saved /LUNG1-390 with shape (387, 512, 512)\n",
            "📄 /LUNG1-391 — CT shape: (119, 512, 512), Mask shape: (119, 512, 512)\n"
          ]
        },
        {
          "output_type": "stream",
          "name": "stderr",
          "text": [
            "\rProcessing train_dataset.hdf5:  93%|█████████▎| 317/340 [4:02:42<11:46, 30.72s/it]"
          ]
        },
        {
          "output_type": "stream",
          "name": "stdout",
          "text": [
            "✅ Saved /LUNG1-391 with shape (357, 512, 512)\n",
            "📄 /LUNG1-392 — CT shape: (122, 512, 512), Mask shape: (122, 512, 512)\n"
          ]
        },
        {
          "output_type": "stream",
          "name": "stderr",
          "text": [
            "\rProcessing train_dataset.hdf5:  94%|█████████▎| 318/340 [4:03:11<11:06, 30.28s/it]"
          ]
        },
        {
          "output_type": "stream",
          "name": "stdout",
          "text": [
            "✅ Saved /LUNG1-392 with shape (366, 512, 512)\n",
            "📄 /LUNG1-393 — CT shape: (134, 512, 512), Mask shape: (134, 512, 512)\n"
          ]
        },
        {
          "output_type": "stream",
          "name": "stderr",
          "text": [
            "\rProcessing train_dataset.hdf5:  94%|█████████▍| 319/340 [4:03:43<10:46, 30.78s/it]"
          ]
        },
        {
          "output_type": "stream",
          "name": "stdout",
          "text": [
            "✅ Saved /LUNG1-393 with shape (402, 512, 512)\n",
            "📄 /LUNG1-394 — CT shape: (95, 512, 512), Mask shape: (95, 512, 512)\n"
          ]
        },
        {
          "output_type": "stream",
          "name": "stderr",
          "text": [
            "\rProcessing train_dataset.hdf5:  94%|█████████▍| 320/340 [4:04:06<09:24, 28.20s/it]"
          ]
        },
        {
          "output_type": "stream",
          "name": "stdout",
          "text": [
            "✅ Saved /LUNG1-394 with shape (285, 512, 512)\n",
            "📄 /LUNG1-395 — CT shape: (134, 512, 512), Mask shape: (134, 512, 512)\n"
          ]
        },
        {
          "output_type": "stream",
          "name": "stderr",
          "text": [
            "\rProcessing train_dataset.hdf5:  94%|█████████▍| 321/340 [4:04:36<09:09, 28.91s/it]"
          ]
        },
        {
          "output_type": "stream",
          "name": "stdout",
          "text": [
            "✅ Saved /LUNG1-395 with shape (402, 512, 512)\n",
            "📄 /LUNG1-396 — CT shape: (134, 512, 512), Mask shape: (134, 512, 512)\n"
          ]
        },
        {
          "output_type": "stream",
          "name": "stderr",
          "text": [
            "\rProcessing train_dataset.hdf5:  95%|█████████▍| 322/340 [4:05:06<08:47, 29.28s/it]"
          ]
        },
        {
          "output_type": "stream",
          "name": "stdout",
          "text": [
            "✅ Saved /LUNG1-396 with shape (402, 512, 512)\n",
            "📄 /LUNG1-397 — CT shape: (139, 512, 512), Mask shape: (139, 512, 512)\n"
          ]
        },
        {
          "output_type": "stream",
          "name": "stderr",
          "text": [
            "\rProcessing train_dataset.hdf5:  95%|█████████▌| 323/340 [4:05:39<08:35, 30.35s/it]"
          ]
        },
        {
          "output_type": "stream",
          "name": "stdout",
          "text": [
            "✅ Saved /LUNG1-397 with shape (417, 512, 512)\n",
            "📄 /LUNG1-398 — CT shape: (123, 512, 512), Mask shape: (123, 512, 512)\n"
          ]
        },
        {
          "output_type": "stream",
          "name": "stderr",
          "text": [
            "\rProcessing train_dataset.hdf5:  95%|█████████▌| 324/340 [4:06:07<07:54, 29.65s/it]"
          ]
        },
        {
          "output_type": "stream",
          "name": "stdout",
          "text": [
            "✅ Saved /LUNG1-398 with shape (369, 512, 512)\n",
            "📄 /LUNG1-399 — CT shape: (134, 512, 512), Mask shape: (134, 512, 512)\n"
          ]
        },
        {
          "output_type": "stream",
          "name": "stderr",
          "text": [
            "\rProcessing train_dataset.hdf5:  96%|█████████▌| 325/340 [4:06:38<07:32, 30.14s/it]"
          ]
        },
        {
          "output_type": "stream",
          "name": "stdout",
          "text": [
            "✅ Saved /LUNG1-399 with shape (402, 512, 512)\n",
            "📄 /LUNG1-400 — CT shape: (134, 512, 512), Mask shape: (134, 512, 512)\n"
          ]
        },
        {
          "output_type": "stream",
          "name": "stderr",
          "text": [
            "\rProcessing train_dataset.hdf5:  96%|█████████▌| 326/340 [4:07:09<07:02, 30.20s/it]"
          ]
        },
        {
          "output_type": "stream",
          "name": "stdout",
          "text": [
            "✅ Saved /LUNG1-400 with shape (402, 512, 512)\n",
            "📄 /LUNG1-401 — CT shape: (134, 512, 512), Mask shape: (134, 512, 512)\n"
          ]
        },
        {
          "output_type": "stream",
          "name": "stderr",
          "text": [
            "\rProcessing train_dataset.hdf5:  96%|█████████▌| 327/340 [4:07:39<06:33, 30.23s/it]"
          ]
        },
        {
          "output_type": "stream",
          "name": "stdout",
          "text": [
            "✅ Saved /LUNG1-401 with shape (402, 512, 512)\n",
            "📄 /LUNG1-402 — CT shape: (134, 512, 512), Mask shape: (134, 512, 512)\n"
          ]
        },
        {
          "output_type": "stream",
          "name": "stderr",
          "text": [
            "\rProcessing train_dataset.hdf5:  96%|█████████▋| 328/340 [4:08:09<06:03, 30.28s/it]"
          ]
        },
        {
          "output_type": "stream",
          "name": "stdout",
          "text": [
            "✅ Saved /LUNG1-402 with shape (402, 512, 512)\n",
            "📄 /LUNG1-403 — CT shape: (134, 512, 512), Mask shape: (134, 512, 512)\n"
          ]
        },
        {
          "output_type": "stream",
          "name": "stderr",
          "text": [
            "\rProcessing train_dataset.hdf5:  97%|█████████▋| 329/340 [4:08:39<05:31, 30.12s/it]"
          ]
        },
        {
          "output_type": "stream",
          "name": "stdout",
          "text": [
            "✅ Saved /LUNG1-403 with shape (402, 512, 512)\n",
            "📄 /LUNG1-404 — CT shape: (134, 512, 512), Mask shape: (134, 512, 512)\n"
          ]
        },
        {
          "output_type": "stream",
          "name": "stderr",
          "text": [
            "\rProcessing train_dataset.hdf5:  97%|█████████▋| 330/340 [4:09:10<05:02, 30.27s/it]"
          ]
        },
        {
          "output_type": "stream",
          "name": "stdout",
          "text": [
            "✅ Saved /LUNG1-404 with shape (402, 512, 512)\n",
            "📄 /LUNG1-406 — CT shape: (111, 512, 512), Mask shape: (111, 512, 512)\n"
          ]
        },
        {
          "output_type": "stream",
          "name": "stderr",
          "text": [
            "\rProcessing train_dataset.hdf5:  97%|█████████▋| 331/340 [4:09:35<04:17, 28.62s/it]"
          ]
        },
        {
          "output_type": "stream",
          "name": "stdout",
          "text": [
            "✅ Saved /LUNG1-406 with shape (333, 512, 512)\n",
            "📄 /LUNG1-407 — CT shape: (126, 512, 512), Mask shape: (126, 512, 512)\n"
          ]
        },
        {
          "output_type": "stream",
          "name": "stderr",
          "text": [
            "\rProcessing train_dataset.hdf5:  98%|█████████▊| 332/340 [4:10:11<04:07, 30.99s/it]"
          ]
        },
        {
          "output_type": "stream",
          "name": "stdout",
          "text": [
            "✅ Saved /LUNG1-407 with shape (378, 512, 512)\n",
            "📄 /LUNG1-409 — CT shape: (126, 512, 512), Mask shape: (126, 512, 512)\n"
          ]
        },
        {
          "output_type": "stream",
          "name": "stderr",
          "text": [
            "\rProcessing train_dataset.hdf5:  98%|█████████▊| 333/340 [4:19:35<22:15, 190.83s/it]"
          ]
        },
        {
          "output_type": "stream",
          "name": "stdout",
          "text": [
            "✅ Saved /LUNG1-409 with shape (378, 512, 512)\n",
            "📄 /LUNG1-411 — CT shape: (136, 512, 512), Mask shape: (136, 512, 512)\n"
          ]
        },
        {
          "output_type": "stream",
          "name": "stderr",
          "text": [
            "\rProcessing train_dataset.hdf5:  98%|█████████▊| 334/340 [4:20:08<14:20, 143.38s/it]"
          ]
        },
        {
          "output_type": "stream",
          "name": "stdout",
          "text": [
            "✅ Saved /LUNG1-411 with shape (408, 512, 512)\n",
            "📄 /LUNG1-413 — CT shape: (116, 512, 512), Mask shape: (116, 512, 512)\n"
          ]
        },
        {
          "output_type": "stream",
          "name": "stderr",
          "text": [
            "\rProcessing train_dataset.hdf5:  99%|█████████▊| 335/340 [4:20:33<09:00, 108.00s/it]"
          ]
        },
        {
          "output_type": "stream",
          "name": "stdout",
          "text": [
            "✅ Saved /LUNG1-413 with shape (348, 512, 512)\n",
            "📄 /LUNG1-414 — CT shape: (134, 512, 512), Mask shape: (134, 512, 512)\n"
          ]
        },
        {
          "output_type": "stream",
          "name": "stderr",
          "text": [
            "\rProcessing train_dataset.hdf5:  99%|█████████▉| 336/340 [4:21:04<05:39, 84.81s/it] "
          ]
        },
        {
          "output_type": "stream",
          "name": "stdout",
          "text": [
            "✅ Saved /LUNG1-414 with shape (402, 512, 512)\n",
            "📄 /LUNG1-416 — CT shape: (131, 512, 512), Mask shape: (131, 512, 512)\n"
          ]
        },
        {
          "output_type": "stream",
          "name": "stderr",
          "text": [
            "\rProcessing train_dataset.hdf5:  99%|█████████▉| 337/340 [4:21:33<03:24, 68.29s/it]"
          ]
        },
        {
          "output_type": "stream",
          "name": "stdout",
          "text": [
            "✅ Saved /LUNG1-416 with shape (393, 512, 512)\n",
            "📄 /LUNG1-417 — CT shape: (131, 512, 512), Mask shape: (131, 512, 512)\n"
          ]
        },
        {
          "output_type": "stream",
          "name": "stderr",
          "text": [
            "\rProcessing train_dataset.hdf5:  99%|█████████▉| 338/340 [4:22:23<02:05, 62.81s/it]"
          ]
        },
        {
          "output_type": "stream",
          "name": "stdout",
          "text": [
            "✅ Saved /LUNG1-417 with shape (393, 512, 512)\n",
            "📄 /LUNG1-420 — CT shape: (134, 512, 512), Mask shape: (134, 512, 512)\n"
          ]
        },
        {
          "output_type": "stream",
          "name": "stderr",
          "text": [
            "\rProcessing train_dataset.hdf5: 100%|█████████▉| 339/340 [4:52:30<09:45, 585.93s/it]"
          ]
        },
        {
          "output_type": "stream",
          "name": "stdout",
          "text": [
            "✅ Saved /LUNG1-420 with shape (402, 512, 512)\n",
            "📄 /LUNG1-422 — CT shape: (116, 512, 512), Mask shape: (116, 512, 512)\n"
          ]
        },
        {
          "output_type": "stream",
          "name": "stderr",
          "text": [
            "Processing train_dataset.hdf5: 100%|██████████| 340/340 [4:52:57<00:00, 51.70s/it] "
          ]
        },
        {
          "output_type": "stream",
          "name": "stdout",
          "text": [
            "✅ Saved /LUNG1-422 with shape (348, 512, 512)\n"
          ]
        },
        {
          "output_type": "stream",
          "name": "stderr",
          "text": [
            "\n"
          ]
        },
        {
          "output_type": "stream",
          "name": "stdout",
          "text": [
            "📁 Finished saving preprocessed data to: /content/drive/MyDrive/PhDwork/Segmentation/datasets/Datasets_PreprocessedCT_clipping_uniformSpacing_With_Empty_NonEmpty_slices_In_Train/train_dataset.hdf5\n",
            "\n",
            "🚀 Starting preprocessing: valid_dataset.hdf5\n",
            "🔍 Found 43 patients in valid_dataset.hdf5.\n"
          ]
        },
        {
          "output_type": "stream",
          "name": "stderr",
          "text": [
            "\rProcessing valid_dataset.hdf5:   0%|          | 0/43 [00:00<?, ?it/s]"
          ]
        },
        {
          "output_type": "stream",
          "name": "stdout",
          "text": [
            "📄 /LUNG1-010 — CT shape: (91, 512, 512), Mask shape: (91, 512, 512)\n"
          ]
        },
        {
          "output_type": "stream",
          "name": "stderr",
          "text": [
            "\rProcessing valid_dataset.hdf5:   2%|▏         | 1/43 [00:22<15:27, 22.09s/it]"
          ]
        },
        {
          "output_type": "stream",
          "name": "stdout",
          "text": [
            "✅ Saved /LUNG1-010 with shape (273, 512, 512)\n",
            "📄 /LUNG1-031 — CT shape: (153, 512, 512), Mask shape: (153, 512, 512)\n"
          ]
        },
        {
          "output_type": "stream",
          "name": "stderr",
          "text": [
            "\rProcessing valid_dataset.hdf5:   5%|▍         | 2/43 [30:01<12:01:32, 1055.92s/it]"
          ]
        },
        {
          "output_type": "stream",
          "name": "stdout",
          "text": [
            "✅ Saved /LUNG1-031 with shape (459, 512, 512)\n",
            "📄 /LUNG1-040 — CT shape: (95, 512, 512), Mask shape: (95, 512, 512)\n"
          ]
        },
        {
          "output_type": "stream",
          "name": "stderr",
          "text": [
            "\rProcessing valid_dataset.hdf5:   7%|▋         | 3/43 [30:25<6:29:42, 584.57s/it]  "
          ]
        },
        {
          "output_type": "stream",
          "name": "stdout",
          "text": [
            "✅ Saved /LUNG1-040 with shape (285, 512, 512)\n",
            "📄 /LUNG1-056 — CT shape: (134, 512, 512), Mask shape: (134, 512, 512)\n"
          ]
        },
        {
          "output_type": "stream",
          "name": "stderr",
          "text": [
            "\rProcessing valid_dataset.hdf5:   9%|▉         | 4/43 [30:58<3:58:21, 366.70s/it]"
          ]
        },
        {
          "output_type": "stream",
          "name": "stdout",
          "text": [
            "✅ Saved /LUNG1-056 with shape (402, 512, 512)\n",
            "📄 /LUNG1-057 — CT shape: (101, 512, 512), Mask shape: (101, 512, 512)\n"
          ]
        },
        {
          "output_type": "stream",
          "name": "stderr",
          "text": [
            "\rProcessing valid_dataset.hdf5:  12%|█▏        | 5/43 [31:21<2:33:44, 242.74s/it]"
          ]
        },
        {
          "output_type": "stream",
          "name": "stdout",
          "text": [
            "✅ Saved /LUNG1-057 with shape (303, 512, 512)\n",
            "📄 /LUNG1-071 — CT shape: (135, 512, 512), Mask shape: (135, 512, 512)\n"
          ]
        },
        {
          "output_type": "stream",
          "name": "stderr",
          "text": [
            "\rProcessing valid_dataset.hdf5:  14%|█▍        | 6/43 [31:53<1:45:37, 171.29s/it]"
          ]
        },
        {
          "output_type": "stream",
          "name": "stdout",
          "text": [
            "✅ Saved /LUNG1-071 with shape (405, 512, 512)\n",
            "📄 /LUNG1-073 — CT shape: (176, 512, 512), Mask shape: (176, 512, 512)\n"
          ]
        },
        {
          "output_type": "stream",
          "name": "stderr",
          "text": [
            "\rProcessing valid_dataset.hdf5:  16%|█▋        | 7/43 [32:46<1:19:38, 132.75s/it]"
          ]
        },
        {
          "output_type": "stream",
          "name": "stdout",
          "text": [
            "✅ Saved /LUNG1-073 with shape (528, 512, 512)\n",
            "📄 /LUNG1-074 — CT shape: (115, 512, 512), Mask shape: (115, 512, 512)\n"
          ]
        },
        {
          "output_type": "stream",
          "name": "stderr",
          "text": [
            "\rProcessing valid_dataset.hdf5:  19%|█▊        | 8/43 [33:25<59:52, 102.65s/it]  "
          ]
        },
        {
          "output_type": "stream",
          "name": "stdout",
          "text": [
            "✅ Saved /LUNG1-074 with shape (345, 512, 512)\n",
            "📄 /LUNG1-076 — CT shape: (92, 512, 512), Mask shape: (92, 512, 512)\n"
          ]
        },
        {
          "output_type": "stream",
          "name": "stderr",
          "text": [
            "\rProcessing valid_dataset.hdf5:  21%|██        | 9/43 [33:49<44:16, 78.13s/it] "
          ]
        },
        {
          "output_type": "stream",
          "name": "stdout",
          "text": [
            "✅ Saved /LUNG1-076 with shape (276, 512, 512)\n",
            "📄 /LUNG1-077 — CT shape: (117, 512, 512), Mask shape: (117, 512, 512)\n"
          ]
        },
        {
          "output_type": "stream",
          "name": "stderr",
          "text": [
            "\rProcessing valid_dataset.hdf5:  23%|██▎       | 10/43 [34:17<34:26, 62.62s/it]"
          ]
        },
        {
          "output_type": "stream",
          "name": "stdout",
          "text": [
            "✅ Saved /LUNG1-077 with shape (351, 512, 512)\n",
            "📄 /LUNG1-080 — CT shape: (99, 512, 512), Mask shape: (99, 512, 512)\n"
          ]
        },
        {
          "output_type": "stream",
          "name": "stderr",
          "text": [
            "\rProcessing valid_dataset.hdf5:  26%|██▌       | 11/43 [34:41<27:06, 50.81s/it]"
          ]
        },
        {
          "output_type": "stream",
          "name": "stdout",
          "text": [
            "✅ Saved /LUNG1-080 with shape (297, 512, 512)\n",
            "📄 /LUNG1-091 — CT shape: (135, 512, 512), Mask shape: (135, 512, 512)\n"
          ]
        },
        {
          "output_type": "stream",
          "name": "stderr",
          "text": [
            "\rProcessing valid_dataset.hdf5:  28%|██▊       | 12/43 [35:13<23:23, 45.27s/it]"
          ]
        },
        {
          "output_type": "stream",
          "name": "stdout",
          "text": [
            "✅ Saved /LUNG1-091 with shape (405, 512, 512)\n",
            "📄 /LUNG1-095 — CT shape: (106, 512, 512), Mask shape: (106, 512, 512)\n"
          ]
        },
        {
          "output_type": "stream",
          "name": "stderr",
          "text": [
            "\rProcessing valid_dataset.hdf5:  30%|███       | 13/43 [35:37<19:23, 38.80s/it]"
          ]
        },
        {
          "output_type": "stream",
          "name": "stdout",
          "text": [
            "✅ Saved /LUNG1-095 with shape (315, 512, 512)\n",
            "📄 /LUNG1-117 — CT shape: (90, 512, 512), Mask shape: (90, 512, 512)\n"
          ]
        },
        {
          "output_type": "stream",
          "name": "stderr",
          "text": [
            "\rProcessing valid_dataset.hdf5:  33%|███▎      | 14/43 [35:58<16:09, 33.42s/it]"
          ]
        },
        {
          "output_type": "stream",
          "name": "stdout",
          "text": [
            "✅ Saved /LUNG1-117 with shape (270, 512, 512)\n",
            "📄 /LUNG1-134 — CT shape: (108, 512, 512), Mask shape: (108, 512, 512)\n"
          ]
        },
        {
          "output_type": "stream",
          "name": "stderr",
          "text": [
            "\rProcessing valid_dataset.hdf5:  35%|███▍      | 15/43 [36:22<14:14, 30.53s/it]"
          ]
        },
        {
          "output_type": "stream",
          "name": "stdout",
          "text": [
            "✅ Saved /LUNG1-134 with shape (324, 512, 512)\n",
            "📄 /LUNG1-139 — CT shape: (107, 512, 512), Mask shape: (107, 512, 512)\n"
          ]
        },
        {
          "output_type": "stream",
          "name": "stderr",
          "text": [
            "\rProcessing valid_dataset.hdf5:  37%|███▋      | 16/43 [36:45<12:45, 28.35s/it]"
          ]
        },
        {
          "output_type": "stream",
          "name": "stdout",
          "text": [
            "✅ Saved /LUNG1-139 with shape (321, 512, 512)\n",
            "📄 /LUNG1-147 — CT shape: (99, 512, 512), Mask shape: (99, 512, 512)\n"
          ]
        },
        {
          "output_type": "stream",
          "name": "stderr",
          "text": [
            "\rProcessing valid_dataset.hdf5:  40%|███▉      | 17/43 [37:07<11:27, 26.44s/it]"
          ]
        },
        {
          "output_type": "stream",
          "name": "stdout",
          "text": [
            "✅ Saved /LUNG1-147 with shape (297, 512, 512)\n",
            "📄 /LUNG1-170 — CT shape: (110, 512, 512), Mask shape: (110, 512, 512)\n"
          ]
        },
        {
          "output_type": "stream",
          "name": "stderr",
          "text": [
            "\rProcessing valid_dataset.hdf5:  42%|████▏     | 18/43 [37:31<10:41, 25.64s/it]"
          ]
        },
        {
          "output_type": "stream",
          "name": "stdout",
          "text": [
            "✅ Saved /LUNG1-170 with shape (330, 512, 512)\n",
            "📄 /LUNG1-177 — CT shape: (94, 512, 512), Mask shape: (94, 512, 512)\n"
          ]
        },
        {
          "output_type": "stream",
          "name": "stderr",
          "text": [
            "\rProcessing valid_dataset.hdf5:  44%|████▍     | 19/43 [37:54<09:53, 24.72s/it]"
          ]
        },
        {
          "output_type": "stream",
          "name": "stdout",
          "text": [
            "✅ Saved /LUNG1-177 with shape (282, 512, 512)\n",
            "📄 /LUNG1-186 — CT shape: (134, 512, 512), Mask shape: (134, 512, 512)\n"
          ]
        },
        {
          "output_type": "stream",
          "name": "stderr",
          "text": [
            "\rProcessing valid_dataset.hdf5:  47%|████▋     | 20/43 [38:32<11:00, 28.71s/it]"
          ]
        },
        {
          "output_type": "stream",
          "name": "stdout",
          "text": [
            "✅ Saved /LUNG1-186 with shape (402, 512, 512)\n",
            "📄 /LUNG1-194 — CT shape: (127, 512, 512), Mask shape: (127, 512, 512)\n"
          ]
        },
        {
          "output_type": "stream",
          "name": "stderr",
          "text": [
            "\rProcessing valid_dataset.hdf5:  49%|████▉     | 21/43 [39:14<11:59, 32.71s/it]"
          ]
        },
        {
          "output_type": "stream",
          "name": "stdout",
          "text": [
            "✅ Saved /LUNG1-194 with shape (384, 512, 512)\n",
            "📄 /LUNG1-196 — CT shape: (94, 512, 512), Mask shape: (94, 512, 512)\n"
          ]
        },
        {
          "output_type": "stream",
          "name": "stderr",
          "text": [
            "\rProcessing valid_dataset.hdf5:  51%|█████     | 22/43 [39:38<10:30, 30.05s/it]"
          ]
        },
        {
          "output_type": "stream",
          "name": "stdout",
          "text": [
            "✅ Saved /LUNG1-196 with shape (282, 512, 512)\n",
            "📄 /LUNG1-198 — CT shape: (131, 512, 512), Mask shape: (131, 512, 512)\n"
          ]
        },
        {
          "output_type": "stream",
          "name": "stderr",
          "text": [
            "\rProcessing valid_dataset.hdf5:  53%|█████▎    | 23/43 [40:09<10:07, 30.37s/it]"
          ]
        },
        {
          "output_type": "stream",
          "name": "stdout",
          "text": [
            "✅ Saved /LUNG1-198 with shape (393, 512, 512)\n",
            "📄 /LUNG1-210 — CT shape: (131, 512, 512), Mask shape: (131, 512, 512)\n"
          ]
        },
        {
          "output_type": "stream",
          "name": "stderr",
          "text": [
            "\rProcessing valid_dataset.hdf5:  56%|█████▌    | 24/43 [40:40<09:38, 30.47s/it]"
          ]
        },
        {
          "output_type": "stream",
          "name": "stdout",
          "text": [
            "✅ Saved /LUNG1-210 with shape (393, 512, 512)\n",
            "📄 /LUNG1-220 — CT shape: (94, 512, 512), Mask shape: (94, 512, 512)\n"
          ]
        },
        {
          "output_type": "stream",
          "name": "stderr",
          "text": [
            "\rProcessing valid_dataset.hdf5:  58%|█████▊    | 25/43 [41:02<08:25, 28.08s/it]"
          ]
        },
        {
          "output_type": "stream",
          "name": "stdout",
          "text": [
            "✅ Saved /LUNG1-220 with shape (282, 512, 512)\n",
            "📄 /LUNG1-230 — CT shape: (93, 512, 512), Mask shape: (93, 512, 512)\n"
          ]
        },
        {
          "output_type": "stream",
          "name": "stderr",
          "text": [
            "\rProcessing valid_dataset.hdf5:  60%|██████    | 26/43 [41:24<07:23, 26.12s/it]"
          ]
        },
        {
          "output_type": "stream",
          "name": "stdout",
          "text": [
            "✅ Saved /LUNG1-230 with shape (279, 512, 512)\n",
            "📄 /LUNG1-233 — CT shape: (134, 512, 512), Mask shape: (134, 512, 512)\n"
          ]
        },
        {
          "output_type": "stream",
          "name": "stderr",
          "text": [
            "\rProcessing valid_dataset.hdf5:  63%|██████▎   | 27/43 [41:55<07:23, 27.70s/it]"
          ]
        },
        {
          "output_type": "stream",
          "name": "stdout",
          "text": [
            "✅ Saved /LUNG1-233 with shape (402, 512, 512)\n",
            "📄 /LUNG1-241 — CT shape: (136, 512, 512), Mask shape: (136, 512, 512)\n"
          ]
        },
        {
          "output_type": "stream",
          "name": "stderr",
          "text": [
            "\rProcessing valid_dataset.hdf5:  65%|██████▌   | 28/43 [42:25<07:06, 28.46s/it]"
          ]
        },
        {
          "output_type": "stream",
          "name": "stdout",
          "text": [
            "✅ Saved /LUNG1-241 with shape (408, 512, 512)\n",
            "📄 /LUNG1-249 — CT shape: (93, 512, 512), Mask shape: (93, 512, 512)\n"
          ]
        },
        {
          "output_type": "stream",
          "name": "stderr",
          "text": [
            "\rProcessing valid_dataset.hdf5:  67%|██████▋   | 29/43 [42:46<06:05, 26.09s/it]"
          ]
        },
        {
          "output_type": "stream",
          "name": "stdout",
          "text": [
            "✅ Saved /LUNG1-249 with shape (279, 512, 512)\n",
            "📄 /LUNG1-264 — CT shape: (130, 512, 512), Mask shape: (130, 512, 512)\n"
          ]
        },
        {
          "output_type": "stream",
          "name": "stderr",
          "text": [
            "\rProcessing valid_dataset.hdf5:  70%|██████▉   | 30/43 [43:22<06:18, 29.14s/it]"
          ]
        },
        {
          "output_type": "stream",
          "name": "stdout",
          "text": [
            "✅ Saved /LUNG1-264 with shape (390, 512, 512)\n",
            "📄 /LUNG1-273 — CT shape: (136, 512, 512), Mask shape: (136, 512, 512)\n"
          ]
        },
        {
          "output_type": "stream",
          "name": "stderr",
          "text": [
            "\rProcessing valid_dataset.hdf5:  72%|███████▏  | 31/43 [44:09<06:53, 34.42s/it]"
          ]
        },
        {
          "output_type": "stream",
          "name": "stdout",
          "text": [
            "✅ Saved /LUNG1-273 with shape (408, 512, 512)\n",
            "📄 /LUNG1-299 — CT shape: (93, 512, 512), Mask shape: (93, 512, 512)\n"
          ]
        },
        {
          "output_type": "stream",
          "name": "stderr",
          "text": [
            "\rProcessing valid_dataset.hdf5:  74%|███████▍  | 32/43 [44:34<05:47, 31.58s/it]"
          ]
        },
        {
          "output_type": "stream",
          "name": "stdout",
          "text": [
            "✅ Saved /LUNG1-299 with shape (279, 512, 512)\n",
            "📄 /LUNG1-329 — CT shape: (134, 512, 512), Mask shape: (134, 512, 512)\n"
          ]
        },
        {
          "output_type": "stream",
          "name": "stderr",
          "text": [
            "\rProcessing valid_dataset.hdf5:  77%|███████▋  | 33/43 [45:07<05:21, 32.11s/it]"
          ]
        },
        {
          "output_type": "stream",
          "name": "stdout",
          "text": [
            "✅ Saved /LUNG1-329 with shape (402, 512, 512)\n",
            "📄 /LUNG1-337 — CT shape: (134, 512, 512), Mask shape: (134, 512, 512)\n"
          ]
        },
        {
          "output_type": "stream",
          "name": "stderr",
          "text": [
            "\rProcessing valid_dataset.hdf5:  79%|███████▉  | 34/43 [45:39<04:48, 32.08s/it]"
          ]
        },
        {
          "output_type": "stream",
          "name": "stdout",
          "text": [
            "✅ Saved /LUNG1-337 with shape (402, 512, 512)\n",
            "📄 /LUNG1-340 — CT shape: (92, 512, 512), Mask shape: (92, 512, 512)\n"
          ]
        },
        {
          "output_type": "stream",
          "name": "stderr",
          "text": [
            "\rProcessing valid_dataset.hdf5:  81%|████████▏ | 35/43 [46:01<03:52, 29.08s/it]"
          ]
        },
        {
          "output_type": "stream",
          "name": "stdout",
          "text": [
            "✅ Saved /LUNG1-340 with shape (276, 512, 512)\n",
            "📄 /LUNG1-356 — CT shape: (134, 512, 512), Mask shape: (134, 512, 512)\n"
          ]
        },
        {
          "output_type": "stream",
          "name": "stderr",
          "text": [
            "\rProcessing valid_dataset.hdf5:  84%|████████▎ | 36/43 [46:32<03:26, 29.57s/it]"
          ]
        },
        {
          "output_type": "stream",
          "name": "stdout",
          "text": [
            "✅ Saved /LUNG1-356 with shape (402, 512, 512)\n",
            "📄 /LUNG1-371 — CT shape: (173, 512, 512), Mask shape: (173, 512, 512)\n"
          ]
        },
        {
          "output_type": "stream",
          "name": "stderr",
          "text": [
            "\rProcessing valid_dataset.hdf5:  86%|████████▌ | 37/43 [47:13<03:17, 32.95s/it]"
          ]
        },
        {
          "output_type": "stream",
          "name": "stdout",
          "text": [
            "✅ Saved /LUNG1-371 with shape (519, 512, 512)\n",
            "📄 /LUNG1-372 — CT shape: (134, 512, 512), Mask shape: (134, 512, 512)\n"
          ]
        },
        {
          "output_type": "stream",
          "name": "stderr",
          "text": [
            "\rProcessing valid_dataset.hdf5:  88%|████████▊ | 38/43 [47:43<02:41, 32.22s/it]"
          ]
        },
        {
          "output_type": "stream",
          "name": "stdout",
          "text": [
            "✅ Saved /LUNG1-372 with shape (402, 512, 512)\n",
            "📄 /LUNG1-412 — CT shape: (134, 512, 512), Mask shape: (134, 512, 512)\n"
          ]
        },
        {
          "output_type": "stream",
          "name": "stderr",
          "text": [
            "\rProcessing valid_dataset.hdf5:  91%|█████████ | 39/43 [48:14<02:07, 31.75s/it]"
          ]
        },
        {
          "output_type": "stream",
          "name": "stdout",
          "text": [
            "✅ Saved /LUNG1-412 with shape (402, 512, 512)\n",
            "📄 /LUNG1-415 — CT shape: (122, 512, 512), Mask shape: (122, 512, 512)\n"
          ]
        },
        {
          "output_type": "stream",
          "name": "stderr",
          "text": [
            "\rProcessing valid_dataset.hdf5:  93%|█████████▎| 40/43 [48:41<01:31, 30.43s/it]"
          ]
        },
        {
          "output_type": "stream",
          "name": "stdout",
          "text": [
            "✅ Saved /LUNG1-415 with shape (366, 512, 512)\n",
            "📄 /LUNG1-418 — CT shape: (133, 512, 512), Mask shape: (133, 512, 512)\n"
          ]
        },
        {
          "output_type": "stream",
          "name": "stderr",
          "text": [
            "\rProcessing valid_dataset.hdf5:  95%|█████████▌| 41/43 [49:11<01:00, 30.33s/it]"
          ]
        },
        {
          "output_type": "stream",
          "name": "stdout",
          "text": [
            "✅ Saved /LUNG1-418 with shape (399, 512, 512)\n",
            "📄 /LUNG1-419 — CT shape: (134, 512, 512), Mask shape: (134, 512, 512)\n"
          ]
        },
        {
          "output_type": "stream",
          "name": "stderr",
          "text": [
            "\rProcessing valid_dataset.hdf5:  98%|█████████▊| 42/43 [49:42<00:30, 30.56s/it]"
          ]
        },
        {
          "output_type": "stream",
          "name": "stdout",
          "text": [
            "✅ Saved /LUNG1-419 with shape (402, 512, 512)\n",
            "📄 /LUNG1-421 — CT shape: (134, 512, 512), Mask shape: (134, 512, 512)\n"
          ]
        },
        {
          "output_type": "stream",
          "name": "stderr",
          "text": [
            "Processing valid_dataset.hdf5: 100%|██████████| 43/43 [50:13<00:00, 70.08s/it]"
          ]
        },
        {
          "output_type": "stream",
          "name": "stdout",
          "text": [
            "✅ Saved /LUNG1-421 with shape (402, 512, 512)\n"
          ]
        },
        {
          "output_type": "stream",
          "name": "stderr",
          "text": [
            "\n"
          ]
        },
        {
          "output_type": "stream",
          "name": "stdout",
          "text": [
            "📁 Finished saving preprocessed data to: /content/drive/MyDrive/PhDwork/Segmentation/datasets/Datasets_PreprocessedCT_clipping_uniformSpacing_With_Empty_NonEmpty_slices_In_Train/valid_dataset.hdf5\n",
            "\n",
            "🚀 Starting preprocessing: test_dataset.hdf5\n",
            "🔍 Found 38 patients in test_dataset.hdf5.\n"
          ]
        },
        {
          "output_type": "stream",
          "name": "stderr",
          "text": [
            "\rProcessing test_dataset.hdf5:   0%|          | 0/38 [00:00<?, ?it/s]"
          ]
        },
        {
          "output_type": "stream",
          "name": "stdout",
          "text": [
            "📄 /LUNG1-001 — CT shape: (134, 512, 512), Mask shape: (134, 512, 512)\n"
          ]
        },
        {
          "output_type": "stream",
          "name": "stderr",
          "text": [
            "\rProcessing test_dataset.hdf5:   3%|▎         | 1/38 [00:31<19:17, 31.30s/it]"
          ]
        },
        {
          "output_type": "stream",
          "name": "stdout",
          "text": [
            "✅ Saved /LUNG1-001 with shape (402, 512, 512)\n",
            "📄 /LUNG1-025 — CT shape: (106, 512, 512), Mask shape: (106, 512, 512)\n"
          ]
        },
        {
          "output_type": "stream",
          "name": "stderr",
          "text": [
            "\rProcessing test_dataset.hdf5:   5%|▌         | 2/38 [00:56<16:27, 27.44s/it]"
          ]
        },
        {
          "output_type": "stream",
          "name": "stdout",
          "text": [
            "✅ Saved /LUNG1-025 with shape (318, 512, 512)\n",
            "📄 /LUNG1-027 — CT shape: (108, 512, 512), Mask shape: (108, 512, 512)\n"
          ]
        },
        {
          "output_type": "stream",
          "name": "stderr",
          "text": [
            "\rProcessing test_dataset.hdf5:   8%|▊         | 3/38 [01:20<15:20, 26.31s/it]"
          ]
        },
        {
          "output_type": "stream",
          "name": "stdout",
          "text": [
            "✅ Saved /LUNG1-027 with shape (324, 512, 512)\n",
            "📄 /LUNG1-034 — CT shape: (95, 512, 512), Mask shape: (95, 512, 512)\n"
          ]
        },
        {
          "output_type": "stream",
          "name": "stderr",
          "text": [
            "\rProcessing test_dataset.hdf5:  11%|█         | 4/38 [01:42<13:55, 24.56s/it]"
          ]
        },
        {
          "output_type": "stream",
          "name": "stdout",
          "text": [
            "✅ Saved /LUNG1-034 with shape (285, 512, 512)\n",
            "📄 /LUNG1-039 — CT shape: (95, 512, 512), Mask shape: (95, 512, 512)\n"
          ]
        },
        {
          "output_type": "stream",
          "name": "stderr",
          "text": [
            "\rProcessing test_dataset.hdf5:  13%|█▎        | 5/38 [02:04<13:00, 23.64s/it]"
          ]
        },
        {
          "output_type": "stream",
          "name": "stdout",
          "text": [
            "✅ Saved /LUNG1-039 with shape (285, 512, 512)\n",
            "📄 /LUNG1-066 — CT shape: (92, 512, 512), Mask shape: (92, 512, 512)\n"
          ]
        },
        {
          "output_type": "stream",
          "name": "stderr",
          "text": [
            "\rProcessing test_dataset.hdf5:  16%|█▌        | 6/38 [02:25<12:01, 22.54s/it]"
          ]
        },
        {
          "output_type": "stream",
          "name": "stdout",
          "text": [
            "✅ Saved /LUNG1-066 with shape (276, 512, 512)\n",
            "📄 /LUNG1-078 — CT shape: (136, 512, 512), Mask shape: (136, 512, 512)\n"
          ]
        },
        {
          "output_type": "stream",
          "name": "stderr",
          "text": [
            "\rProcessing test_dataset.hdf5:  18%|█▊        | 7/38 [02:56<13:07, 25.39s/it]"
          ]
        },
        {
          "output_type": "stream",
          "name": "stdout",
          "text": [
            "✅ Saved /LUNG1-078 with shape (408, 512, 512)\n",
            "📄 /LUNG1-088 — CT shape: (123, 512, 512), Mask shape: (123, 512, 512)\n"
          ]
        },
        {
          "output_type": "stream",
          "name": "stderr",
          "text": [
            "\rProcessing test_dataset.hdf5:  21%|██        | 8/38 [03:25<13:17, 26.59s/it]"
          ]
        },
        {
          "output_type": "stream",
          "name": "stdout",
          "text": [
            "✅ Saved /LUNG1-088 with shape (369, 512, 512)\n",
            "📄 /LUNG1-107 — CT shape: (116, 512, 512), Mask shape: (116, 512, 512)\n"
          ]
        },
        {
          "output_type": "stream",
          "name": "stderr",
          "text": [
            "\rProcessing test_dataset.hdf5:  24%|██▎       | 9/38 [04:08<15:14, 31.54s/it]"
          ]
        },
        {
          "output_type": "stream",
          "name": "stdout",
          "text": [
            "✅ Saved /LUNG1-107 with shape (348, 512, 512)\n",
            "📄 /LUNG1-132 — CT shape: (114, 512, 512), Mask shape: (114, 512, 512)\n"
          ]
        },
        {
          "output_type": "stream",
          "name": "stderr",
          "text": [
            "\rProcessing test_dataset.hdf5:  26%|██▋       | 10/38 [04:39<14:42, 31.51s/it]"
          ]
        },
        {
          "output_type": "stream",
          "name": "stdout",
          "text": [
            "✅ Saved /LUNG1-132 with shape (342, 512, 512)\n",
            "📄 /LUNG1-133 — CT shape: (184, 512, 512), Mask shape: (184, 512, 512)\n"
          ]
        },
        {
          "output_type": "stream",
          "name": "stderr",
          "text": [
            "\rProcessing test_dataset.hdf5:  29%|██▉       | 11/38 [05:24<15:59, 35.54s/it]"
          ]
        },
        {
          "output_type": "stream",
          "name": "stdout",
          "text": [
            "✅ Saved /LUNG1-133 with shape (552, 512, 512)\n",
            "📄 /LUNG1-143 — CT shape: (134, 512, 512), Mask shape: (134, 512, 512)\n"
          ]
        },
        {
          "output_type": "stream",
          "name": "stderr",
          "text": [
            "\rProcessing test_dataset.hdf5:  32%|███▏      | 12/38 [05:54<14:43, 33.99s/it]"
          ]
        },
        {
          "output_type": "stream",
          "name": "stdout",
          "text": [
            "✅ Saved /LUNG1-143 with shape (402, 512, 512)\n",
            "📄 /LUNG1-149 — CT shape: (118, 512, 512), Mask shape: (118, 512, 512)\n"
          ]
        },
        {
          "output_type": "stream",
          "name": "stderr",
          "text": [
            "\rProcessing test_dataset.hdf5:  34%|███▍      | 13/38 [06:13<12:11, 29.27s/it]"
          ]
        },
        {
          "output_type": "stream",
          "name": "stdout",
          "text": [
            "✅ Saved /LUNG1-149 with shape (354, 512, 512)\n",
            "📄 /LUNG1-151 — CT shape: (118, 512, 512), Mask shape: (118, 512, 512)\n"
          ]
        },
        {
          "output_type": "stream",
          "name": "stderr",
          "text": [
            "\rProcessing test_dataset.hdf5:  37%|███▋      | 14/38 [06:39<11:19, 28.29s/it]"
          ]
        },
        {
          "output_type": "stream",
          "name": "stdout",
          "text": [
            "✅ Saved /LUNG1-151 with shape (354, 512, 512)\n",
            "📄 /LUNG1-158 — CT shape: (115, 512, 512), Mask shape: (115, 512, 512)\n"
          ]
        },
        {
          "output_type": "stream",
          "name": "stderr",
          "text": [
            "\rProcessing test_dataset.hdf5:  39%|███▉      | 15/38 [07:04<10:29, 27.38s/it]"
          ]
        },
        {
          "output_type": "stream",
          "name": "stdout",
          "text": [
            "✅ Saved /LUNG1-158 with shape (345, 512, 512)\n",
            "📄 /LUNG1-168 — CT shape: (134, 512, 512), Mask shape: (134, 512, 512)\n"
          ]
        },
        {
          "output_type": "stream",
          "name": "stderr",
          "text": [
            "\rProcessing test_dataset.hdf5:  42%|████▏     | 16/38 [07:33<10:15, 27.99s/it]"
          ]
        },
        {
          "output_type": "stream",
          "name": "stdout",
          "text": [
            "✅ Saved /LUNG1-168 with shape (402, 512, 512)\n",
            "📄 /LUNG1-175 — CT shape: (112, 512, 512), Mask shape: (112, 512, 512)\n"
          ]
        },
        {
          "output_type": "stream",
          "name": "stderr",
          "text": [
            "\rProcessing test_dataset.hdf5:  45%|████▍     | 17/38 [07:59<09:33, 27.30s/it]"
          ]
        },
        {
          "output_type": "stream",
          "name": "stdout",
          "text": [
            "✅ Saved /LUNG1-175 with shape (336, 512, 512)\n",
            "📄 /LUNG1-176 — CT shape: (106, 512, 512), Mask shape: (106, 512, 512)\n"
          ]
        },
        {
          "output_type": "stream",
          "name": "stderr",
          "text": [
            "\rProcessing test_dataset.hdf5:  47%|████▋     | 18/38 [08:24<08:50, 26.55s/it]"
          ]
        },
        {
          "output_type": "stream",
          "name": "stdout",
          "text": [
            "✅ Saved /LUNG1-176 with shape (318, 512, 512)\n",
            "📄 /LUNG1-201 — CT shape: (134, 512, 512), Mask shape: (134, 512, 512)\n"
          ]
        },
        {
          "output_type": "stream",
          "name": "stderr",
          "text": [
            "\rProcessing test_dataset.hdf5:  50%|█████     | 19/38 [08:56<08:57, 28.29s/it]"
          ]
        },
        {
          "output_type": "stream",
          "name": "stdout",
          "text": [
            "✅ Saved /LUNG1-201 with shape (402, 512, 512)\n",
            "📄 /LUNG1-224 — CT shape: (93, 512, 512), Mask shape: (93, 512, 512)\n"
          ]
        },
        {
          "output_type": "stream",
          "name": "stderr",
          "text": [
            "\rProcessing test_dataset.hdf5:  53%|█████▎    | 20/38 [09:20<08:03, 26.85s/it]"
          ]
        },
        {
          "output_type": "stream",
          "name": "stdout",
          "text": [
            "✅ Saved /LUNG1-224 with shape (279, 512, 512)\n",
            "📄 /LUNG1-225 — CT shape: (134, 512, 512), Mask shape: (134, 512, 512)\n"
          ]
        },
        {
          "output_type": "stream",
          "name": "stderr",
          "text": [
            "\rProcessing test_dataset.hdf5:  55%|█████▌    | 21/38 [09:52<08:02, 28.41s/it]"
          ]
        },
        {
          "output_type": "stream",
          "name": "stdout",
          "text": [
            "✅ Saved /LUNG1-225 with shape (402, 512, 512)\n",
            "📄 /LUNG1-235 — CT shape: (129, 512, 512), Mask shape: (129, 512, 512)\n"
          ]
        },
        {
          "output_type": "stream",
          "name": "stderr",
          "text": [
            "\rProcessing test_dataset.hdf5:  58%|█████▊    | 22/38 [10:23<07:46, 29.18s/it]"
          ]
        },
        {
          "output_type": "stream",
          "name": "stdout",
          "text": [
            "✅ Saved /LUNG1-235 with shape (387, 512, 512)\n",
            "📄 /LUNG1-239 — CT shape: (134, 512, 512), Mask shape: (134, 512, 512)\n"
          ]
        },
        {
          "output_type": "stream",
          "name": "stderr",
          "text": [
            "\rProcessing test_dataset.hdf5:  61%|██████    | 23/38 [10:54<07:26, 29.74s/it]"
          ]
        },
        {
          "output_type": "stream",
          "name": "stdout",
          "text": [
            "✅ Saved /LUNG1-239 with shape (402, 512, 512)\n",
            "📄 /LUNG1-246 — CT shape: (115, 512, 512), Mask shape: (115, 512, 512)\n"
          ]
        },
        {
          "output_type": "stream",
          "name": "stderr",
          "text": [
            "\rProcessing test_dataset.hdf5:  63%|██████▎   | 24/38 [11:20<06:43, 28.83s/it]"
          ]
        },
        {
          "output_type": "stream",
          "name": "stdout",
          "text": [
            "✅ Saved /LUNG1-246 with shape (342, 512, 512)\n",
            "📄 /LUNG1-263 — CT shape: (134, 512, 512), Mask shape: (134, 512, 512)\n"
          ]
        },
        {
          "output_type": "stream",
          "name": "stderr",
          "text": [
            "\rProcessing test_dataset.hdf5:  66%|██████▌   | 25/38 [11:52<06:26, 29.71s/it]"
          ]
        },
        {
          "output_type": "stream",
          "name": "stdout",
          "text": [
            "✅ Saved /LUNG1-263 with shape (402, 512, 512)\n",
            "📄 /LUNG1-266 — CT shape: (94, 512, 512), Mask shape: (94, 512, 512)\n"
          ]
        },
        {
          "output_type": "stream",
          "name": "stderr",
          "text": [
            "\rProcessing test_dataset.hdf5:  68%|██████▊   | 26/38 [12:14<05:28, 27.41s/it]"
          ]
        },
        {
          "output_type": "stream",
          "name": "stdout",
          "text": [
            "✅ Saved /LUNG1-266 with shape (282, 512, 512)\n",
            "📄 /LUNG1-281 — CT shape: (101, 512, 512), Mask shape: (101, 512, 512)\n"
          ]
        },
        {
          "output_type": "stream",
          "name": "stderr",
          "text": [
            "\rProcessing test_dataset.hdf5:  71%|███████   | 27/38 [12:38<04:48, 26.26s/it]"
          ]
        },
        {
          "output_type": "stream",
          "name": "stdout",
          "text": [
            "✅ Saved /LUNG1-281 with shape (303, 512, 512)\n",
            "📄 /LUNG1-286 — CT shape: (136, 512, 512), Mask shape: (136, 512, 512)\n"
          ]
        },
        {
          "output_type": "stream",
          "name": "stderr",
          "text": [
            "\rProcessing test_dataset.hdf5:  74%|███████▎  | 28/38 [13:08<04:35, 27.52s/it]"
          ]
        },
        {
          "output_type": "stream",
          "name": "stdout",
          "text": [
            "✅ Saved /LUNG1-286 with shape (408, 512, 512)\n",
            "📄 /LUNG1-312 — CT shape: (134, 512, 512), Mask shape: (134, 512, 512)\n"
          ]
        },
        {
          "output_type": "stream",
          "name": "stderr",
          "text": [
            "\rProcessing test_dataset.hdf5:  76%|███████▋  | 29/38 [13:38<04:13, 28.15s/it]"
          ]
        },
        {
          "output_type": "stream",
          "name": "stdout",
          "text": [
            "✅ Saved /LUNG1-312 with shape (402, 512, 512)\n",
            "📄 /LUNG1-338 — CT shape: (134, 512, 512), Mask shape: (134, 512, 512)\n"
          ]
        },
        {
          "output_type": "stream",
          "name": "stderr",
          "text": [
            "\rProcessing test_dataset.hdf5:  79%|███████▉  | 30/38 [14:08<03:49, 28.66s/it]"
          ]
        },
        {
          "output_type": "stream",
          "name": "stdout",
          "text": [
            "✅ Saved /LUNG1-338 with shape (402, 512, 512)\n",
            "📄 /LUNG1-352 — CT shape: (134, 512, 512), Mask shape: (134, 512, 512)\n"
          ]
        },
        {
          "output_type": "stream",
          "name": "stderr",
          "text": [
            "\rProcessing test_dataset.hdf5:  82%|████████▏ | 31/38 [14:54<03:57, 33.92s/it]"
          ]
        },
        {
          "output_type": "stream",
          "name": "stdout",
          "text": [
            "✅ Saved /LUNG1-352 with shape (402, 512, 512)\n",
            "📄 /LUNG1-353 — CT shape: (134, 512, 512), Mask shape: (134, 512, 512)\n"
          ]
        },
        {
          "output_type": "stream",
          "name": "stderr",
          "text": [
            "\rProcessing test_dataset.hdf5:  84%|████████▍ | 32/38 [15:30<03:27, 34.55s/it]"
          ]
        },
        {
          "output_type": "stream",
          "name": "stdout",
          "text": [
            "✅ Saved /LUNG1-353 with shape (402, 512, 512)\n",
            "📄 /LUNG1-365 — CT shape: (134, 512, 512), Mask shape: (134, 512, 512)\n"
          ]
        },
        {
          "output_type": "stream",
          "name": "stderr",
          "text": [
            "\rProcessing test_dataset.hdf5:  87%|████████▋ | 33/38 [16:02<02:49, 33.83s/it]"
          ]
        },
        {
          "output_type": "stream",
          "name": "stdout",
          "text": [
            "✅ Saved /LUNG1-365 with shape (402, 512, 512)\n",
            "📄 /LUNG1-374 — CT shape: (130, 512, 512), Mask shape: (130, 512, 512)\n"
          ]
        },
        {
          "output_type": "stream",
          "name": "stderr",
          "text": [
            "\rProcessing test_dataset.hdf5:  89%|████████▉ | 34/38 [16:31<02:09, 32.47s/it]"
          ]
        },
        {
          "output_type": "stream",
          "name": "stdout",
          "text": [
            "✅ Saved /LUNG1-374 with shape (390, 512, 512)\n",
            "📄 /LUNG1-383 — CT shape: (134, 512, 512), Mask shape: (134, 512, 512)\n"
          ]
        },
        {
          "output_type": "stream",
          "name": "stderr",
          "text": [
            "\rProcessing test_dataset.hdf5:  92%|█████████▏| 35/38 [17:02<01:35, 31.97s/it]"
          ]
        },
        {
          "output_type": "stream",
          "name": "stdout",
          "text": [
            "✅ Saved /LUNG1-383 with shape (402, 512, 512)\n",
            "📄 /LUNG1-405 — CT shape: (134, 512, 512), Mask shape: (134, 512, 512)\n"
          ]
        },
        {
          "output_type": "stream",
          "name": "stderr",
          "text": [
            "\rProcessing test_dataset.hdf5:  95%|█████████▍| 36/38 [17:32<01:02, 31.26s/it]"
          ]
        },
        {
          "output_type": "stream",
          "name": "stdout",
          "text": [
            "✅ Saved /LUNG1-405 with shape (402, 512, 512)\n",
            "📄 /LUNG1-408 — CT shape: (107, 512, 512), Mask shape: (107, 512, 512)\n"
          ]
        },
        {
          "output_type": "stream",
          "name": "stderr",
          "text": [
            "\rProcessing test_dataset.hdf5:  97%|█████████▋| 37/38 [17:56<00:29, 29.29s/it]"
          ]
        },
        {
          "output_type": "stream",
          "name": "stdout",
          "text": [
            "✅ Saved /LUNG1-408 with shape (321, 512, 512)\n",
            "📄 /LUNG1-410 — CT shape: (134, 512, 512), Mask shape: (134, 512, 512)\n"
          ]
        },
        {
          "output_type": "stream",
          "name": "stderr",
          "text": [
            "Processing test_dataset.hdf5: 100%|██████████| 38/38 [18:27<00:00, 29.14s/it]"
          ]
        },
        {
          "output_type": "stream",
          "name": "stdout",
          "text": [
            "✅ Saved /LUNG1-410 with shape (402, 512, 512)\n"
          ]
        },
        {
          "output_type": "stream",
          "name": "stderr",
          "text": [
            "\n"
          ]
        },
        {
          "output_type": "stream",
          "name": "stdout",
          "text": [
            "📁 Finished saving preprocessed data to: /content/drive/MyDrive/PhDwork/Segmentation/datasets/Datasets_PreprocessedCT_clipping_uniformSpacing_With_Empty_NonEmpty_slices_In_Train/test_dataset.hdf5\n"
          ]
        }
      ]
    },
    {
      "cell_type": "code",
      "source": [
        "import h5py\n",
        "import numpy as np\n",
        "import matplotlib.pyplot as plt\n",
        "from pathlib import Path\n",
        "from skimage import measure\n",
        "from typing import Optional\n",
        "\n",
        "\n",
        "class PreprocessedSliceViewer:\n",
        "    def __init__(self, original_hdf5_path: str, preprocessed_hdf5_path: str):\n",
        "        self.original_path = Path(original_hdf5_path)\n",
        "        self.preprocessed_path = Path(preprocessed_hdf5_path)\n",
        "        self.original_data = self._load_hdf5(self.original_path)\n",
        "        self.preprocessed_data = self._load_hdf5(self.preprocessed_path)\n",
        "\n",
        "    def _load_hdf5(self, path: Path):\n",
        "        if not path.exists():\n",
        "            raise FileNotFoundError(f\"HDF5 file not found: {path}\")\n",
        "        return h5py.File(path, 'r')\n",
        "\n",
        "    def _get_contour(self, mask_slice: np.ndarray):\n",
        "        return measure.find_contours(mask_slice, level=0.5)\n",
        "\n",
        "    def show_patient_slices_comparison(\n",
        "        self,\n",
        "        patient_id: str,\n",
        "        save_path: Optional[str] = None,\n",
        "        show_mask_overlay: bool = True,\n",
        "    ):\n",
        "        L = -600\n",
        "        W = 1500\n",
        "        vmin = L - W // 2\n",
        "        vmax = L + W // 2\n",
        "\n",
        "        if patient_id not in self.original_data or patient_id not in self.preprocessed_data:\n",
        "            raise KeyError(f\"Patient ID {patient_id} not found in both HDF5 files.\")\n",
        "\n",
        "        orig_ct = self.original_data[patient_id][\"ct\"][()]\n",
        "        orig_mask = self.original_data[patient_id][\"mask\"][()]\n",
        "        prepro_ct = self.preprocessed_data[patient_id][\"ct\"][()]\n",
        "        prepro_mask = self.preprocessed_data[patient_id][\"mask\"][()]\n",
        "\n",
        "        # Get all non-empty slices\n",
        "        non_empty_indices_org = [i for i in range(orig_mask.shape[0]) if np.sum(orig_mask[i]) > 0]\n",
        "        non_empty_indices_prepro = [i for i in range(prepro_mask.shape[0]) if np.sum(prepro_mask[i]) > 0]\n",
        "        if len(non_empty_indices_org) == 0:\n",
        "            raise ValueError(f\"No non-empty mask slices found for patient {patient_id}.\")\n",
        "\n",
        "        num_slices_org = len(non_empty_indices_org)\n",
        "        print(\"Number of Non-Empty Slices of original: \", num_slices_org)\n",
        "        print(\"Number of Non-Empty Slices of preprocessed: \", len(non_empty_indices_prepro))\n",
        "        print(\"Spacing of Original: \", self.original_data[patient_id].attrs['ct_spacing'])\n",
        "        print(\"Spacing of Preprocessed: \", self.preprocessed_data[patient_id].attrs['ct_spacing'])\n",
        "        print(\"Origin of Original: \", self.original_data[patient_id].attrs['ct_origin'])\n",
        "        print(\"Origin of Preprocessed: \", self.preprocessed_data[patient_id].attrs['ct_origin'])\n",
        "        print(\"Direction of Original: \", self.original_data[patient_id].attrs['ct_direction'])\n",
        "        print(\"Direction of Preprocessed: \", self.preprocessed_data[patient_id].attrs['ct_direction'])\n",
        "        print(\"Shape of Original: \", self.original_data[patient_id].attrs['shape'])\n",
        "        print(\"Shape of Preprocessed: \", self.preprocessed_data[patient_id].attrs['shape'])\n",
        "\n",
        "        # Create subplots\n",
        "        fig, axes = plt.subplots(num_slices_org, 2, figsize=(10, 3 * num_slices_org))\n",
        "\n",
        "        # Ensure axes is always 2D\n",
        "        if num_slices_org == 1:\n",
        "            axes = np.expand_dims(axes, axis=0)\n",
        "\n",
        "        for i, slice_idx in enumerate(non_empty_indices_org):\n",
        "            for j, (ct, mask, label) in enumerate([\n",
        "                (orig_ct, orig_mask, \"Original\"),\n",
        "                (prepro_ct, prepro_mask, \"Preprocessed\")\n",
        "            ]):\n",
        "                ax = axes[i, j]\n",
        "                ax.imshow(ct[slice_idx], cmap=\"gray\", vmin=vmin, vmax=vmax)\n",
        "\n",
        "                if show_mask_overlay:\n",
        "                    for contour in self._get_contour(mask[slice_idx]):\n",
        "                        ax.plot(contour[:, 1], contour[:, 0], linewidth=1.5, color=\"red\")\n",
        "                ax.text(\n",
        "                  10, 30, f\"Slice {slice_idx}\",\n",
        "                  color=\"yellow\",\n",
        "                  fontsize=12,\n",
        "                  bbox=dict(facecolor='black', alpha=0.5)\n",
        "              )\n",
        "                if i == 0:\n",
        "                    ax.set_title(label, fontsize=12)\n",
        "\n",
        "                ax.axis(\"off\")\n",
        "\n",
        "        plt.tight_layout()\n",
        "        if save_path:\n",
        "            Path(save_path).parent.mkdir(parents=True, exist_ok=True)\n",
        "            plt.savefig(save_path, format=\"pdf\")\n",
        "            print(f\"[INFO] Saved plot to: {save_path}\")\n",
        "        else:\n",
        "            plt.show()\n",
        "\n",
        "        plt.close()\n",
        "\n",
        "    def show_patient_slices(\n",
        "        self,\n",
        "        patient_id: str,\n",
        "        save_path: Optional[str] = None,\n",
        "        original: bool = True,\n",
        "    ):\n",
        "\n",
        "        # Windowing\n",
        "        L = -600\n",
        "        W = 1500\n",
        "        vmin = L - W // 2\n",
        "        vmax = L + W // 2\n",
        "\n",
        "        # Load data\n",
        "        if patient_id not in self.original_data or patient_id not in self.preprocessed_data:\n",
        "            raise KeyError(f\"Patient ID {patient_id} not found in both HDF5 files.\")\n",
        "\n",
        "        if original:\n",
        "            ct = self.original_data[patient_id][\"ct\"][()]\n",
        "            mask = self.original_data[patient_id][\"mask\"][()]\n",
        "            label = \"Original\"\n",
        "        else:\n",
        "            ct = self.preprocessed_data[patient_id][\"ct\"][()]\n",
        "            mask = self.preprocessed_data[patient_id][\"mask\"][()]\n",
        "            label = \"Preprocessed\"\n",
        "\n",
        "        # Get all non-empty slices\n",
        "        non_empty_indices = [i for i in range(mask.shape[0]) if np.sum(mask[i]) > 0]\n",
        "        if not non_empty_indices:\n",
        "            raise ValueError(f\"No non-empty mask slices found for patient {patient_id}.\")\n",
        "\n",
        "        num_slices = len(non_empty_indices)\n",
        "        print(\"Number of Non-Empty Slices: \", num_slices)\n",
        "\n",
        "        # Create subplot grid: rows = slices, cols = [CT, mask, CT+overlay]\n",
        "        fig, axes = plt.subplots(num_slices, 3, figsize=(15, 3 * num_slices))\n",
        "        if num_slices == 1:\n",
        "            axes = np.expand_dims(axes, axis=0)  # Make 2D iterable for consistency\n",
        "\n",
        "        for row, slice_idx in enumerate(non_empty_indices):\n",
        "            # --- Column 1: CT ---\n",
        "            ax_ct = axes[row][0]\n",
        "            ax_ct.imshow(ct[slice_idx], cmap=\"gray\", vmin=vmin, vmax=vmax)\n",
        "            ax_ct.set_title(\"CT\", fontsize=10)\n",
        "            ax_ct.text(10, 30, f\"Slice {slice_idx}\", color=\"yellow\", fontsize=10,\n",
        "                      bbox=dict(facecolor='black', alpha=0.5))\n",
        "            ax_ct.axis(\"off\")\n",
        "\n",
        "            # --- Column 2: Mask ---\n",
        "            ax_mask = axes[row][1]\n",
        "            ax_mask.imshow(mask[slice_idx], cmap=\"gray\")\n",
        "            ax_mask.set_title(\"Mask\", fontsize=10)\n",
        "            ax_mask.axis(\"off\")\n",
        "\n",
        "            # --- Column 3: CT with Overlay ---\n",
        "            ax_overlay = axes[row][2]\n",
        "            ax_overlay.imshow(ct[slice_idx], cmap=\"gray\", vmin=vmin, vmax=vmax)\n",
        "            for contour in self._get_contour(mask[slice_idx]):\n",
        "                ax_overlay.plot(contour[:, 1], contour[:, 0], linewidth=1.5, color=\"red\")\n",
        "            ax_overlay.set_title(\"Overlay\", fontsize=10)\n",
        "            ax_overlay.axis(\"off\")\n",
        "\n",
        "        # Add global title\n",
        "        fig.suptitle(f\"{label} slices for Patient {patient_id}\", fontsize=14)\n",
        "        plt.tight_layout(rect=[0, 0, 1, 0.98])  # leave space for suptitle\n",
        "\n",
        "        # Save or show\n",
        "        if save_path:\n",
        "            Path(save_path).parent.mkdir(parents=True, exist_ok=True)\n",
        "            plt.savefig(save_path, format=\"pdf\")\n",
        "            print(f\"[INFO] Saved plot to: {save_path}\")\n",
        "        else:\n",
        "            plt.show()\n",
        "\n",
        "        plt.close()\n"
      ],
      "metadata": {
        "id": "qtVBSchJB7aH"
      },
      "execution_count": null,
      "outputs": []
    },
    {
      "cell_type": "code",
      "source": [
        "if __name__ == \"__main__\":\n",
        "    original_hdf5 = \"/content/drive/MyDrive/PhDwork/Segmentation/datasets/Datasets_OriginalCT_With_Empty_NonEmpty_slices_In_Train/train_dataset.hdf5\"\n",
        "    preprocessed_hdf5 = \"/content/drive/MyDrive/PhDwork/Segmentation/datasets/Datasets_PreprocessedCT_clipping_uniformSpacing_With_Empty_NonEmpty_slices_In_Train/train_dataset.hdf5\"\n",
        "    patient_id = \"LUNG1-009\"\n",
        "\n",
        "    viewer = PreprocessedSliceViewer(original_hdf5_path=original_hdf5 ,\n",
        "                                     preprocessed_hdf5_path=preprocessed_hdf5)\n",
        "\n",
        "    viewer.show_patient_slices_comparison(\n",
        "        patient_id=patient_id,\n",
        "        save_path=f\"/content/drive/MyDrive/PhDwork/Segmentation/datasets/Datasets_PreprocessedCT_clipping_uniformSpacing_With_Empty_NonEmpty_slices_In_Train/{patient_id}_all_non_empty_slices1.pdf\"\n",
        "    )\n",
        "\n",
        "    viewer.show_patient_slices(\n",
        "        patient_id=patient_id,\n",
        "        save_path=f\"/content/drive/MyDrive/PhDwork/Segmentation/datasets/Datasets_PreprocessedCT_clipping_uniformSpacing_With_Empty_NonEmpty_slices_In_Train/Comparison_Plots/original_{patient_id}_all_non_empty_slices1.pdf\",\n",
        "        original=True\n",
        "    )\n",
        "\n",
        "    viewer.show_patient_slices(\n",
        "        patient_id=patient_id,\n",
        "        save_path=f\"/content/drive/MyDrive/PhDwork/Segmentation/datasets/Datasets_PreprocessedCT_clipping_uniformSpacing_With_Empty_NonEmpty_slices_In_Train/Comparison_Plots/Preprocessed_{patient_id}_all_non_empty_slices1.pdf\",\n",
        "        original=False\n",
        "    )\n"
      ],
      "metadata": {
        "id": "NqA9VGmuQzrh",
        "colab": {
          "base_uri": "https://localhost:8080/"
        },
        "outputId": "5a91fc2d-ea2d-4ea3-c971-861ebc2590e6"
      },
      "execution_count": null,
      "outputs": [
        {
          "output_type": "stream",
          "name": "stdout",
          "text": [
            "Number of Non-Empty Slices of original:  22\n",
            "Number of Non-Empty Slices of preprocessed:  66\n",
            "Spacing of Original:  [0.977 0.977 3.   ]\n",
            "Spacing of Preprocessed:  [1. 1. 1.]\n",
            "Origin of Original:  [-250.112 -250.112 -161.9  ]\n",
            "Origin of Preprocessed:  [-250.112 -250.112 -161.9  ]\n",
            "Direction of Original:  [1. 0. 0. 0. 1. 0. 0. 0. 1.]\n",
            "Direction of Preprocessed:  [1. 0. 0. 0. 1. 0. 0. 0. 1.]\n",
            "Shape of Original:  [105 512 512]\n",
            "Shape of Preprocessed:  [315 512 512]\n",
            "[INFO] Saved plot to: /content/drive/MyDrive/PhDwork/Segmentation/datasets/Datasets_PreprocessedCT_clipping_uniformSpacing_With_Empty_NonEmpty_slices_In_Train/LUNG1-009_all_non_empty_slices1.pdf\n",
            "Number of Non-Empty Slices:  22\n",
            "[INFO] Saved plot to: /content/drive/MyDrive/PhDwork/Segmentation/datasets/Datasets_PreprocessedCT_clipping_uniformSpacing_With_Empty_NonEmpty_slices_In_Train/Comparison_Plots/original_LUNG1-009_all_non_empty_slices1.pdf\n",
            "Number of Non-Empty Slices:  66\n",
            "[INFO] Saved plot to: /content/drive/MyDrive/PhDwork/Segmentation/datasets/Datasets_PreprocessedCT_clipping_uniformSpacing_With_Empty_NonEmpty_slices_In_Train/Comparison_Plots/Preprocessed_LUNG1-009_all_non_empty_slices1.pdf\n"
          ]
        }
      ]
    },
    {
      "cell_type": "code",
      "source": [],
      "metadata": {
        "id": "_nrZwGFPjalM"
      },
      "execution_count": null,
      "outputs": []
    }
  ]
}