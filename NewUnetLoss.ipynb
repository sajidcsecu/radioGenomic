{
  "nbformat": 4,
  "nbformat_minor": 0,
  "metadata": {
    "colab": {
      "provenance": [],
      "authorship_tag": "ABX9TyMeLuOyv35G1Ky2o3cwF/GZ",
      "include_colab_link": true
    },
    "kernelspec": {
      "name": "python3",
      "display_name": "Python 3"
    },
    "language_info": {
      "name": "python"
    }
  },
  "cells": [
    {
      "cell_type": "markdown",
      "metadata": {
        "id": "view-in-github",
        "colab_type": "text"
      },
      "source": [
        "<a href=\"https://colab.research.google.com/github/sajidcsecu/radioGenomic/blob/main/NewUnetLoss.ipynb\" target=\"_parent\"><img src=\"https://colab.research.google.com/assets/colab-badge.svg\" alt=\"Open In Colab\"/></a>"
      ]
    },
    {
      "cell_type": "code",
      "execution_count": null,
      "metadata": {
        "id": "dWVt1Y_UTP5o"
      },
      "outputs": [],
      "source": [
        "import torch\n",
        "import torch.nn as nn\n",
        "\n",
        "class DiceLoss(nn.Module):\n",
        "    def __init__(self, smooth=1e-6):\n",
        "        super(DiceLoss, self).__init__()\n",
        "        self.smooth = smooth\n",
        "\n",
        "    def forward(self, preds, targets):\n",
        "        \"\"\"\n",
        "        preds: predicted values (output of the model, probabilities)\n",
        "        targets: ground truth values (binary masks)\n",
        "        \"\"\"\n",
        "        # comment out if your model contains a sigmoid or equivalent activation layer\n",
        "        preds = torch.sigmoid(preds)\n",
        "\n",
        "        preds = preds.view(-1)  # Flatten\n",
        "        targets = targets.view(-1)  # Flatten\n",
        "\n",
        "        intersection = (preds * targets).sum()\n",
        "        dice_score = (2. * intersection + self.smooth) / (preds.sum() + targets.sum() + self.smooth)\n",
        "\n",
        "        return 1 - dice_score  # Dice Loss\n",
        "\n",
        "\n",
        "class DiceBCELoss(nn.Module):\n",
        "    def __init__(self, smooth=1e-6):\n",
        "        super(DiceBCELoss, self).__init__()\n",
        "        self.smooth = smooth\n",
        "        self.bce = nn.BCELoss()  # Binary Cross Entropy Loss\n",
        "\n",
        "    def forward(self, preds, targets):\n",
        "        # comment out if your model contains a sigmoid or equivalent activation layer\n",
        "        preds = torch.sigmoid(preds)\n",
        "        preds = preds.view(-1)  # Flatten\n",
        "        targets = targets.view(-1)  # Flatten\n",
        "\n",
        "        # Dice Loss Calculation\n",
        "        intersection = (preds * targets).sum()\n",
        "        dice_loss = 1 - (2. * intersection + self.smooth) / (preds.sum() + targets.sum() + self.smooth)\n",
        "\n",
        "        # BCE Loss Calculation\n",
        "        bce_loss = self.bce(preds, targets)\n",
        "\n",
        "        return bce_loss + dice_loss  # Combined Loss\n"
      ]
    }
  ]
}