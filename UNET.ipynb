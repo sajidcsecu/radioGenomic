{
  "nbformat": 4,
  "nbformat_minor": 0,
  "metadata": {
    "colab": {
      "provenance": [],
      "authorship_tag": "ABX9TyN3cCUqOya1oUOgTq7QryZO",
      "include_colab_link": true
    },
    "kernelspec": {
      "name": "python3",
      "display_name": "Python 3"
    },
    "language_info": {
      "name": "python"
    }
  },
  "cells": [
    {
      "cell_type": "markdown",
      "metadata": {
        "id": "view-in-github",
        "colab_type": "text"
      },
      "source": [
        "<a href=\"https://colab.research.google.com/github/sajidcsecu/radioGenomic/blob/main/UNET.ipynb\" target=\"_parent\"><img src=\"https://colab.research.google.com/assets/colab-badge.svg\" alt=\"Open In Colab\"/></a>"
      ]
    },
    {
      "cell_type": "code",
      "execution_count": 1,
      "metadata": {
        "id": "tvPw_1OYakuk"
      },
      "outputs": [],
      "source": [
        "import torch\n",
        "import torch.nn as nn\n",
        "\n",
        "class DoubleConv(nn.Module):\n",
        "    def __init__(self, in_channels, out_channels):\n",
        "        super().__init__()\n",
        "        self.conv_op = nn.Sequential(\n",
        "            nn.Conv2d(in_channels, out_channels, kernel_size=3, padding=1),\n",
        "            nn.ReLU(inplace=True),\n",
        "            nn.Conv2d(out_channels, out_channels, kernel_size=3, padding=1),\n",
        "            nn.ReLU(inplace=True)\n",
        "        )\n",
        "\n",
        "    def forward(self, x):\n",
        "        return self.conv_op(x)\n",
        "\n",
        "\n",
        "class DownSample(nn.Module):\n",
        "    def __init__(self, in_channels, out_channels):\n",
        "        super().__init__()\n",
        "        self.conv = DoubleConv(in_channels, out_channels)\n",
        "        self.pool = nn.MaxPool2d(kernel_size=2, stride=2)\n",
        "\n",
        "    def forward(self, x):\n",
        "        down = self.conv(x)\n",
        "        p = self.pool(down)\n",
        "\n",
        "        return down, p\n",
        "\n",
        "\n",
        "class UpSample(nn.Module):\n",
        "    def __init__(self, in_channels, out_channels):\n",
        "        super().__init__()\n",
        "        self.up = nn.ConvTranspose2d(in_channels, in_channels//2, kernel_size=2, stride=2)\n",
        "        self.conv = DoubleConv(in_channels, out_channels)\n",
        "\n",
        "    def forward(self, x1, x2):\n",
        "       x1 = self.up(x1)\n",
        "       x = torch.cat([x1, x2], 1)\n",
        "       return self.conv(x)"
      ]
    },
    {
      "cell_type": "code",
      "source": [
        "import torch\n",
        "import torch.nn as nn\n",
        "\n",
        "#from unet_parts import DoubleConv, DownSample, UpSample\n",
        "\n",
        "\n",
        "class UNet(nn.Module):\n",
        "    def __init__(self, in_channels, num_classes):\n",
        "        super().__init__()\n",
        "        self.down_convolution_1 = DownSample(in_channels, 64)\n",
        "        self.down_convolution_2 = DownSample(64, 128)\n",
        "        self.down_convolution_3 = DownSample(128, 256)\n",
        "        self.down_convolution_4 = DownSample(256, 512)\n",
        "\n",
        "        self.bottle_neck = DoubleConv(512, 1024)\n",
        "\n",
        "        self.up_convolution_1 = UpSample(1024, 512)\n",
        "        self.up_convolution_2 = UpSample(512, 256)\n",
        "        self.up_convolution_3 = UpSample(256, 128)\n",
        "        self.up_convolution_4 = UpSample(128, 64)\n",
        "\n",
        "        self.out = nn.Conv2d(in_channels=64, out_channels=num_classes, kernel_size=1)\n",
        "\n",
        "    def forward(self, x):\n",
        "       down_1, p1 = self.down_convolution_1(x)\n",
        "       down_2, p2 = self.down_convolution_2(p1)\n",
        "       down_3, p3 = self.down_convolution_3(p2)\n",
        "       down_4, p4 = self.down_convolution_4(p3)\n",
        "\n",
        "       b = self.bottle_neck(p4)\n",
        "\n",
        "       up_1 = self.up_convolution_1(b, down_4)\n",
        "       up_2 = self.up_convolution_2(up_1, down_3)\n",
        "       up_3 = self.up_convolution_3(up_2, down_2)\n",
        "       up_4 = self.up_convolution_4(up_3, down_1)\n",
        "\n",
        "       out = self.out(up_4)\n",
        "       return out"
      ],
      "metadata": {
        "id": "OPO-5zMTarkS"
      },
      "execution_count": 3,
      "outputs": []
    },
    {
      "cell_type": "code",
      "source": [],
      "metadata": {
        "id": "5Vc8NdSqctgN"
      },
      "execution_count": null,
      "outputs": []
    }
  ]
}